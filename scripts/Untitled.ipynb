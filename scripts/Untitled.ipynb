{
 "cells": [
  {
   "cell_type": "code",
   "execution_count": 78,
   "id": "42c7a84e-20d0-4c16-b00e-4bfa75ae9049",
   "metadata": {},
   "outputs": [
    {
     "name": "stdout",
     "output_type": "stream",
     "text": [
      "minHeap: [1, 2, 3, 5, 6, 7, 4, 8]\n",
      "6 th smallest number is:  6\n"
     ]
    }
   ],
   "source": [
    "def heapify(arr, n, i):\n",
    "    smallest = i # Initialize smallest as root \n",
    "    l = 2 * i + 1 # left = 2*i + 1 \n",
    "    r = 2 * i + 2 # right = 2*i + 2 \n",
    " \n",
    "    # If left child is smaller than root \n",
    "    if l < n and arr[l] < arr[smallest]: \n",
    "        smallest = l \n",
    " \n",
    "    # If right child is smaller than \n",
    "    # smallest so far \n",
    "    if r < n and arr[r] < arr[smallest]: \n",
    "        smallest = r \n",
    " \n",
    "    # If smallest is not root \n",
    "    if smallest != i: \n",
    "        (arr[i], \n",
    "         arr[smallest]) = (arr[smallest],\n",
    "                           arr[i])\n",
    " \n",
    "        # Recursively heapify the affected\n",
    "        # sub-tree \n",
    "        heapify(arr, n, smallest)\n",
    "\n",
    "def smallestK(arr, n, k):\n",
    "\n",
    "    # Build heap (rearrange array) \n",
    "    for i in range(int(n / 2) - 1, -1, -1):\n",
    "        heapify(arr, n, i) \n",
    "    print('minHeap:', arr)\n",
    "    \n",
    "    # One by one extract root node (min) from heap \n",
    "    \n",
    "    for i in range(n-1, -1, -1):\n",
    "        if k>1:\n",
    "            # Move current root to end #\n",
    "            arr[0], arr[i] = arr[i], arr[0]\n",
    "            # call min heapify on the reduced heap\n",
    "            heapify(arr, i, 0)\n",
    "            k = k-1\n",
    "            \n",
    "    return arr[0]\n",
    "\n",
    "if __name__ == '__main__':\n",
    "    A = [4,6,7,8,2,1,3,5]\n",
    "    n = len(A)\n",
    "    kth = 6\n",
    " \n",
    "    kmin = smallestK(A, n, kth) \n",
    " \n",
    "    print(kth, 'th smallest number is: ', kmin)"
   ]
  }
 ],
 "metadata": {
  "kernelspec": {
   "display_name": "Python 3 (ipykernel)",
   "language": "python",
   "name": "python3"
  },
  "language_info": {
   "codemirror_mode": {
    "name": "ipython",
    "version": 3
   },
   "file_extension": ".py",
   "mimetype": "text/x-python",
   "name": "python",
   "nbconvert_exporter": "python",
   "pygments_lexer": "ipython3",
   "version": "3.9.18"
  }
 },
 "nbformat": 4,
 "nbformat_minor": 5
}
