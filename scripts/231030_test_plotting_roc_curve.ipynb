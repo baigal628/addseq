{
 "cells": [
  {
   "cell_type": "code",
   "execution_count": 1,
   "id": "06bd69b2",
   "metadata": {},
   "outputs": [],
   "source": [
    "import numpy as np\n",
    "import matplotlib.pyplot as plt"
   ]
  },
  {
   "cell_type": "code",
   "execution_count": 2,
   "id": "f2a9c95f",
   "metadata": {},
   "outputs": [],
   "source": [
    "from sklearn import svm, datasets\n",
    "from sklearn.metrics import roc_curve, auc\n",
    "from sklearn.model_selection import train_test_split\n",
    "from sklearn.preprocessing import label_binarize\n",
    "from sklearn.multiclass import OneVsRestClassifier\n",
    "from sklearn.metrics import roc_auc_score"
   ]
  },
  {
   "cell_type": "code",
   "execution_count": 3,
   "id": "5ff21deb",
   "metadata": {},
   "outputs": [],
   "source": [
    "iris = datasets.load_iris()\n",
    "X = iris.data\n",
    "y = iris.target"
   ]
  },
  {
   "cell_type": "code",
   "execution_count": 16,
   "id": "34641aa5",
   "metadata": {},
   "outputs": [],
   "source": [
    "y = label_binarize(y, classes=[0, 1, 2])"
   ]
  },
  {
   "cell_type": "code",
   "execution_count": 18,
   "id": "cfc5f487",
   "metadata": {},
   "outputs": [],
   "source": [
    "n_classes = y.shape[1]"
   ]
  },
  {
   "cell_type": "code",
   "execution_count": 10,
   "id": "506b7a15",
   "metadata": {},
   "outputs": [
    {
     "data": {
      "text/plain": [
       "150"
      ]
     },
     "execution_count": 10,
     "metadata": {},
     "output_type": "execute_result"
    }
   ],
   "source": [
    "len(iris.target)"
   ]
  },
  {
   "cell_type": "code",
   "execution_count": 20,
   "id": "b058a623",
   "metadata": {},
   "outputs": [],
   "source": [
    "random_state = np.random.RandomState(0)\n",
    "n_samples, n_features = X.shape\n",
    "X = np.c_[X, random_state.randn(n_samples, 200 * n_features)]"
   ]
  },
  {
   "cell_type": "code",
   "execution_count": 21,
   "id": "86329a09",
   "metadata": {},
   "outputs": [],
   "source": [
    "X_train, X_test, y_train, y_test = train_test_split(X, y, test_size=0.5, random_state=0)"
   ]
  },
  {
   "cell_type": "code",
   "execution_count": 22,
   "id": "98212829",
   "metadata": {},
   "outputs": [],
   "source": [
    "classifier = OneVsRestClassifier(\n",
    "    svm.SVC(kernel=\"linear\", probability=True, random_state=random_state)\n",
    ")\n",
    "y_score = classifier.fit(X_train, y_train).decision_function(X_test)"
   ]
  },
  {
   "cell_type": "code",
   "execution_count": 23,
   "id": "b902d23e",
   "metadata": {},
   "outputs": [],
   "source": [
    "fpr = dict()\n",
    "tpr = dict()\n",
    "roc_auc = dict()"
   ]
  },
  {
   "cell_type": "code",
   "execution_count": 33,
   "id": "38a34889",
   "metadata": {},
   "outputs": [],
   "source": [
    "for i in range(n_classes):\n",
    "    fpr[i], tpr[i], _ = roc_curve(y_test[:, i], y_score[:, i])\n",
    "    roc_auc[i] = auc(fpr[i], tpr[i])"
   ]
  },
  {
   "cell_type": "code",
   "execution_count": null,
   "id": "3da78ca0",
   "metadata": {},
   "outputs": [],
   "source": [
    "y_test[:, i]"
   ]
  },
  {
   "cell_type": "code",
   "execution_count": 35,
   "id": "edd7122e",
   "metadata": {},
   "outputs": [],
   "source": [
    "# Compute micro-average ROC curve and ROC area\n",
    "fpr[\"micro\"], tpr[\"micro\"], _ = roc_curve(y_test.ravel(), y_score.ravel())\n",
    "roc_auc[\"micro\"] = auc(fpr[\"micro\"], tpr[\"micro\"])"
   ]
  },
  {
   "cell_type": "code",
   "execution_count": 41,
   "id": "15eb82ac",
   "metadata": {},
   "outputs": [
    {
     "data": {
      "text/plain": [
       "array([-0.76301132, -0.36482547,  0.12386354, -0.20224493, -0.63144366,\n",
       "       -0.16612302,  0.11801481, -0.80263073, -0.32055874, -0.90780855,\n",
       "       -0.12395478,  0.02199789, -0.01116192, -0.27913475, -0.71889214,\n",
       "       -0.6048727 , -0.34730509, -0.05859016,  0.02283491, -0.24506467,\n",
       "       -0.79111998, -0.61076876,  0.18264917, -0.57199363, -0.37572754,\n",
       "       -0.24059516, -0.38933694, -0.47017411, -0.25745136, -0.27510839,\n",
       "       -0.42224234, -0.30270719, -0.27995197, -0.3355867 , -0.7030665 ,\n",
       "        0.02530178, -0.22723929, -0.64062258, -0.13456902, -0.07856729,\n",
       "       -0.46354017, -0.45918364, -0.53383361, -0.2653183 , -0.20023832,\n",
       "        0.12163662, -0.56706353, -0.56980985, -0.71356947, -0.04226738,\n",
       "       -0.24297128, -0.55111511, -0.13784913, -0.31370595,  0.37991331,\n",
       "       -0.99673302, -0.39090964, -0.11107635, -0.91349462,  0.03129167,\n",
       "       -0.70713712, -0.06436533, -0.21423788, -0.02392675, -0.45906496,\n",
       "       -0.51922684, -0.25045747, -0.80086123,  0.04121338,  0.12675547,\n",
       "       -0.70985659, -0.41072849, -0.68210402, -0.20735021, -0.12051204,\n",
       "       -0.08001795, -0.36698232, -0.57704892, -0.03259341, -0.1159895 ,\n",
       "       -0.86493066, -0.04953425, -0.73611276, -0.21682409, -0.12974835,\n",
       "       -0.37676258, -0.49997476, -0.19299299, -0.71078341, -0.11058011,\n",
       "       -0.3619768 , -0.41408367, -0.22759345, -0.22818639, -0.78971942,\n",
       "        0.02046723, -0.06196433, -0.47617037, -0.45379557, -0.52455061,\n",
       "       -0.46507392, -0.00375631, -0.40026409, -0.71470221,  0.10106561,\n",
       "       -0.35056585, -0.31125083, -0.34020065, -0.05770139, -0.51388968,\n",
       "       -0.41776502, -1.11907501, -0.0074193 ,  0.12967625,  0.19599366,\n",
       "       -0.65773489, -0.54610377, -0.04299172, -0.60049718, -0.35901924,\n",
       "       -0.48108269, -0.21918849, -0.30065047,  0.1741885 , -1.0107504 ,\n",
       "       -0.181261  , -0.41416456, -0.60044961,  0.00856393, -0.01053513,\n",
       "       -0.7579771 , -0.2292247 ,  0.01645355, -0.81552421, -0.2039252 ,\n",
       "       -0.11932181, -0.84787471, -0.05831557, -0.70817199, -0.2863326 ,\n",
       "       -0.01186087, -0.77303401, -0.43228203,  0.21326435, -0.61489613,\n",
       "       -0.15060119, -0.23302033, -0.96334774, -0.62804881,  0.58423201,\n",
       "       -0.31037723, -0.29572764, -0.39404258, -0.31952657, -0.34638653,\n",
       "       -0.32086131, -0.35306417, -0.66917752,  0.00767521,  0.12127427,\n",
       "       -0.62483455, -0.50550427, -0.6643231 , -0.11456775, -0.21298739,\n",
       "       -0.55149778, -0.34855346, -0.10551977, -0.55695146, -0.13384038,\n",
       "       -0.30613086, -0.41111447, -0.52487765, -0.07455313, -0.49463336,\n",
       "       -0.23331763, -0.27802284,  0.06910059, -0.85448531, -0.21662877,\n",
       "       -0.23036784, -0.48759987, -0.28317657,  0.30342285, -0.83392076,\n",
       "       -0.47754831,  0.17642852, -0.81597935, -0.3755452 , -0.1906155 ,\n",
       "       -0.70826295, -0.10238744, -0.42910413, -0.39894364, -0.1693745 ,\n",
       "       -0.67759563,  0.09194626, -0.3995789 , -0.32958811, -0.56572577,\n",
       "       -0.12075396, -0.97119543, -0.46484965,  0.41477557,  0.02088168,\n",
       "       -0.56912947, -0.44616888, -0.08177305, -0.5611945 , -0.35229343,\n",
       "       -0.41466962, -0.63705856,  0.04838688, -0.30436228, -0.08425378,\n",
       "       -0.61864694,  0.18869727, -0.8879586 , -0.29713077,  0.24966175,\n",
       "       -0.80507517, -0.44324457, -0.39980476, -0.29016769, -0.30413406])"
      ]
     },
     "execution_count": 41,
     "metadata": {},
     "output_type": "execute_result"
    }
   ],
   "source": [
    "y_score.ravel()"
   ]
  },
  {
   "cell_type": "code",
   "execution_count": 38,
   "id": "c4abd1ec",
   "metadata": {},
   "outputs": [
    {
     "data": {
      "text/plain": [
       "{0: 0.9126984126984127,\n",
       " 1: 0.6037037037037037,\n",
       " 2: 0.7867647058823529,\n",
       " 'micro': 0.7277333333333333}"
      ]
     },
     "execution_count": 38,
     "metadata": {},
     "output_type": "execute_result"
    }
   ],
   "source": [
    "plt.figure()\n",
    "lw = 2\n",
    "plt.plot(\n",
    "    fpr[2],\n",
    "    tpr[2],\n",
    "    color=\"darkorange\",\n",
    "    lw=lw,\n",
    "    label=\"ROC curve (area = %0.2f)\" % roc_auc[2],\n",
    ")\n",
    "plt.plot([0, 1], [0, 1], color=\"navy\", lw=lw, linestyle=\"--\")\n",
    "plt.xlim([0.0, 1.0])\n",
    "plt.ylim([0.0, 1.05])\n",
    "plt.xlabel(\"False Positive Rate\")\n",
    "plt.ylabel(\"True Positive Rate\")\n",
    "plt.title(\"Receiver operating characteristic example\")\n",
    "plt.legend(loc=\"lower right\")\n",
    "plt.show()"
   ]
  }
 ],
 "metadata": {
  "kernelspec": {
   "display_name": "Python 3 (ipykernel)",
   "language": "python",
   "name": "python3"
  },
  "language_info": {
   "codemirror_mode": {
    "name": "ipython",
    "version": 3
   },
   "file_extension": ".py",
   "mimetype": "text/x-python",
   "name": "python",
   "nbconvert_exporter": "python",
   "pygments_lexer": "ipython3",
   "version": "3.9.15"
  }
 },
 "nbformat": 4,
 "nbformat_minor": 5
}
