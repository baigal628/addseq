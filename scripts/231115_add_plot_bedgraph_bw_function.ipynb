{
 "cells": [
  {
   "cell_type": "code",
   "execution_count": 47,
   "id": "a44c6a72-a851-4a14-a2a1-7dc221bd5b38",
   "metadata": {},
   "outputs": [],
   "source": [
    "import matplotlib.pyplot as plt\n",
    "import matplotlib.patches as mplpatches\n",
    "from sklearn.cluster import KMeans\n",
    "from sklearn.impute import SimpleImputer\n",
    "import numpy as np\n",
    "import sys\n",
    "import time\n",
    "from collections import defaultdict\n",
    "sys.path.insert(0, '/private/groups/brookslab/gabai/tools/seqUtils/src/')\n",
    "from seqUtil import *\n",
    "from nanoUtil import *\n",
    "from bamUtil import *\n",
    "from nntUtil import *\n",
    "from plotUtil import *"
   ]
  },
  {
   "cell_type": "code",
   "execution_count": 121,
   "id": "0aa26a08-af53-4824-8a2d-3be971e2a91e",
   "metadata": {},
   "outputs": [],
   "source": [
    "outpath = '/private/groups/brookslab/gabai/projects/Add-seq/data/chrom/modPredict/'\n",
    "sigalign = '/private/ groups/brookslab/gabai/projects/Add-seq/data/chrom/eventalign/231112_test_chrII_sig.tsv'\n",
    "prediction = '/private/groups/brookslab/gabai/projects/Add-seq/data/chrom/modPredict/231114_n100_chrII_0_prediction.tsv'\n",
    "bam = '/private/groups/brookslab/gabai/projects/Add-seq/data/chrom/mapping/chrom.sorted.bam'\n",
    "genome = '/private/groups/brookslab/gabai/projects/Add-seq/data/ref/sacCer3.fa'\n",
    "chrII_evt = '/data/scratch/gabai/addseq_data/eventalign/chrII.eventalign.txt'\n",
    "gtfFile = '/private/groups/brookslab/gabai/projects/Add-seq/data/ref/Saccharomyces_cerevisiae.R64-1-1.109.gtf'\n",
    "bdgFile = '/private/groups/brookslab/gabai/projects/Add-seq/data/ref/sacCer3.bedgraph'\n",
    "test_region = 'chrII:13244-23635'\n",
    "predbdg = '/private/groups/brookslab/gabai/projects/Add-seq/data/chrom/modPredict/231115_test_plot_chrII_0.6_prediction.bedgraph'"
   ]
  },
  {
   "cell_type": "code",
   "execution_count": 94,
   "id": "baa4032d-508b-453d-a5e8-1d1a4c783821",
   "metadata": {},
   "outputs": [],
   "source": [
    "region = myprediction.region\n",
    "bins = myprediction.bins\n",
    "step = 40\n",
    "signalWindow = 400\n",
    "kmerWindow = 75\n",
    "threshold = 0.6"
   ]
  },
  {
   "cell_type": "code",
   "execution_count": 143,
   "id": "6e6cc8ef-1050-4b81-b0d0-9b09d10801c7",
   "metadata": {},
   "outputs": [],
   "source": [
    "def plotbdgTrack(plot, bdg, region, step = 1, scale = 1000, header = False, col = 'grey', annot = ''):\n",
    "    \n",
    "    chrom = region.split(':')[0]\n",
    "    locus = region.split(':')[1].split('-')\n",
    "    pstart, pend = int(locus[0]), int(locus[1])\n",
    "    ymax = 0\n",
    "    \n",
    "    with open(bdg, 'r') as bdgFh:\n",
    "        if header:\n",
    "            header = bdgFh.readlines(1)\n",
    "        for line in bdgFh:\n",
    "            line = line.strip().split('\\t')\n",
    "            if line[0] != chrom:\n",
    "                continue\n",
    "            start = int(line[1])\n",
    "            end =  int(line[2])\n",
    "            if end < pstart:\n",
    "                continue\n",
    "            elif start > pend:\n",
    "                break\n",
    "            else:\n",
    "                prob = float(line[3])\n",
    "                height = min(1.0, prob/scale)\n",
    "                if height > ymax:\n",
    "                    ymax = height\n",
    "                left = max(start, pstart)\n",
    "                rectangle = mplpatches.Rectangle([left, 0], end-left, height,\n",
    "                        facecolor = col,\n",
    "                        edgecolor = 'grey',\n",
    "                        linewidth = 0)\n",
    "                plot.add_patch(rectangle)\n",
    "    \n",
    "    plot.set_xlim(pstart, pend)\n",
    "    plot.set_ylim(0,ymax+0.1)\n",
    "    plot.tick_params(bottom=False, labelbottom=False,\n",
    "                   left=False, labelleft=False,\n",
    "                   right=False, labelright=False,\n",
    "                   top=False, labeltop=False)\n",
    "    plot.set_ylabel(annot)"
   ]
  },
  {
   "cell_type": "code",
   "execution_count": 123,
   "id": "3ffb8394-d3a5-4d34-a3fb-c46936965c0a",
   "metadata": {},
   "outputs": [],
   "source": [
    "test_region = 'chrII:13244-23635'"
   ]
  },
  {
   "cell_type": "code",
   "execution_count": 145,
   "id": "b3c71a82-43c2-44c8-ba7d-f29deb9f77bc",
   "metadata": {},
   "outputs": [
    {
     "data": {
      "image/png": "[encoded data removed]",
      "text/plain": [
       "<Figure size 500x700 with 4 Axes>"
      ]
     },
     "metadata": {},
     "output_type": "display_data"
    }
   ],
   "source": [
    "figureWidth=5\n",
    "figureHeight=7\n",
    "panelWidth=4\n",
    "panelHeight=1.5\n",
    "plt.figure(figsize=(figureWidth,figureHeight))\n",
    "figureHeight = figureHeight/2\n",
    "panel0 = plt.axes([0.5/figureWidth, 3.05/figureHeight, panelWidth/figureWidth, panelHeight/3.5/figureHeight])\n",
    "panel1 = plt.axes([0.5/figureWidth, 2.7/figureHeight, panelWidth/figureWidth, panelHeight/4.6/figureHeight])\n",
    "panel2 = plt.axes([0.5/figureWidth, 2.35/figureHeight, panelWidth/figureWidth, panelHeight/4.6/figureHeight])\n",
    "panel3 = plt.axes([0.5/figureWidth, 0.2/figureHeight, panelWidth/figureWidth, panelHeight*1.4/figureHeight])\n",
    "plotbdgTrack(panel1, bdgFile, test_region, col = 'grey', header = False, annot = 'MNase-seq')\n",
    "plotbdgTrack(panel2, predbdg, test_region, step = 40, scale=1, col = 'b', header = True, annot = 'Addseq')"
   ]
  },
  {
   "cell_type": "code",
   "execution_count": null,
   "id": "a4389ff2-55e0-40dd-87e7-44fc410c2807",
   "metadata": {},
   "outputs": [],
   "source": []
  },
  {
   "cell_type": "code",
   "execution_count": 147,
   "id": "8348168d-7899-466b-ba46-dc129b43f642",
   "metadata": {},
   "outputs": [
    {
     "data": {
      "text/plain": [
       "3198"
      ]
     },
     "execution_count": 147,
     "metadata": {},
     "output_type": "execute_result"
    }
   ],
   "source": [
    "4548-1350"
   ]
  }
 ],
 "metadata": {
  "kernelspec": {
   "display_name": "Python 3 (ipykernel)",
   "language": "python",
   "name": "python3"
  },
  "language_info": {
   "codemirror_mode": {
    "name": "ipython",
    "version": 3
   },
   "file_extension": ".py",
   "mimetype": "text/x-python",
   "name": "python",
   "nbconvert_exporter": "python",
   "pygments_lexer": "ipython3",
   "version": "3.9.18"
  }
 },
 "nbformat": 4,
 "nbformat_minor": 5
}
