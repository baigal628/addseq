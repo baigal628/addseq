{
 "cells": [
  {
   "cell_type": "code",
   "execution_count": 126,
   "id": "e3ab2bba",
   "metadata": {},
   "outputs": [],
   "source": [
    "import sys\n",
    "import numpy as np\n",
    "import pysam\n",
    "import time\n",
    "from scipy.stats import truncnorm"
   ]
  },
  {
   "cell_type": "code",
   "execution_count": 98,
   "id": "1f2f125e",
   "metadata": {},
   "outputs": [],
   "source": [
    "outFile = '/private/groups/brookslab/gabai/projects/Add-seq/data/chrom/eventalign/signalAlign.txt'\n",
    "bam = '/private/groups/brookslab/gabai/projects/Add-seq/data/chrom/mapping/PHO3.bam'\n",
    "evt = '/private/groups/brookslab/gabai/projects/Add-seq/data/chrom/eventalign/PHO3.eventalign.txt'\n",
    "read1evt = '/private/groups/brookslab/gabai/projects/Add-seq/data/chrom/eventalign/85b33c2a-6800-46b4-8f28-c2a6dd15e83d.eventalign.txt'\n",
    "readbam = '/private/groups/brookslab/gabai/projects/Add-seq/data/chrom/eventalign/85b33c2a-6800-46b4-8f28-c2a6dd15e83d.bam'"
   ]
  },
  {
   "cell_type": "code",
   "execution_count": 44,
   "id": "1cd83783",
   "metadata": {},
   "outputs": [],
   "source": [
    "eventDict = {}\n",
    "kmer = ''"
   ]
  },
  {
   "cell_type": "code",
   "execution_count": 12,
   "id": "2181f26e",
   "metadata": {},
   "outputs": [
    {
     "name": "stdout",
     "output_type": "stream",
     "text": [
      "['chrII', '394884', 'TTTATT', '85b33c2a-6800-46b4-8f28-c2a6dd15e83d', 't', '81387', '110.28', '0.940', '0.00075', 'AATAAA', '110.63', '3.16', '-0.10', '417734', '417737', '108.889,110.892,111.074']\n",
      "['chrII', '394884', 'TTTATT', '85b33c2a-6800-46b4-8f28-c2a6dd15e83d', 't', '81386', '101.18', '2.932', '0.00150', 'AATAAA', '110.63', '3.16', '-2.81', '417728', '417734', '96.5057,101.423,101.058,106.886,99.6015,101.605']\n",
      "['chrII', '394884', 'TTTATT', '85b33c2a-6800-46b4-8f28-c2a6dd15e83d', 't', '81385', '109.02', '2.605', '0.00175', 'AATAAA', '110.63', '3.16', '-0.48', '417721', '417728', '103.79,111.62,110.892,108.342,112.531,108.16,107.796']\n",
      "['chrII', '394885', 'TTATTT', '85b33c2a-6800-46b4-8f28-c2a6dd15e83d', 't', '81384', '83.21', '2.255', '0.00125', 'AAATAA', '82.70', '1.98', '0.24', '417716', '417721', '79.9343,83.0301,81.3911,85.5795,86.1258']\n",
      "['chrII', '394886', 'TATTTC', '85b33c2a-6800-46b4-8f28-c2a6dd15e83d', 't', '81383', '76.90', '0.215', '0.00075', 'GAAATA', '74.87', '1.54', '1.24', '417713', '417716', '76.8385,77.2028,76.6564']\n",
      "['chrII', '394886', 'TATTTC', '85b33c2a-6800-46b4-8f28-c2a6dd15e83d', 't', '81382', '74.15', '0.256', '0.00100', 'GAAATA', '74.87', '1.54', '-0.43', '417709', '417713', '74.107,74.2891,73.7428,74.4712']\n",
      "['chrII', '394886', 'TATTTC', '85b33c2a-6800-46b4-8f28-c2a6dd15e83d', 't', '81381', '74.93', '0.967', '0.00100', 'GAAATA', '74.87', '1.54', '0.04', '417705', '417709', '76.6564,74.107,74.6533,74.2891']\n",
      "['chrII', '394886', 'TATTTC', '85b33c2a-6800-46b4-8f28-c2a6dd15e83d', 't', '81380', '74.29', '1.100', '0.00125', 'GAAATA', '74.87', '1.54', '-0.35', '417700', '417705', '74.4712,76.1101,74.6533,72.6502,73.5607']\n",
      "['chrII', '394886', 'TATTTC', '85b33c2a-6800-46b4-8f28-c2a6dd15e83d', 't', '81379', '73.62', '0.571', '0.00075', 'GAAATA', '74.87', '1.54', '-0.76', '417697', '417700', '73.7428,72.8323,74.2891']\n",
      "['chrII', '394886', 'TATTTC', '85b33c2a-6800-46b4-8f28-c2a6dd15e83d', 't', '81378', '74.77', '0.570', '0.00075', 'GAAATA', '74.87', '1.54', '-0.06', '417694', '417697', '74.107,74.6533,75.5638']\n"
     ]
    }
   ],
   "source": [
    "c = 0\n",
    "with open(read1evt, 'r') as evtFile:\n",
    "    header = evtFile.readlines(1)\n",
    "    for line in evtFile:\n",
    "        line = line.strip().split('\\t')\n",
    "        #print(line)\n",
    "        if c < 10: print(line)\n",
    "        c += 1\n",
    "        #break\n",
    "#         kmer = line[2]\n",
    "#         readID = line[3]\n",
    "#         lenScore = len(line[15])\n",
    "#         if readID in eventDict:\n",
    "#             eventDict[readID].append(lenScore)\n",
    "#         else:\n",
    "#             eventDict[readID] = [lenScore]"
   ]
  },
  {
   "cell_type": "code",
   "execution_count": 113,
   "id": "cdccc79d",
   "metadata": {},
   "outputs": [],
   "source": [
    "def parseEventAlign(eventAlign = '', outfile = ''):\n",
    "    '''\n",
    "    alignScore function: User input bam file and eventalign file, for each read, the function assign 400 scores to 80 bp sequences.\n",
    "    '''\n",
    "    \n",
    "    outf = open(outfile, 'w')\n",
    "    readID = ''\n",
    "    sequence = ''\n",
    "    signalLength = 0\n",
    "    signalLengthList = []\n",
    "    with open(eventAlign, 'r') as inFile:\n",
    "        header = inFile.readline()\n",
    "        for line in inFile:\n",
    "            line = line.strip().split('\\t')\n",
    "            read = line[3]\n",
    "            if readID != read:\n",
    "                if sequence:\n",
    "                    # Set variables back to initial state\n",
    "                    line = \"{}\\t{}\\t{}\\t{}\\t{}\\t{}\\n\".format(readID, chrom, eventStart, sequence, ','.join(str(i) for i in signalList), ','.join(str(i) for i in signalLengthList))\n",
    "                    outf.write(line)\n",
    "                    readID = ''\n",
    "                    sequence = ''\n",
    "                    sigList = []\n",
    "                    sigLength = 0\n",
    "                    sigLengthList = []\n",
    "                readID = read\n",
    "                chrom = line[0]\n",
    "                eventStart = line[1]\n",
    "                start = line[1]\n",
    "                kmer = line[2]\n",
    "                # signals are stored in column 13 and are separated my comma\n",
    "                signals = [float(i) for i in line[15].split(',')]\n",
    "                signalList = signals\n",
    "                signalLength = len(signals)\n",
    "                sequence += kmer\n",
    "                print(kmer)\n",
    "            # next kmer within the same read\n",
    "            else:\n",
    "                signals = [float(i) for i in line[15].split(',')]\n",
    "                # signalList += signals\n",
    "                signalList.extend(signals)\n",
    "                # signalLength records the number of signals for one base movement\n",
    "                signalLength += len(signals)\n",
    "                # different kmer\n",
    "                #  (kmer1, chrom1, start1) = (kmer0, chrom0, start0)\n",
    "                if (line[1], line[2]) != (start, kmer):\n",
    "                    start = line[1]\n",
    "                    kmer = line[2]\n",
    "                    sequence += kmer[-1]\n",
    "                    signalLengthList.append(signalLength)\n",
    "        if sequence:\n",
    "            line = \"{}\\t{}\\t{}\\t{}\\t{}\\t{}\\n\".format(readID, chrom, eventStart, sequence, ','.join(str(i) for i in signalList), ','.join(str(i) for i in signalLengthList))\n",
    "            outf.write(line)\n",
    "    outf.close()"
   ]
  },
  {
   "cell_type": "code",
   "execution_count": 114,
   "id": "5668b4bb",
   "metadata": {},
   "outputs": [
    {
     "name": "stdout",
     "output_type": "stream",
     "text": [
      "TTTATT\n",
      "0.9837660789489746\n"
     ]
    }
   ],
   "source": [
    "start = time.time()\n",
    "parseEventAlign(eventAlign=read1evt, outfile=outFile)\n",
    "print(time.time()-start)"
   ]
  },
  {
   "cell_type": "code",
   "execution_count": 115,
   "id": "40ddb6e9",
   "metadata": {},
   "outputs": [],
   "source": [
    "out = {}\n",
    "with open(outFile, 'r') as infile:\n",
    "    for line in infile:\n",
    "        line = line.strip().split('\\t')\n",
    "        out[line[0]] = line[1:]"
   ]
  },
  {
   "cell_type": "code",
   "execution_count": 134,
   "id": "a6bfbf41",
   "metadata": {},
   "outputs": [],
   "source": [
    "def create_truncated_normal(mean, min_val, max_val, scale = 4):\n",
    "    # Calculate the standard deviation based on the desired minimum and maximum values\n",
    "    std_dev = (max_val - min_val) / scale # Adjust the factor for the desired distribution\n",
    "    print(std_dev)\n",
    "    # Define the lower and upper bounds for the truncated distribution\n",
    "    a = (min_val - mean) / std_dev\n",
    "    b = (max_val - mean) / std_dev\n",
    "    \n",
    "    # Create the truncated normal distribution\n",
    "    return truncnorm(a, b, loc=mean, scale=std_dev)"
   ]
  },
  {
   "cell_type": "code",
   "execution_count": 135,
   "id": "74b6f196",
   "metadata": {},
   "outputs": [],
   "source": [
    "def get_probability_density(input_value, distribution):\n",
    "    # Calculate the probability density for the input value\n",
    "    return distribution.pdf(input_value)"
   ]
  },
  {
   "cell_type": "code",
   "execution_count": 136,
   "id": "c3e7298e",
   "metadata": {},
   "outputs": [
    {
     "name": "stdout",
     "output_type": "stream",
     "text": [
      "19.75\n"
     ]
    }
   ],
   "source": [
    "samfile = pysam.AlignmentFile(readbam, \"rb\")\n",
    "weightedScores = {}\n",
    "score = 0.8\n",
    "kmerWindow = 80\n",
    "signalWindow = 400\n",
    "dist = create_truncated_normal(int(kmerWindow/2), 0, kmerWindow-1)"
   ]
  },
  {
   "cell_type": "code",
   "execution_count": 163,
   "id": "9015b188",
   "metadata": {},
   "outputs": [
    {
     "data": {
      "text/plain": [
       "0.01586139805958941"
      ]
     },
     "execution_count": 163,
     "metadata": {},
     "output_type": "execute_result"
    }
   ],
   "source": [
    "get_probability_density(55, dist)"
   ]
  },
  {
   "cell_type": "code",
   "execution_count": 151,
   "id": "93416981",
   "metadata": {},
   "outputs": [
    {
     "data": {
      "text/plain": [
       "0.003012035603276703"
      ]
     },
     "execution_count": 151,
     "metadata": {},
     "output_type": "execute_result"
    }
   ],
   "source": [
    "probability_density = get_probability_density(, dist)\n",
    "# Calculate the probability mass function (PMF) for the data points\n",
    "pmf_values = get_probability_density()\n",
    "\n",
    "# Plot the original data and the fitted Poisson distribution\n",
    "plt.bar(data, pmf_values, label='Fitted Poisson PMF')\n",
    "plt.xlabel('Value')\n",
    "plt.ylabel('Probability')\n",
    "plt.title('Fitting a Poisson Distribution to Consecutive Integers')\n",
    "plt.legend()\n",
    "plt.show()\n",
    "\n",
    "# Print the fitted parameters\n",
    "print(f\"Fitted Lambda Parameter (mean): {lambda_param:.2f}\")"
   ]
  },
  {
   "cell_type": "code",
   "execution_count": null,
   "id": "ab61c442",
   "metadata": {},
   "outputs": [],
   "source": [
    "for s in samfile:\n",
    "    if not s.is_secondary:\n",
    "        readname = s.query_name\n",
    "        refname = s.reference_name\n",
    "        alignStart, alignEnd = s.reference_start, s.reference_end\n",
    "        seq = s.query_sequence\n",
    "        sigAlign = out[readname]\n",
    "        # eventStart = sigAlign[1]\n",
    "        sig = sigAlign[3]\n",
    "        sigLen = sigAlign[4]\n",
    "        print(len(seq), len())\n",
    "        for pos in range(len(sig)-signalWindow):\n",
    "            left = bisect.bisect_right(sigLen, pos)\n",
    "            right = left + kmerWindow\n",
    "            kmer = seq[left:right]\n",
    "            if 'A' in kmer:\n",
    "                #Get score from deep learning model\n",
    "                \n",
    "            else:\n",
    "                score = 0.0\n",
    "        Consider how to dealwith Cigar, I don't know if it is actually needed. Need more exploration of Tags."
   ]
  }
 ],
 "metadata": {
  "kernelspec": {
   "display_name": "Python 3 (ipykernel)",
   "language": "python",
   "name": "python3"
  },
  "language_info": {
   "codemirror_mode": {
    "name": "ipython",
    "version": 3
   },
   "file_extension": ".py",
   "mimetype": "text/x-python",
   "name": "python",
   "nbconvert_exporter": "python",
   "pygments_lexer": "ipython3",
   "version": "3.9.16"
  }
 },
 "nbformat": 4,
 "nbformat_minor": 5
}
