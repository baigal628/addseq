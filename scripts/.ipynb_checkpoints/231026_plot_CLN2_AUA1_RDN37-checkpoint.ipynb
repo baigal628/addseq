{
 "cells": [
  {
   "cell_type": "code",
   "execution_count": 2,
   "id": "44966645",
   "metadata": {},
   "outputs": [],
   "source": [
    "import sys\n",
    "sys.path.insert(0, '/private/groups/brookslab/gabai/tools/seqUtils/src/')\n",
    "import time\n",
    "from plotUtil import *\n",
    "import numpy as np\n",
    "import matplotlib.pyplot as plt \n",
    "import matplotlib.patches as mplpatches"
   ]
  },
  {
   "cell_type": "code",
   "execution_count": 3,
   "id": "c7e2c57d",
   "metadata": {},
   "outputs": [],
   "source": [
    "from sklearn.cluster import KMeans\n",
    "from sklearn.impute import SimpleImputer"
   ]
  },
  {
   "cell_type": "code",
   "execution_count": 4,
   "id": "813eeb50",
   "metadata": {},
   "outputs": [],
   "source": [
    "gtfFile = '/private/groups/brookslab/gabai/projects/Add-seq/data/ref/Saccharomyces_cerevisiae.R64-1-1.109.gtf'\n",
    "chrom_CLN2= '/private/groups/brookslab/gabai/projects/Add-seq/data/chrom/modPredict/231024_CLN2_chrom_meanScore_medianPos_chrXVI:66000-67550modScores.tsv'\n",
    "neg_CLN2= '/private/groups/brookslab/gabai/projects/Add-seq/data/ctrl/modPredict/231024_CLN2_neg_meanScore_medianPos_chrXVI:66000-67550modScores.tsv'\n",
    "pos_CLN2= '/private/groups/brookslab/gabai/projects/Add-seq/data/ctrl/modPredict/231024_CLN2_pos_meanScore_medianPos_chrXVI:66000-67550modScores.tsv'\n",
    "chromPlot = 'chrXVI'\n",
    "pStart = 66000\n",
    "pEnd = 67550"
   ]
  },
  {
   "cell_type": "code",
   "execution_count": 5,
   "id": "63c03933",
   "metadata": {},
   "outputs": [],
   "source": [
    "chromPlot = 'chrXVI'\n",
    "pStart = 66000\n",
    "pEnd = 67550"
   ]
  },
  {
   "cell_type": "code",
   "execution_count": 6,
   "id": "8203d381",
   "metadata": {},
   "outputs": [
    {
     "name": "stdout",
     "output_type": "stream",
     "text": [
      "plotting gene annotations...\n",
      "Reading modScore files...\n",
      "clustering reads...\n",
      "Imputing missing values...\n",
      "plotting modification track on - strand...\n",
      "clustering reads...\n",
      "Imputing missing values...\n",
      "plotting modification track on + strand...\n",
      "finished plotting file:  /private/groups/brookslab/gabai/projects/Add-seq/data/chrom/modPredict/231024_CLN2_chrom_meanScore_medianPos_chrXVI:66000-67550modScores.tsv\n",
      "Reading modScore files...\n",
      "clustering reads...\n",
      "Imputing missing values...\n",
      "plotting modification track on - strand...\n",
      "clustering reads...\n",
      "Imputing missing values...\n",
      "plotting modification track on + strand...\n",
      "finished plotting file:  /private/groups/brookslab/gabai/projects/Add-seq/data/ctrl/modPredict/231024_CLN2_neg_meanScore_medianPos_chrXVI:66000-67550modScores.tsv\n",
      "Reading modScore files...\n",
      "clustering reads...\n",
      "Imputing missing values...\n",
      "plotting modification track on + strand...\n",
      "clustering reads...\n",
      "Imputing missing values...\n",
      "plotting modification track on - strand...\n",
      "finished plotting file:  /private/groups/brookslab/gabai/projects/Add-seq/data/ctrl/modPredict/231024_CLN2_pos_meanScore_medianPos_chrXVI:66000-67550modScores.tsv\n"
     ]
    },
    {
     "data": {
      "image/png": "[encoded data removed]",
      "text/plain": [
       "<Figure size 500x650 with 4 Axes>"
      ]
     },
     "metadata": {},
     "output_type": "display_data"
    }
   ],
   "source": [
    "figureWidth=5\n",
    "figureHeight=6.5\n",
    "panelWidth=4\n",
    "panelHeight=1.5\n",
    "\n",
    "plt.figure(figsize=(figureWidth,figureHeight))\n",
    "panel0 = plt.axes([0.5/figureWidth, 5.0/figureHeight, panelWidth/figureWidth, panelHeight/1.5/figureHeight])\n",
    "panel1 = plt.axes([0.5/figureWidth, 3.4/figureHeight, panelWidth/figureWidth, panelHeight/figureHeight])\n",
    "panel2 = plt.axes([0.5/figureWidth, 1.8/figureHeight, panelWidth/figureWidth, panelHeight/figureHeight])\n",
    "panel3 = plt.axes([0.5/figureWidth, 0.2/figureHeight, panelWidth/figureWidth, panelHeight/figureHeight])\n",
    "\n",
    "plotGtfTrack(plot=panel0, gtfFile=gtfFile, chromPlot=chromPlot, startPlot=pStart, endPlot=pEnd,\n",
    "            features = ['CDS', 'start_codon'], adjust_features = [0, 10])\n",
    "\n",
    "plotModTrack(plot=panel1, startPlot=pStart, endPlot=pEnd, threashold = 0.5,\n",
    "             modScores=chrom_CLN2, label_strand = True,\n",
    "             cluster = True, n_clusters = 2, \n",
    "             outpath = '/private/groups/brookslab/gabai/projects/Add-seq/results/',\n",
    "             prefix = '231026_chrom_CLN2', annot = 'chrom')\n",
    "\n",
    "plotModTrack(plot=panel2, startPlot=pStart, endPlot=pEnd, threashold = 0.5,\n",
    "             modScores=neg_CLN2, \n",
    "             cluster = True, n_clusters = 2,\n",
    "             outpath = '/private/groups/brookslab/gabai/projects/Add-seq/results/',\n",
    "             prefix = '231026_neg_CLN2', annot = 'neg')\n",
    "\n",
    "plotModTrack(plot=panel3, startPlot=pStart, endPlot=pEnd, threashold = 0.5,\n",
    "             modScores=pos_CLN2,\n",
    "             outpath = '/private/groups/brookslab/gabai/projects/Add-seq/results/',\n",
    "             cluster = True, n_clusters = 1, prefix = '231026_pos_CLN2', annot = 'pos')\n",
    "\n",
    "panel3.set_ylim(-1, 5)\n",
    "outFile = '/private/groups/brookslab/gabai/projects/Add-seq/results/figures/231026_CLN2_meanScore_medianPos_chrIII:290000-299000modScores.png'\n",
    "plt.savefig(outFile, dpi = 1000)"
   ]
  },
  {
   "cell_type": "code",
   "execution_count": 17,
   "id": "2337f98c",
   "metadata": {},
   "outputs": [],
   "source": [
    "gtfFile = '/private/groups/brookslab/gabai/projects/Add-seq/data/ref/Saccharomyces_cerevisiae.R64-1-1.109.gtf'\n",
    "chrom_AUA1= '/private/groups/brookslab/gabai/projects/Add-seq/data/chrom/modPredict/231024_AUA1_chrom_meanScore_medianPos_chrVI:114000-116000modScores.tsv'\n",
    "neg_AUA1= '/private/groups/brookslab/gabai/projects/Add-seq/data/ctrl/modPredict/231024_AUA1_neg_meanScore_medianPos_chrVI:114000-116000modScores.tsv'\n",
    "pos_AUA1= '/private/groups/brookslab/gabai/projects/Add-seq/data/ctrl/modPredict/231024_AUA1_pos_meanScore_medianPos_chrVI:114000-116000modScores.tsv'\n",
    "chromPlot = 'chrVI'\n",
    "pStart = 114000\n",
    "pEnd = 116000"
   ]
  },
  {
   "cell_type": "code",
   "execution_count": 18,
   "id": "588b3818",
   "metadata": {},
   "outputs": [
    {
     "name": "stdout",
     "output_type": "stream",
     "text": [
      "plotting gene annotations...\n",
      "Reading modScore files...\n",
      "clustering reads...\n",
      "Imputing missing values...\n",
      "plotting modification track on + strand...\n",
      "clustering reads...\n",
      "Imputing missing values...\n",
      "plotting modification track on - strand...\n",
      "finished plotting file:  /private/groups/brookslab/gabai/projects/Add-seq/data/chrom/modPredict/231024_AUA1_chrom_meanScore_medianPos_chrVI:114000-116000modScores.tsv\n",
      "Reading modScore files...\n",
      "clustering reads...\n",
      "Imputing missing values...\n",
      "plotting modification track on + strand...\n",
      "clustering reads...\n",
      "Imputing missing values...\n",
      "plotting modification track on - strand...\n",
      "finished plotting file:  /private/groups/brookslab/gabai/projects/Add-seq/data/ctrl/modPredict/231024_AUA1_neg_meanScore_medianPos_chrVI:114000-116000modScores.tsv\n",
      "Reading modScore files...\n",
      "clustering reads...\n",
      "Imputing missing values...\n",
      "plotting modification track on - strand...\n",
      "clustering reads...\n",
      "Imputing missing values...\n",
      "plotting modification track on + strand...\n",
      "finished plotting file:  /private/groups/brookslab/gabai/projects/Add-seq/data/ctrl/modPredict/231024_AUA1_pos_meanScore_medianPos_chrVI:114000-116000modScores.tsv\n"
     ]
    },
    {
     "data": {
      "image/png": "[encoded data removed]",
      "text/plain": [
       "<Figure size 500x650 with 4 Axes>"
      ]
     },
     "metadata": {},
     "output_type": "display_data"
    }
   ],
   "source": [
    "figureWidth=5\n",
    "figureHeight=6.5\n",
    "panelWidth=4\n",
    "panelHeight=1.5\n",
    "\n",
    "plt.figure(figsize=(figureWidth,figureHeight))\n",
    "panel0 = plt.axes([0.5/figureWidth, 5.0/figureHeight, panelWidth/figureWidth, panelHeight/1.5/figureHeight])\n",
    "panel1 = plt.axes([0.5/figureWidth, 3.4/figureHeight, panelWidth/figureWidth, panelHeight/figureHeight])\n",
    "panel2 = plt.axes([0.5/figureWidth, 1.8/figureHeight, panelWidth/figureWidth, panelHeight/figureHeight])\n",
    "panel3 = plt.axes([0.5/figureWidth, 0.2/figureHeight, panelWidth/figureWidth, panelHeight/figureHeight])\n",
    "\n",
    "plotGtfTrack(plot=panel0, gtfFile=gtfFile, chromPlot=chromPlot, startPlot=pStart, endPlot=pEnd,\n",
    "            features = ['CDS', 'start_codon'], adjust_features = [0, 10])\n",
    "\n",
    "plotModTrack(plot=panel1, startPlot=pStart, endPlot=pEnd, threashold = 0.5,\n",
    "             modScores=chrom_AUA1, label_strand = True,\n",
    "             cluster = True, n_clusters = 2, \n",
    "             outpath = '/private/groups/brookslab/gabai/projects/Add-seq/results/',\n",
    "             prefix = '231026_chrom_AUA1', annot = 'chrom')\n",
    "\n",
    "plotModTrack(plot=panel2, startPlot=pStart, endPlot=pEnd, threashold = 0.5,\n",
    "             modScores=neg_AUA1, \n",
    "             cluster = True, n_clusters = 2,\n",
    "             outpath = '/private/groups/brookslab/gabai/projects/Add-seq/results/',\n",
    "             prefix = '231026_neg_AUA1', annot = 'neg')\n",
    "\n",
    "plotModTrack(plot=panel3, startPlot=pStart, endPlot=pEnd, threashold = 0.5,\n",
    "             modScores=pos_AUA1,\n",
    "             outpath = '/private/groups/brookslab/gabai/projects/Add-seq/results/',\n",
    "             cluster = True, n_clusters = 1, prefix = '231026_pos_AUA1', annot = 'pos')\n",
    "\n",
    "panel3.set_ylim(-1, 10)\n",
    "outFile = '/private/groups/brookslab/gabai/projects/Add-seq/results/figures/231026_AUA1_meanScore_medianPos_chrVI:114000-116000modScores.png'\n",
    "plt.savefig(outFile, dpi = 1000)"
   ]
  },
  {
   "cell_type": "code",
   "execution_count": 12,
   "id": "ee7eb387",
   "metadata": {},
   "outputs": [],
   "source": [
    "gtfFile = '/private/groups/brookslab/gabai/projects/Add-seq/data/ref/Saccharomyces_cerevisiae.R64-1-1.109.gtf'\n",
    "chrom_RDN37= '/private/groups/brookslab/gabai/projects/Add-seq/data/chrom/modPredict/231024_RDN37_chrom_meanScore_medianPos_chrXII:450300-459300modScores.tsv'\n",
    "neg_RDN37= '/private/groups/brookslab/gabai/projects/Add-seq/data/ctrl/modPredict/231024_RDN37_neg_meanScore_medianPos_chrXII:450300-459300modScores.tsv'\n",
    "pos_RDN37= '/private/groups/brookslab/gabai/projects/Add-seq/data/ctrl/modPredict/231024_RDN37_pos_meanScore_medianPos_chrXII:450300-459300modScores.tsv'\n",
    "chromPlot = 'chrXII'\n",
    "pStart = 450300\n",
    "pEnd = 459300"
   ]
  },
  {
   "cell_type": "code",
   "execution_count": 15,
   "id": "8100c5c7",
   "metadata": {},
   "outputs": [
    {
     "name": "stdout",
     "output_type": "stream",
     "text": [
      "plotting gene annotations...\n",
      "Reading modScore files...\n",
      "clustering reads...\n",
      "Imputing missing values...\n",
      "plotting modification track on - strand...\n",
      "clustering reads...\n",
      "Imputing missing values...\n",
      "plotting modification track on + strand...\n",
      "finished plotting file:  /private/groups/brookslab/gabai/projects/Add-seq/data/chrom/modPredict/231024_RDN37_chrom_meanScore_medianPos_chrXII:450300-459300modScores.tsv\n",
      "Reading modScore files...\n",
      "clustering reads...\n",
      "Imputing missing values...\n",
      "plotting modification track on + strand...\n",
      "clustering reads...\n",
      "Imputing missing values...\n",
      "plotting modification track on - strand...\n",
      "finished plotting file:  /private/groups/brookslab/gabai/projects/Add-seq/data/ctrl/modPredict/231024_RDN37_neg_meanScore_medianPos_chrXII:450300-459300modScores.tsv\n",
      "Reading modScore files...\n",
      "finished plotting file:  /private/groups/brookslab/gabai/projects/Add-seq/data/ctrl/modPredict/231024_RDN37_pos_meanScore_medianPos_chrXII:450300-459300modScores.tsv\n"
     ]
    },
    {
     "data": {
      "image/png": "[encoded data removed]",
      "text/plain": [
       "<Figure size 500x650 with 4 Axes>"
      ]
     },
     "metadata": {},
     "output_type": "display_data"
    }
   ],
   "source": [
    "figureWidth=5\n",
    "figureHeight=6.5\n",
    "panelWidth=4\n",
    "panelHeight=1.5\n",
    "\n",
    "plt.figure(figsize=(figureWidth,figureHeight))\n",
    "panel0 = plt.axes([0.5/figureWidth, 5.0/figureHeight, panelWidth/figureWidth, panelHeight/1.5/figureHeight])\n",
    "panel1 = plt.axes([0.5/figureWidth, 3.4/figureHeight, panelWidth/figureWidth, panelHeight/figureHeight])\n",
    "panel2 = plt.axes([0.5/figureWidth, 1.8/figureHeight, panelWidth/figureWidth, panelHeight/figureHeight])\n",
    "panel3 = plt.axes([0.5/figureWidth, 0.2/figureHeight, panelWidth/figureWidth, panelHeight/figureHeight])\n",
    "\n",
    "plotGtfTrack(plot=panel0, gtfFile=gtfFile, chromPlot=chromPlot, startPlot=pStart, endPlot=pEnd,\n",
    "            features = ['CDS', 'start_codon'], adjust_features = [0, 10])\n",
    "\n",
    "plotModTrack(plot=panel1, startPlot=pStart, endPlot=pEnd, threashold = 0.5,\n",
    "             modScores=chrom_RDN37, label_strand = True,\n",
    "             cluster = True, n_clusters = 2, \n",
    "             outpath = '/private/groups/brookslab/gabai/projects/Add-seq/results/',\n",
    "             prefix = '231026_chrom_RDN37', annot = 'chrom')\n",
    "\n",
    "plotModTrack(plot=panel2, startPlot=pStart, endPlot=pEnd, threashold = 0.5,\n",
    "             modScores=neg_RDN37, \n",
    "             cluster = True, n_clusters = 2,\n",
    "             outpath = '/private/groups/brookslab/gabai/projects/Add-seq/results/',\n",
    "             prefix = '231026_neg_RDN37', annot = 'neg')\n",
    "\n",
    "plotModTrack(plot=panel3, startPlot=pStart, endPlot=pEnd, threashold = 0.5,\n",
    "             modScores=pos_RDN37,\n",
    "             outpath = '/private/groups/brookslab/gabai/projects/Add-seq/results/',\n",
    "             cluster = True, n_clusters = 1, prefix = '231026_pos_RDN37', annot = 'pos')\n",
    "\n",
    "panel3.set_ylim(-1, 5)\n",
    "outFile = '/private/groups/brookslab/gabai/projects/Add-seq/results/figures/231026_RDN37_pos_meanScore_medianPos_chrXII:450300-459300modScoress.png'\n",
    "plt.savefig(outFile, dpi = 1000)"
   ]
  }
 ],
 "metadata": {
  "kernelspec": {
   "display_name": "Python 3 (ipykernel)",
   "language": "python",
   "name": "python3"
  },
  "language_info": {
   "codemirror_mode": {
    "name": "ipython",
    "version": 3
   },
   "file_extension": ".py",
   "mimetype": "text/x-python",
   "name": "python",
   "nbconvert_exporter": "python",
   "pygments_lexer": "ipython3",
   "version": "3.9.15"
  }
 },
 "nbformat": 4,
 "nbformat_minor": 5
}
