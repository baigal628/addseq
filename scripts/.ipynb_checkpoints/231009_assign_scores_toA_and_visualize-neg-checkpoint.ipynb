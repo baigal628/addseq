{
 "cells": [
  {
   "cell_type": "code",
   "execution_count": 39,
   "id": "4ae0c0dd",
   "metadata": {},
   "outputs": [],
   "source": [
    "import numpy as np\n",
    "import bisect\n",
    "import time"
   ]
  },
  {
   "cell_type": "code",
   "execution_count": 41,
   "id": "d1a88d9d",
   "metadata": {},
   "outputs": [],
   "source": [
    "import sys\n",
    "sys.path.insert(0, '/private/groups/brookslab/gabai/tools/seqUtils/src/')\n",
    "import time\n",
    "from seqUtil import *\n",
    "from bamUtil import *\n",
    "from nanoUtil import *\n",
    "from nntUtil import *\n",
    "from modPredict import *\n",
    "import matplotlib.pyplot as plt\n",
    "import matplotlib.patches as mplpatches\n",
    "import seaborn as sns\n",
    "pos_bam = '/private/groups/brookslab/gabai/projects/Add-seq/data/ctrl/mapping/unique.500.pass.sorted.bam'\n",
    "neg_bam = '/private/groups/brookslab/gabai/projects/Add-seq/data/ctrl/mapping/unique.0.pass.sorted.bam'\n",
    "ref = '/private/groups/brookslab/gabai/projects/Add-seq/data/ref/sacCer3.fa'\n",
    "pos_evt = '/private/groups/brookslab/gabai/projects/Add-seq/data/ctrl/eventalign/unique.500.eventalign.tsv'\n",
    "neg_evt = '/private/groups/brookslab/gabai/projects/Add-seq/data/ctrl/eventalign/unique.0.eventalign.tsv'\n",
    "\n",
    "PHO5_pos_sigAlign= '/private/groups/brookslab/gabai/projects/Add-seq/data/ctrl/eventalign/PHO5_pos_chrII:429000-435000siganlAlign.tsv'\n",
    "PHO5_neg_sigAlign= '/private/groups/brookslab/gabai/projects/Add-seq/data/ctrl/eventalign/PHO5_neg_chrII:429000-435000siganlAlign.tsv'"
   ]
  },
  {
   "cell_type": "code",
   "execution_count": 42,
   "id": "2226c165",
   "metadata": {},
   "outputs": [],
   "source": [
    "sigAlignF = PHO5_neg_sigAlign\n",
    "chrom = 'chrII'\n",
    "pStart = 429000\n",
    "pEnd = 435000\n",
    "prefix = '231009_PHO5_neg'\n",
    "kmerWindow = 80"
   ]
  },
  {
   "cell_type": "code",
   "execution_count": 43,
   "id": "98072fbd",
   "metadata": {},
   "outputs": [],
   "source": [
    "ref = '/private/groups/brookslab/gabai/projects/Add-seq/data/ref/sacCer3.fa'\n",
    "alignment = getAlignedReads(sam = neg_bam, region = 'chrII:429000-435000', genome=ref, print_name=False)\n",
    "rstrand = {r:s[1] for r, s in alignment.items()}"
   ]
  },
  {
   "cell_type": "code",
   "execution_count": 12,
   "id": "ada659a1",
   "metadata": {},
   "outputs": [],
   "source": []
  },
  {
   "cell_type": "code",
   "execution_count": 13,
   "id": "8ecb1009",
   "metadata": {},
   "outputs": [],
   "source": [
    "ADDSEQ_FN = '/private/groups/brookslab/gabai/tools/seqUtils/src/nanopore_classification/best_models/addseq_resnet1d.pt'"
   ]
  },
  {
   "cell_type": "code",
   "execution_count": null,
   "id": "ae0504d7",
   "metadata": {},
   "outputs": [],
   "source": [
    "def model_scores(prob, modPosition, pos, modbase_count, strand):\n",
    "    s"
   ]
  },
  {
   "cell_type": "code",
   "execution_count": 22,
   "id": "928fac07",
   "metadata": {},
   "outputs": [],
   "source": [
    "def aggregate_scors(scores, method='mean'):\n",
    "    if method == 'mean':\n",
    "        return np.nanmean(scores)\n",
    "    elif method == 'median':\n",
    "        return np.nanmedian(scores)\n",
    "    elif method == 'min':\n",
    "        return np.nanmin(scores)\n",
    "    elif method == 'max':\n",
    "        return np.nanmax(scores)"
   ]
  },
  {
   "cell_type": "code",
   "execution_count": 35,
   "id": "af6d648b",
   "metadata": {},
   "outputs": [],
   "source": [
    "def assign_scores(readID, sigList, siglenList, sigStart, modbase, alignemnt,weights,\n",
    "                  tune = False, method = 'mean', kmerWindow=80, signalWindow=400):\n",
    "    \n",
    "    refSeq = alignemnt['ref']\n",
    "    # Position of As, relative to the reference\n",
    "    modPositions = basePos(refSeq, base = modbase)\n",
    "    modScores = {i:[] for i in modPositions}\n",
    "    \n",
    "    for pos in range(len(refSeq)-signalWindow+1):\n",
    "        if pos % 500 ==0:\n",
    "            print('Predicting at position:', pos)\n",
    "        \n",
    "        # 1. Fetch sequences with kmer window size, this step can be skipped later\n",
    "        seq = refSeq[pos:pos+kmerWindow]\n",
    "        \n",
    "        # 2. Fetch signals with signal window size \n",
    "        pStart_sigLenList = sigStart+pos-1\n",
    "        if pStart_sigLenList<0: \n",
    "            start=0\n",
    "        else:\n",
    "            start = int(siglenList[pStart_sigLenList])\n",
    "        end = int(siglenList[sigStart+pos])-1+signalWindow\n",
    "        signals = [float(s) for s in sigList[start:end]]\n",
    "\n",
    "        # 3. Get predicted probability score from machine learning model\n",
    "        prob = nntPredict(signals,device = device, model = resnet1D, weights_path = weights)\n",
    "        \n",
    "        # 4. Assign predicted scores to each modPosition\n",
    "        # modifiable positions [1,3,4,5,7,10,15,16,21,40]\n",
    "        # kmer position is 2: [2:2+22]\n",
    "        # modbase_left = 0\n",
    "        # modbase_right = 9\n",
    "        # modifiable position within kmer window [3,4,5,7,10,15,16,21]\n",
    "        modbase_left = bisect.bisect_left(modPositions, pos)\n",
    "        modbase_right = bisect.bisect_right(modPositions, pos+kmerWindow)\n",
    "        modbase_count = modbase_right - modbase_left\n",
    "        \n",
    "        for p in range(modbase_left, modbase_right):\n",
    "            modPosition = modPositions[p]\n",
    "            # 4.1 Tune signals based on position of A and A content:\n",
    "            if tune:\n",
    "                strand = alignemnt[readID][1]\n",
    "                prob = model_scores(prob, modPosition, pos, modbase_count, strand)\n",
    "            modScores[modPosition].append(prob)\n",
    "    \n",
    "    for mod in modScores:\n",
    "        modScores[mod] = aggregate_scors(modScores[mod], method = method)\n",
    "    return modScores"
   ]
  },
  {
   "cell_type": "code",
   "execution_count": null,
   "id": "b143604c",
   "metadata": {},
   "outputs": [
    {
     "name": "stdout",
     "output_type": "stream",
     "text": [
      "Start processing  889aad13-d404-4807-b3b0-76d4c2511938\n",
      "Predicting at position: 0\n"
     ]
    },
    {
     "name": "stderr",
     "output_type": "stream",
     "text": [
      "/private/groups/brookslab/gabai/miniconda3/envs/addseq/lib/python3.9/site-packages/numpy/core/fromnumeric.py:3464: RuntimeWarning: Mean of empty slice.\n",
      "  return _methods._mean(a, axis=axis, dtype=dtype,\n",
      "/private/groups/brookslab/gabai/miniconda3/envs/addseq/lib/python3.9/site-packages/numpy/core/_methods.py:192: RuntimeWarning: invalid value encountered in scalar divide\n",
      "  ret = ret.dtype.type(ret / rcount)\n"
     ]
    }
   ],
   "source": [
    "outf = open('/private/groups/brookslab/gabai/projects/Add-seq/data/231010_predcied_scores_neg.tsv', 'w')\n",
    "for readID, sigList, siglenList, sigStart in parseSigAlign(sigAlign=sigAlignF, pStart=pStart, pEnd=pEnd):\n",
    "    start_time = time.time()\n",
    "    print('Start processing ', readID)\n",
    "    \n",
    "    modScores = assign_scores(readID=readID, sigList=sigList, siglenList=siglenList, sigStart=sigStart, \n",
    "                              modbase= 'A', alignemnt=alignment, tune=False)\n",
    "    \n",
    "    out = '{readID}\\t{chrom}\\t{pStart}\\t{pEnd}\\t{prob}'.format(readID=readID, chrom = chrom, pStart=pStart, pEnd=pEnd, prob=str(modScores))\n",
    "    outf.write(out)\n",
    "    \n",
    "    end_time = time.time()\n",
    "    print('Processed read ', readID, ' in ', end_time - start_time, 's')\n",
    "outf.close()"
   ]
  },
  {
   "cell_type": "code",
   "execution_count": 76,
   "id": "cecd690f",
   "metadata": {},
   "outputs": [
    {
     "data": {
      "image/png": "[encoded data removed]",
      "text/plain": [
       "<Figure size 500x500 with 2 Axes>"
      ]
     },
     "metadata": {},
     "output_type": "display_data"
    }
   ],
   "source": [
    "figureWidth=5\n",
    "figureHeight=5\n",
    "panelWidth=4\n",
    "panelHeight=1.5\n",
    "plt.figure(figsize=(figureWidth,figureHeight))\n",
    "panel1 = plt.axes([0.1/figureWidth,3.3/figureHeight,panelWidth/figureWidth,panelHeight/figureHeight])\n",
    "panel2 = plt.axes([0.1/figureWidth,1.7/figureHeight,panelWidth/figureWidth,panelHeight/figureHeight])\n",
    "panel1.tick_params(bottom=False, labelbottom=False,\n",
    "                   left=False, labelleft=False,\n",
    "                   right=False, labelright=False,\n",
    "                   top=False, labeltop=False)\n",
    "panel2.tick_params(bottom=False, labelbottom=False,\n",
    "                   left=False, labelleft=False,\n",
    "                   right=False, labelright=False,\n",
    "                   top=False, labeltop=False)\n",
    "\n",
    "panel1.set_xlim(pStart, pEnd)\n",
    "panel1.set_ylim(-1,10)\n",
    "\n",
    "bottom = 0\n",
    "height = 1\n",
    "line_width = 0\n",
    "\n",
    "for pos in range(pStart,pEnd):\n",
    "    color = 'Grey'\n",
    "    if pos-pStart in modScores:\n",
    "        if modScores[pos-pStart] > 0.5:\n",
    "            color = 'Red'\n",
    "        else:\n",
    "            color = 'Blue'\n",
    "    rectangle = mplpatches.Rectangle([pos, bottom-(height/\n",
    "                                                   2)], pos+1, height,\n",
    "                                facecolor = color,\n",
    "                                edgecolor = 'black',\n",
    "                                linewidth = line_width)\n",
    "    panel1.add_patch(rectangle)"
   ]
  }
 ],
 "metadata": {
  "kernelspec": {
   "display_name": "Python 3 (ipykernel)",
   "language": "python",
   "name": "python3"
  },
  "language_info": {
   "codemirror_mode": {
    "name": "ipython",
    "version": 3
   },
   "file_extension": ".py",
   "mimetype": "text/x-python",
   "name": "python",
   "nbconvert_exporter": "python",
   "pygments_lexer": "ipython3",
   "version": "3.9.15"
  }
 },
 "nbformat": 4,
 "nbformat_minor": 5
}
