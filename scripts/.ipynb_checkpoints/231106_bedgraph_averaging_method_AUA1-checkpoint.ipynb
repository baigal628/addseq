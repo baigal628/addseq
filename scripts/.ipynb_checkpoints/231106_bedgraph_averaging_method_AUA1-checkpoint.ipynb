{
 "cells": [
  {
   "cell_type": "code",
   "execution_count": 1,
   "id": "e10d688e-1b13-4ce4-a5c4-2af2b46a5c75",
   "metadata": {},
   "outputs": [
    {
     "name": "stdout",
     "output_type": "stream",
     "text": [
      "Device type:  cpu\n"
     ]
    }
   ],
   "source": [
    "import sys\n",
    "sys.path.insert(0, '/private/groups/brookslab/gabai/tools/seqUtils/src/')\n",
    "import time\n",
    "import numpy as np\n",
    "from seqUtil import *\n",
    "from bamUtil import *\n",
    "from nanoUtil import *\n",
    "from nntUtil import *\n",
    "from modPredict import *\n",
    "import matplotlib.pyplot as plt\n",
    "import matplotlib.patches as mplpatches\n",
    "from collections import defaultdict\n",
    "from plotUtil import *"
   ]
  },
  {
   "cell_type": "code",
   "execution_count": 2,
   "id": "5cd601c0-5d57-4e02-a3d4-09d40290ef71",
   "metadata": {},
   "outputs": [],
   "source": [
    "nuc_regions = {\n",
    "    'PHO5': 'chrII:429000-435000',\n",
    "    'CLN2': 'chrXVI:66000-67550',\n",
    "    'HMR': 'chrIII:290000-299000',\n",
    "    'AUA1': 'chrVI:114000-116000',\n",
    "    'EMW1': 'chrXIV:45000-50000',\n",
    "    'NRG2': 'chrII:370000-379000',\n",
    "    'RDN37': 'chrXII:450300-459300'}"
   ]
  },
  {
   "cell_type": "code",
   "execution_count": 3,
   "id": "b3a2b544-15fb-4ae0-856e-74c6b395063f",
   "metadata": {},
   "outputs": [],
   "source": [
    "myregion = nuc_regions['AUA1']\n",
    "reg = myregion.split(':')\n",
    "chrom, pStart, pEnd = reg[0], int(reg[1].split('-')[0]), int(reg[1].split('-')[1])\n",
    "\n",
    "genome = '/private/groups/brookslab/gabai/projects/Add-seq/data/ref/sacCer3.fa'\n",
    "chrom_bam = '/private/groups/brookslab/gabai/projects/Add-seq/data/chrom/mapping/all_read.bam'\n",
    "pos_bam = '/private/groups/brookslab/gabai/projects/Add-seq/data/ctrl/mapping/unique.500.pass.sorted.bam'\n",
    "neg_bam = '/private/groups/brookslab/gabai/projects/Add-seq/data/ctrl/mapping/unique.0.pass.sorted.bam'"
   ]
  },
  {
   "cell_type": "code",
   "execution_count": 4,
   "id": "cf2fffa7-ef6a-4deb-9366-bc1fe5b3c1f5",
   "metadata": {},
   "outputs": [],
   "source": [
    "method = 'median'\n",
    "\n",
    "models = {\n",
    "    'resnet1D':resnet1D\n",
    "}\n",
    "mymodel = models['resnet1D']\n",
    "myweight =  '/private/groups/brookslab/gabai/tools/seqUtils/src/nanopore_classification/best_models/addseq_resnet1d.pt'"
   ]
  },
  {
   "cell_type": "code",
   "execution_count": 5,
   "id": "fd8e13ee-9814-4b29-93b0-21ed2df838d4",
   "metadata": {},
   "outputs": [],
   "source": [
    "sigAlign_AUA1_chrom = '/private/groups/brookslab/gabai/projects/Add-seq/data/chrom/modPredict/231024_AUA1_chrom_meanScore_medianPos_chrVI:114000-116000siganlAlign.tsv'\n",
    "sigAlign_AUA1_neg = '/private/groups/brookslab/gabai/projects/Add-seq/data/ctrl/modPredict/231024_AUA1_neg_meanScore_medianPos_chrVI:114000-116000siganlAlign.tsv'\n",
    "sigAlign_AUA1_pos = '/private/groups/brookslab/gabai/projects/Add-seq/data/ctrl/modPredict/231024_AUA1_pos_meanScore_medianPos_chrVI:114000-116000siganlAlign.tsv'\n"
   ]
  },
  {
   "cell_type": "code",
   "execution_count": 7,
   "id": "acd9c1d4-f7b3-4e08-9258-c9936121a7ae",
   "metadata": {},
   "outputs": [],
   "source": [
    "def aggregate_scors(scores, method):\n",
    "    if method == 'mean':\n",
    "        return np.nanmean(scores)\n",
    "    elif method == 'median':\n",
    "        return np.nanmedian(scores)\n",
    "    elif method == 'min':\n",
    "        return np.nanmin(scores)\n",
    "    elif method == 'max':\n",
    "        return np.nanmax(scores)"
   ]
  },
  {
   "cell_type": "code",
   "execution_count": 8,
   "id": "5accf37d-4323-45a2-9d63-971ad78e5743",
   "metadata": {},
   "outputs": [],
   "source": [
    "def nntPredict(signals, device, model, weights_path, sigWindow = 400, method = 'mean'):\n",
    "    '''\n",
    "    Given a list of signals, return predicted modification scores.\n",
    "    '''\n",
    "    \n",
    "    model.load_state_dict(torch.load(weights_path, map_location=torch.device(device)))\n",
    "    model.to(device)\n",
    "    \n",
    "    # set input data\n",
    "    input_tensor = torch.zeros((1, 1, 400)).to(device)\n",
    "    sequence_tensor = torch.tensor(signals)\n",
    "    \n",
    "    probs = []\n",
    "    \n",
    "    #Here I omit +1 from len(signals)-sigWindow+1 because len(signals) already has one extra signal that corresponds to next kmer window.\n",
    "    for sigIdx in range(len(signals)-sigWindow):\n",
    "        input_tensor[:, :, :] = sequence_tensor[sigIdx:sigIdx+sigWindow]\n",
    "        prob = model(input_tensor).sigmoid().item()\n",
    "        probs.append(prob)\n",
    "    \n",
    "    return aggregate_scors(probs, method = method)"
   ]
  },
  {
   "cell_type": "code",
   "execution_count": 46,
   "id": "b2f32f84-b8e6-45d4-b63b-7beea661a720",
   "metadata": {},
   "outputs": [],
   "source": [
    "def exportBedGraph(region, sam, sigAlign, kmerWindow=80, signalWindow=400, threshold = 0.7,\n",
    "                       modBase = ['AT', 'TA'], genome = genome, model = mymodel, weight = myweight):\n",
    "\n",
    "    r = 0\n",
    "    alignment = getAlignedReads(sam = sam, region = region, genome=genome, print_name=False)\n",
    "    refSeq = alignment['ref']\n",
    "    all_scores, modCounts, modVars = defaultdict(list), defaultdict(list), defaultdict(list)\n",
    "    modPositions = basePos(refSeq, base = modBase)\n",
    "    count = baseCount(refSeq, base = modBase)\n",
    "    \n",
    "    reg = region.split(':')\n",
    "    chrom, pStart, pEnd = reg[0], int(reg[1].split('-')[0]), int(reg[1].split('-')[1])\n",
    "    \n",
    "    bins = np.arange(pStart, pEnd, kmerWindow)\n",
    "    binScores = {bin:0 for bin in bins}\n",
    "    binCounts = {bin:0 for bin in bins}\n",
    "\n",
    "    for readID, eventStart, sigList, sigLenList in parseSigAlign(sigAlign):\n",
    "        start_time = time.time()\n",
    "        print('Start processing ', readID)\n",
    "        # strand = alignment[readID][1]\n",
    "        \n",
    "        sigLenList_init = pStart-eventStart-1\n",
    "        if sigLenList_init > len(sigLenList):\n",
    "            continue\n",
    "        \n",
    "        for bin in bins:\n",
    "            # print('Predicting at position:', bin, '-', bin+kmerWindow)\n",
    "            \n",
    "            # 1. Fetch sequences with kmer window size, this step is optional\n",
    "            seq = refSeq[bin:bin+kmerWindow]\n",
    "            \n",
    "            # 2. Fetch signals with signal window size \n",
    "            signals = fetchSignal(bin-pStart, sigLenList_init, sigLenList, sigList, kmerWindow, signalWindow)\n",
    "            if signals == 'del':\n",
    "                continue\n",
    "            if signals == 'end':\n",
    "                break\n",
    "            # print('fetched signal length', len(signals))\n",
    "            \n",
    "            # 3. Get predicted probability score from machine learning model\n",
    "            prob = nntPredict(signals, device = device, model = model, weights_path = weight)\n",
    "            if prob > 0.7:\n",
    "                binScores[bin] +=1\n",
    "            binCounts[bin] +=1\n",
    "    return binScores, binCounts"
   ]
  },
  {
   "cell_type": "code",
   "execution_count": 47,
   "id": "c13f1fbe-89ea-403f-8cec-223ade8c04ce",
   "metadata": {},
   "outputs": [],
   "source": [
    "def fetchSignal(pos, sigLenList_init, sigLenList, sigList, kmerWindow, signalWindow):\n",
    "    '''\n",
    "    fetchSignal return a list of signals that are aligned to the givnen position.\n",
    "    input:\n",
    "        pos: genome position relative to pStart\n",
    "        sigLenList_init: index in signlenList that aligns to pStart\n",
    "        sigLenList: a list with length of signals aligned to each genomic position\n",
    "        sigList: a list of signals generated from one read.\n",
    "        kmerWindow: length of kmers to fetch signals.\n",
    "    '''\n",
    "    #### Explanation of how signals are fetched according to genomic position of kmer ####\n",
    "    ## genome: ACccgttagctaTAAACGTA, siglenList = [4,10,12,19,29,69, 110, 129, 140, 168], kmerWindow = 5 ##\n",
    "    ## sigLenList_init = 2 (c), pos = 3 (t), kmer = ttagc ##\n",
    "    ## sigLenList_startIdx = sigLenList_init+pos-1 = 4, sigLenList_endIdx = pos_sigLenList_start+kmerWindow = 9 ##\n",
    "    ## sigList_startIdx = int(siglenList[sigLenList_startIdx]) = 29, sigList_endIdx = int(siglenList[sigLenList_endIdx]) = 168 ##\n",
    "    \n",
    "    sigLenList_startIdx = int(sigLenList_init)+pos-1\n",
    "    sigLenList_endIdx = sigLenList_startIdx+kmerWindow\n",
    "    \n",
    "    if sigLenList_startIdx<0:\n",
    "        sigList_startIdx = 0\n",
    "    else:\n",
    "        sigList_startIdx = int(sigLenList[sigLenList_startIdx])\n",
    "    \n",
    "    if sigLenList_endIdx > len(sigLenList):\n",
    "        sigLenList_endIdx = -1\n",
    "    sigList_endIdx = int(sigLenList[sigLenList_endIdx])\n",
    "\n",
    "    # if no signals aligned to this kmer\n",
    "    if sigList_startIdx == sigList_endIdx:\n",
    "        print('del')\n",
    "        return 'del'\n",
    "    \n",
    "    # reached the end of the signal list\n",
    "    # sigList = [0,1,2,3,...,11,12,13,14,15], signalWindow = 5, start = 12, len(sigList) = 16\n",
    "    # len(sigList)-end < signalWindow does not matter because python automatically clipps\n",
    "    if len(sigList)-sigList_startIdx < signalWindow:\n",
    "        print('end')\n",
    "        return 'end'\n",
    "    \n",
    "    signals = [float(s) for s in sigList[sigList_startIdx:sigList_endIdx]]\n",
    "    \n",
    "    return signals"
   ]
  },
  {
   "cell_type": "code",
   "execution_count": null,
   "id": "7145e196-3ad8-4ca1-80c9-aecfa2d45c8e",
   "metadata": {},
   "outputs": [
    {
     "name": "stdout",
     "output_type": "stream",
     "text": [
      "Start processing  908f9524-d405-46ca-a596-c4e613de196f\n",
      "Start processing  9c17f73c-0929-43d6-9925-680bb8336e3b\n",
      "Start processing  b8c85d5f-6412-4d19-a35e-5968d666ea4b\n",
      "Start processing  c661c150-cfe9-4051-9e7a-0fdafd3c6648\n",
      "Start processing  7e999093-192e-402a-9d6c-7897fbe59a58\n",
      "Start processing  c6860b25-f09f-4414-a55b-760d2fddfffb\n",
      "Start processing  310bb002-6da6-489c-82a1-ec409985fac4\n",
      "Start processing  7adc3f78-586b-4067-b5db-8bf8d7f02868\n",
      "Start processing  80c0673a-a6a4-48b6-9bf9-d8105a895005\n",
      "Start processing  d8161174-9ff7-45d4-89df-43c637a9d5cc\n",
      "Start processing  de476561-751c-4603-aaf7-d4037d67f726\n"
     ]
    }
   ],
   "source": [
    "chrom_binScores, chrom_binCounts = exportBedGraph(region = myregion, sam = chrom_bam, sigAlign = sigAlign_AUA1_chrom, genome = genome, \n",
    "                                                  model= mymodel, weight = myweight, kmerWindow=75)"
   ]
  },
  {
   "cell_type": "code",
   "execution_count": null,
   "id": "bdb5e4cc-b2b1-4231-8a76-acd290070256",
   "metadata": {},
   "outputs": [],
   "source": [
    "out = open('', 'w')\n",
    "postoscore = {}\n",
    "for line in open('angelicin_pos_chrX_eventalign_thresh80_fullchr_nokmernum_nosignalmean_normalizedbyreadcount.wig'): #'angelicin_chr_chrX_eventalign_thresh80_nokmernum_normalizedbyreadcount.wig'):\n",
    "    if line[:3] != 'var':\n",
    "        line = line.rstrip().split('\\t')\n",
    "        postoscore[int(line[0])] = float(line[1])\n",
    "\n",
    "chrend = max(postoscore.keys())\n",
    "for i in range(0, chrend, 10):\n",
    "    windowscore = 0\n",
    "    for j in range(i, i+50, 10):\n",
    "        if j in postoscore: windowscore += postoscore[j]\n",
    "    if windowscore > 5:\n",
    "        out.write('chrX\\t' + str(i) + '\\t' + str(i+50) + '\\n')\n",
    "out.close()"
   ]
  },
  {
   "cell_type": "code",
   "execution_count": null,
   "id": "6ab524b7-1a2d-440d-9039-10b2697bcec9",
   "metadata": {},
   "outputs": [],
   "source": [
    "def writeBedGraph(bedGraphHeader, binScores, binCounts, binSize, chrom, outfile, normalize = True):\n",
    "    outFh = open(outfile, 'w')\n",
    "    for k,v in bedGraphHeader.items():\n",
    "        if v:\n",
    "            line = k + '=' + v + ' '\n",
    "            outFh.write(line)\n",
    "    outFh.write('\\n')\n",
    "    for chrStart in binScores.keys():\n",
    "        chrEnd = chrStart + binSize\n",
    "        if normalize:\n",
    "            score = \"%.3f\" % (binScores[chrStart]/binCounts[chrStart])\n",
    "        else:\n",
    "            score = \"%.3f\" % (binScores[chrStart])\n",
    "        line = '{chr}\\t{start}\\t{end}\\t{score}\\n'.format(chr = chrom, start = chrStart,  end = chrEnd, score = score)\n",
    "        print(line)\n",
    "        outFh.write(line)\n",
    "    outFh.close()\n",
    "\n",
    "bedGraphHeader = {'track type':'bedGraph', \n",
    "                  'name':'chrom_AUA1', \n",
    "                  'description':'addseq',\n",
    "                  'visibility':'', \n",
    "                  'color':'r', \n",
    "                  'altColor':'r', \n",
    "                  'priority':'', \n",
    "                  'autoScale':'off', \n",
    "                  'alwaysZero':'off', \n",
    "                  'gridDefault':'off', \n",
    "                  'maxHeightPixels':'default', \n",
    "                  'graphType':'bar',\n",
    "                  'viewLimits':'upper',\n",
    "                  'yLineMark':'',\n",
    "                  'yLineOnOff':'on',\n",
    "                  'windowingFunction':'mean',\n",
    "                  'smoothingWindow':'on'\n",
    "                 }"
   ]
  },
  {
   "cell_type": "code",
   "execution_count": null,
   "id": "9886bf70-4e2f-478f-afaf-937bdf7da8cc",
   "metadata": {},
   "outputs": [],
   "source": [
    "writeBedGraph(bedGraphHeader = bedGraphHeader, binScores = chrom_binScores, binCounts = chrom_binCounts, \n",
    "              binSize =75, chrom = chrom, outfile = '../data/chrom/modPredict/231106_AUA1_binLevelPrediction.bedgraph')"
   ]
  },
  {
   "cell_type": "code",
   "execution_count": 64,
   "id": "e7758d14-3683-4324-b097-399ce83107c4",
   "metadata": {},
   "outputs": [
    {
     "data": {
      "text/plain": [
       "dict_values([2, 1, 6, 1, 6, 6, 2, 0, 1, 0, 5, 1, 3, 1, 2, 0, 0, 1, 1, 2, 0, 1, 1, 0, 6, 4, 0])"
      ]
     },
     "execution_count": 64,
     "metadata": {},
     "output_type": "execute_result"
    }
   ],
   "source": [
    "chrom_binScores.values()"
   ]
  },
  {
   "cell_type": "code",
   "execution_count": 65,
   "id": "b1d0e4d4-d2dd-4a16-97c5-83e7cf1c98fa",
   "metadata": {},
   "outputs": [
    {
     "data": {
      "text/plain": [
       "'2,1,6,1,6,6,2,0,1,0,5,1,3,1,2,0,0,1,1,2,0,1,1,0,6,4,0'"
      ]
     },
     "execution_count": 65,
     "metadata": {},
     "output_type": "execute_result"
    }
   ],
   "source": [
    "','.join(map(str, chrom_binScores.values()))"
   ]
  },
  {
   "cell_type": "code",
   "execution_count": 53,
   "id": "04bea400-51d6-4d02-919d-53ee0a07d4b8",
   "metadata": {},
   "outputs": [
    {
     "ename": "TypeError",
     "evalue": "sequence item 0: expected str instance, int found",
     "output_type": "error",
     "traceback": [
      "\u001b[0;31m---------------------------------------------------------------------------\u001b[0m",
      "\u001b[0;31mTypeError\u001b[0m                                 Traceback (most recent call last)",
      "Cell \u001b[0;32mIn[53], line 1\u001b[0m\n\u001b[0;32m----> 1\u001b[0m \u001b[38;5;124;43m'\u001b[39;49m\u001b[38;5;124;43m,\u001b[39;49m\u001b[38;5;124;43m'\u001b[39;49m\u001b[38;5;241;43m.\u001b[39;49m\u001b[43mjoin\u001b[49m\u001b[43m(\u001b[49m\u001b[43m[\u001b[49m\u001b[43mv\u001b[49m\u001b[43m \u001b[49m\u001b[38;5;28;43;01mfor\u001b[39;49;00m\u001b[43m \u001b[49m\u001b[43mk\u001b[49m\u001b[43m,\u001b[49m\u001b[43mv\u001b[49m\u001b[43m \u001b[49m\u001b[38;5;129;43;01min\u001b[39;49;00m\u001b[43m \u001b[49m\u001b[43mchrom_binScores\u001b[49m\u001b[38;5;241;43m.\u001b[39;49m\u001b[43mitems\u001b[49m\u001b[43m(\u001b[49m\u001b[43m)\u001b[49m\u001b[43m]\u001b[49m\u001b[43m)\u001b[49m\n",
      "\u001b[0;31mTypeError\u001b[0m: sequence item 0: expected str instance, int found"
     ]
    }
   ],
   "source": [
    "','.join([v for k,v in chrom_binScores.items()])"
   ]
  }
 ],
 "metadata": {
  "kernelspec": {
   "display_name": "Python 3 (ipykernel)",
   "language": "python",
   "name": "python3"
  },
  "language_info": {
   "codemirror_mode": {
    "name": "ipython",
    "version": 3
   },
   "file_extension": ".py",
   "mimetype": "text/x-python",
   "name": "python",
   "nbconvert_exporter": "python",
   "pygments_lexer": "ipython3",
   "version": "3.9.18"
  }
 },
 "nbformat": 4,
 "nbformat_minor": 5
}
