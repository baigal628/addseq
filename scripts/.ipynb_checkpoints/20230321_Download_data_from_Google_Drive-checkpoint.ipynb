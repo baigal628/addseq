{
 "cells": [
  {
   "cell_type": "code",
   "execution_count": 1,
   "id": "a034b8ad",
   "metadata": {},
   "outputs": [],
   "source": [
    "# Not able to authanticate through this\n",
    "from pydrive.auth import GoogleAuth\n",
    "from pydrive.drive import GoogleDrive\n",
    "from oauth2client.client import GoogleCredentials"
   ]
  },
  {
   "cell_type": "code",
   "execution_count": 2,
   "id": "eacb8673",
   "metadata": {},
   "outputs": [],
   "source": [
    "import gdown"
   ]
  },
  {
   "cell_type": "markdown",
   "id": "a02a0ce6",
   "metadata": {},
   "source": [
    "## Download Mesmlr-seq raw data"
   ]
  },
  {
   "cell_type": "code",
   "execution_count": 32,
   "id": "9ccf7645",
   "metadata": {},
   "outputs": [],
   "source": [
    "url_neg = 'https://drive.google.com/u/0/uc?id=1A0L0OzHAee8iTuxG7LngaDwHNj-CDokp&export=download'\n",
    "url_pos = 'https://drive.google.com/u/0/uc?id=1yoTsVFOATGwOw7kLUgCKGTaPmEDhyruz&export=download'"
   ]
  },
  {
   "cell_type": "code",
   "execution_count": 33,
   "id": "e28c5f8b",
   "metadata": {},
   "outputs": [],
   "source": [
    "out_neg = '../data/mesmlr_signal_csv/neg.eventalign.signal.csv.tar.gz'\n",
    "out_pos = '../data/mesmlr_signal_csv/pos.eventalign.signal.csv.tar.gz'"
   ]
  },
  {
   "cell_type": "code",
   "execution_count": 31,
   "id": "b0ff8808",
   "metadata": {},
   "outputs": [
    {
     "name": "stderr",
     "output_type": "stream",
     "text": [
      "Downloading...\n",
      "From: https://drive.google.com/u/0/uc?id=1A0L0OzHAee8iTuxG7LngaDwHNj-CDokp&export=download\n",
      "To: /private/groups/brookslab/gabai/projects/addseq/data/mesmlr_signal_csv/neg.eventalign.signal.csv.tar.gz\n",
      "100%|███████████████████████████████████████| 1.62G/1.62G [00:12<00:00, 126MB/s]\n"
     ]
    },
    {
     "data": {
      "text/plain": [
       "'../data/mesmlr_signal_csv/neg.eventalign.signal.csv.tar.gz'"
      ]
     },
     "execution_count": 31,
     "metadata": {},
     "output_type": "execute_result"
    }
   ],
   "source": [
    "gdown.download(url_neg, out_neg, quiet = False)\n",
    "gdown.download(url_pos, out_pos, quiet = False)"
   ]
  },
  {
   "cell_type": "markdown",
   "id": "2a351b20",
   "metadata": {},
   "source": [
    "## Download Add-seq raw data"
   ]
  },
  {
   "cell_type": "code",
   "execution_count": 36,
   "id": "971ffcf7",
   "metadata": {},
   "outputs": [],
   "source": [
    "url_add_neg = 'https://drive.google.com/u/0/uc?id=1YtP-y4kllvdNAOo1DhwOxfBunc-TKuEs&export=download'\n",
    "url_add_pos = 'https://drive.google.com/u/0/uc?id=1zT-ZIO-CTKFiJX_cLPuRhk054kJlooZJ&export=download'\n",
    "\n",
    "out_add_neg = '../data/addseq_signal_csv/unique.0.eventalign.signal.csv.tar.gz'\n",
    "out_add_pos = '../data/addseq_signal_csv/unique.500.eventalign.signal.csv.tar.gz'"
   ]
  },
  {
   "cell_type": "code",
   "execution_count": 38,
   "id": "f190f3d8",
   "metadata": {},
   "outputs": [
    {
     "name": "stderr",
     "output_type": "stream",
     "text": [
      "Downloading...\n",
      "From: https://drive.google.com/u/0/uc?id=1zT-ZIO-CTKFiJX_cLPuRhk054kJlooZJ&export=download\n",
      "To: /private/groups/brookslab/gabai/projects/addseq/data/addseq_signal_csv/unique.500.eventalign.signal.csv.tar.gz\n",
      "100%|███████████████████████████████████████| 2.11G/2.11G [00:16<00:00, 132MB/s]\n"
     ]
    },
    {
     "data": {
      "text/plain": [
       "'../data/addseq_signal_csv/unique.500.eventalign.signal.csv.tar.gz'"
      ]
     },
     "execution_count": 38,
     "metadata": {},
     "output_type": "execute_result"
    }
   ],
   "source": [
    "gdown.download(url_add_neg, out_add_neg, quiet = False)\n",
    "gdown.download(url_add_pos, out_add_pos, quiet = False)"
   ]
  },
  {
   "cell_type": "markdown",
   "id": "aa6e3dc6",
   "metadata": {},
   "source": [
    "## Download methylation Data"
   ]
  },
  {
   "cell_type": "code",
   "execution_count": 7,
   "id": "d7f8f338",
   "metadata": {},
   "outputs": [
    {
     "name": "stderr",
     "output_type": "stream",
     "text": [
      "Downloading...\n",
      "From: https://drive.google.com/u/0/uc?id=1hb0YZlw6IvwCjAu1uM_Hpb3QxESEOhud&export=download\n",
      "To: /private/groups/brookslab/gabai/projects/methyl_mod/mod_mappings.bam\n",
      "100%|███████████████████████████████████████| 1.30G/1.30G [00:09<00:00, 136MB/s]\n"
     ]
    },
    {
     "data": {
      "text/plain": [
       "'../../methyl_mod/mod_mappings.bam'"
      ]
     },
     "execution_count": 7,
     "metadata": {},
     "output_type": "execute_result"
    }
   ],
   "source": [
    "url_methyl = 'https://drive.google.com/u/0/uc?id=1hb0YZlw6IvwCjAu1uM_Hpb3QxESEOhud&export=download'\n",
    "out_methyl = '../../methyl_mod/mod_mappings.bam'\n",
    "gdown.download(url_methyl, out_methyl, quiet = False)"
   ]
  },
  {
   "cell_type": "code",
   "execution_count": 9,
   "id": "8171324d",
   "metadata": {},
   "outputs": [
    {
     "name": "stderr",
     "output_type": "stream",
     "text": [
      "Downloading...\n",
      "From: https://drive.google.com/u/0/uc?id=1H5ErhXW0zDiS72PCqfiF5HHnpKMCx0aQ&export=download\n",
      "To: /private/groups/brookslab/gabai/projects/methyl_mod/FAU42814_e8ee2fe4_50.fast5\n",
      "100%|█████████████████████████████████████████| 453M/453M [00:03<00:00, 133MB/s]\n"
     ]
    },
    {
     "data": {
      "text/plain": [
       "'../../methyl_mod/FAU42814_e8ee2fe4_50.fast5'"
      ]
     },
     "execution_count": 9,
     "metadata": {},
     "output_type": "execute_result"
    }
   ],
   "source": [
    "url_f51 = 'https://drive.google.com/u/0/uc?id=1H5ErhXW0zDiS72PCqfiF5HHnpKMCx0aQ&export=download'\n",
    "out_f51 = '../../methyl_mod/FAU42814_e8ee2fe4_50.fast5'\n",
    "gdown.download(url_f51, out_f51, quiet = False)"
   ]
  },
  {
   "cell_type": "code",
   "execution_count": 11,
   "id": "1efd9608",
   "metadata": {},
   "outputs": [
    {
     "name": "stderr",
     "output_type": "stream",
     "text": [
      "Downloading...\n",
      "From: https://drive.google.com/u/0/uc?id=1NgyVdkDi1HZwVOje0FJQI56mo_1NxZDG&export=download\n",
      "To: /private/groups/brookslab/gabai/projects/methyl_mod/FAU42814_e8ee2fe4_46.fast5\n",
      "100%|████████████████████████████████████████| 417M/417M [00:04<00:00, 95.2MB/s]\n"
     ]
    },
    {
     "data": {
      "text/plain": [
       "'../../methyl_mod/FAU42814_e8ee2fe4_46.fast5'"
      ]
     },
     "execution_count": 11,
     "metadata": {},
     "output_type": "execute_result"
    }
   ],
   "source": [
    "url_f52 = 'https://drive.google.com/u/0/uc?id=1NgyVdkDi1HZwVOje0FJQI56mo_1NxZDG&export=download'\n",
    "out_f52 = '../../methyl_mod/FAU42814_e8ee2fe4_46.fast5'\n",
    "gdown.download(url_f52, out_f52, quiet = False)"
   ]
  },
  {
   "cell_type": "code",
   "execution_count": 12,
   "id": "3e8085c6",
   "metadata": {},
   "outputs": [
    {
     "name": "stderr",
     "output_type": "stream",
     "text": [
      "Downloading...\n",
      "From: https://drive.google.com/u/0/uc?id=1zKwKKh1yxw9w3Wa1z_BlYyEEPvu9XmLG&export=download\n",
      "To: /private/groups/brookslab/gabai/projects/methyl_mod/FAU42814_e8ee2fe4_34.fast5\n",
      "100%|█████████████████████████████████████████| 448M/448M [00:04<00:00, 103MB/s]\n"
     ]
    },
    {
     "data": {
      "text/plain": [
       "'../../methyl_mod/FAU42814_e8ee2fe4_34.fast5'"
      ]
     },
     "execution_count": 12,
     "metadata": {},
     "output_type": "execute_result"
    }
   ],
   "source": [
    "url_f53 = 'https://drive.google.com/u/0/uc?id=1zKwKKh1yxw9w3Wa1z_BlYyEEPvu9XmLG&export=download'\n",
    "out_f53 = '../../methyl_mod/FAU42814_e8ee2fe4_34.fast5'\n",
    "gdown.download(url_f53, out_f53, quiet = False)"
   ]
  },
  {
   "cell_type": "code",
   "execution_count": 13,
   "id": "1a1a5ed4",
   "metadata": {},
   "outputs": [
    {
     "name": "stderr",
     "output_type": "stream",
     "text": [
      "Downloading...\n",
      "From: https://drive.google.com/u/0/uc?id=1A2F8ehEEUtX31CQgaovWK_NKrrjY00T8&export=download\n",
      "To: /private/groups/brookslab/gabai/projects/methyl_mod/FAU42814_e8ee2fe4_24.fast5\n",
      "100%|█████████████████████████████████████████| 410M/410M [00:03<00:00, 123MB/s]\n"
     ]
    },
    {
     "data": {
      "text/plain": [
       "'../../methyl_mod/FAU42814_e8ee2fe4_24.fast5'"
      ]
     },
     "execution_count": 13,
     "metadata": {},
     "output_type": "execute_result"
    }
   ],
   "source": [
    "url_f54 = 'https://drive.google.com/u/0/uc?id=1A2F8ehEEUtX31CQgaovWK_NKrrjY00T8&export=download'\n",
    "out_f54 = '../../methyl_mod/FAU42814_e8ee2fe4_24.fast5'\n",
    "gdown.download(url_f54, out_f54, quiet = False)"
   ]
  },
  {
   "cell_type": "code",
   "execution_count": 14,
   "id": "8abba761",
   "metadata": {},
   "outputs": [
    {
     "name": "stderr",
     "output_type": "stream",
     "text": [
      "Downloading...\n",
      "From: https://drive.google.com/u/0/uc?id=1QGMdx_2P1vpFgg4AKZ2l1Tm05UinRdqO&export=download\n",
      "To: /private/groups/brookslab/gabai/projects/methyl_mod/FAU42814_e8ee2fe4_0.fast5\n",
      "100%|████████████████████████████████████████| 256M/256M [00:02<00:00, 89.1MB/s]\n"
     ]
    },
    {
     "data": {
      "text/plain": [
       "'../../methyl_mod/FAU42814_e8ee2fe4_0.fast5'"
      ]
     },
     "execution_count": 14,
     "metadata": {},
     "output_type": "execute_result"
    }
   ],
   "source": [
    "url_f55 = 'https://drive.google.com/u/0/uc?id=1QGMdx_2P1vpFgg4AKZ2l1Tm05UinRdqO&export=download'\n",
    "out_f55 = '../../methyl_mod/FAU42814_e8ee2fe4_0.fast5'\n",
    "gdown.download(url_f55, out_f55, quiet = False)"
   ]
  },
  {
   "cell_type": "code",
   "execution_count": 5,
   "id": "693be891",
   "metadata": {},
   "outputs": [
    {
     "name": "stderr",
     "output_type": "stream",
     "text": [
      "Downloading...\n",
      "From: https://drive.google.com/uc?id=10EGYVXDKd0F8TZ5VXX2sROMeGScz9Pza\n",
      "To: /scratch/gabai/methyl_mod/modifications/221110_ys18_Me_Naked_R10_all_6mAcalled.sorted.bam\n",
      "100%|███████████████████████████████████████████████████████████████████████████████████████████████████████████████████████████████████| 13.9G/13.9G [02:27<00:00, 94.1MB/s]\n"
     ]
    },
    {
     "data": {
      "text/plain": [
       "'/scratch/gabai/methyl_mod/modifications/221110_ys18_Me_Naked_R10_all_6mAcalled.sorted.bam'"
      ]
     },
     "execution_count": 5,
     "metadata": {},
     "output_type": "execute_result"
    }
   ],
   "source": [
    "r10_pos_url = 'https://drive.google.com/file/d/10EGYVXDKd0F8TZ5VXX2sROMeGScz9Pza/view?usp=sharing'\n",
    "out_r10_pos = '/scratch/gabai/methyl_mod/modifications/221110_ys18_Me_Naked_R10_all_6mAcalled.sorted.bam'\n",
    "gdown.download(r10_pos_url, out_r10_pos, quiet = False, fuzzy=True)"
   ]
  },
  {
   "cell_type": "code",
   "execution_count": 7,
   "id": "65dc2044",
   "metadata": {},
   "outputs": [
    {
     "name": "stderr",
     "output_type": "stream",
     "text": [
      "Downloading...\n",
      "From: https://drive.google.com/uc?id=13hEPog3e5yP5L00mGDzLic5HT6t-foH3\n",
      "To: /scratch/gabai/methyl_mod/modifications/221119_ys18_Mock_Me_Naked_r10_6mAcalled.sorted.bam\n",
      "100%|████████████████████████████████████████████████████████████████████████████████████████████████████████████████████████████████████| 13.3G/13.3G [01:38<00:00, 135MB/s]\n"
     ]
    },
    {
     "data": {
      "text/plain": [
       "'/scratch/gabai/methyl_mod/modifications/221119_ys18_Mock_Me_Naked_r10_6mAcalled.sorted.bam'"
      ]
     },
     "execution_count": 7,
     "metadata": {},
     "output_type": "execute_result"
    }
   ],
   "source": [
    "r10_neg_url = 'https://drive.google.com/file/d/13hEPog3e5yP5L00mGDzLic5HT6t-foH3/view?usp=sharing'\n",
    "out_r10_neg = '/scratch/gabai/methyl_mod/modifications/221119_ys18_Mock_Me_Naked_r10_6mAcalled.sorted.bam'\n",
    "gdown.download(r10_neg_url, out_r10_neg, quiet = False, fuzzy=True)"
   ]
  },
  {
   "cell_type": "code",
   "execution_count": 9,
   "id": "f334a546",
   "metadata": {},
   "outputs": [
    {
     "name": "stderr",
     "output_type": "stream",
     "text": [
      "Downloading...\n",
      "From: https://drive.google.com/uc?id=12zjkL9MyYkI4_MEEIdzD8ft-ylbnoW4L\n",
      "To: /scratch/gabai/methyl_mod/modifications/mod_mappings_pos.sorted.bam\n",
      "100%|███████████████████████████████████████████████████████████████████████████████████████████████████████████████████████████████████| 3.30G/3.30G [00:36<00:00, 89.4MB/s]\n",
      "Downloading...\n",
      "From: https://drive.google.com/uc?id=1u3C0wSkTykit6pCD_xLWTCmQEQf4XN09\n",
      "To: /scratch/gabai/methyl_mod/modifications/mod_mappings_neg.sorted.bam\n",
      "100%|███████████████████████████████████████████████████████████████████████████████████████████████████████████████████████████████████| 1.32G/1.32G [00:13<00:00, 97.4MB/s]\n"
     ]
    },
    {
     "data": {
      "text/plain": [
       "'/scratch/gabai/methyl_mod/modifications/mod_mappings_neg.sorted.bam'"
      ]
     },
     "execution_count": 9,
     "metadata": {},
     "output_type": "execute_result"
    }
   ],
   "source": [
    "r9_pos_url = 'https://drive.google.com/file/d/12zjkL9MyYkI4_MEEIdzD8ft-ylbnoW4L/view?usp=sharing'\n",
    "out_r9_pos = '/scratch/gabai/methyl_mod/modifications/mod_mappings_pos.sorted.bam'\n",
    "gdown.download(r9_pos_url, out_r9_pos, quiet = False, fuzzy=True)\n",
    "\n",
    "r9_neg_url = 'https://drive.google.com/file/d/1u3C0wSkTykit6pCD_xLWTCmQEQf4XN09/view?usp=sharing'\n",
    "out_r9_neg = '/scratch/gabai/methyl_mod/modifications/mod_mappings_neg.sorted.bam'\n",
    "gdown.download(r9_neg_url, out_r9_neg, quiet = False, fuzzy=True)"
   ]
  },
  {
   "cell_type": "code",
   "execution_count": 11,
   "id": "ada427c1",
   "metadata": {},
   "outputs": [
    {
     "name": "stderr",
     "output_type": "stream",
     "text": [
      "Downloading...\n",
      "From: https://drive.google.com/uc?id=16PpUaNwAfV8ArB2AWqdlDgrhoFlwANNk\n",
      "To: /scratch/gabai/methyl_mod/modifications/mod_mappings_pos.bed\n",
      "100%|████████████████████████████████████████████████████████████████████████████████████████████████████████████████████████████████████| 1.21G/1.21G [00:07<00:00, 157MB/s]\n"
     ]
    },
    {
     "data": {
      "text/plain": [
       "'/scratch/gabai/methyl_mod/modifications/mod_mappings_pos.bed'"
      ]
     },
     "execution_count": 11,
     "metadata": {},
     "output_type": "execute_result"
    }
   ],
   "source": [
    "r9_pos_bed = 'https://drive.google.com/file/d/16PpUaNwAfV8ArB2AWqdlDgrhoFlwANNk/view?usp=sharing'\n",
    "out_r9_pos = '/scratch/gabai/methyl_mod/modifications/mod_mappings_pos.bed'\n",
    "gdown.download(r9_pos_bed, out_r9_pos, quiet = False, fuzzy=True)"
   ]
  },
  {
   "cell_type": "code",
   "execution_count": null,
   "id": "9ba4f8d8",
   "metadata": {},
   "outputs": [],
   "source": [
    "r9_neg_url = 'https://drive.google.com/file/d/1u3C0wSkTykit6pCD_xLWTCmQEQf4XN09/view?usp=sharing'\n",
    "out_r9_neg = '/scratch/gabai/methyl_mod/modifications/mod_mappings_neg.sorted.bed'\n",
    "gdown.download(r9_neg_url, out_r9_neg, quiet = False, fuzzy=True)"
   ]
  }
 ],
 "metadata": {
  "kernelspec": {
   "display_name": "Python 3 (ipykernel)",
   "language": "python",
   "name": "python3"
  },
  "language_info": {
   "codemirror_mode": {
    "name": "ipython",
    "version": 3
   },
   "file_extension": ".py",
   "mimetype": "text/x-python",
   "name": "python",
   "nbconvert_exporter": "python",
   "pygments_lexer": "ipython3",
   "version": "3.9.15"
  }
 },
 "nbformat": 4,
 "nbformat_minor": 5
}
