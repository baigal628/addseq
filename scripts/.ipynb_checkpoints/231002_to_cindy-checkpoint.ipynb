{
 "cells": [
  {
   "cell_type": "code",
   "execution_count": 25,
   "id": "180651e8",
   "metadata": {},
   "outputs": [
    {
     "name": "stderr",
     "output_type": "stream",
     "text": [
      "Warning message:\n",
      "“package ‘stringr’ was built under R version 4.2.3”\n"
     ]
    }
   ],
   "source": [
    "source('compute_drimseq_format.R')\n",
    "library(stringr)\n",
    "library(dplyr)\n",
    "df<- read.table('/data/scratch/gabai/_AS_exclusion_inclusion_counts_lenNorm.txt', header = TRUE, sep = '\\t')\n",
    "new_colnames<- c('junc_ann', colnames(df)[-1])  %>% str_replace_all(string = '.', '-')\n",
    "colnames(df)<- new_colnames\n",
    "drimseq_df <- juncbase2drimseq_format(df)"
   ]
  }
 ],
 "metadata": {
  "kernelspec": {
   "display_name": "R",
   "language": "R",
   "name": "ir"
  },
  "language_info": {
   "codemirror_mode": "r",
   "file_extension": ".r",
   "mimetype": "text/x-r-source",
   "name": "R",
   "pygments_lexer": "r",
   "version": "4.2.0"
  }
 },
 "nbformat": 4,
 "nbformat_minor": 5
}
