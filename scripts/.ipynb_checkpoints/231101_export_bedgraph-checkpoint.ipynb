{
 "cells": [
  {
   "cell_type": "code",
   "execution_count": null,
   "id": "0ab15033",
   "metadata": {},
   "outputs": [],
   "source": [
    "import sys\n",
    "sys.path.insert(0, '/private/groups/brookslab/gabai/tools/seqUtils/src/')\n",
    "import time\n",
    "import numpy as np\n",
    "from seqUtil import *\n",
    "from bamUtil import *\n",
    "from nanoUtil import *\n",
    "from nntUtil import *\n",
    "from modPredict import *\n",
    "import matplotlib.pyplot as plt\n",
    "import matplotlib.patches as mplpatches\n",
    "from collections import defaultdict "
   ]
  },
  {
   "cell_type": "code",
   "execution_count": 8,
   "id": "bfc5511c",
   "metadata": {},
   "outputs": [],
   "source": [
    "nuc_regions = {\n",
    "    'PHO5': 'chrII:429000-435000',\n",
    "    'CLN2': 'chrXVI:66000-67550',\n",
    "    'HMR': 'chrIII:290000-299000',\n",
    "    'AUA1': 'chrVI:114000-116000',\n",
    "    'EMW1': 'chrXIV:45000-50000',\n",
    "    'NRG2': 'chrII:370000-379000',\n",
    "    'RDN37': 'chrXII:450300-459300'}"
   ]
  },
  {
   "cell_type": "code",
   "execution_count": 9,
   "id": "1b05d63e",
   "metadata": {},
   "outputs": [],
   "source": [
    "myregion = nuc_regions['CLN2']\n",
    "reg = myregion.split(':')\n",
    "chrom, pStart, pEnd = reg[0], int(reg[1].split('-')[0]), int(reg[1].split('-')[1])"
   ]
  },
  {
   "cell_type": "code",
   "execution_count": 10,
   "id": "d556ce93",
   "metadata": {},
   "outputs": [],
   "source": [
    "genome = '/private/groups/brookslab/gabai/projects/Add-seq/data/ref/sacCer3.fa'\n",
    "chrom_bam = '/private/groups/brookslab/gabai/projects/Add-seq/data/chrom/mapping/all_read.bam'\n",
    "pos_bam = '/private/groups/brookslab/gabai/projects/Add-seq/data/ctrl/mapping/unique.500.pass.sorted.bam'\n",
    "neg_bam = '/private/groups/brookslab/gabai/projects/Add-seq/data/ctrl/mapping/unique.0.pass.sorted.bam'"
   ]
  },
  {
   "cell_type": "code",
   "execution_count": 11,
   "id": "d196ab5b",
   "metadata": {},
   "outputs": [],
   "source": [
    "method = 'median'\n",
    "\n",
    "models = {\n",
    "    'resnet1D':resnet1D\n",
    "}\n",
    "mymodel = models['resnet1D']\n",
    "myweight =  '/private/groups/brookslab/gabai/tools/seqUtils/src/nanopore_classification/best_models/addseq_resnet1d.pt'"
   ]
  },
  {
   "cell_type": "code",
   "execution_count": 12,
   "id": "c41deb75",
   "metadata": {},
   "outputs": [],
   "source": [
    "sigAlign_CLN2_chrom = '/private/groups/brookslab/gabai/projects/Add-seq/data/chrom/modPredict/231024_CLN2_chrom_meanScore_medianPos_chrXVI:66000-67550siganlAlign.tsv'\n",
    "sigAlign_CLN2_neg = '/private/groups/brookslab/gabai/projects/Add-seq/data/ctrl/modPredict/231024_CLN2_neg_meanScore_medianPos_chrXVI:66000-67550siganlAlign.tsv'\n",
    "sigAlign_CLN2_pos = '/private/groups/brookslab/gabai/projects/Add-seq/data/ctrl/modPredict/231024_CLN2_pos_meanScore_medianPos_chrXVI:66000-67550siganlAlign.tsv'"
   ]
  },
  {
   "cell_type": "code",
   "execution_count": 19,
   "id": "c7d5db85-40ce-41ac-880e-62476520c42e",
   "metadata": {},
   "outputs": [],
   "source": [
    "def fetchSignal(pos, sigLenList_init, siglenList, sigList, signalWindow):\n",
    "    '''\n",
    "    fetchSignal return a list of signals that are aligned to the givnen position.\n",
    "    input:\n",
    "        pos: genome position relative to pStart\n",
    "        sigLenList_init: index in signlenList that aligns to pStart\n",
    "        siglenList: a list with length of signals aligned to each genomic position\n",
    "        sigList: a list of signals generated from one read.\n",
    "        signalWindow: length of signals to feed into prediction model\n",
    "    '''\n",
    "    \n",
    "    pos_sigLenList_start = int(sigLenList_init)+pos\n",
    "    pos_sigLenList_end = pos_sigLenList_start+1\n",
    "    \n",
    "    if pos_sigLenList_start<0: \n",
    "        start=0\n",
    "    else:\n",
    "        start = int(siglenList[pos_sigLenList_start])\n",
    "    \n",
    "    end = int(siglenList[pos_sigLenList_end])\n",
    "\n",
    "    # if no signals aligned to this position\n",
    "    if start == end:\n",
    "        return 'del'\n",
    "    \n",
    "    # reached the end of the signal list\n",
    "    # sigList = [0,1,2,3,...,11,12,13,14,15], signalWindow = 5, start = 12, len(sigList) = 16\n",
    "    # len(sigList)-end < signalWindow does not matter because python automatically clipps\n",
    "    if len(sigList)-start < signalWindow:\n",
    "        return 'end'\n",
    "    signals = [float(s) for s in sigList[start:end+signalWindow]]\n",
    "    \n",
    "    return signals"
   ]
  },
  {
   "cell_type": "code",
   "execution_count": 108,
   "id": "501145b4",
   "metadata": {},
   "outputs": [],
   "source": [
    "def exportBedGraph(region, sam, sigAlign, kmerWindow=80, signalWindow=400, binSize = 75,\n",
    "                       modBase = ['AT', 'TA'], genome = genome, model = mymodel, weight = myweight):\n",
    "    \n",
    "    alignment = getAlignedReads(sam = sam, region = region, genome=genome, print_name=False)\n",
    "    refSeq = alignment['ref']\n",
    "    all_scores, modCounts, modVars = defaultdict(list), defaultdict(list), defaultdict(list)\n",
    "    modPositions = basePos(refSeq, base = modBase)\n",
    "    count = baseCount(refSeq, base = modBase)\n",
    "    \n",
    "    reg = region.split(':')\n",
    "    chrom, pStart, pEnd = reg[0], int(reg[1].split('-')[0]), int(reg[1].split('-')[1])\n",
    "    \n",
    "    bins = np.arange(pStart, pEnd, binSize)\n",
    "    binScores = {bin:0 for bin in bins}\n",
    "    binCounts = {bin:0 for bin in bins}\n",
    "\n",
    "    for readID, eventStart, sigList, siglenList in parseSigAlign(sigAlign):\n",
    "        print(readID)\n",
    "        start_time = time.time()\n",
    "        print('Start processing ', readID)\n",
    "        strand = alignment[readID][1]\n",
    "        \n",
    "        sigLenList_init = pStart-eventStart-1\n",
    "        if sigLenList_init > len(siglenList):\n",
    "            continue\n",
    "        for pos in range(len(refSeq)):\n",
    "            if pos % 500 == 0:\n",
    "                print('Predicting at position:', pos)\n",
    "\n",
    "            # 1. Fetch sequences with kmer window size, this step is optional\n",
    "            seq = refSeq[pos:pos+kmerWindow]\n",
    "            \n",
    "            # 2. Fetch signals with signal window size \n",
    "            signals = fetchSignal(pos, sigLenList_init, siglenList, sigList, signalWindow)\n",
    "            if signals == 'del':\n",
    "                continue\n",
    "            elif signals == 'end':\n",
    "                break\n",
    "            \n",
    "            # 3. Get predicted probability score from machine learning model\n",
    "            prob = nntPredict(signals, device = device, model = model, weights_path = weight)\n",
    "\n",
    "            idx = np.searchsorted(bins, pStart+pos, side='right')\n",
    "            binScores[bins[idx-1]] +=prob\n",
    "            binCounts[bins[idx-1]] +=1                    \n",
    "    return binScores, binCounts\n",
    "\n",
    "def writeBedGraph(bedGraphHeader, binScores, binCounts, binSize, chrom, outfile):\n",
    "    outFh = open(outfile, 'w')\n",
    "    for k,v in bedGraphHeader.items():\n",
    "        if v:\n",
    "            line = k + '=' + v + ' '\n",
    "            outFh.write(line)\n",
    "    outFh.write('\\n')\n",
    "    for chrStart in chrom_binScores.keys():\n",
    "        chrEnd = chrStart + binSize\n",
    "        score = \"%.3f\" % (binScores[chrStart]/binCounts[chrStart])\n",
    "        line = '{chr}\\t{start}\\t{end}\\t{score}\\n'.format(chr = chrom, start = chrStart,  end = chrEnd, score = score)\n",
    "        outFh.write(line)\n",
    "    outFh.close()"
   ]
  },
  {
   "cell_type": "code",
   "execution_count": 106,
   "id": "71364810-b307-4779-af86-a89b77450bc4",
   "metadata": {},
   "outputs": [],
   "source": [
    "bedGraphHeader = {'track type':'bedGraph', \n",
    "                  'name':'chrom bin=75bp', \n",
    "                  'description':'addseq',\n",
    "                  'visibility':'', \n",
    "                  'color':'r', \n",
    "                  'altColor':'r', \n",
    "                  'priority':'', \n",
    "                  'autoScale':'off', \n",
    "                  'alwaysZero':'off', \n",
    "                  'gridDefault':'off', \n",
    "                  'maxHeightPixels':'default', \n",
    "                  'graphType':'bar',\n",
    "                  'viewLimits':'upper',\n",
    "                  'yLineMark':'',\n",
    "                  'yLineOnOff':'on',\n",
    "                  'windowingFunction':'mean',\n",
    "                  'smoothingWindow':'on'\n",
    "                 }"
   ]
  },
  {
   "cell_type": "code",
   "execution_count": null,
   "id": "401e0e66-a672-4999-b88d-f42903162a1b",
   "metadata": {},
   "outputs": [
    {
     "name": "stdout",
     "output_type": "stream",
     "text": [
      "c22b0e4d-d5f7-45db-96dc-ae2e46248e2a\n",
      "Start processing  c22b0e4d-d5f7-45db-96dc-ae2e46248e2a\n",
      "Predicting at position: 0\n",
      "Predicting at position: 500\n",
      "Predicting at position: 1000\n",
      "Predicting at position: 1500\n",
      "cb52cb95-f5e4-4f15-be1a-aa93f7f80dd0\n",
      "Start processing  cb52cb95-f5e4-4f15-be1a-aa93f7f80dd0\n",
      "Predicting at position: 0\n",
      "Predicting at position: 500\n",
      "Predicting at position: 1000\n",
      "Predicting at position: 1500\n",
      "04adb81d-a602-44eb-a4c1-ab3308fff401\n",
      "Start processing  04adb81d-a602-44eb-a4c1-ab3308fff401\n",
      "Predicting at position: 0\n",
      "Predicting at position: 500\n"
     ]
    }
   ],
   "source": [
    "chrom_binScores, chrom_binCounts = exportBedGraph(region = myregion, sam = chrom_bam, sigAlign = sigAlign_CLN2_chrom, binSize = 75)\n",
    "writeBedGraph(bedGraphHeader = bedGraphHeader, binScores = chrom_binScores, binCounts = chrom_binCounts, \n",
    "              binSize =75, chrom = chrom, outfile = '../data/chrom/modPredict/231102_CLN2.bedgraph')"
   ]
  }
 ],
 "metadata": {
  "kernelspec": {
   "display_name": "Python 3 (ipykernel)",
   "language": "python",
   "name": "python3"
  },
  "language_info": {
   "codemirror_mode": {
    "name": "ipython",
    "version": 3
   },
   "file_extension": ".py",
   "mimetype": "text/x-python",
   "name": "python",
   "nbconvert_exporter": "python",
   "pygments_lexer": "ipython3",
   "version": "3.9.18"
  }
 },
 "nbformat": 4,
 "nbformat_minor": 5
}
