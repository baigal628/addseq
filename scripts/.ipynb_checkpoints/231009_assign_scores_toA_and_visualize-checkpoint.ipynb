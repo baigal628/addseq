{
 "cells": [
  {
   "cell_type": "code",
   "execution_count": 19,
   "id": "4ae0c0dd",
   "metadata": {},
   "outputs": [],
   "source": [
    "import numpy as np\n",
    "import bisect\n",
    "import time"
   ]
  },
  {
   "cell_type": "code",
   "execution_count": 67,
   "id": "4eacf810",
   "metadata": {},
   "outputs": [],
   "source": [
    "import matplotlib.patches as mplpatches"
   ]
  },
  {
   "cell_type": "code",
   "execution_count": 1,
   "id": "d1a88d9d",
   "metadata": {},
   "outputs": [],
   "source": [
    "import sys\n",
    "sys.path.insert(0, '/private/groups/brookslab/gabai/tools/seqUtils/src/')\n",
    "import time\n",
    "from seqUtil import *\n",
    "from bamUtil import *\n",
    "from nanoUtil import *\n",
    "from nntUtil import *\n",
    "from modPredict import *\n",
    "import matplotlib.pyplot as plt\n",
    "import seaborn as sns\n",
    "pos_bam = '/private/groups/brookslab/gabai/projects/Add-seq/data/ctrl/mapping/unique.500.pass.sorted.bam'\n",
    "neg_bam = '/private/groups/brookslab/gabai/projects/Add-seq/data/ctrl/mapping/unique.0.pass.sorted.bam'\n",
    "ref = '/private/groups/brookslab/gabai/projects/Add-seq/data/ref/sacCer3.fa'\n",
    "pos_evt = '/private/groups/brookslab/gabai/projects/Add-seq/data/ctrl/eventalign/unique.500.eventalign.tsv'\n",
    "neg_evt = '/private/groups/brookslab/gabai/projects/Add-seq/data/ctrl/eventalign/unique.0.eventalign.tsv'\n",
    "\n",
    "PHO5_pos_sigAlign= '/private/groups/brookslab/gabai/projects/Add-seq/data/ctrl/eventalign/PHO5_pos_chrII:429000-435000siganlAlign.tsv'\n",
    "PHO5_neg_sigAlign= '/private/groups/brookslab/gabai/projects/Add-seq/data/ctrl/eventalign/PHO5_neg_chrII:429000-435000siganlAlign.tsv'"
   ]
  },
  {
   "cell_type": "code",
   "execution_count": 2,
   "id": "2226c165",
   "metadata": {},
   "outputs": [],
   "source": [
    "sigAlignF = PHO5_pos_sigAlign\n",
    "pStart = 429000\n",
    "pEnd = 435000\n",
    "prefix = '231005_PHO5_pos'"
   ]
  },
  {
   "cell_type": "code",
   "execution_count": 5,
   "id": "98072fbd",
   "metadata": {},
   "outputs": [],
   "source": [
    "ref = '/private/groups/brookslab/gabai/projects/Add-seq/data/ref/sacCer3.fa'\n",
    "alignment = getAlignedReads(sam = pos_bam, region = 'chrII:429000-435000', genome=ref, print_name=False)\n",
    "rstrand = {r:s[1] for r, s in alignment.items()}"
   ]
  },
  {
   "cell_type": "code",
   "execution_count": 9,
   "id": "ada659a1",
   "metadata": {},
   "outputs": [],
   "source": [
    "def tune_siganl(sigList, min_val=50, max_val=130):\n",
    "    new_sigList = [max(min_val, min(max_val, float(signal))) for signal in sigList]\n",
    "    return new_sigList"
   ]
  },
  {
   "cell_type": "code",
   "execution_count": null,
   "id": "e44fd496",
   "metadata": {},
   "outputs": [],
   "source": [
    "ADDSEQ_FN = '/private/groups/brookslab/gabai/tools/seqUtils/src/nanopore_classification/best_models/addseq_resnet1d.pt'"
   ]
  },
  {
   "cell_type": "code",
   "execution_count": null,
   "id": "b143604c",
   "metadata": {},
   "outputs": [],
   "source": [
    "start = time.time()\n",
    "for readID, sigList, siglenList, sigStart in parseSigAlign(sigAlign=sigAlignF, pStart=pStart, pEnd=pEnd):\n",
    "    \n",
    "    sigList = tune_siganl(sigList)\n",
    "    modbase = 'A'\n",
    "    print('strand: ', rstrand[readID])\n",
    "    refSeq = alignment['ref']\n",
    "    \n",
    "    # Number of total As\n",
    "    scores = np.zeros(baseCount(seq=seq, base = modbase))\n",
    "    # Position of As, relative to the reference\n",
    "    modPositions = basePos(refSeq, base = modbase)\n",
    "    modScores = {i:[] for i in modPositions}\n",
    "    \n",
    "    for pos in range(len(refSeq)):\n",
    "        \n",
    "        if pos % 500 ==0:\n",
    "            print(pos)\n",
    "        # 1. Get sequences with window size 80, this step can be skipped later\n",
    "        seq = refSeq[pos:pos+kmerWindow]\n",
    "        \n",
    "        # 2. Get signals with window size 400\n",
    "        pStart_sigLenList = sigStart+pos-1\n",
    "        if pStart_sigLenList<0: \n",
    "            start=0\n",
    "        else:\n",
    "            start = int(siglenList[pStart_sigLenList])\n",
    "        end = int(siglenList[sigStart+pos])-1+400\n",
    "        signals = [float(s) for s in sigList[start:end]]\n",
    "#         print(len(signals))\n",
    "        \n",
    "        # 3. Get predicted probability score from machine learning model\n",
    "        prob = nntPredict(signals,device = device, model = resnet1D, weights_path = ADDSEQ_FN)\n",
    "        print(prob)\n",
    "        # 3. Assign predicted scores to each modPosition\n",
    "        for p in range(bisect.bisect_left(modPositions, pos), bisect.bisect_right(modPositions, pos+kmerWindow)):\n",
    "            modPosition = modPositions[p]\n",
    "            modScores[modPosition].append(prob)\n",
    "            if np.any(np.isnan(modScores[modPosition])):\n",
    "                print(prob)\n",
    "                print(signals)\n",
    "                print(modScores[modPosition])\n",
    "                break\n",
    "    break\n",
    "end = time.time()"
   ]
  },
  {
   "cell_type": "code",
   "execution_count": 100,
   "id": "514a3994",
   "metadata": {},
   "outputs": [],
   "source": [
    "outf = open('/private/groups/brookslab/gabai/projects/Add-seq/data/231009_predcied_scores.tsv', 'w')\n",
    "out = '{readID}\\t{pStart}\\t{pEnd}\\t{prob}'.format(readID=readID, pStart=pStart, pEnd=pEnd, prob=str(modScores))\n",
    "outf.write(out)\n",
    "outf.close()"
   ]
  },
  {
   "cell_type": "code",
   "execution_count": 76,
   "id": "c0f812cd",
   "metadata": {},
   "outputs": [
    {
     "data": {
      "image/png": "[encoded data removed]",
      "text/plain": [
       "<Figure size 500x500 with 2 Axes>"
      ]
     },
     "metadata": {},
     "output_type": "display_data"
    }
   ],
   "source": [
    "figureWidth=5\n",
    "figureHeight=5\n",
    "panelWidth=4\n",
    "panelHeight=1.5\n",
    "plt.figure(figsize=(figureWidth,figureHeight))\n",
    "panel1 = plt.axes([0.1/figureWidth,3.3/figureHeight,panelWidth/figureWidth,panelHeight/figureHeight])\n",
    "panel2 = plt.axes([0.1/figureWidth,1.7/figureHeight,panelWidth/figureWidth,panelHeight/figureHeight])\n",
    "panel1.tick_params(bottom=False, labelbottom=False,\n",
    "                   left=False, labelleft=False,\n",
    "                   right=False, labelright=False,\n",
    "                   top=False, labeltop=False)\n",
    "panel2.tick_params(bottom=False, labelbottom=False,\n",
    "                   left=False, labelleft=False,\n",
    "                   right=False, labelright=False,\n",
    "                   top=False, labeltop=False)\n",
    "\n",
    "panel1.set_xlim(pStart, pEnd)\n",
    "panel1.set_ylim(-1,10)\n",
    "\n",
    "bottom = 0\n",
    "height = 1\n",
    "line_width = 0\n",
    "\n",
    "for pos in range(pStart,pEnd):\n",
    "    color = 'Grey'\n",
    "    if pos-pStart in modScores:\n",
    "        if modScores[pos-pStart] > 0.5:\n",
    "            color = 'Red'\n",
    "        else:\n",
    "            color = 'Blue'\n",
    "    rectangle = mplpatches.Rectangle([pos, bottom-(height/\n",
    "                                                   2)], pos+1, height,\n",
    "                                facecolor = color,\n",
    "                                edgecolor = 'black',\n",
    "                                linewidth = line_width)\n",
    "    panel1.add_patch(rectangle)"
   ]
  }
 ],
 "metadata": {
  "kernelspec": {
   "display_name": "Python 3 (ipykernel)",
   "language": "python",
   "name": "python3"
  },
  "language_info": {
   "codemirror_mode": {
    "name": "ipython",
    "version": 3
   },
   "file_extension": ".py",
   "mimetype": "text/x-python",
   "name": "python",
   "nbconvert_exporter": "python",
   "pygments_lexer": "ipython3",
   "version": "3.9.15"
  }
 },
 "nbformat": 4,
 "nbformat_minor": 5
}
