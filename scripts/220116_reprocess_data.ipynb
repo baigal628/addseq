{
 "cells": [
  {
   "cell_type": "code",
   "execution_count": 1,
   "id": "fdc1c863",
   "metadata": {},
   "outputs": [],
   "source": [
    "import sys\n",
    "from tqdm import tqdm"
   ]
  },
  {
   "cell_type": "code",
   "execution_count": 2,
   "id": "3d036bf5",
   "metadata": {},
   "outputs": [
    {
     "name": "stdout",
     "output_type": "stream",
     "text": [
      "../data/addseq_signal_csv/unique.500.eventalign.signal.csv reprocessed-../data/addseq_signal_csv/unique.500.eventalign.signal.csv\n"
     ]
    }
   ],
   "source": [
    "input_filename = \"../data/addseq_signal_csv/unique.500.eventalign.signal.csv\"\n",
    "output_filename = input_filename + 'reprocessed'\n",
    "\n",
    "print(input_filename, output_filename)"
   ]
  },
  {
   "cell_type": "code",
   "execution_count": null,
   "id": "f0ec66a9",
   "metadata": {},
   "outputs": [],
   "source": [
    "with open(input_filename, 'r') as input_file, open(output_filename, 'w') as output_file:\n",
    "    prev_second_val = None\n",
    "    prev_line = None\n",
    "    for line in tqdm(input_file):\n",
    "        first_val, second_val, rest = line.split(',', 2)\n",
    "        if first_val != prev_second_val:\n",
    "            if prev_line is not None:\n",
    "                remaining_prev_vals = prev_line.strip().split(',')[1:]\n",
    "                print(f'FINISHING {len(remaining_prev_vals)}')\n",
    "                for remaining_prev_val in remaining_prev_vals:\n",
    "                    output_file.write(remaining_prev_val + '\\n')\n",
    "            print('START')\n",
    "            output_file.write('START' + '\\n')\n",
    "        prev_second_val = second_val\n",
    "        prev_line = line\n",
    "        output_file.write(first_val + '\\n')\n",
    "\n",
    "print('Done.')"
   ]
  },
  {
   "cell_type": "code",
   "execution_count": 7,
   "id": "e52649ca",
   "metadata": {},
   "outputs": [
    {
     "name": "stderr",
     "output_type": "stream",
     "text": [
      "0it [00:00, ?it/s]"
     ]
    },
    {
     "name": "stdout",
     "output_type": "stream",
     "text": [
      "98.1014 \n",
      " 96.9596 \n",
      " 97.9111,97.9111,98.1014,99.0528,99.0528,97.9111,96.579,95.4372,94.4857,95.6275,94.8663,94.2954,91.8216,92.7731,107.045,107.045,105.142,106.665,106.094,105.333,105.333,104.381,106.284,105.904,104.952,105.523,104.762,101.717,100.195,98.1014,96.3887,95.6275,98.1014,98.6723,98.1014,95.6275,92.9634,93.5343,94.2954,93.344,95.8178,97.1499,100.004,95.6275,94.1051,88.9671,91.441,91.6313,91.2507,89.9186,92.9634,95.6275,102.288,100.575,105.333,102.098,104.001,99.6237,98.8625,101.336,97.3402,95.2469,95.6275,95.6275,97.5305,96.579,96.579,94.2954,96.0081,95.6275,95.8178,96.1984,99.4334,96.1984,98.2917,96.7693,95.4372,93.1537,91.441,100.004,99.814,100.575,100.195,100.004,99.6237,98.6723,100.195,98.1014,98.1014,100.004,98.482,94.4857,95.0566,93.1537,94.676,94.1051,94.4857,97.1499,94.4857,92.7731,95.2469,90.8701,92.7731,90.8701,91.441,91.8216,91.441,97.3402,97.7208,98.6723,96.579,97.1499,97.3402,96.1984,97.3402,98.482,96.1984,92.3925,91.8216,106.474,102.098,104.001,105.333,103.049,105.333,105.904,106.094,100.385,105.333,104.762,100.195,99.2431,95.0566,96.0081,90.8701,97.1499,92.9634,92.5828,91.8216,95.6275,92.3925,91.6313,91.6313,102.478,103.43,102.668,103.81,104.762,101.907,103.049,103.049,102.668,105.142,103.239,104.952,102.668,101.717,100.766,102.098,99.814,96.579,97.1499,96.3887,96.9596,96.7693,98.1014,98.8625,95.6275,91.441,92.5828,94.4857,91.441,91.8216,97.1499,95.6275,97.1499,96.0081,96.7693,94.4857,92.9634,91.8216,91.6313,91.2507,92.5828,95.2469,106.284,105.713,104.381,105.333,104.191,103.43,106.474,98.1014,98.1014,96.7693,95.4372,96.0081,94.8663,96.7693,97.3402,98.1014,96.9596,97.7208,96.0081,98.2917,96.9596,100.004,97.7208,96.579,98.2917,95.8178,95.2469,95.8178,96.3887,96.3887,94.1051,93.344,92.7731,92.0119,91.6313,97.1499,96.0081,96.3887,96.3887,97.7208,92.0119,88.7768,90.8701,90.8701,89.3477,89.7283,90.4895,91.441,102.098,102.478,102.859,102.288,104.001,102.098,101.717,103.81,103.049,101.336,102.478,102.859,100.575,102.478,101.146,101.336,98.2917,97.3402,98.482,97.3402,96.0081,95.6275,92.3925,95.4372,93.5343,92.9634,95.6275,98.1014,100.766,97.1499,101.146,98.6723,102.859,98.6723,99.2431,99.6237,97.3402,99.0528,98.8625,99.0528,99.6237,98.8625,100.575,100.385,101.717,101.527,97.9111,99.4334,98.1014,99.4334,98.6723,99.2431,96.1984,95.4372,94.4857,95.0566,92.9634,92.9634,95.8178,95.0566,92.5828,92.5828,95.2469,94.2954,93.344,94.8663,93.344,95.2469,95.2469,94.8663,93.7245,95.0566,90.6798,99.0528,96.7693,97.5305,95.2469,98.8625,96.7693,92.7731,90.1089,91.2507,89.1574,90.8701,93.1537,92.5828,93.1537,101.527,104.001,101.907,100.766,100.195,104.571,103.239,104.191,100.766,100.385,102.859,100.766,99.6237,100.195,96.7693,96.1984,95.8178,97.5305,95.8178,97.5305,98.1014,97.9111,98.1014,96.0081,96.9596,97.3402,97.5305,96.579,99.2431,96.3887,95.2469,95.6275,95.2469,97.1499,98.482,98.1014,97.3402,100.004,99.4334,98.6723,97.3402,95.6275,95.2469,92.9634,90.4895,90.2992,97.5305,96.9596,95.6275,98.1014,96.9596,98.8625,94.676,95.8178,97.5305,96.0081,96.1984,96.0081,93.1537,92.0119,91.6313,92.2022,91.441,91.2507,93.5343,90.2992,100.385,104.952,104.381,103.62,103.239,101.717,103.239,101.907,103.43,102.098,103.62,102.288\n",
      "\n",
      "['96.9596', '97.9111', '97.9111', '98.1014', '99.0528', '99.0528', '97.9111', '96.579', '95.4372', '94.4857', '95.6275', '94.8663', '94.2954', '91.8216', '92.7731', '107.045', '107.045', '105.142', '106.665', '106.094', '105.333', '105.333', '104.381', '106.284', '105.904', '104.952', '105.523', '104.762', '101.717', '100.195', '98.1014', '96.3887', '95.6275', '98.1014', '98.6723', '98.1014', '95.6275', '92.9634', '93.5343', '94.2954', '93.344', '95.8178', '97.1499', '100.004', '95.6275', '94.1051', '88.9671', '91.441', '91.6313', '91.2507', '89.9186', '92.9634', '95.6275', '102.288', '100.575', '105.333', '102.098', '104.001', '99.6237', '98.8625', '101.336', '97.3402', '95.2469', '95.6275', '95.6275', '97.5305', '96.579', '96.579', '94.2954', '96.0081', '95.6275', '95.8178', '96.1984', '99.4334', '96.1984', '98.2917', '96.7693', '95.4372', '93.1537', '91.441', '100.004', '99.814', '100.575', '100.195', '100.004', '99.6237', '98.6723', '100.195', '98.1014', '98.1014', '100.004', '98.482', '94.4857', '95.0566', '93.1537', '94.676', '94.1051', '94.4857', '97.1499', '94.4857', '92.7731', '95.2469', '90.8701', '92.7731', '90.8701', '91.441', '91.8216', '91.441', '97.3402', '97.7208', '98.6723', '96.579', '97.1499', '97.3402', '96.1984', '97.3402', '98.482', '96.1984', '92.3925', '91.8216', '106.474', '102.098', '104.001', '105.333', '103.049', '105.333', '105.904', '106.094', '100.385', '105.333', '104.762', '100.195', '99.2431', '95.0566', '96.0081', '90.8701', '97.1499', '92.9634', '92.5828', '91.8216', '95.6275', '92.3925', '91.6313', '91.6313', '102.478', '103.43', '102.668', '103.81', '104.762', '101.907', '103.049', '103.049', '102.668', '105.142', '103.239', '104.952', '102.668', '101.717', '100.766', '102.098', '99.814', '96.579', '97.1499', '96.3887', '96.9596', '96.7693', '98.1014', '98.8625', '95.6275', '91.441', '92.5828', '94.4857', '91.441', '91.8216', '97.1499', '95.6275', '97.1499', '96.0081', '96.7693', '94.4857', '92.9634', '91.8216', '91.6313', '91.2507', '92.5828', '95.2469', '106.284', '105.713', '104.381', '105.333', '104.191', '103.43', '106.474', '98.1014', '98.1014', '96.7693', '95.4372', '96.0081', '94.8663', '96.7693', '97.3402', '98.1014', '96.9596', '97.7208', '96.0081', '98.2917', '96.9596', '100.004', '97.7208', '96.579', '98.2917', '95.8178', '95.2469', '95.8178', '96.3887', '96.3887', '94.1051', '93.344', '92.7731', '92.0119', '91.6313', '97.1499', '96.0081', '96.3887', '96.3887', '97.7208', '92.0119', '88.7768', '90.8701', '90.8701', '89.3477', '89.7283', '90.4895', '91.441', '102.098', '102.478', '102.859', '102.288', '104.001', '102.098', '101.717', '103.81', '103.049', '101.336', '102.478', '102.859', '100.575', '102.478', '101.146', '101.336', '98.2917', '97.3402', '98.482', '97.3402', '96.0081', '95.6275', '92.3925', '95.4372', '93.5343', '92.9634', '95.6275', '98.1014', '100.766', '97.1499', '101.146', '98.6723', '102.859', '98.6723', '99.2431', '99.6237', '97.3402', '99.0528', '98.8625', '99.0528', '99.6237', '98.8625', '100.575', '100.385', '101.717', '101.527', '97.9111', '99.4334', '98.1014', '99.4334', '98.6723', '99.2431', '96.1984', '95.4372', '94.4857', '95.0566', '92.9634', '92.9634', '95.8178', '95.0566', '92.5828', '92.5828', '95.2469', '94.2954', '93.344', '94.8663', '93.344', '95.2469', '95.2469', '94.8663', '93.7245', '95.0566', '90.6798', '99.0528', '96.7693', '97.5305', '95.2469', '98.8625', '96.7693', '92.7731', '90.1089', '91.2507', '89.1574', '90.8701', '93.1537', '92.5828', '93.1537', '101.527', '104.001', '101.907', '100.766', '100.195', '104.571', '103.239', '104.191', '100.766', '100.385', '102.859', '100.766', '99.6237', '100.195', '96.7693', '96.1984', '95.8178', '97.5305', '95.8178', '97.5305', '98.1014', '97.9111', '98.1014', '96.0081', '96.9596', '97.3402', '97.5305', '96.579', '99.2431', '96.3887', '95.2469', '95.6275', '95.2469', '97.1499', '98.482', '98.1014', '97.3402', '100.004', '99.4334', '98.6723', '97.3402', '95.6275', '95.2469', '92.9634', '90.4895', '90.2992', '97.5305', '96.9596', '95.6275', '98.1014', '96.9596', '98.8625', '94.676', '95.8178', '97.5305', '96.0081', '96.1984', '96.0081', '93.1537', '92.0119', '91.6313', '92.2022', '91.441', '91.2507', '93.5343', '90.2992', '100.385', '104.952', '104.381', '103.62', '103.239', '101.717', '103.239', '101.907', '103.43', '102.098', '103.62', '102.288']\n",
      "FINISHING 399\n"
     ]
    },
    {
     "name": "stderr",
     "output_type": "stream",
     "text": [
      "\n"
     ]
    }
   ],
   "source": [
    "with open(input_filename, 'r') as input_file:\n",
    "    prev_second_val = None\n",
    "    prev_line = None\n",
    "    for line in tqdm(input_file):\n",
    "        first_val, second_val, rest = line.split(',', 2)\n",
    "        if first_val != prev_second_val:\n",
    "            if prev_line is not None:\n",
    "                remaining_prev_vals = prev_line.strip().split(',')[1:]\n",
    "                print(f'FINISHING {len(remaining_prev_vals)}')\n",
    "                for remaining_prev_val in remaining_prev_vals:\n",
    "        #print(first_val,\"\\n\",second_val, \"\\n\",rest)\n",
    "        #print(len(first_val), len(second_val), len(rest))\n",
    "        print(remain)\n",
    "        print(f'FINISHING {len(remain)}')\n",
    "        break"
   ]
  },
  {
   "cell_type": "code",
   "execution_count": null,
   "id": "aae201b3",
   "metadata": {},
   "outputs": [],
   "source": []
  },
  {
   "cell_type": "code",
   "execution_count": 10,
   "id": "d30007c0",
   "metadata": {
    "scrolled": false
   },
   "outputs": [
    {
     "name": "stderr",
     "output_type": "stream",
     "text": [
      "41997it [00:00, 216486.39it/s]"
     ]
    },
    {
     "name": "stdout",
     "output_type": "stream",
     "text": [
      "START\n"
     ]
    },
    {
     "name": "stderr",
     "output_type": "stream",
     "text": [
      "166372it [00:00, 245962.39it/s]"
     ]
    },
    {
     "name": "stdout",
     "output_type": "stream",
     "text": [
      "FINISHING 399\n",
      "START\n",
      "FINISHING 399\n",
      "START\n"
     ]
    },
    {
     "name": "stderr",
     "output_type": "stream",
     "text": [
      "240456it [00:01, 246829.09it/s]"
     ]
    },
    {
     "name": "stdout",
     "output_type": "stream",
     "text": [
      "FINISHING 399\n",
      "START\n",
      "FINISHING 399\n",
      "START\n"
     ]
    },
    {
     "name": "stderr",
     "output_type": "stream",
     "text": [
      "315201it [00:01, 248417.69it/s]"
     ]
    },
    {
     "name": "stdout",
     "output_type": "stream",
     "text": [
      "FINISHING 399\n",
      "START\n"
     ]
    },
    {
     "name": "stderr",
     "output_type": "stream",
     "text": [
      "365085it [00:01, 248518.17it/s]"
     ]
    },
    {
     "name": "stdout",
     "output_type": "stream",
     "text": [
      "FINISHING 399\n",
      "START\n"
     ]
    },
    {
     "name": "stderr",
     "output_type": "stream",
     "text": [
      "439809it [00:01, 248952.69it/s]"
     ]
    },
    {
     "name": "stdout",
     "output_type": "stream",
     "text": [
      "FINISHING 399\n",
      "START\n",
      "FINISHING 399\n",
      "START\n",
      "FINISHING 399\n",
      "START\n"
     ]
    },
    {
     "name": "stderr",
     "output_type": "stream",
     "text": [
      "535442it [00:02, 226125.12it/s]"
     ]
    },
    {
     "name": "stdout",
     "output_type": "stream",
     "text": [
      "FINISHING 399\n",
      "START\n"
     ]
    },
    {
     "name": "stderr",
     "output_type": "stream",
     "text": [
      "791128it [00:03, 221172.49it/s]"
     ]
    },
    {
     "name": "stdout",
     "output_type": "stream",
     "text": [
      "FINISHING 399\n",
      "START\n",
      "FINISHING 399\n",
      "START\n"
     ]
    },
    {
     "name": "stderr",
     "output_type": "stream",
     "text": [
      "883780it [00:03, 222998.48it/s]"
     ]
    },
    {
     "name": "stdout",
     "output_type": "stream",
     "text": [
      "FINISHING 399\n",
      "START\n"
     ]
    },
    {
     "name": "stderr",
     "output_type": "stream",
     "text": [
      "956893it [00:04, 236620.75it/s]"
     ]
    },
    {
     "name": "stdout",
     "output_type": "stream",
     "text": [
      "FINISHING 399\n",
      "START\n",
      "FINISHING 399\n",
      "START\n"
     ]
    },
    {
     "name": "stderr",
     "output_type": "stream",
     "text": [
      "1178914it [00:04, 245453.74it/s]"
     ]
    },
    {
     "name": "stdout",
     "output_type": "stream",
     "text": [
      "FINISHING 399\n",
      "START\n"
     ]
    },
    {
     "name": "stderr",
     "output_type": "stream",
     "text": [
      "1302866it [00:05, 247134.57it/s]"
     ]
    },
    {
     "name": "stdout",
     "output_type": "stream",
     "text": [
      "FINISHING 399\n",
      "START\n",
      "FINISHING 399\n",
      "START\n",
      "FINISHING 399\n",
      "START\n"
     ]
    },
    {
     "name": "stderr",
     "output_type": "stream",
     "text": [
      "1401459it [00:05, 244588.27it/s]"
     ]
    },
    {
     "name": "stdout",
     "output_type": "stream",
     "text": [
      "FINISHING 399\n",
      "START\n"
     ]
    },
    {
     "name": "stderr",
     "output_type": "stream",
     "text": [
      "1646340it [00:06, 242876.26it/s]"
     ]
    },
    {
     "name": "stdout",
     "output_type": "stream",
     "text": [
      "FINISHING 399\n",
      "START\n",
      "FINISHING 399\n",
      "START\n"
     ]
    },
    {
     "name": "stderr",
     "output_type": "stream",
     "text": [
      "1719347it [00:07, 242979.36it/s]"
     ]
    },
    {
     "name": "stdout",
     "output_type": "stream",
     "text": [
      "FINISHING 399\n",
      "START\n"
     ]
    },
    {
     "name": "stderr",
     "output_type": "stream",
     "text": [
      "1792383it [00:07, 241720.26it/s]"
     ]
    },
    {
     "name": "stdout",
     "output_type": "stream",
     "text": [
      "FINISHING 399\n",
      "START\n",
      "FINISHING 399\n",
      "START\n",
      "FINISHING 399\n",
      "START\n",
      "FINISHING 399\n",
      "START\n"
     ]
    },
    {
     "name": "stderr",
     "output_type": "stream",
     "text": [
      "1841974it [00:07, 244951.09it/s]"
     ]
    },
    {
     "name": "stdout",
     "output_type": "stream",
     "text": [
      "FINISHING 399\n",
      "START\n"
     ]
    },
    {
     "name": "stderr",
     "output_type": "stream",
     "text": [
      "1942693it [00:08, 250567.45it/s]"
     ]
    },
    {
     "name": "stdout",
     "output_type": "stream",
     "text": [
      "FINISHING 399\n",
      "START\n",
      "FINISHING 399\n",
      "START\n"
     ]
    },
    {
     "name": "stderr",
     "output_type": "stream",
     "text": [
      "1992731it [00:08, 248849.45it/s]"
     ]
    },
    {
     "name": "stdout",
     "output_type": "stream",
     "text": [
      "FINISHING 399\n",
      "START\n",
      "FINISHING 399\n",
      "START\n"
     ]
    },
    {
     "name": "stderr",
     "output_type": "stream",
     "text": [
      "2093742it [00:08, 252311.94it/s]"
     ]
    },
    {
     "name": "stdout",
     "output_type": "stream",
     "text": [
      "FINISHING 399\n",
      "START\n"
     ]
    },
    {
     "name": "stderr",
     "output_type": "stream",
     "text": [
      "2144130it [00:08, 250412.19it/s]"
     ]
    },
    {
     "name": "stdout",
     "output_type": "stream",
     "text": [
      "FINISHING 399\n",
      "START\n",
      "FINISHING 399\n",
      "START\n"
     ]
    },
    {
     "name": "stderr",
     "output_type": "stream",
     "text": [
      "2194281it [00:09, 249402.02it/s]"
     ]
    },
    {
     "name": "stdout",
     "output_type": "stream",
     "text": [
      "FINISHING 399\n",
      "START\n"
     ]
    },
    {
     "name": "stderr",
     "output_type": "stream",
     "text": [
      "2269185it [00:09, 249319.74it/s]"
     ]
    },
    {
     "name": "stdout",
     "output_type": "stream",
     "text": [
      "FINISHING 399\n",
      "START\n",
      "FINISHING 399\n",
      "START\n",
      "FINISHING 399\n",
      "START\n",
      "FINISHING 399\n",
      "START\n",
      "FINISHING 399\n",
      "START\n"
     ]
    },
    {
     "name": "stderr",
     "output_type": "stream",
     "text": [
      "2419828it [00:09, 246433.43it/s]"
     ]
    },
    {
     "name": "stdout",
     "output_type": "stream",
     "text": [
      "FINISHING 399\n",
      "START\n",
      "FINISHING 399\n",
      "START\n",
      "FINISHING 399\n",
      "START\n"
     ]
    },
    {
     "name": "stderr",
     "output_type": "stream",
     "text": [
      "2468452it [00:10, 228057.84it/s]"
     ]
    },
    {
     "name": "stdout",
     "output_type": "stream",
     "text": [
      "FINISHING 399\n",
      "START\n",
      "FINISHING 399\n",
      "START\n"
     ]
    },
    {
     "name": "stderr",
     "output_type": "stream",
     "text": [
      "2544175it [00:10, 243587.86it/s]"
     ]
    },
    {
     "name": "stdout",
     "output_type": "stream",
     "text": [
      "FINISHING 399\n",
      "START\n",
      "FINISHING 399\n",
      "START\n",
      "FINISHING 399\n",
      "START\n"
     ]
    },
    {
     "name": "stderr",
     "output_type": "stream",
     "text": [
      "2619947it [00:10, 249642.20it/s]"
     ]
    },
    {
     "name": "stdout",
     "output_type": "stream",
     "text": [
      "FINISHING 399\n",
      "START\n"
     ]
    },
    {
     "name": "stderr",
     "output_type": "stream",
     "text": [
      "2720868it [00:11, 251020.61it/s]"
     ]
    },
    {
     "name": "stdout",
     "output_type": "stream",
     "text": [
      "FINISHING 399\n",
      "START\n"
     ]
    },
    {
     "name": "stderr",
     "output_type": "stream",
     "text": [
      "2868619it [00:11, 241918.51it/s]"
     ]
    },
    {
     "name": "stdout",
     "output_type": "stream",
     "text": [
      "FINISHING 399\n",
      "START\n",
      "FINISHING 399\n",
      "START\n",
      "FINISHING 399\n",
      "START\n"
     ]
    },
    {
     "name": "stderr",
     "output_type": "stream",
     "text": [
      "2942718it [00:12, 245554.46it/s]"
     ]
    },
    {
     "name": "stdout",
     "output_type": "stream",
     "text": [
      "FINISHING 399\n",
      "START\n",
      "FINISHING 399\n",
      "START\n",
      "FINISHING 399\n",
      "START\n"
     ]
    },
    {
     "name": "stderr",
     "output_type": "stream",
     "text": [
      "3017218it [00:12, 247482.16it/s]"
     ]
    },
    {
     "name": "stdout",
     "output_type": "stream",
     "text": [
      "FINISHING 399\n",
      "START\n",
      "FINISHING 399\n",
      "START\n",
      "FINISHING 399\n",
      "START\n"
     ]
    },
    {
     "name": "stderr",
     "output_type": "stream",
     "text": [
      "3066494it [00:12, 243373.49it/s]"
     ]
    },
    {
     "name": "stdout",
     "output_type": "stream",
     "text": [
      "FINISHING 399\n",
      "START\n",
      "FINISHING 399\n",
      "START\n",
      "FINISHING 399\n",
      "START\n"
     ]
    },
    {
     "name": "stderr",
     "output_type": "stream",
     "text": [
      "3166660it [00:13, 248729.41it/s]"
     ]
    },
    {
     "name": "stdout",
     "output_type": "stream",
     "text": [
      "FINISHING 399\n",
      "START\n",
      "FINISHING 399\n",
      "START\n"
     ]
    },
    {
     "name": "stderr",
     "output_type": "stream",
     "text": [
      "3341978it [00:13, 250315.34it/s]"
     ]
    },
    {
     "name": "stdout",
     "output_type": "stream",
     "text": [
      "FINISHING 399\n",
      "START\n",
      "FINISHING 399\n",
      "START\n",
      "FINISHING 399\n",
      "START\n",
      "FINISHING 399\n",
      "START\n"
     ]
    },
    {
     "name": "stderr",
     "output_type": "stream",
     "text": [
      "3392326it [00:13, 251090.89it/s]"
     ]
    },
    {
     "name": "stdout",
     "output_type": "stream",
     "text": [
      "FINISHING 399\n",
      "START\n",
      "FINISHING 399\n",
      "START\n",
      "FINISHING 399\n",
      "START\n",
      "FINISHING 399\n",
      "START\n"
     ]
    },
    {
     "name": "stderr",
     "output_type": "stream",
     "text": [
      "3518703it [00:14, 253002.54it/s]"
     ]
    },
    {
     "name": "stdout",
     "output_type": "stream",
     "text": [
      "FINISHING 399\n",
      "START\n",
      "FINISHING 399\n",
      "START\n"
     ]
    },
    {
     "name": "stderr",
     "output_type": "stream",
     "text": [
      "3569436it [00:14, 253365.38it/s]"
     ]
    },
    {
     "name": "stdout",
     "output_type": "stream",
     "text": [
      "FINISHING 399\n",
      "START\n",
      "FINISHING 399\n",
      "START\n",
      "FINISHING 399\n",
      "START\n",
      "FINISHING 399\n",
      "START\n"
     ]
    },
    {
     "name": "stderr",
     "output_type": "stream",
     "text": [
      "3620366it [00:14, 253323.10it/s]"
     ]
    },
    {
     "name": "stdout",
     "output_type": "stream",
     "text": [
      "FINISHING 399\n",
      "START\n",
      "FINISHING 399\n",
      "START\n",
      "FINISHING 399\n",
      "START\n"
     ]
    },
    {
     "name": "stderr",
     "output_type": "stream",
     "text": [
      "3696709it [00:15, 252471.50it/s]"
     ]
    },
    {
     "name": "stdout",
     "output_type": "stream",
     "text": [
      "FINISHING 399\n",
      "START\n",
      "FINISHING 399\n",
      "START\n"
     ]
    },
    {
     "name": "stderr",
     "output_type": "stream",
     "text": [
      "3748026it [00:15, 254877.29it/s]"
     ]
    },
    {
     "name": "stdout",
     "output_type": "stream",
     "text": [
      "FINISHING 399\n",
      "START\n",
      "FINISHING 399\n",
      "START\n",
      "FINISHING 399\n",
      "START\n",
      "FINISHING 399\n",
      "START\n",
      "FINISHING 399\n",
      "START\n",
      "FINISHING 399\n",
      "START\n",
      "FINISHING 399\n",
      "START\n"
     ]
    },
    {
     "name": "stderr",
     "output_type": "stream",
     "text": [
      "3900262it [00:15, 247067.53it/s]"
     ]
    },
    {
     "name": "stdout",
     "output_type": "stream",
     "text": [
      "FINISHING 399\n",
      "START\n",
      "FINISHING 399\n",
      "START\n",
      "FINISHING 399\n",
      "START\n",
      "FINISHING 399\n",
      "START\n",
      "FINISHING 399\n",
      "START\n",
      "FINISHING 399\n",
      "START\n"
     ]
    },
    {
     "name": "stderr",
     "output_type": "stream",
     "text": [
      "3949241it [00:16, 239750.25it/s]"
     ]
    },
    {
     "name": "stdout",
     "output_type": "stream",
     "text": [
      "FINISHING 399\n",
      "START\n"
     ]
    },
    {
     "name": "stderr",
     "output_type": "stream",
     "text": [
      "4044406it [00:16, 234596.92it/s]"
     ]
    },
    {
     "name": "stdout",
     "output_type": "stream",
     "text": [
      "FINISHING 399\n",
      "START\n",
      "FINISHING 399\n",
      "START\n",
      "FINISHING 399\n",
      "START\n"
     ]
    },
    {
     "name": "stderr",
     "output_type": "stream",
     "text": [
      "4206683it [00:17, 228325.22it/s]"
     ]
    },
    {
     "name": "stdout",
     "output_type": "stream",
     "text": [
      "FINISHING 399\n",
      "START\n",
      "FINISHING 399\n",
      "START\n"
     ]
    },
    {
     "name": "stderr",
     "output_type": "stream",
     "text": [
      "4321549it [00:17, 228055.86it/s]"
     ]
    },
    {
     "name": "stdout",
     "output_type": "stream",
     "text": [
      "FINISHING 399\n",
      "START\n"
     ]
    },
    {
     "name": "stderr",
     "output_type": "stream",
     "text": [
      "4367306it [00:18, 214579.72it/s]"
     ]
    },
    {
     "name": "stdout",
     "output_type": "stream",
     "text": [
      "FINISHING 399\n",
      "START\n",
      "FINISHING 399\n",
      "START\n"
     ]
    },
    {
     "name": "stderr",
     "output_type": "stream",
     "text": [
      "4436738it [00:18, 225617.38it/s]"
     ]
    },
    {
     "name": "stdout",
     "output_type": "stream",
     "text": [
      "FINISHING 399\n",
      "START\n"
     ]
    },
    {
     "name": "stderr",
     "output_type": "stream",
     "text": [
      "4552927it [00:18, 229246.69it/s]"
     ]
    },
    {
     "name": "stdout",
     "output_type": "stream",
     "text": [
      "FINISHING 399\n",
      "START\n",
      "FINISHING 399\n",
      "START\n",
      "FINISHING 399\n",
      "START\n",
      "FINISHING 399\n",
      "START\n",
      "FINISHING 399\n",
      "START\n"
     ]
    },
    {
     "name": "stderr",
     "output_type": "stream",
     "text": [
      "4598834it [00:19, 229241.15it/s]"
     ]
    },
    {
     "name": "stdout",
     "output_type": "stream",
     "text": [
      "FINISHING 399\n",
      "START\n",
      "FINISHING 399\n",
      "START\n"
     ]
    },
    {
     "name": "stderr",
     "output_type": "stream",
     "text": [
      "4667964it [00:19, 229799.83it/s]"
     ]
    },
    {
     "name": "stdout",
     "output_type": "stream",
     "text": [
      "FINISHING 399\n",
      "START\n",
      "FINISHING 399\n",
      "START\n",
      "FINISHING 399\n",
      "START\n",
      "FINISHING 399\n",
      "START\n",
      "FINISHING 399\n",
      "START\n",
      "FINISHING 399\n",
      "START\n"
     ]
    },
    {
     "name": "stderr",
     "output_type": "stream",
     "text": [
      "4737819it [00:19, 232251.68it/s]"
     ]
    },
    {
     "name": "stdout",
     "output_type": "stream",
     "text": [
      "FINISHING 399\n",
      "START\n",
      "FINISHING 399\n",
      "START\n",
      "FINISHING 399\n",
      "START\n",
      "FINISHING 399\n",
      "START\n"
     ]
    },
    {
     "name": "stderr",
     "output_type": "stream",
     "text": [
      "4830769it [00:20, 231164.77it/s]"
     ]
    },
    {
     "name": "stdout",
     "output_type": "stream",
     "text": [
      "FINISHING 399\n",
      "START\n",
      "FINISHING 399\n",
      "START\n"
     ]
    },
    {
     "name": "stderr",
     "output_type": "stream",
     "text": [
      "4900491it [00:20, 232162.55it/s]"
     ]
    },
    {
     "name": "stdout",
     "output_type": "stream",
     "text": [
      "FINISHING 399\n",
      "START\n",
      "FINISHING 399\n",
      "START\n"
     ]
    },
    {
     "name": "stderr",
     "output_type": "stream",
     "text": [
      "4946804it [00:20, 230186.62it/s]"
     ]
    },
    {
     "name": "stdout",
     "output_type": "stream",
     "text": [
      "FINISHING 399\n",
      "START\n",
      "FINISHING 399\n",
      "START\n",
      "FINISHING 399\n",
      "START\n",
      "FINISHING 399\n",
      "START\n",
      "FINISHING 399\n",
      "START\n"
     ]
    },
    {
     "name": "stderr",
     "output_type": "stream",
     "text": [
      "5182418it [00:21, 236538.29it/s]"
     ]
    },
    {
     "name": "stdout",
     "output_type": "stream",
     "text": [
      "FINISHING 399\n",
      "START\n",
      "FINISHING 399\n",
      "START\n",
      "FINISHING 399\n",
      "START\n",
      "FINISHING 399\n",
      "START\n",
      "FINISHING 399\n",
      "START\n",
      "FINISHING 399\n",
      "START\n"
     ]
    },
    {
     "name": "stderr",
     "output_type": "stream",
     "text": [
      "5253988it [00:21, 238134.17it/s]"
     ]
    },
    {
     "name": "stdout",
     "output_type": "stream",
     "text": [
      "FINISHING 399\n",
      "START\n"
     ]
    },
    {
     "name": "stderr",
     "output_type": "stream",
     "text": [
      "5349338it [00:22, 236896.46it/s]"
     ]
    },
    {
     "name": "stdout",
     "output_type": "stream",
     "text": [
      "FINISHING 399\n",
      "START\n",
      "FINISHING 399\n",
      "START\n",
      "FINISHING 399\n",
      "START\n"
     ]
    },
    {
     "name": "stderr",
     "output_type": "stream",
     "text": [
      "5396681it [00:22, 236424.63it/s]"
     ]
    },
    {
     "name": "stdout",
     "output_type": "stream",
     "text": [
      "FINISHING 399\n",
      "START\n",
      "FINISHING 399\n",
      "START\n",
      "FINISHING 399\n",
      "START\n",
      "FINISHING 399\n",
      "START\n"
     ]
    },
    {
     "name": "stderr",
     "output_type": "stream",
     "text": [
      "5444097it [00:22, 236357.71it/s]"
     ]
    },
    {
     "name": "stdout",
     "output_type": "stream",
     "text": [
      "FINISHING 399\n",
      "START\n",
      "FINISHING 399\n",
      "START\n",
      "FINISHING 399\n",
      "START\n",
      "FINISHING 399\n",
      "START\n",
      "FINISHING 399\n",
      "START\n"
     ]
    },
    {
     "name": "stderr",
     "output_type": "stream",
     "text": [
      "5511263it [00:23, 208003.89it/s]"
     ]
    },
    {
     "name": "stdout",
     "output_type": "stream",
     "text": [
      "FINISHING 399\n",
      "START\n",
      "FINISHING 399\n",
      "START\n",
      "FINISHING 399\n",
      "START\n",
      "FINISHING 399\n",
      "START\n",
      "FINISHING 399\n",
      "START\n"
     ]
    },
    {
     "name": "stderr",
     "output_type": "stream",
     "text": [
      "5575297it [00:23, 209560.52it/s]"
     ]
    },
    {
     "name": "stdout",
     "output_type": "stream",
     "text": [
      "FINISHING 399\n",
      "START\n"
     ]
    },
    {
     "name": "stderr",
     "output_type": "stream",
     "text": [
      "5767298it [00:24, 207843.31it/s]"
     ]
    },
    {
     "name": "stdout",
     "output_type": "stream",
     "text": [
      "FINISHING 399\n",
      "START\n",
      "FINISHING 399\n",
      "START\n",
      "FINISHING 399\n",
      "START\n"
     ]
    },
    {
     "name": "stderr",
     "output_type": "stream",
     "text": [
      "5831774it [00:24, 211923.09it/s]"
     ]
    },
    {
     "name": "stdout",
     "output_type": "stream",
     "text": [
      "FINISHING 399\n",
      "START\n",
      "FINISHING 399\n",
      "START\n",
      "FINISHING 399\n",
      "START\n",
      "FINISHING 399\n",
      "START\n"
     ]
    },
    {
     "name": "stderr",
     "output_type": "stream",
     "text": [
      "5961104it [00:25, 210762.32it/s]"
     ]
    },
    {
     "name": "stdout",
     "output_type": "stream",
     "text": [
      "FINISHING 399\n",
      "START\n",
      "FINISHING 399\n",
      "START\n",
      "FINISHING 399\n",
      "START\n",
      "FINISHING 399\n",
      "START\n",
      "FINISHING 399\n",
      "START\n"
     ]
    },
    {
     "name": "stderr",
     "output_type": "stream",
     "text": [
      "6024383it [00:25, 209078.14it/s]"
     ]
    },
    {
     "name": "stdout",
     "output_type": "stream",
     "text": [
      "FINISHING 399\n",
      "START\n"
     ]
    },
    {
     "name": "stderr",
     "output_type": "stream",
     "text": [
      "6089259it [00:25, 214973.01it/s]"
     ]
    },
    {
     "name": "stdout",
     "output_type": "stream",
     "text": [
      "FINISHING 399\n",
      "START\n",
      "FINISHING 399\n",
      "START\n",
      "FINISHING 399\n",
      "START\n",
      "FINISHING 399\n",
      "START\n"
     ]
    },
    {
     "name": "stderr",
     "output_type": "stream",
     "text": [
      "6175772it [00:26, 212589.93it/s]"
     ]
    },
    {
     "name": "stdout",
     "output_type": "stream",
     "text": [
      "FINISHING 399\n",
      "START\n",
      "FINISHING 399\n",
      "START\n",
      "FINISHING 399\n",
      "START\n",
      "FINISHING 399\n",
      "START\n"
     ]
    },
    {
     "name": "stderr",
     "output_type": "stream",
     "text": [
      "6218472it [00:26, 213020.33it/s]"
     ]
    },
    {
     "name": "stdout",
     "output_type": "stream",
     "text": [
      "FINISHING 399\n",
      "START\n",
      "FINISHING 399\n",
      "START\n",
      "FINISHING 399\n",
      "START\n"
     ]
    },
    {
     "name": "stderr",
     "output_type": "stream",
     "text": [
      "6261854it [00:26, 213958.84it/s]"
     ]
    },
    {
     "name": "stdout",
     "output_type": "stream",
     "text": [
      "FINISHING 399\n",
      "START\n"
     ]
    },
    {
     "name": "stderr",
     "output_type": "stream",
     "text": [
      "6304704it [00:26, 206614.52it/s]"
     ]
    },
    {
     "name": "stdout",
     "output_type": "stream",
     "text": [
      "FINISHING 399\n",
      "START\n"
     ]
    },
    {
     "name": "stderr",
     "output_type": "stream",
     "text": [
      "6348709it [00:27, 210634.76it/s]"
     ]
    },
    {
     "name": "stdout",
     "output_type": "stream",
     "text": [
      "FINISHING 399\n",
      "START\n",
      "FINISHING 399\n",
      "START\n",
      "FINISHING 399\n",
      "START\n"
     ]
    },
    {
     "name": "stderr",
     "output_type": "stream",
     "text": [
      "6390149it [00:27, 145597.80it/s]"
     ]
    },
    {
     "name": "stdout",
     "output_type": "stream",
     "text": [
      "FINISHING 399\n",
      "START\n",
      "FINISHING 399\n",
      "START\n"
     ]
    },
    {
     "name": "stderr",
     "output_type": "stream",
     "text": [
      "6508441it [00:28, 185895.25it/s]"
     ]
    },
    {
     "name": "stdout",
     "output_type": "stream",
     "text": [
      "FINISHING 399\n",
      "START\n",
      "FINISHING 399\n",
      "START\n",
      "FINISHING 399\n",
      "START\n",
      "FINISHING 399\n",
      "START\n"
     ]
    },
    {
     "name": "stderr",
     "output_type": "stream",
     "text": [
      "6567238it [00:28, 139291.09it/s]"
     ]
    },
    {
     "name": "stdout",
     "output_type": "stream",
     "text": [
      "FINISHING 399\n",
      "START\n"
     ]
    },
    {
     "name": "stderr",
     "output_type": "stream",
     "text": [
      "6606173it [00:28, 162278.18it/s]"
     ]
    },
    {
     "name": "stdout",
     "output_type": "stream",
     "text": [
      "FINISHING 399\n",
      "START\n",
      "FINISHING 399\n",
      "START\n",
      "FINISHING 399\n",
      "START\n"
     ]
    },
    {
     "name": "stderr",
     "output_type": "stream",
     "text": [
      "6662514it [00:29, 178152.21it/s]"
     ]
    },
    {
     "name": "stdout",
     "output_type": "stream",
     "text": [
      "FINISHING 399\n",
      "START\n"
     ]
    },
    {
     "name": "stderr",
     "output_type": "stream",
     "text": [
      "6721431it [00:29, 190076.59it/s]"
     ]
    },
    {
     "name": "stdout",
     "output_type": "stream",
     "text": [
      "FINISHING 399\n",
      "START\n",
      "FINISHING 399\n",
      "START\n",
      "FINISHING 399\n",
      "START\n",
      "FINISHING 399\n",
      "START\n"
     ]
    },
    {
     "name": "stderr",
     "output_type": "stream",
     "text": [
      "6807434it [00:29, 205844.78it/s]"
     ]
    },
    {
     "name": "stdout",
     "output_type": "stream",
     "text": [
      "FINISHING 399\n",
      "START\n",
      "FINISHING 399\n",
      "START\n",
      "FINISHING 399\n",
      "START\n",
      "FINISHING 399\n",
      "START\n"
     ]
    },
    {
     "name": "stderr",
     "output_type": "stream",
     "text": [
      "6927005it [00:30, 177434.66it/s]"
     ]
    },
    {
     "name": "stdout",
     "output_type": "stream",
     "text": [
      "FINISHING 399\n",
      "START\n",
      "FINISHING 399\n",
      "START\n"
     ]
    },
    {
     "name": "stderr",
     "output_type": "stream",
     "text": [
      "6971928it [00:30, 198964.13it/s]"
     ]
    },
    {
     "name": "stdout",
     "output_type": "stream",
     "text": [
      "FINISHING 399\n",
      "START\n",
      "FINISHING 399\n",
      "START\n",
      "FINISHING 399\n",
      "START\n"
     ]
    },
    {
     "name": "stderr",
     "output_type": "stream",
     "text": [
      "7015906it [00:30, 198030.68it/s]"
     ]
    },
    {
     "name": "stdout",
     "output_type": "stream",
     "text": [
      "FINISHING 399\n",
      "START\n",
      "FINISHING 399\n",
      "START\n"
     ]
    },
    {
     "name": "stderr",
     "output_type": "stream",
     "text": [
      "7324481it [00:33, 131543.32it/s]"
     ]
    },
    {
     "name": "stdout",
     "output_type": "stream",
     "text": [
      "FINISHING 399\n",
      "START\n"
     ]
    },
    {
     "name": "stderr",
     "output_type": "stream",
     "text": [
      "7465856it [00:34, 140492.08it/s]"
     ]
    },
    {
     "name": "stdout",
     "output_type": "stream",
     "text": [
      "FINISHING 399\n",
      "START\n",
      "FINISHING 399\n",
      "START\n",
      "FINISHING 399\n",
      "START\n"
     ]
    },
    {
     "name": "stderr",
     "output_type": "stream",
     "text": [
      "7522014it [00:35, 139643.09it/s]"
     ]
    },
    {
     "name": "stdout",
     "output_type": "stream",
     "text": [
      "FINISHING 399\n",
      "START\n",
      "FINISHING 399\n",
      "START\n"
     ]
    },
    {
     "name": "stderr",
     "output_type": "stream",
     "text": [
      "\r",
      "7544314it [00:35, 159059.63it/s]"
     ]
    },
    {
     "name": "stdout",
     "output_type": "stream",
     "text": [
      "FINISHING 399\n",
      "START\n"
     ]
    },
    {
     "name": "stderr",
     "output_type": "stream",
     "text": [
      "7627767it [00:35, 167382.85it/s]"
     ]
    },
    {
     "name": "stdout",
     "output_type": "stream",
     "text": [
      "FINISHING 399\n",
      "START\n",
      "FINISHING 399\n",
      "START\n",
      "FINISHING 399\n",
      "START\n"
     ]
    },
    {
     "name": "stderr",
     "output_type": "stream",
     "text": [
      "7694652it [00:36, 200529.59it/s]"
     ]
    },
    {
     "name": "stdout",
     "output_type": "stream",
     "text": [
      "FINISHING 399\n",
      "START\n",
      "FINISHING 399\n",
      "START\n",
      "FINISHING 399\n",
      "START\n"
     ]
    },
    {
     "name": "stderr",
     "output_type": "stream",
     "text": [
      "7779386it [00:36, 206952.89it/s]"
     ]
    },
    {
     "name": "stdout",
     "output_type": "stream",
     "text": [
      "FINISHING 399\n",
      "START\n",
      "FINISHING 399\n",
      "START\n",
      "FINISHING 399\n",
      "START\n",
      "FINISHING 399\n",
      "START\n"
     ]
    },
    {
     "name": "stderr",
     "output_type": "stream",
     "text": [
      "\r",
      "7800386it [00:36, 195409.02it/s]"
     ]
    },
    {
     "name": "stdout",
     "output_type": "stream",
     "text": [
      "FINISHING 399\n",
      "START\n",
      "FINISHING 399\n",
      "START\n",
      "FINISHING 399\n",
      "START\n"
     ]
    },
    {
     "name": "stderr",
     "output_type": "stream",
     "text": [
      "7880880it [00:37, 198042.21it/s]"
     ]
    },
    {
     "name": "stdout",
     "output_type": "stream",
     "text": [
      "FINISHING 399\n",
      "START\n",
      "FINISHING 399\n",
      "START\n",
      "FINISHING 399\n",
      "START\n",
      "FINISHING 399\n",
      "START\n"
     ]
    },
    {
     "name": "stderr",
     "output_type": "stream",
     "text": [
      "7923812it [00:37, 205244.78it/s]"
     ]
    },
    {
     "name": "stdout",
     "output_type": "stream",
     "text": [
      "FINISHING 399\n",
      "START\n",
      "FINISHING 399\n",
      "START\n"
     ]
    },
    {
     "name": "stderr",
     "output_type": "stream",
     "text": [
      "8011639it [00:37, 202827.17it/s]"
     ]
    },
    {
     "name": "stdout",
     "output_type": "stream",
     "text": [
      "FINISHING 399\n",
      "START\n"
     ]
    },
    {
     "name": "stderr",
     "output_type": "stream",
     "text": [
      "8122789it [00:38, 217967.74it/s]"
     ]
    },
    {
     "name": "stdout",
     "output_type": "stream",
     "text": [
      "FINISHING 399\n",
      "START\n",
      "FINISHING 399\n",
      "START\n"
     ]
    },
    {
     "name": "stderr",
     "output_type": "stream",
     "text": [
      "8167791it [00:38, 218368.03it/s]"
     ]
    },
    {
     "name": "stdout",
     "output_type": "stream",
     "text": [
      "FINISHING 399\n",
      "START\n",
      "FINISHING 399\n",
      "START\n",
      "FINISHING 399\n",
      "START\n"
     ]
    },
    {
     "name": "stderr",
     "output_type": "stream",
     "text": [
      "8212866it [00:38, 220301.16it/s]"
     ]
    },
    {
     "name": "stdout",
     "output_type": "stream",
     "text": [
      "FINISHING 399\n",
      "START\n",
      "FINISHING 399\n",
      "START\n",
      "FINISHING 399\n",
      "START\n"
     ]
    },
    {
     "name": "stderr",
     "output_type": "stream",
     "text": [
      "8390848it [00:39, 217642.89it/s]"
     ]
    },
    {
     "name": "stdout",
     "output_type": "stream",
     "text": [
      "FINISHING 399\n",
      "START\n"
     ]
    },
    {
     "name": "stderr",
     "output_type": "stream",
     "text": [
      "8433735it [00:39, 200115.57it/s]"
     ]
    },
    {
     "name": "stdout",
     "output_type": "stream",
     "text": [
      "FINISHING 399\n",
      "START\n",
      "FINISHING 399\n",
      "START\n",
      "FINISHING 399\n",
      "START\n"
     ]
    },
    {
     "name": "stderr",
     "output_type": "stream",
     "text": [
      "8491525it [00:40, 133926.11it/s]"
     ]
    },
    {
     "name": "stdout",
     "output_type": "stream",
     "text": [
      "FINISHING 399\n",
      "START\n"
     ]
    },
    {
     "name": "stderr",
     "output_type": "stream",
     "text": [
      "8579314it [00:40, 148469.83it/s]"
     ]
    },
    {
     "name": "stdout",
     "output_type": "stream",
     "text": [
      "FINISHING 399\n",
      "START\n"
     ]
    },
    {
     "name": "stderr",
     "output_type": "stream",
     "text": [
      "8701323it [00:41, 188994.94it/s]"
     ]
    },
    {
     "name": "stdout",
     "output_type": "stream",
     "text": [
      "FINISHING 399\n",
      "START\n"
     ]
    },
    {
     "name": "stderr",
     "output_type": "stream",
     "text": [
      "8816870it [00:42, 184948.37it/s]"
     ]
    },
    {
     "name": "stdout",
     "output_type": "stream",
     "text": [
      "FINISHING 399\n",
      "START\n"
     ]
    },
    {
     "name": "stderr",
     "output_type": "stream",
     "text": [
      "8974037it [00:42, 174157.87it/s]"
     ]
    },
    {
     "name": "stdout",
     "output_type": "stream",
     "text": [
      "FINISHING 399\n",
      "START\n",
      "FINISHING 399\n",
      "START\n"
     ]
    },
    {
     "name": "stderr",
     "output_type": "stream",
     "text": [
      "9015816it [00:43, 191501.44it/s]"
     ]
    },
    {
     "name": "stdout",
     "output_type": "stream",
     "text": [
      "FINISHING 399\n",
      "START\n",
      "FINISHING 399\n",
      "START\n",
      "FINISHING 399\n",
      "START\n",
      "FINISHING 399\n",
      "START\n",
      "FINISHING 399\n",
      "START\n",
      "FINISHING 399\n",
      "START\n"
     ]
    },
    {
     "name": "stderr",
     "output_type": "stream",
     "text": [
      "9083609it [00:43, 214373.54it/s]"
     ]
    },
    {
     "name": "stdout",
     "output_type": "stream",
     "text": [
      "FINISHING 399\n",
      "START\n"
     ]
    },
    {
     "name": "stderr",
     "output_type": "stream",
     "text": [
      "9238473it [00:44, 213821.55it/s]"
     ]
    },
    {
     "name": "stdout",
     "output_type": "stream",
     "text": [
      "FINISHING 399\n",
      "START\n"
     ]
    },
    {
     "name": "stderr",
     "output_type": "stream",
     "text": [
      "9304603it [00:44, 213844.45it/s]"
     ]
    },
    {
     "name": "stdout",
     "output_type": "stream",
     "text": [
      "FINISHING 399\n",
      "START\n",
      "FINISHING 399\n",
      "START\n",
      "FINISHING 399\n",
      "START\n",
      "FINISHING 399\n",
      "START\n"
     ]
    },
    {
     "name": "stderr",
     "output_type": "stream",
     "text": [
      "9373136it [00:44, 223206.71it/s]"
     ]
    },
    {
     "name": "stdout",
     "output_type": "stream",
     "text": [
      "FINISHING 399\n",
      "START\n",
      "FINISHING 399\n",
      "START\n"
     ]
    },
    {
     "name": "stderr",
     "output_type": "stream",
     "text": [
      "9418347it [00:45, 162070.58it/s]"
     ]
    },
    {
     "name": "stdout",
     "output_type": "stream",
     "text": [
      "FINISHING 399\n",
      "START\n"
     ]
    },
    {
     "name": "stderr",
     "output_type": "stream",
     "text": [
      "9506800it [00:45, 203268.15it/s]"
     ]
    },
    {
     "name": "stdout",
     "output_type": "stream",
     "text": [
      "FINISHING 399\n",
      "START\n"
     ]
    },
    {
     "name": "stderr",
     "output_type": "stream",
     "text": [
      "9571167it [00:45, 208153.63it/s]"
     ]
    },
    {
     "name": "stdout",
     "output_type": "stream",
     "text": [
      "FINISHING 399\n",
      "START\n",
      "FINISHING 399\n",
      "START\n",
      "FINISHING 399\n",
      "START\n"
     ]
    },
    {
     "name": "stderr",
     "output_type": "stream",
     "text": [
      "9748219it [00:46, 222376.09it/s]"
     ]
    },
    {
     "name": "stdout",
     "output_type": "stream",
     "text": [
      "FINISHING 399\n",
      "START\n",
      "FINISHING 399\n",
      "START\n"
     ]
    },
    {
     "name": "stderr",
     "output_type": "stream",
     "text": [
      "9792901it [00:46, 222243.16it/s]"
     ]
    },
    {
     "name": "stdout",
     "output_type": "stream",
     "text": [
      "FINISHING 399\n",
      "START\n",
      "FINISHING 399\n",
      "START\n",
      "FINISHING 399\n",
      "START\n"
     ]
    },
    {
     "name": "stderr",
     "output_type": "stream",
     "text": [
      "9923411it [00:47, 206830.35it/s]"
     ]
    },
    {
     "name": "stdout",
     "output_type": "stream",
     "text": [
      "FINISHING 399\n",
      "START\n"
     ]
    },
    {
     "name": "stderr",
     "output_type": "stream",
     "text": [
      "9984967it [00:47, 202713.28it/s]"
     ]
    },
    {
     "name": "stdout",
     "output_type": "stream",
     "text": [
      "FINISHING 399\n",
      "START\n"
     ]
    },
    {
     "name": "stderr",
     "output_type": "stream",
     "text": [
      "10067612it [00:48, 204867.64it/s]"
     ]
    },
    {
     "name": "stdout",
     "output_type": "stream",
     "text": [
      "FINISHING 399\n",
      "START\n",
      "FINISHING 399\n",
      "START\n"
     ]
    },
    {
     "name": "stderr",
     "output_type": "stream",
     "text": [
      "10130261it [00:48, 200709.21it/s]"
     ]
    },
    {
     "name": "stdout",
     "output_type": "stream",
     "text": [
      "FINISHING 399\n",
      "START\n"
     ]
    },
    {
     "name": "stderr",
     "output_type": "stream",
     "text": [
      "10216174it [00:48, 210676.43it/s]"
     ]
    },
    {
     "name": "stdout",
     "output_type": "stream",
     "text": [
      "FINISHING 399\n",
      "START\n"
     ]
    },
    {
     "name": "stderr",
     "output_type": "stream",
     "text": [
      "10438618it [00:51, 149824.20it/s]"
     ]
    },
    {
     "name": "stdout",
     "output_type": "stream",
     "text": [
      "FINISHING 399\n",
      "START\n",
      "FINISHING 399\n",
      "START\n",
      "FINISHING 399\n",
      "START\n",
      "FINISHING 399\n",
      "START\n"
     ]
    },
    {
     "name": "stderr",
     "output_type": "stream",
     "text": [
      "10498051it [00:51, 178748.25it/s]"
     ]
    },
    {
     "name": "stdout",
     "output_type": "stream",
     "text": [
      "FINISHING 399\n",
      "START\n",
      "FINISHING 399\n",
      "START\n",
      "FINISHING 399\n",
      "START\n"
     ]
    },
    {
     "name": "stderr",
     "output_type": "stream",
     "text": [
      "10582365it [00:51, 189016.06it/s]"
     ]
    },
    {
     "name": "stdout",
     "output_type": "stream",
     "text": [
      "FINISHING 399\n",
      "START\n",
      "FINISHING 399\n",
      "START\n"
     ]
    },
    {
     "name": "stderr",
     "output_type": "stream",
     "text": [
      "10714234it [00:52, 157620.76it/s]"
     ]
    },
    {
     "name": "stdout",
     "output_type": "stream",
     "text": [
      "FINISHING 399\n",
      "START\n",
      "FINISHING 399\n",
      "START\n",
      "FINISHING 399\n",
      "START\n"
     ]
    },
    {
     "name": "stderr",
     "output_type": "stream",
     "text": [
      "10895188it [00:53, 215751.53it/s]"
     ]
    },
    {
     "name": "stdout",
     "output_type": "stream",
     "text": [
      "FINISHING 399\n",
      "START\n",
      "FINISHING 399\n",
      "START\n",
      "FINISHING 399\n",
      "START\n"
     ]
    },
    {
     "name": "stderr",
     "output_type": "stream",
     "text": [
      "10939448it [00:53, 218088.34it/s]"
     ]
    },
    {
     "name": "stdout",
     "output_type": "stream",
     "text": [
      "FINISHING 399\n",
      "START\n"
     ]
    },
    {
     "name": "stderr",
     "output_type": "stream",
     "text": [
      "10984428it [00:53, 214574.08it/s]"
     ]
    },
    {
     "name": "stdout",
     "output_type": "stream",
     "text": [
      "FINISHING 399\n",
      "START\n",
      "FINISHING 399\n",
      "START\n",
      "FINISHING 399\n",
      "START\n",
      "FINISHING 399\n",
      "START\n",
      "FINISHING 399\n",
      "START\n",
      "FINISHING 399\n",
      "START\n"
     ]
    },
    {
     "name": "stderr",
     "output_type": "stream",
     "text": [
      "11142451it [00:54, 225348.80it/s]"
     ]
    },
    {
     "name": "stdout",
     "output_type": "stream",
     "text": [
      "FINISHING 399\n",
      "START\n"
     ]
    },
    {
     "name": "stderr",
     "output_type": "stream",
     "text": [
      "11229783it [00:54, 210378.15it/s]"
     ]
    },
    {
     "name": "stdout",
     "output_type": "stream",
     "text": [
      "FINISHING 399\n",
      "START\n"
     ]
    },
    {
     "name": "stderr",
     "output_type": "stream",
     "text": [
      "11407151it [00:55, 221556.36it/s]"
     ]
    },
    {
     "name": "stdout",
     "output_type": "stream",
     "text": [
      "FINISHING 399\n",
      "START\n",
      "FINISHING 399\n",
      "START\n"
     ]
    },
    {
     "name": "stderr",
     "output_type": "stream",
     "text": [
      "11497409it [00:56, 217393.25it/s]"
     ]
    },
    {
     "name": "stdout",
     "output_type": "stream",
     "text": [
      "FINISHING 399\n",
      "START\n",
      "FINISHING 399\n",
      "START\n",
      "FINISHING 399\n",
      "START\n",
      "FINISHING 399\n",
      "START\n",
      "FINISHING 399\n",
      "START\n",
      "FINISHING 399\n",
      "START\n"
     ]
    },
    {
     "name": "stderr",
     "output_type": "stream",
     "text": [
      "11615916it [00:58, 80748.14it/s] "
     ]
    },
    {
     "name": "stdout",
     "output_type": "stream",
     "text": [
      "FINISHING 399\n",
      "START\n"
     ]
    },
    {
     "name": "stderr",
     "output_type": "stream",
     "text": [
      "11732261it [00:59, 167524.29it/s]"
     ]
    },
    {
     "name": "stdout",
     "output_type": "stream",
     "text": [
      "FINISHING 399\n",
      "START\n",
      "FINISHING 399\n",
      "START\n"
     ]
    },
    {
     "name": "stderr",
     "output_type": "stream",
     "text": [
      "11835461it [00:59, 200832.85it/s]"
     ]
    },
    {
     "name": "stdout",
     "output_type": "stream",
     "text": [
      "FINISHING 399\n",
      "START\n"
     ]
    },
    {
     "name": "stderr",
     "output_type": "stream",
     "text": [
      "11896410it [01:00, 180732.47it/s]"
     ]
    },
    {
     "name": "stdout",
     "output_type": "stream",
     "text": [
      "FINISHING 399\n",
      "START\n"
     ]
    },
    {
     "name": "stderr",
     "output_type": "stream",
     "text": [
      "11937225it [01:00, 192548.00it/s]"
     ]
    },
    {
     "name": "stdout",
     "output_type": "stream",
     "text": [
      "FINISHING 399\n",
      "START\n",
      "FINISHING 399\n",
      "START\n"
     ]
    },
    {
     "name": "stderr",
     "output_type": "stream",
     "text": [
      "11976427it [01:00, 192719.15it/s]"
     ]
    },
    {
     "name": "stdout",
     "output_type": "stream",
     "text": [
      "FINISHING 399\n",
      "START\n",
      "FINISHING 399\n",
      "START\n",
      "FINISHING 399\n",
      "START\n",
      "FINISHING 399\n",
      "START\n"
     ]
    },
    {
     "name": "stderr",
     "output_type": "stream",
     "text": [
      "12021195it [01:00, 208178.41it/s]"
     ]
    },
    {
     "name": "stdout",
     "output_type": "stream",
     "text": [
      "FINISHING 399\n",
      "START\n",
      "FINISHING 399\n",
      "START\n",
      "FINISHING 399\n",
      "START\n"
     ]
    },
    {
     "name": "stderr",
     "output_type": "stream",
     "text": [
      "12110497it [01:01, 173662.93it/s]"
     ]
    },
    {
     "name": "stdout",
     "output_type": "stream",
     "text": [
      "FINISHING 399\n",
      "START\n",
      "FINISHING 399\n",
      "START\n",
      "FINISHING 399\n",
      "START\n",
      "FINISHING 399\n",
      "START\n"
     ]
    },
    {
     "name": "stderr",
     "output_type": "stream",
     "text": [
      "12195936it [01:01, 189138.40it/s]"
     ]
    },
    {
     "name": "stdout",
     "output_type": "stream",
     "text": [
      "FINISHING 399\n",
      "START\n",
      "FINISHING 399\n",
      "START\n"
     ]
    },
    {
     "name": "stderr",
     "output_type": "stream",
     "text": [
      "12310877it [01:02, 136589.99it/s]"
     ]
    },
    {
     "name": "stdout",
     "output_type": "stream",
     "text": [
      "FINISHING 399\n",
      "START\n",
      "FINISHING 399\n",
      "START\n"
     ]
    },
    {
     "name": "stderr",
     "output_type": "stream",
     "text": [
      "12384169it [01:03, 165888.72it/s]"
     ]
    },
    {
     "name": "stdout",
     "output_type": "stream",
     "text": [
      "FINISHING 399\n",
      "START\n",
      "FINISHING 399\n",
      "START\n"
     ]
    },
    {
     "name": "stderr",
     "output_type": "stream",
     "text": [
      "12491728it [01:03, 175414.63it/s]"
     ]
    },
    {
     "name": "stdout",
     "output_type": "stream",
     "text": [
      "FINISHING 399\n",
      "START\n",
      "FINISHING 399\n",
      "START\n",
      "FINISHING 399\n",
      "START\n"
     ]
    },
    {
     "name": "stderr",
     "output_type": "stream",
     "text": [
      "12610557it [01:04, 196776.19it/s]"
     ]
    },
    {
     "name": "stdout",
     "output_type": "stream",
     "text": [
      "FINISHING 399\n",
      "START\n",
      "FINISHING 399\n",
      "START\n"
     ]
    },
    {
     "name": "stderr",
     "output_type": "stream",
     "text": [
      "12670213it [01:04, 196596.47it/s]"
     ]
    },
    {
     "name": "stdout",
     "output_type": "stream",
     "text": [
      "FINISHING 399\n",
      "START\n",
      "FINISHING 399\n",
      "START\n",
      "FINISHING 399\n",
      "START\n"
     ]
    },
    {
     "name": "stderr",
     "output_type": "stream",
     "text": [
      "12753334it [01:05, 205480.18it/s]"
     ]
    },
    {
     "name": "stdout",
     "output_type": "stream",
     "text": [
      "FINISHING 399\n",
      "START\n"
     ]
    },
    {
     "name": "stderr",
     "output_type": "stream",
     "text": [
      "12914282it [01:05, 190313.70it/s]"
     ]
    },
    {
     "name": "stdout",
     "output_type": "stream",
     "text": [
      "FINISHING 399\n",
      "START\n",
      "FINISHING 399\n",
      "START\n"
     ]
    },
    {
     "name": "stderr",
     "output_type": "stream",
     "text": [
      "12953561it [01:06, 192997.81it/s]"
     ]
    },
    {
     "name": "stdout",
     "output_type": "stream",
     "text": [
      "FINISHING 399\n",
      "START\n",
      "FINISHING 399\n",
      "START\n",
      "FINISHING 399\n",
      "START\n",
      "FINISHING 399\n",
      "START\n"
     ]
    },
    {
     "name": "stderr",
     "output_type": "stream",
     "text": [
      "\r",
      "12972923it [01:06, 150013.82it/s]"
     ]
    },
    {
     "name": "stdout",
     "output_type": "stream",
     "text": [
      "FINISHING 399\n",
      "START\n"
     ]
    },
    {
     "name": "stderr",
     "output_type": "stream",
     "text": [
      "13036472it [01:06, 187888.91it/s]"
     ]
    },
    {
     "name": "stdout",
     "output_type": "stream",
     "text": [
      "FINISHING 399\n",
      "START\n"
     ]
    },
    {
     "name": "stderr",
     "output_type": "stream",
     "text": [
      "13079647it [01:06, 200591.37it/s]"
     ]
    },
    {
     "name": "stdout",
     "output_type": "stream",
     "text": [
      "FINISHING 399\n",
      "START\n"
     ]
    },
    {
     "name": "stderr",
     "output_type": "stream",
     "text": [
      "13166656it [01:07, 214155.65it/s]"
     ]
    },
    {
     "name": "stdout",
     "output_type": "stream",
     "text": [
      "FINISHING 399\n",
      "START\n",
      "FINISHING 399\n",
      "START\n"
     ]
    },
    {
     "name": "stderr",
     "output_type": "stream",
     "text": [
      "13252172it [01:07, 211476.17it/s]"
     ]
    },
    {
     "name": "stdout",
     "output_type": "stream",
     "text": [
      "FINISHING 399\n",
      "START\n",
      "FINISHING 399\n",
      "START\n",
      "FINISHING 399\n",
      "START\n"
     ]
    },
    {
     "name": "stderr",
     "output_type": "stream",
     "text": [
      "13337073it [01:08, 207745.02it/s]"
     ]
    },
    {
     "name": "stdout",
     "output_type": "stream",
     "text": [
      "FINISHING 399\n",
      "START\n",
      "FINISHING 399\n",
      "START\n"
     ]
    },
    {
     "name": "stderr",
     "output_type": "stream",
     "text": [
      "13398307it [01:08, 198765.79it/s]"
     ]
    },
    {
     "name": "stdout",
     "output_type": "stream",
     "text": [
      "FINISHING 399\n",
      "START\n",
      "FINISHING 399\n",
      "START\n",
      "FINISHING 399\n",
      "START\n"
     ]
    },
    {
     "name": "stderr",
     "output_type": "stream",
     "text": [
      "13475795it [01:08, 190532.07it/s]"
     ]
    },
    {
     "name": "stdout",
     "output_type": "stream",
     "text": [
      "FINISHING 399\n",
      "START\n",
      "FINISHING 399\n",
      "START\n"
     ]
    },
    {
     "name": "stderr",
     "output_type": "stream",
     "text": [
      "13533193it [01:09, 187471.92it/s]"
     ]
    },
    {
     "name": "stdout",
     "output_type": "stream",
     "text": [
      "FINISHING 399\n",
      "START\n",
      "FINISHING 399\n",
      "START\n"
     ]
    },
    {
     "name": "stderr",
     "output_type": "stream",
     "text": [
      "13592148it [01:09, 194124.75it/s]"
     ]
    },
    {
     "name": "stdout",
     "output_type": "stream",
     "text": [
      "FINISHING 399\n",
      "START\n",
      "FINISHING 399\n",
      "START\n",
      "FINISHING 399\n",
      "START\n"
     ]
    },
    {
     "name": "stderr",
     "output_type": "stream",
     "text": [
      "13691398it [01:09, 189055.72it/s]"
     ]
    },
    {
     "name": "stdout",
     "output_type": "stream",
     "text": [
      "FINISHING 399\n",
      "START\n"
     ]
    },
    {
     "name": "stderr",
     "output_type": "stream",
     "text": [
      "13769531it [01:10, 190151.86it/s]"
     ]
    },
    {
     "name": "stdout",
     "output_type": "stream",
     "text": [
      "FINISHING 399\n",
      "START\n",
      "FINISHING 399\n",
      "START\n",
      "FINISHING 399\n",
      "START\n"
     ]
    },
    {
     "name": "stderr",
     "output_type": "stream",
     "text": [
      "13826900it [01:10, 184363.89it/s]"
     ]
    },
    {
     "name": "stdout",
     "output_type": "stream",
     "text": [
      "FINISHING 399\n",
      "START\n",
      "FINISHING 399\n",
      "START\n",
      "FINISHING 399\n",
      "START\n",
      "FINISHING 399\n",
      "START\n",
      "FINISHING 399\n",
      "START\n"
     ]
    },
    {
     "name": "stderr",
     "output_type": "stream",
     "text": [
      "13867349it [01:10, 193556.43it/s]"
     ]
    },
    {
     "name": "stdout",
     "output_type": "stream",
     "text": [
      "FINISHING 399\n",
      "START\n"
     ]
    },
    {
     "name": "stderr",
     "output_type": "stream",
     "text": [
      "14029207it [01:11, 198740.47it/s]"
     ]
    },
    {
     "name": "stdout",
     "output_type": "stream",
     "text": [
      "FINISHING 399\n",
      "START\n"
     ]
    },
    {
     "name": "stderr",
     "output_type": "stream",
     "text": [
      "14130562it [01:12, 182544.71it/s]"
     ]
    },
    {
     "name": "stdout",
     "output_type": "stream",
     "text": [
      "FINISHING 399\n",
      "START\n",
      "FINISHING 399\n",
      "START\n"
     ]
    },
    {
     "name": "stderr",
     "output_type": "stream",
     "text": [
      "14195050it [01:12, 204733.68it/s]"
     ]
    },
    {
     "name": "stdout",
     "output_type": "stream",
     "text": [
      "FINISHING 399\n",
      "START\n",
      "FINISHING 399\n",
      "START\n",
      "FINISHING 399\n",
      "START\n",
      "FINISHING 399\n",
      "START\n",
      "FINISHING 399\n",
      "START\n"
     ]
    },
    {
     "name": "stderr",
     "output_type": "stream",
     "text": [
      "14263076it [01:12, 219704.93it/s]"
     ]
    },
    {
     "name": "stdout",
     "output_type": "stream",
     "text": [
      "FINISHING 399\n",
      "START\n"
     ]
    },
    {
     "name": "stderr",
     "output_type": "stream",
     "text": [
      "14468721it [01:13, 223489.38it/s]"
     ]
    },
    {
     "name": "stdout",
     "output_type": "stream",
     "text": [
      "FINISHING 399\n",
      "START\n",
      "FINISHING 399\n",
      "START\n",
      "FINISHING 399\n",
      "START\n"
     ]
    },
    {
     "name": "stderr",
     "output_type": "stream",
     "text": [
      "14638283it [01:15, 117688.65it/s]"
     ]
    },
    {
     "name": "stdout",
     "output_type": "stream",
     "text": [
      "FINISHING 399\n",
      "START\n",
      "FINISHING 399\n",
      "START\n"
     ]
    },
    {
     "name": "stderr",
     "output_type": "stream",
     "text": [
      "14682398it [01:15, 155790.24it/s]"
     ]
    },
    {
     "name": "stdout",
     "output_type": "stream",
     "text": [
      "FINISHING 399\n",
      "START\n",
      "FINISHING 399\n",
      "START\n",
      "FINISHING 399\n",
      "START\n",
      "FINISHING 399\n",
      "START\n"
     ]
    },
    {
     "name": "stderr",
     "output_type": "stream",
     "text": [
      "14751313it [01:16, 198929.26it/s]"
     ]
    },
    {
     "name": "stdout",
     "output_type": "stream",
     "text": [
      "FINISHING 399\n",
      "START\n",
      "FINISHING 399\n",
      "START\n"
     ]
    },
    {
     "name": "stderr",
     "output_type": "stream",
     "text": [
      "14818913it [01:16, 215772.89it/s]"
     ]
    },
    {
     "name": "stdout",
     "output_type": "stream",
     "text": [
      "FINISHING 399\n",
      "START\n",
      "FINISHING 399\n",
      "START\n",
      "FINISHING 399\n",
      "START\n"
     ]
    },
    {
     "name": "stderr",
     "output_type": "stream",
     "text": [
      "14863857it [01:16, 220047.05it/s]"
     ]
    },
    {
     "name": "stdout",
     "output_type": "stream",
     "text": [
      "FINISHING 399\n",
      "START\n",
      "FINISHING 399\n",
      "START\n"
     ]
    },
    {
     "name": "stderr",
     "output_type": "stream",
     "text": [
      "15097593it [01:18, 120048.62it/s]"
     ]
    },
    {
     "name": "stdout",
     "output_type": "stream",
     "text": [
      "FINISHING 399\n",
      "START\n",
      "FINISHING 399\n",
      "START\n",
      "FINISHING 399\n",
      "START\n",
      "FINISHING 399\n",
      "START\n",
      "FINISHING 399\n",
      "START\n"
     ]
    },
    {
     "name": "stderr",
     "output_type": "stream",
     "text": [
      "15152685it [01:19, 127998.36it/s]"
     ]
    },
    {
     "name": "stdout",
     "output_type": "stream",
     "text": [
      "FINISHING 399\n",
      "START\n"
     ]
    },
    {
     "name": "stderr",
     "output_type": "stream",
     "text": [
      "15207139it [01:19, 128854.78it/s]"
     ]
    },
    {
     "name": "stdout",
     "output_type": "stream",
     "text": [
      "FINISHING 399\n",
      "START\n",
      "FINISHING 399\n",
      "START\n"
     ]
    },
    {
     "name": "stderr",
     "output_type": "stream",
     "text": [
      "15455626it [01:21, 210180.74it/s]"
     ]
    },
    {
     "name": "stdout",
     "output_type": "stream",
     "text": [
      "FINISHING 399\n",
      "START\n",
      "FINISHING 399\n",
      "START\n"
     ]
    },
    {
     "name": "stderr",
     "output_type": "stream",
     "text": [
      "15499916it [01:21, 215950.31it/s]"
     ]
    },
    {
     "name": "stdout",
     "output_type": "stream",
     "text": [
      "FINISHING 399\n",
      "START\n"
     ]
    },
    {
     "name": "stderr",
     "output_type": "stream",
     "text": [
      "15541565it [01:22, 102161.67it/s]"
     ]
    },
    {
     "name": "stdout",
     "output_type": "stream",
     "text": [
      "FINISHING 399\n",
      "START\n"
     ]
    },
    {
     "name": "stderr",
     "output_type": "stream",
     "text": [
      "15594548it [01:22, 118328.93it/s]"
     ]
    },
    {
     "name": "stdout",
     "output_type": "stream",
     "text": [
      "FINISHING 399\n",
      "START\n"
     ]
    },
    {
     "name": "stderr",
     "output_type": "stream",
     "text": [
      "15639684it [01:22, 160107.42it/s]"
     ]
    },
    {
     "name": "stdout",
     "output_type": "stream",
     "text": [
      "FINISHING 399\n",
      "START\n",
      "FINISHING 399\n",
      "START\n"
     ]
    },
    {
     "name": "stderr",
     "output_type": "stream",
     "text": [
      "\r",
      "15661593it [01:22, 174590.67it/s]"
     ]
    },
    {
     "name": "stdout",
     "output_type": "stream",
     "text": [
      "FINISHING 399\n",
      "START\n",
      "FINISHING 399\n",
      "START\n",
      "FINISHING 399\n",
      "START\n"
     ]
    },
    {
     "name": "stderr",
     "output_type": "stream",
     "text": [
      "15745936it [01:23, 187526.44it/s]"
     ]
    },
    {
     "name": "stdout",
     "output_type": "stream",
     "text": [
      "FINISHING 399\n",
      "START\n"
     ]
    },
    {
     "name": "stderr",
     "output_type": "stream",
     "text": [
      "15824233it [01:23, 186169.87it/s]"
     ]
    },
    {
     "name": "stdout",
     "output_type": "stream",
     "text": [
      "FINISHING 399\n",
      "START\n",
      "FINISHING 399\n",
      "START\n",
      "FINISHING 399\n",
      "START\n",
      "FINISHING 399\n",
      "START\n"
     ]
    },
    {
     "name": "stderr",
     "output_type": "stream",
     "text": [
      "15864084it [01:23, 191161.95it/s]"
     ]
    },
    {
     "name": "stdout",
     "output_type": "stream",
     "text": [
      "FINISHING 399\n",
      "START\n"
     ]
    },
    {
     "name": "stderr",
     "output_type": "stream",
     "text": [
      "15905386it [01:24, 198345.80it/s]"
     ]
    },
    {
     "name": "stdout",
     "output_type": "stream",
     "text": [
      "FINISHING 399\n",
      "START\n"
     ]
    },
    {
     "name": "stderr",
     "output_type": "stream",
     "text": [
      "16146091it [01:26, 138761.75it/s]"
     ]
    },
    {
     "name": "stdout",
     "output_type": "stream",
     "text": [
      "FINISHING 399\n",
      "START\n",
      "FINISHING 399\n",
      "START\n"
     ]
    },
    {
     "name": "stderr",
     "output_type": "stream",
     "text": [
      "16188325it [01:26, 157463.73it/s]"
     ]
    },
    {
     "name": "stdout",
     "output_type": "stream",
     "text": [
      "FINISHING 399\n",
      "START\n"
     ]
    },
    {
     "name": "stderr",
     "output_type": "stream",
     "text": [
      "16243664it [01:27, 115440.05it/s]"
     ]
    },
    {
     "name": "stdout",
     "output_type": "stream",
     "text": [
      "FINISHING 399\n",
      "START\n"
     ]
    },
    {
     "name": "stderr",
     "output_type": "stream",
     "text": [
      "16485580it [01:29, 136803.04it/s]"
     ]
    },
    {
     "name": "stdout",
     "output_type": "stream",
     "text": [
      "FINISHING 399\n",
      "START\n"
     ]
    },
    {
     "name": "stderr",
     "output_type": "stream",
     "text": [
      "16628499it [01:30, 197213.34it/s]"
     ]
    },
    {
     "name": "stdout",
     "output_type": "stream",
     "text": [
      "FINISHING 399\n",
      "START\n"
     ]
    },
    {
     "name": "stderr",
     "output_type": "stream",
     "text": [
      "16670030it [01:30, 195947.66it/s]"
     ]
    },
    {
     "name": "stdout",
     "output_type": "stream",
     "text": [
      "FINISHING 399\n",
      "START\n"
     ]
    },
    {
     "name": "stderr",
     "output_type": "stream",
     "text": [
      "16795388it [01:31, 176983.67it/s]"
     ]
    },
    {
     "name": "stdout",
     "output_type": "stream",
     "text": [
      "FINISHING 399\n",
      "START\n",
      "FINISHING 399\n",
      "START\n",
      "FINISHING 399\n",
      "START\n",
      "FINISHING 399\n",
      "START\n"
     ]
    },
    {
     "name": "stderr",
     "output_type": "stream",
     "text": [
      "16878598it [01:31, 199952.41it/s]"
     ]
    },
    {
     "name": "stdout",
     "output_type": "stream",
     "text": [
      "FINISHING 399\n",
      "START\n",
      "FINISHING 399\n",
      "START\n"
     ]
    },
    {
     "name": "stderr",
     "output_type": "stream",
     "text": [
      "16959772it [01:31, 189620.14it/s]"
     ]
    },
    {
     "name": "stdout",
     "output_type": "stream",
     "text": [
      "FINISHING 399\n",
      "START\n",
      "FINISHING 399\n",
      "START\n",
      "FINISHING 399\n",
      "START\n",
      "FINISHING 399\n",
      "START\n"
     ]
    },
    {
     "name": "stderr",
     "output_type": "stream",
     "text": [
      "17023230it [01:32, 204070.46it/s]"
     ]
    },
    {
     "name": "stdout",
     "output_type": "stream",
     "text": [
      "FINISHING 399\n",
      "START\n",
      "FINISHING 399\n",
      "START\n"
     ]
    },
    {
     "name": "stderr",
     "output_type": "stream",
     "text": [
      "17086921it [01:32, 208474.97it/s]"
     ]
    },
    {
     "name": "stdout",
     "output_type": "stream",
     "text": [
      "FINISHING 399\n",
      "START\n"
     ]
    },
    {
     "name": "stderr",
     "output_type": "stream",
     "text": [
      "17151245it [01:32, 210213.19it/s]"
     ]
    },
    {
     "name": "stdout",
     "output_type": "stream",
     "text": [
      "FINISHING 399\n",
      "START\n"
     ]
    },
    {
     "name": "stderr",
     "output_type": "stream",
     "text": [
      "17214882it [01:33, 206833.89it/s]"
     ]
    },
    {
     "name": "stdout",
     "output_type": "stream",
     "text": [
      "FINISHING 399\n",
      "START\n",
      "FINISHING 399\n",
      "START\n"
     ]
    },
    {
     "name": "stderr",
     "output_type": "stream",
     "text": [
      "17274305it [01:33, 185813.70it/s]"
     ]
    },
    {
     "name": "stdout",
     "output_type": "stream",
     "text": [
      "FINISHING 399\n",
      "START\n",
      "FINISHING 399\n",
      "START\n"
     ]
    },
    {
     "name": "stderr",
     "output_type": "stream",
     "text": [
      "17413150it [01:34, 154479.08it/s]"
     ]
    },
    {
     "name": "stdout",
     "output_type": "stream",
     "text": [
      "FINISHING 399\n",
      "START\n",
      "FINISHING 399\n",
      "START\n",
      "FINISHING 399\n",
      "START\n"
     ]
    },
    {
     "name": "stderr",
     "output_type": "stream",
     "text": [
      "17466137it [01:35, 164821.78it/s]"
     ]
    },
    {
     "name": "stdout",
     "output_type": "stream",
     "text": [
      "FINISHING 399\n",
      "START\n"
     ]
    },
    {
     "name": "stderr",
     "output_type": "stream",
     "text": [
      "17599051it [01:35, 166147.98it/s]"
     ]
    },
    {
     "name": "stdout",
     "output_type": "stream",
     "text": [
      "FINISHING 399\n",
      "START\n"
     ]
    },
    {
     "name": "stderr",
     "output_type": "stream",
     "text": [
      "17680002it [01:36, 193504.34it/s]"
     ]
    },
    {
     "name": "stdout",
     "output_type": "stream",
     "text": [
      "FINISHING 399\n",
      "START\n",
      "FINISHING 399\n",
      "START\n",
      "FINISHING 399\n",
      "START\n",
      "FINISHING 399\n",
      "START\n"
     ]
    },
    {
     "name": "stderr",
     "output_type": "stream",
     "text": [
      "17722543it [01:36, 151592.94it/s]"
     ]
    },
    {
     "name": "stdout",
     "output_type": "stream",
     "text": [
      "FINISHING 399\n",
      "START\n",
      "FINISHING 399\n",
      "START\n",
      "FINISHING 399\n",
      "START\n"
     ]
    },
    {
     "name": "stderr",
     "output_type": "stream",
     "text": [
      "17784907it [01:37, 185244.05it/s]"
     ]
    },
    {
     "name": "stdout",
     "output_type": "stream",
     "text": [
      "FINISHING 399\n",
      "START\n"
     ]
    },
    {
     "name": "stderr",
     "output_type": "stream",
     "text": [
      "17827317it [01:37, 196548.10it/s]"
     ]
    },
    {
     "name": "stdout",
     "output_type": "stream",
     "text": [
      "FINISHING 399\n",
      "START\n"
     ]
    },
    {
     "name": "stderr",
     "output_type": "stream",
     "text": [
      "18115031it [01:38, 222772.63it/s]"
     ]
    },
    {
     "name": "stdout",
     "output_type": "stream",
     "text": [
      "FINISHING 399\n",
      "START\n",
      "FINISHING 399\n",
      "START\n",
      "FINISHING 399\n",
      "START\n"
     ]
    },
    {
     "name": "stderr",
     "output_type": "stream",
     "text": [
      "18158155it [01:38, 197793.48it/s]"
     ]
    },
    {
     "name": "stdout",
     "output_type": "stream",
     "text": [
      "FINISHING 399\n",
      "START\n",
      "FINISHING 399\n",
      "START\n"
     ]
    },
    {
     "name": "stderr",
     "output_type": "stream",
     "text": [
      "18221170it [01:39, 162326.28it/s]"
     ]
    },
    {
     "name": "stdout",
     "output_type": "stream",
     "text": [
      "FINISHING 399\n",
      "START\n",
      "FINISHING 399\n",
      "START\n",
      "FINISHING 399\n",
      "START\n",
      "FINISHING 399\n",
      "START\n"
     ]
    },
    {
     "name": "stderr",
     "output_type": "stream",
     "text": [
      "18301057it [01:39, 164914.59it/s]"
     ]
    },
    {
     "name": "stdout",
     "output_type": "stream",
     "text": [
      "FINISHING 399\n",
      "START\n",
      "FINISHING 399\n",
      "START\n",
      "FINISHING 399\n",
      "START\n"
     ]
    },
    {
     "name": "stderr",
     "output_type": "stream",
     "text": [
      "18407840it [01:40, 157692.92it/s]"
     ]
    },
    {
     "name": "stdout",
     "output_type": "stream",
     "text": [
      "FINISHING 399\n",
      "START\n",
      "FINISHING 399\n",
      "START\n",
      "FINISHING 399\n",
      "START\n"
     ]
    },
    {
     "name": "stderr",
     "output_type": "stream",
     "text": [
      "18490219it [01:41, 184626.65it/s]"
     ]
    },
    {
     "name": "stdout",
     "output_type": "stream",
     "text": [
      "FINISHING 399\n",
      "START\n"
     ]
    },
    {
     "name": "stderr",
     "output_type": "stream",
     "text": [
      "18578995it [01:41, 213272.13it/s]"
     ]
    },
    {
     "name": "stdout",
     "output_type": "stream",
     "text": [
      "FINISHING 399\n",
      "START\n"
     ]
    },
    {
     "name": "stderr",
     "output_type": "stream",
     "text": [
      "18623765it [01:41, 218988.18it/s]"
     ]
    },
    {
     "name": "stdout",
     "output_type": "stream",
     "text": [
      "FINISHING 399\n",
      "START\n",
      "FINISHING 399\n",
      "START\n",
      "FINISHING 399\n",
      "START\n",
      "FINISHING 399\n",
      "START\n",
      "FINISHING 399\n",
      "START\n"
     ]
    },
    {
     "name": "stderr",
     "output_type": "stream",
     "text": [
      "18735768it [01:42, 218435.88it/s]"
     ]
    },
    {
     "name": "stdout",
     "output_type": "stream",
     "text": [
      "FINISHING 399\n",
      "START\n",
      "FINISHING 399\n",
      "START\n"
     ]
    },
    {
     "name": "stderr",
     "output_type": "stream",
     "text": [
      "18779204it [01:42, 211266.52it/s]"
     ]
    },
    {
     "name": "stdout",
     "output_type": "stream",
     "text": [
      "FINISHING 399\n",
      "START\n",
      "FINISHING 399\n",
      "START\n"
     ]
    },
    {
     "name": "stderr",
     "output_type": "stream",
     "text": [
      "18863138it [01:42, 201384.37it/s]"
     ]
    },
    {
     "name": "stdout",
     "output_type": "stream",
     "text": [
      "FINISHING 399\n",
      "START\n",
      "FINISHING 399\n",
      "START\n"
     ]
    },
    {
     "name": "stderr",
     "output_type": "stream",
     "text": [
      "18924144it [01:43, 199000.95it/s]"
     ]
    },
    {
     "name": "stdout",
     "output_type": "stream",
     "text": [
      "FINISHING 399\n",
      "START\n"
     ]
    },
    {
     "name": "stderr",
     "output_type": "stream",
     "text": [
      "18966239it [01:43, 205036.06it/s]"
     ]
    },
    {
     "name": "stdout",
     "output_type": "stream",
     "text": [
      "FINISHING 399\n",
      "START\n"
     ]
    },
    {
     "name": "stderr",
     "output_type": "stream",
     "text": [
      "19093866it [01:44, 211609.93it/s]"
     ]
    },
    {
     "name": "stdout",
     "output_type": "stream",
     "text": [
      "FINISHING 399\n",
      "START\n",
      "FINISHING 399\n",
      "START\n"
     ]
    },
    {
     "name": "stderr",
     "output_type": "stream",
     "text": [
      "19242890it [01:44, 209299.52it/s]"
     ]
    },
    {
     "name": "stdout",
     "output_type": "stream",
     "text": [
      "FINISHING 399\n",
      "START\n"
     ]
    },
    {
     "name": "stderr",
     "output_type": "stream",
     "text": [
      "19284812it [01:44, 208893.69it/s]"
     ]
    },
    {
     "name": "stdout",
     "output_type": "stream",
     "text": [
      "FINISHING 399\n",
      "START\n",
      "FINISHING 399\n",
      "START\n",
      "FINISHING 399\n",
      "START\n",
      "FINISHING 399\n",
      "START\n",
      "FINISHING 399\n",
      "START\n"
     ]
    },
    {
     "name": "stderr",
     "output_type": "stream",
     "text": [
      "19389792it [01:45, 208281.68it/s]"
     ]
    },
    {
     "name": "stdout",
     "output_type": "stream",
     "text": [
      "FINISHING 399\n",
      "START\n"
     ]
    },
    {
     "name": "stderr",
     "output_type": "stream",
     "text": [
      "19473148it [01:45, 207067.08it/s]"
     ]
    },
    {
     "name": "stdout",
     "output_type": "stream",
     "text": [
      "FINISHING 399\n",
      "START\n",
      "FINISHING 399\n",
      "START\n",
      "FINISHING 399\n",
      "START\n",
      "FINISHING 399\n",
      "START\n"
     ]
    },
    {
     "name": "stderr",
     "output_type": "stream",
     "text": [
      "19556334it [01:46, 203685.96it/s]"
     ]
    },
    {
     "name": "stdout",
     "output_type": "stream",
     "text": [
      "FINISHING 399\n",
      "START\n",
      "FINISHING 399\n",
      "START\n"
     ]
    },
    {
     "name": "stderr",
     "output_type": "stream",
     "text": [
      "19597427it [01:46, 196827.42it/s]"
     ]
    },
    {
     "name": "stdout",
     "output_type": "stream",
     "text": [
      "FINISHING 399\n",
      "START\n",
      "FINISHING 399\n",
      "START\n"
     ]
    },
    {
     "name": "stderr",
     "output_type": "stream",
     "text": [
      "19658714it [01:46, 158168.32it/s]"
     ]
    },
    {
     "name": "stdout",
     "output_type": "stream",
     "text": [
      "FINISHING 399\n",
      "START\n",
      "FINISHING 399\n",
      "START\n",
      "FINISHING 399\n",
      "START\n",
      "FINISHING 399\n",
      "START\n"
     ]
    },
    {
     "name": "stderr",
     "output_type": "stream",
     "text": [
      "19699809it [01:47, 179377.69it/s]"
     ]
    },
    {
     "name": "stdout",
     "output_type": "stream",
     "text": [
      "FINISHING 399\n",
      "START\n",
      "FINISHING 399\n",
      "START\n"
     ]
    },
    {
     "name": "stderr",
     "output_type": "stream",
     "text": [
      "19760974it [01:47, 192959.58it/s]"
     ]
    },
    {
     "name": "stdout",
     "output_type": "stream",
     "text": [
      "FINISHING 399\n",
      "START\n"
     ]
    },
    {
     "name": "stderr",
     "output_type": "stream",
     "text": [
      "19884979it [01:48, 205443.65it/s]"
     ]
    },
    {
     "name": "stdout",
     "output_type": "stream",
     "text": [
      "FINISHING 399\n",
      "START\n",
      "FINISHING 399\n",
      "START\n"
     ]
    },
    {
     "name": "stderr",
     "output_type": "stream",
     "text": [
      "19925040it [01:48, 192149.03it/s]"
     ]
    },
    {
     "name": "stdout",
     "output_type": "stream",
     "text": [
      "FINISHING 399\n",
      "START\n",
      "FINISHING 399\n",
      "START\n",
      "FINISHING 399\n",
      "START\n"
     ]
    },
    {
     "name": "stderr",
     "output_type": "stream",
     "text": [
      "19983850it [01:48, 189135.69it/s]"
     ]
    },
    {
     "name": "stdout",
     "output_type": "stream",
     "text": [
      "FINISHING 399\n",
      "START\n",
      "FINISHING 399\n",
      "START\n"
     ]
    },
    {
     "name": "stderr",
     "output_type": "stream",
     "text": [
      "20079374it [01:49, 187259.45it/s]"
     ]
    },
    {
     "name": "stdout",
     "output_type": "stream",
     "text": [
      "FINISHING 399\n",
      "START\n"
     ]
    },
    {
     "name": "stderr",
     "output_type": "stream",
     "text": [
      "20158270it [01:49, 185637.58it/s]"
     ]
    },
    {
     "name": "stdout",
     "output_type": "stream",
     "text": [
      "FINISHING 399\n",
      "START\n"
     ]
    },
    {
     "name": "stderr",
     "output_type": "stream",
     "text": [
      "20213605it [01:49, 180887.36it/s]"
     ]
    },
    {
     "name": "stdout",
     "output_type": "stream",
     "text": [
      "FINISHING 399\n",
      "START\n",
      "FINISHING 399\n",
      "START\n",
      "FINISHING 399\n",
      "START\n",
      "FINISHING 399\n",
      "START\n",
      "FINISHING 399\n",
      "START\n",
      "FINISHING 399\n",
      "START\n",
      "FINISHING 399\n",
      "START\n"
     ]
    },
    {
     "name": "stderr",
     "output_type": "stream",
     "text": [
      "20250068it [01:50, 174466.31it/s]"
     ]
    },
    {
     "name": "stdout",
     "output_type": "stream",
     "text": [
      "FINISHING 399\n",
      "START\n",
      "FINISHING 399\n",
      "START\n"
     ]
    },
    {
     "name": "stderr",
     "output_type": "stream",
     "text": [
      "20399960it [01:50, 157109.23it/s]"
     ]
    },
    {
     "name": "stdout",
     "output_type": "stream",
     "text": [
      "FINISHING 399\n",
      "START\n",
      "FINISHING 399\n",
      "START\n",
      "FINISHING 399\n",
      "START\n",
      "FINISHING 399\n",
      "START\n"
     ]
    },
    {
     "name": "stderr",
     "output_type": "stream",
     "text": [
      "20453220it [01:51, 168080.98it/s]"
     ]
    },
    {
     "name": "stdout",
     "output_type": "stream",
     "text": [
      "FINISHING 399\n",
      "START\n",
      "FINISHING 399\n",
      "START\n"
     ]
    },
    {
     "name": "stderr",
     "output_type": "stream",
     "text": [
      "20521690it [01:51, 143394.70it/s]"
     ]
    },
    {
     "name": "stdout",
     "output_type": "stream",
     "text": [
      "FINISHING 399\n",
      "START\n",
      "FINISHING 399\n",
      "START\n",
      "FINISHING 399\n",
      "START\n"
     ]
    },
    {
     "name": "stderr",
     "output_type": "stream",
     "text": [
      "20577439it [01:52, 172193.85it/s]"
     ]
    },
    {
     "name": "stdout",
     "output_type": "stream",
     "text": [
      "FINISHING 399\n",
      "START\n",
      "FINISHING 399\n",
      "START\n"
     ]
    },
    {
     "name": "stderr",
     "output_type": "stream",
     "text": [
      "20679931it [01:52, 146494.05it/s]"
     ]
    },
    {
     "name": "stdout",
     "output_type": "stream",
     "text": [
      "FINISHING 399\n",
      "START\n"
     ]
    },
    {
     "name": "stderr",
     "output_type": "stream",
     "text": [
      "20785404it [01:54, 59277.50it/s] "
     ]
    },
    {
     "name": "stdout",
     "output_type": "stream",
     "text": [
      "FINISHING 399\n",
      "START\n",
      "FINISHING 399\n",
      "START\n"
     ]
    },
    {
     "name": "stderr",
     "output_type": "stream",
     "text": [
      "20851970it [01:55, 116180.77it/s]"
     ]
    },
    {
     "name": "stdout",
     "output_type": "stream",
     "text": [
      "FINISHING 399\n",
      "START\n"
     ]
    },
    {
     "name": "stderr",
     "output_type": "stream",
     "text": [
      "20916736it [01:55, 166408.35it/s]"
     ]
    },
    {
     "name": "stdout",
     "output_type": "stream",
     "text": [
      "FINISHING 399\n",
      "START\n",
      "FINISHING 399\n",
      "START\n"
     ]
    },
    {
     "name": "stderr",
     "output_type": "stream",
     "text": [
      "21002406it [01:55, 197017.89it/s]"
     ]
    },
    {
     "name": "stdout",
     "output_type": "stream",
     "text": [
      "FINISHING 399\n",
      "START\n"
     ]
    },
    {
     "name": "stderr",
     "output_type": "stream",
     "text": [
      "21065149it [01:56, 196137.43it/s]"
     ]
    },
    {
     "name": "stdout",
     "output_type": "stream",
     "text": [
      "FINISHING 399\n",
      "START\n",
      "FINISHING 399\n",
      "START\n"
     ]
    },
    {
     "name": "stderr",
     "output_type": "stream",
     "text": [
      "21106339it [01:56, 199123.84it/s]"
     ]
    },
    {
     "name": "stdout",
     "output_type": "stream",
     "text": [
      "FINISHING 399\n",
      "START\n",
      "FINISHING 399\n",
      "START\n"
     ]
    },
    {
     "name": "stderr",
     "output_type": "stream",
     "text": [
      "21189241it [01:56, 206647.87it/s]"
     ]
    },
    {
     "name": "stdout",
     "output_type": "stream",
     "text": [
      "FINISHING 399\n",
      "START\n",
      "FINISHING 399\n",
      "START\n"
     ]
    },
    {
     "name": "stderr",
     "output_type": "stream",
     "text": [
      "21251635it [01:57, 204963.21it/s]"
     ]
    },
    {
     "name": "stdout",
     "output_type": "stream",
     "text": [
      "FINISHING 399\n",
      "START\n"
     ]
    },
    {
     "name": "stderr",
     "output_type": "stream",
     "text": [
      "21334766it [01:57, 204897.88it/s]"
     ]
    },
    {
     "name": "stdout",
     "output_type": "stream",
     "text": [
      "FINISHING 399\n",
      "START\n"
     ]
    },
    {
     "name": "stderr",
     "output_type": "stream",
     "text": [
      "21375763it [01:57, 201650.38it/s]"
     ]
    },
    {
     "name": "stdout",
     "output_type": "stream",
     "text": [
      "FINISHING 399\n",
      "START\n"
     ]
    },
    {
     "name": "stderr",
     "output_type": "stream",
     "text": [
      "21458913it [01:58, 204573.90it/s]"
     ]
    },
    {
     "name": "stdout",
     "output_type": "stream",
     "text": [
      "FINISHING 399\n",
      "START\n",
      "FINISHING 399\n",
      "START\n",
      "FINISHING 399\n",
      "START\n",
      "FINISHING 399\n",
      "START\n"
     ]
    },
    {
     "name": "stderr",
     "output_type": "stream",
     "text": [
      "21500385it [01:58, 204769.45it/s]"
     ]
    },
    {
     "name": "stdout",
     "output_type": "stream",
     "text": [
      "FINISHING 399\n",
      "START\n"
     ]
    },
    {
     "name": "stderr",
     "output_type": "stream",
     "text": [
      "21585157it [01:59, 165474.49it/s]"
     ]
    },
    {
     "name": "stdout",
     "output_type": "stream",
     "text": [
      "FINISHING 399\n",
      "START\n"
     ]
    },
    {
     "name": "stderr",
     "output_type": "stream",
     "text": [
      "21626849it [01:59, 185379.33it/s]"
     ]
    },
    {
     "name": "stdout",
     "output_type": "stream",
     "text": [
      "FINISHING 399\n",
      "START\n"
     ]
    },
    {
     "name": "stderr",
     "output_type": "stream",
     "text": [
      "21730009it [01:59, 193801.30it/s]"
     ]
    },
    {
     "name": "stdout",
     "output_type": "stream",
     "text": [
      "FINISHING 399\n",
      "START\n"
     ]
    },
    {
     "name": "stderr",
     "output_type": "stream",
     "text": [
      "21841466it [02:00, 162487.64it/s]"
     ]
    },
    {
     "name": "stdout",
     "output_type": "stream",
     "text": [
      "FINISHING 399\n",
      "START\n",
      "FINISHING 399\n",
      "START\n"
     ]
    },
    {
     "name": "stderr",
     "output_type": "stream",
     "text": [
      "22038051it [02:02, 75597.98it/s] "
     ]
    },
    {
     "name": "stdout",
     "output_type": "stream",
     "text": [
      "FINISHING 399\n",
      "START\n",
      "FINISHING 399\n",
      "START\n"
     ]
    },
    {
     "name": "stderr",
     "output_type": "stream",
     "text": [
      "22100145it [02:03, 120187.21it/s]"
     ]
    },
    {
     "name": "stdout",
     "output_type": "stream",
     "text": [
      "FINISHING 399\n",
      "START\n"
     ]
    },
    {
     "name": "stderr",
     "output_type": "stream",
     "text": [
      "22176069it [02:04, 75593.36it/s] "
     ]
    },
    {
     "name": "stdout",
     "output_type": "stream",
     "text": [
      "FINISHING 399\n",
      "START\n"
     ]
    },
    {
     "name": "stderr",
     "output_type": "stream",
     "text": [
      "22236524it [02:04, 131461.34it/s]"
     ]
    },
    {
     "name": "stdout",
     "output_type": "stream",
     "text": [
      "FINISHING 399\n",
      "START\n",
      "FINISHING 399\n",
      "START\n",
      "FINISHING 399\n",
      "START\n",
      "FINISHING 399\n",
      "START\n"
     ]
    },
    {
     "name": "stderr",
     "output_type": "stream",
     "text": [
      "22279503it [02:04, 165241.76it/s]"
     ]
    },
    {
     "name": "stdout",
     "output_type": "stream",
     "text": [
      "FINISHING 399\n",
      "START\n",
      "FINISHING 399\n",
      "START\n"
     ]
    },
    {
     "name": "stderr",
     "output_type": "stream",
     "text": [
      "22368344it [02:05, 204916.12it/s]"
     ]
    },
    {
     "name": "stdout",
     "output_type": "stream",
     "text": [
      "FINISHING 399\n",
      "START\n",
      "FINISHING 399\n",
      "START\n",
      "FINISHING 399\n",
      "START\n"
     ]
    },
    {
     "name": "stderr",
     "output_type": "stream",
     "text": [
      "22415554it [02:05, 219185.75it/s]"
     ]
    },
    {
     "name": "stdout",
     "output_type": "stream",
     "text": [
      "FINISHING 399\n",
      "START\n"
     ]
    },
    {
     "name": "stderr",
     "output_type": "stream",
     "text": [
      "22546710it [02:08, 53705.53it/s] "
     ]
    },
    {
     "name": "stdout",
     "output_type": "stream",
     "text": [
      "FINISHING 399\n",
      "START\n"
     ]
    },
    {
     "name": "stderr",
     "output_type": "stream",
     "text": [
      "22680334it [02:09, 167175.72it/s]"
     ]
    },
    {
     "name": "stdout",
     "output_type": "stream",
     "text": [
      "FINISHING 399\n",
      "START\n",
      "FINISHING 399\n",
      "START\n"
     ]
    },
    {
     "name": "stderr",
     "output_type": "stream",
     "text": [
      "22721929it [02:10, 73691.97it/s] "
     ]
    },
    {
     "name": "stdout",
     "output_type": "stream",
     "text": [
      "FINISHING 399\n",
      "START\n",
      "FINISHING 399\n",
      "START\n"
     ]
    },
    {
     "name": "stderr",
     "output_type": "stream",
     "text": [
      "22755708it [02:10, 98335.38it/s]"
     ]
    },
    {
     "name": "stdout",
     "output_type": "stream",
     "text": [
      "FINISHING 399\n",
      "START\n",
      "FINISHING 399\n",
      "START\n",
      "FINISHING 399\n",
      "START\n"
     ]
    },
    {
     "name": "stderr",
     "output_type": "stream",
     "text": [
      "22871244it [02:10, 171379.10it/s]"
     ]
    },
    {
     "name": "stdout",
     "output_type": "stream",
     "text": [
      "FINISHING 399\n",
      "START\n"
     ]
    },
    {
     "name": "stderr",
     "output_type": "stream",
     "text": [
      "22926920it [02:11, 169824.81it/s]"
     ]
    },
    {
     "name": "stdout",
     "output_type": "stream",
     "text": [
      "FINISHING 399\n",
      "START\n",
      "FINISHING 399\n",
      "START\n",
      "FINISHING 399\n",
      "START\n"
     ]
    },
    {
     "name": "stderr",
     "output_type": "stream",
     "text": [
      "22980199it [02:11, 173151.58it/s]"
     ]
    },
    {
     "name": "stdout",
     "output_type": "stream",
     "text": [
      "FINISHING 399\n",
      "START\n",
      "FINISHING 399\n",
      "START\n",
      "FINISHING 399\n",
      "START\n"
     ]
    },
    {
     "name": "stderr",
     "output_type": "stream",
     "text": [
      "23074545it [02:12, 177155.40it/s]"
     ]
    },
    {
     "name": "stdout",
     "output_type": "stream",
     "text": [
      "FINISHING 399\n",
      "START\n"
     ]
    },
    {
     "name": "stderr",
     "output_type": "stream",
     "text": [
      "23186713it [02:12, 175900.95it/s]"
     ]
    },
    {
     "name": "stdout",
     "output_type": "stream",
     "text": [
      "FINISHING 399\n",
      "START\n"
     ]
    },
    {
     "name": "stderr",
     "output_type": "stream",
     "text": [
      "23388797it [02:13, 180610.18it/s]"
     ]
    },
    {
     "name": "stdout",
     "output_type": "stream",
     "text": [
      "FINISHING 399\n",
      "START\n"
     ]
    },
    {
     "name": "stderr",
     "output_type": "stream",
     "text": [
      "23426422it [02:14, 116928.47it/s]"
     ]
    },
    {
     "name": "stdout",
     "output_type": "stream",
     "text": [
      "FINISHING 399\n",
      "START\n"
     ]
    },
    {
     "name": "stderr",
     "output_type": "stream",
     "text": [
      "23661207it [02:16, 202653.20it/s]"
     ]
    },
    {
     "name": "stdout",
     "output_type": "stream",
     "text": [
      "FINISHING 399\n",
      "START\n",
      "FINISHING 399\n",
      "START\n",
      "FINISHING 399\n",
      "START\n",
      "FINISHING 399\n",
      "START\n",
      "FINISHING 399\n",
      "START\n",
      "FINISHING 399\n",
      "START\n"
     ]
    },
    {
     "name": "stderr",
     "output_type": "stream",
     "text": [
      "23705546it [02:16, 211296.59it/s]"
     ]
    },
    {
     "name": "stdout",
     "output_type": "stream",
     "text": [
      "FINISHING 399\n",
      "START\n"
     ]
    },
    {
     "name": "stderr",
     "output_type": "stream",
     "text": [
      "23748946it [02:16, 179588.62it/s]"
     ]
    },
    {
     "name": "stdout",
     "output_type": "stream",
     "text": [
      "FINISHING 399\n",
      "START\n",
      "FINISHING 399\n",
      "START\n"
     ]
    },
    {
     "name": "stderr",
     "output_type": "stream",
     "text": [
      "23790554it [02:17, 192637.67it/s]"
     ]
    },
    {
     "name": "stdout",
     "output_type": "stream",
     "text": [
      "FINISHING 399\n",
      "START\n",
      "FINISHING 399\n",
      "START\n"
     ]
    },
    {
     "name": "stderr",
     "output_type": "stream",
     "text": [
      "23978866it [02:17, 213523.25it/s]"
     ]
    },
    {
     "name": "stdout",
     "output_type": "stream",
     "text": [
      "FINISHING 399\n",
      "START\n",
      "FINISHING 399\n",
      "START\n"
     ]
    },
    {
     "name": "stderr",
     "output_type": "stream",
     "text": [
      "24022351it [02:18, 136914.95it/s]"
     ]
    },
    {
     "name": "stdout",
     "output_type": "stream",
     "text": [
      "FINISHING 399\n",
      "START\n"
     ]
    },
    {
     "name": "stderr",
     "output_type": "stream",
     "text": [
      "24077056it [02:18, 133116.16it/s]"
     ]
    },
    {
     "name": "stdout",
     "output_type": "stream",
     "text": [
      "FINISHING 399\n",
      "START\n",
      "FINISHING 399\n",
      "START\n",
      "FINISHING 399\n",
      "START\n",
      "FINISHING 399\n",
      "START\n"
     ]
    },
    {
     "name": "stderr",
     "output_type": "stream",
     "text": [
      "24137919it [02:19, 172509.87it/s]"
     ]
    },
    {
     "name": "stdout",
     "output_type": "stream",
     "text": [
      "FINISHING 399\n",
      "START\n",
      "FINISHING 399\n",
      "START\n",
      "FINISHING 399\n",
      "START\n",
      "FINISHING 399\n",
      "START\n",
      "FINISHING 399\n",
      "START\n"
     ]
    },
    {
     "name": "stderr",
     "output_type": "stream",
     "text": [
      "24176996it [02:19, 183445.52it/s]"
     ]
    },
    {
     "name": "stdout",
     "output_type": "stream",
     "text": [
      "FINISHING 399\n",
      "START\n"
     ]
    },
    {
     "name": "stderr",
     "output_type": "stream",
     "text": [
      "24217155it [02:19, 192336.50it/s]"
     ]
    },
    {
     "name": "stdout",
     "output_type": "stream",
     "text": [
      "FINISHING 399\n",
      "START\n"
     ]
    },
    {
     "name": "stderr",
     "output_type": "stream",
     "text": [
      "24256883it [02:19, 134774.83it/s]"
     ]
    },
    {
     "name": "stdout",
     "output_type": "stream",
     "text": [
      "FINISHING 399\n",
      "START\n",
      "FINISHING 399\n",
      "START\n",
      "FINISHING 399\n",
      "START\n",
      "FINISHING 399\n",
      "START\n"
     ]
    },
    {
     "name": "stderr",
     "output_type": "stream",
     "text": [
      "24316012it [02:20, 170461.44it/s]"
     ]
    },
    {
     "name": "stdout",
     "output_type": "stream",
     "text": [
      "FINISHING 399\n",
      "START\n",
      "FINISHING 399\n",
      "START\n",
      "FINISHING 399\n",
      "START\n",
      "FINISHING 399\n",
      "START\n",
      "FINISHING 399\n",
      "START\n"
     ]
    },
    {
     "name": "stderr",
     "output_type": "stream",
     "text": [
      "24358788it [02:20, 191433.15it/s]"
     ]
    },
    {
     "name": "stdout",
     "output_type": "stream",
     "text": [
      "FINISHING 399\n",
      "START\n",
      "FINISHING 399\n",
      "START\n",
      "FINISHING 399\n",
      "START\n"
     ]
    },
    {
     "name": "stderr",
     "output_type": "stream",
     "text": [
      "24399985it [02:20, 151582.67it/s]"
     ]
    },
    {
     "name": "stdout",
     "output_type": "stream",
     "text": [
      "FINISHING 399\n",
      "START\n",
      "FINISHING 399\n",
      "START\n"
     ]
    },
    {
     "name": "stderr",
     "output_type": "stream",
     "text": [
      "24634104it [02:22, 190446.76it/s]"
     ]
    },
    {
     "name": "stdout",
     "output_type": "stream",
     "text": [
      "FINISHING 399\n",
      "START\n",
      "FINISHING 399\n",
      "START\n",
      "FINISHING 399\n",
      "START\n"
     ]
    },
    {
     "name": "stderr",
     "output_type": "stream",
     "text": [
      "24672680it [02:22, 191339.23it/s]"
     ]
    },
    {
     "name": "stdout",
     "output_type": "stream",
     "text": [
      "FINISHING 399\n",
      "START\n"
     ]
    },
    {
     "name": "stderr",
     "output_type": "stream",
     "text": [
      "24730681it [02:22, 192943.32it/s]"
     ]
    },
    {
     "name": "stdout",
     "output_type": "stream",
     "text": [
      "FINISHING 399\n",
      "START\n",
      "FINISHING 399\n",
      "START\n",
      "FINISHING 399\n",
      "START\n",
      "FINISHING 399\n",
      "START\n"
     ]
    },
    {
     "name": "stderr",
     "output_type": "stream",
     "text": [
      "24872925it [02:23, 204684.78it/s]"
     ]
    },
    {
     "name": "stdout",
     "output_type": "stream",
     "text": [
      "FINISHING 399\n",
      "START\n",
      "FINISHING 399\n",
      "START\n",
      "FINISHING 399\n",
      "START\n"
     ]
    },
    {
     "name": "stderr",
     "output_type": "stream",
     "text": [
      "24913954it [02:23, 203568.26it/s]"
     ]
    },
    {
     "name": "stdout",
     "output_type": "stream",
     "text": [
      "FINISHING 399\n",
      "START\n"
     ]
    },
    {
     "name": "stderr",
     "output_type": "stream",
     "text": [
      "24974761it [02:23, 201207.23it/s]"
     ]
    },
    {
     "name": "stdout",
     "output_type": "stream",
     "text": [
      "FINISHING 399\n",
      "START\n",
      "FINISHING 399\n",
      "START\n",
      "FINISHING 399\n",
      "START\n"
     ]
    },
    {
     "name": "stderr",
     "output_type": "stream",
     "text": [
      "25036310it [02:24, 203651.32it/s]"
     ]
    },
    {
     "name": "stdout",
     "output_type": "stream",
     "text": [
      "FINISHING 399\n",
      "START\n",
      "FINISHING 399\n",
      "START\n",
      "FINISHING 399\n",
      "START\n"
     ]
    },
    {
     "name": "stderr",
     "output_type": "stream",
     "text": [
      "25097357it [02:24, 202699.70it/s]"
     ]
    },
    {
     "name": "stdout",
     "output_type": "stream",
     "text": [
      "FINISHING 399\n",
      "START\n",
      "FINISHING 399\n",
      "START\n",
      "FINISHING 399\n",
      "START\n",
      "FINISHING 399\n",
      "START\n"
     ]
    },
    {
     "name": "stderr",
     "output_type": "stream",
     "text": [
      "25137852it [02:24, 196711.72it/s]"
     ]
    },
    {
     "name": "stdout",
     "output_type": "stream",
     "text": [
      "FINISHING 399\n",
      "START\n"
     ]
    },
    {
     "name": "stderr",
     "output_type": "stream",
     "text": [
      "25198822it [02:24, 198744.69it/s]"
     ]
    },
    {
     "name": "stdout",
     "output_type": "stream",
     "text": [
      "FINISHING 399\n",
      "START\n",
      "FINISHING 399\n",
      "START\n",
      "FINISHING 399\n",
      "START\n"
     ]
    },
    {
     "name": "stderr",
     "output_type": "stream",
     "text": [
      "25259480it [02:25, 182286.96it/s]"
     ]
    },
    {
     "name": "stdout",
     "output_type": "stream",
     "text": [
      "FINISHING 399\n",
      "START\n",
      "FINISHING 399\n",
      "START\n"
     ]
    },
    {
     "name": "stderr",
     "output_type": "stream",
     "text": [
      "25359969it [02:25, 197865.43it/s]"
     ]
    },
    {
     "name": "stdout",
     "output_type": "stream",
     "text": [
      "FINISHING 399\n",
      "START\n",
      "FINISHING 399\n",
      "START\n",
      "FINISHING 399\n",
      "START\n"
     ]
    },
    {
     "name": "stderr",
     "output_type": "stream",
     "text": [
      "25440164it [02:26, 174344.31it/s]"
     ]
    },
    {
     "name": "stdout",
     "output_type": "stream",
     "text": [
      "FINISHING 399\n",
      "START\n"
     ]
    },
    {
     "name": "stderr",
     "output_type": "stream",
     "text": [
      "25523365it [02:26, 197258.78it/s]"
     ]
    },
    {
     "name": "stdout",
     "output_type": "stream",
     "text": [
      "FINISHING 399\n",
      "START\n",
      "FINISHING 399\n",
      "START\n"
     ]
    },
    {
     "name": "stderr",
     "output_type": "stream",
     "text": [
      "25605734it [02:26, 202532.54it/s]"
     ]
    },
    {
     "name": "stdout",
     "output_type": "stream",
     "text": [
      "FINISHING 399\n",
      "START\n",
      "FINISHING 399\n",
      "START\n",
      "FINISHING 399\n",
      "START\n"
     ]
    },
    {
     "name": "stderr",
     "output_type": "stream",
     "text": [
      "25646716it [02:27, 202337.32it/s]"
     ]
    },
    {
     "name": "stdout",
     "output_type": "stream",
     "text": [
      "FINISHING 399\n",
      "START\n",
      "FINISHING 399\n",
      "START\n",
      "FINISHING 399\n",
      "START\n",
      "FINISHING 399\n",
      "START\n"
     ]
    },
    {
     "name": "stderr",
     "output_type": "stream",
     "text": [
      "25707344it [02:27, 200564.53it/s]"
     ]
    },
    {
     "name": "stdout",
     "output_type": "stream",
     "text": [
      "FINISHING 399\n",
      "START\n"
     ]
    },
    {
     "name": "stderr",
     "output_type": "stream",
     "text": [
      "25788549it [02:27, 202265.31it/s]"
     ]
    },
    {
     "name": "stdout",
     "output_type": "stream",
     "text": [
      "FINISHING 399\n",
      "START\n",
      "FINISHING 399\n",
      "START\n",
      "FINISHING 399\n",
      "START\n"
     ]
    },
    {
     "name": "stderr",
     "output_type": "stream",
     "text": [
      "25850306it [02:28, 204416.53it/s]"
     ]
    },
    {
     "name": "stdout",
     "output_type": "stream",
     "text": [
      "FINISHING 399\n",
      "START\n"
     ]
    },
    {
     "name": "stderr",
     "output_type": "stream",
     "text": [
      "25891216it [02:28, 201462.41it/s]"
     ]
    },
    {
     "name": "stdout",
     "output_type": "stream",
     "text": [
      "FINISHING 399\n",
      "START\n",
      "FINISHING 399\n",
      "START\n",
      "FINISHING 399\n",
      "START\n"
     ]
    },
    {
     "name": "stderr",
     "output_type": "stream",
     "text": [
      "25950799it [02:28, 185265.53it/s]"
     ]
    },
    {
     "name": "stdout",
     "output_type": "stream",
     "text": [
      "FINISHING 399\n",
      "START\n",
      "FINISHING 399\n",
      "START\n"
     ]
    },
    {
     "name": "stderr",
     "output_type": "stream",
     "text": [
      "26010895it [02:29, 193297.33it/s]"
     ]
    },
    {
     "name": "stdout",
     "output_type": "stream",
     "text": [
      "FINISHING 399\n",
      "START\n"
     ]
    },
    {
     "name": "stderr",
     "output_type": "stream",
     "text": [
      "26092178it [02:29, 200702.15it/s]"
     ]
    },
    {
     "name": "stdout",
     "output_type": "stream",
     "text": [
      "FINISHING 399\n",
      "START\n",
      "FINISHING 399\n",
      "START\n"
     ]
    },
    {
     "name": "stderr",
     "output_type": "stream",
     "text": [
      "26133510it [02:29, 199790.63it/s]"
     ]
    },
    {
     "name": "stdout",
     "output_type": "stream",
     "text": [
      "FINISHING 399\n",
      "START\n",
      "FINISHING 399\n",
      "START\n"
     ]
    },
    {
     "name": "stderr",
     "output_type": "stream",
     "text": [
      "26235105it [02:30, 152686.49it/s]"
     ]
    },
    {
     "name": "stdout",
     "output_type": "stream",
     "text": [
      "FINISHING 399\n",
      "START\n"
     ]
    },
    {
     "name": "stderr",
     "output_type": "stream",
     "text": [
      "26314888it [02:30, 177560.12it/s]"
     ]
    },
    {
     "name": "stdout",
     "output_type": "stream",
     "text": [
      "FINISHING 399\n",
      "START\n"
     ]
    },
    {
     "name": "stderr",
     "output_type": "stream",
     "text": [
      "26354190it [02:31, 136796.24it/s]"
     ]
    },
    {
     "name": "stdout",
     "output_type": "stream",
     "text": [
      "FINISHING 399\n",
      "START\n",
      "FINISHING 399\n",
      "START\n",
      "FINISHING 399\n",
      "START\n"
     ]
    },
    {
     "name": "stderr",
     "output_type": "stream",
     "text": [
      "26410222it [02:31, 132615.74it/s]"
     ]
    },
    {
     "name": "stdout",
     "output_type": "stream",
     "text": [
      "FINISHING 399\n",
      "START\n"
     ]
    },
    {
     "name": "stderr",
     "output_type": "stream",
     "text": [
      "26491431it [02:32, 180754.47it/s]"
     ]
    },
    {
     "name": "stdout",
     "output_type": "stream",
     "text": [
      "FINISHING 399\n",
      "START\n",
      "FINISHING 399\n",
      "START\n"
     ]
    },
    {
     "name": "stderr",
     "output_type": "stream",
     "text": [
      "26693063it [02:33, 174286.93it/s]"
     ]
    },
    {
     "name": "stdout",
     "output_type": "stream",
     "text": [
      "FINISHING 399\n",
      "START\n",
      "FINISHING 399\n",
      "START\n",
      "FINISHING 399\n",
      "START\n"
     ]
    },
    {
     "name": "stderr",
     "output_type": "stream",
     "text": [
      "26729377it [02:33, 154907.73it/s]"
     ]
    },
    {
     "name": "stdout",
     "output_type": "stream",
     "text": [
      "FINISHING 399\n",
      "START\n",
      "FINISHING 399\n",
      "START\n"
     ]
    },
    {
     "name": "stderr",
     "output_type": "stream",
     "text": [
      "26852758it [02:34, 202155.69it/s]"
     ]
    },
    {
     "name": "stdout",
     "output_type": "stream",
     "text": [
      "FINISHING 399\n",
      "START\n",
      "FINISHING 399\n",
      "START\n",
      "FINISHING 399\n",
      "START\n"
     ]
    },
    {
     "name": "stderr",
     "output_type": "stream",
     "text": [
      "26915180it [02:34, 205735.63it/s]"
     ]
    },
    {
     "name": "stdout",
     "output_type": "stream",
     "text": [
      "FINISHING 399\n",
      "START\n",
      "FINISHING 399\n",
      "START\n",
      "FINISHING 399\n",
      "START\n"
     ]
    },
    {
     "name": "stderr",
     "output_type": "stream",
     "text": [
      "26977425it [02:34, 198979.88it/s]"
     ]
    },
    {
     "name": "stdout",
     "output_type": "stream",
     "text": [
      "FINISHING 399\n",
      "START\n",
      "FINISHING 399\n",
      "START\n"
     ]
    },
    {
     "name": "stderr",
     "output_type": "stream",
     "text": [
      "27038110it [02:35, 200939.07it/s]"
     ]
    },
    {
     "name": "stdout",
     "output_type": "stream",
     "text": [
      "FINISHING 399\n",
      "START\n",
      "FINISHING 399\n",
      "START\n",
      "FINISHING 399\n",
      "START\n",
      "FINISHING 399\n",
      "START\n"
     ]
    },
    {
     "name": "stderr",
     "output_type": "stream",
     "text": [
      "27078905it [02:35, 202605.08it/s]"
     ]
    },
    {
     "name": "stdout",
     "output_type": "stream",
     "text": [
      "FINISHING 399\n",
      "START\n",
      "FINISHING 399\n",
      "START\n"
     ]
    },
    {
     "name": "stderr",
     "output_type": "stream",
     "text": [
      "27291393it [02:38, 105959.04it/s]"
     ]
    },
    {
     "name": "stdout",
     "output_type": "stream",
     "text": [
      "FINISHING 399\n",
      "START\n"
     ]
    },
    {
     "name": "stderr",
     "output_type": "stream",
     "text": [
      "27398190it [02:38, 185900.45it/s]"
     ]
    },
    {
     "name": "stdout",
     "output_type": "stream",
     "text": [
      "FINISHING 399\n",
      "START\n"
     ]
    },
    {
     "name": "stderr",
     "output_type": "stream",
     "text": [
      "27462300it [02:38, 202952.93it/s]"
     ]
    },
    {
     "name": "stdout",
     "output_type": "stream",
     "text": [
      "FINISHING 399\n",
      "START\n",
      "FINISHING 399\n",
      "START\n"
     ]
    },
    {
     "name": "stderr",
     "output_type": "stream",
     "text": [
      "27505620it [02:39, 207099.13it/s]"
     ]
    },
    {
     "name": "stdout",
     "output_type": "stream",
     "text": [
      "FINISHING 399\n",
      "START\n",
      "FINISHING 399\n",
      "START\n"
     ]
    },
    {
     "name": "stderr",
     "output_type": "stream",
     "text": [
      "27591772it [02:39, 209841.24it/s]"
     ]
    },
    {
     "name": "stdout",
     "output_type": "stream",
     "text": [
      "FINISHING 399\n",
      "START\n",
      "FINISHING 399\n",
      "START\n"
     ]
    },
    {
     "name": "stderr",
     "output_type": "stream",
     "text": [
      "27634962it [02:39, 212982.70it/s]"
     ]
    },
    {
     "name": "stdout",
     "output_type": "stream",
     "text": [
      "FINISHING 399\n",
      "START\n"
     ]
    },
    {
     "name": "stderr",
     "output_type": "stream",
     "text": [
      "27678363it [02:40, 213090.88it/s]"
     ]
    },
    {
     "name": "stdout",
     "output_type": "stream",
     "text": [
      "FINISHING 399\n",
      "START\n",
      "FINISHING 399\n",
      "START\n",
      "FINISHING 399\n",
      "START\n",
      "FINISHING 399\n",
      "START\n"
     ]
    },
    {
     "name": "stderr",
     "output_type": "stream",
     "text": [
      "27764185it [02:40, 213661.29it/s]"
     ]
    },
    {
     "name": "stdout",
     "output_type": "stream",
     "text": [
      "FINISHING 399\n",
      "START\n",
      "FINISHING 399\n",
      "START\n",
      "FINISHING 399\n",
      "START\n"
     ]
    },
    {
     "name": "stderr",
     "output_type": "stream",
     "text": [
      "27828513it [02:40, 213535.53it/s]"
     ]
    },
    {
     "name": "stdout",
     "output_type": "stream",
     "text": [
      "FINISHING 399\n",
      "START\n",
      "FINISHING 399\n",
      "START\n"
     ]
    },
    {
     "name": "stderr",
     "output_type": "stream",
     "text": [
      "27938022it [02:41, 216248.45it/s]"
     ]
    },
    {
     "name": "stdout",
     "output_type": "stream",
     "text": [
      "FINISHING 399\n",
      "START\n",
      "FINISHING 399\n",
      "START\n"
     ]
    },
    {
     "name": "stderr",
     "output_type": "stream",
     "text": [
      "27981774it [02:42, 83446.05it/s] "
     ]
    },
    {
     "name": "stdout",
     "output_type": "stream",
     "text": [
      "FINISHING 399\n",
      "START\n"
     ]
    },
    {
     "name": "stderr",
     "output_type": "stream",
     "text": [
      "28023119it [02:42, 118572.04it/s]"
     ]
    },
    {
     "name": "stdout",
     "output_type": "stream",
     "text": [
      "FINISHING 399\n",
      "START\n"
     ]
    },
    {
     "name": "stderr",
     "output_type": "stream",
     "text": [
      "28085560it [02:42, 164464.02it/s]"
     ]
    },
    {
     "name": "stdout",
     "output_type": "stream",
     "text": [
      "FINISHING 399\n",
      "START\n"
     ]
    },
    {
     "name": "stderr",
     "output_type": "stream",
     "text": [
      "28148268it [02:42, 191382.13it/s]"
     ]
    },
    {
     "name": "stdout",
     "output_type": "stream",
     "text": [
      "FINISHING 399\n",
      "START\n"
     ]
    },
    {
     "name": "stderr",
     "output_type": "stream",
     "text": [
      "28210915it [02:43, 202443.28it/s]"
     ]
    },
    {
     "name": "stdout",
     "output_type": "stream",
     "text": [
      "FINISHING 399\n",
      "START\n"
     ]
    },
    {
     "name": "stderr",
     "output_type": "stream",
     "text": [
      "28274671it [02:43, 144407.62it/s]"
     ]
    },
    {
     "name": "stdout",
     "output_type": "stream",
     "text": [
      "FINISHING 399\n",
      "START\n"
     ]
    },
    {
     "name": "stderr",
     "output_type": "stream",
     "text": [
      "28333332it [02:44, 171273.41it/s]"
     ]
    },
    {
     "name": "stdout",
     "output_type": "stream",
     "text": [
      "FINISHING 399\n",
      "START\n",
      "FINISHING 399\n",
      "START\n",
      "FINISHING 399\n",
      "START\n",
      "FINISHING 399\n",
      "START\n"
     ]
    },
    {
     "name": "stderr",
     "output_type": "stream",
     "text": [
      "28372953it [02:44, 184231.62it/s]"
     ]
    },
    {
     "name": "stdout",
     "output_type": "stream",
     "text": [
      "FINISHING 399\n",
      "START\n",
      "FINISHING 399\n",
      "START\n",
      "FINISHING 399\n",
      "START\n"
     ]
    },
    {
     "name": "stderr",
     "output_type": "stream",
     "text": [
      "28532368it [02:47, 116330.21it/s]"
     ]
    },
    {
     "name": "stdout",
     "output_type": "stream",
     "text": [
      "FINISHING 399\n",
      "START\n"
     ]
    },
    {
     "name": "stderr",
     "output_type": "stream",
     "text": [
      "28598136it [02:47, 167499.37it/s]"
     ]
    },
    {
     "name": "stdout",
     "output_type": "stream",
     "text": [
      "FINISHING 399\n",
      "START\n"
     ]
    },
    {
     "name": "stderr",
     "output_type": "stream",
     "text": [
      "28777303it [02:48, 216772.02it/s]"
     ]
    },
    {
     "name": "stdout",
     "output_type": "stream",
     "text": [
      "FINISHING 399\n",
      "START\n"
     ]
    },
    {
     "name": "stderr",
     "output_type": "stream",
     "text": [
      "28839113it [02:49, 141656.28it/s]"
     ]
    },
    {
     "name": "stdout",
     "output_type": "stream",
     "text": [
      "FINISHING 399\n",
      "START\n"
     ]
    },
    {
     "name": "stderr",
     "output_type": "stream",
     "text": [
      "28926854it [02:49, 193506.26it/s]"
     ]
    },
    {
     "name": "stdout",
     "output_type": "stream",
     "text": [
      "FINISHING 399\n",
      "START\n"
     ]
    },
    {
     "name": "stderr",
     "output_type": "stream",
     "text": [
      "29070691it [02:50, 141897.82it/s]"
     ]
    },
    {
     "name": "stdout",
     "output_type": "stream",
     "text": [
      "FINISHING 399\n",
      "START\n",
      "FINISHING 399\n",
      "START\n",
      "FINISHING 399\n",
      "START\n"
     ]
    },
    {
     "name": "stderr",
     "output_type": "stream",
     "text": [
      "29107091it [02:50, 143191.10it/s]"
     ]
    },
    {
     "name": "stdout",
     "output_type": "stream",
     "text": [
      "FINISHING 399\n",
      "START\n",
      "FINISHING 399\n",
      "START\n",
      "FINISHING 399\n",
      "START\n",
      "FINISHING 399\n",
      "START\n",
      "FINISHING 399\n",
      "START\n"
     ]
    },
    {
     "name": "stderr",
     "output_type": "stream",
     "text": [
      "29145311it [02:51, 165681.02it/s]"
     ]
    },
    {
     "name": "stdout",
     "output_type": "stream",
     "text": [
      "FINISHING 399\n",
      "START\n",
      "FINISHING 399\n",
      "START\n",
      "FINISHING 399\n",
      "START\n"
     ]
    },
    {
     "name": "stderr",
     "output_type": "stream",
     "text": [
      "29209990it [02:51, 196838.37it/s]"
     ]
    },
    {
     "name": "stdout",
     "output_type": "stream",
     "text": [
      "FINISHING 399\n",
      "START\n",
      "FINISHING 399\n",
      "START\n",
      "FINISHING 399\n",
      "START\n",
      "FINISHING 399\n",
      "START\n"
     ]
    },
    {
     "name": "stderr",
     "output_type": "stream",
     "text": [
      "29253407it [02:51, 206789.07it/s]"
     ]
    },
    {
     "name": "stdout",
     "output_type": "stream",
     "text": [
      "FINISHING 399\n",
      "START\n"
     ]
    },
    {
     "name": "stderr",
     "output_type": "stream",
     "text": [
      "29342275it [02:52, 217048.52it/s]"
     ]
    },
    {
     "name": "stdout",
     "output_type": "stream",
     "text": [
      "FINISHING 399\n",
      "START\n"
     ]
    },
    {
     "name": "stderr",
     "output_type": "stream",
     "text": [
      "29519229it [02:52, 220980.44it/s]"
     ]
    },
    {
     "name": "stdout",
     "output_type": "stream",
     "text": [
      "FINISHING 399\n",
      "START\n",
      "FINISHING 399\n",
      "START\n",
      "FINISHING 399\n",
      "START\n"
     ]
    },
    {
     "name": "stderr",
     "output_type": "stream",
     "text": [
      "29563977it [02:53, 213785.39it/s]"
     ]
    },
    {
     "name": "stdout",
     "output_type": "stream",
     "text": [
      "FINISHING 399\n",
      "START\n"
     ]
    },
    {
     "name": "stderr",
     "output_type": "stream",
     "text": [
      "29630089it [02:53, 217646.42it/s]"
     ]
    },
    {
     "name": "stdout",
     "output_type": "stream",
     "text": [
      "FINISHING 399\n",
      "START\n"
     ]
    },
    {
     "name": "stderr",
     "output_type": "stream",
     "text": [
      "29697290it [02:53, 221672.11it/s]"
     ]
    },
    {
     "name": "stdout",
     "output_type": "stream",
     "text": [
      "FINISHING 399\n",
      "START\n",
      "FINISHING 399\n",
      "START\n",
      "FINISHING 399\n",
      "START\n"
     ]
    },
    {
     "name": "stderr",
     "output_type": "stream",
     "text": [
      "29764067it [02:53, 220807.88it/s]"
     ]
    },
    {
     "name": "stdout",
     "output_type": "stream",
     "text": [
      "FINISHING 399\n",
      "START\n"
     ]
    },
    {
     "name": "stderr",
     "output_type": "stream",
     "text": [
      "29853240it [02:54, 221071.86it/s]"
     ]
    },
    {
     "name": "stdout",
     "output_type": "stream",
     "text": [
      "FINISHING 399\n",
      "START\n",
      "FINISHING 399\n",
      "START\n",
      "FINISHING 399\n",
      "START\n"
     ]
    },
    {
     "name": "stderr",
     "output_type": "stream",
     "text": [
      "29897300it [02:55, 76857.41it/s] "
     ]
    },
    {
     "name": "stdout",
     "output_type": "stream",
     "text": [
      "FINISHING 399\n",
      "START\n",
      "FINISHING 399\n",
      "START\n"
     ]
    },
    {
     "name": "stderr",
     "output_type": "stream",
     "text": [
      "29963259it [02:55, 134112.81it/s]"
     ]
    },
    {
     "name": "stdout",
     "output_type": "stream",
     "text": [
      "FINISHING 399\n",
      "START\n"
     ]
    },
    {
     "name": "stderr",
     "output_type": "stream",
     "text": [
      "30007622it [02:55, 167347.97it/s]"
     ]
    },
    {
     "name": "stdout",
     "output_type": "stream",
     "text": [
      "FINISHING 399\n",
      "START\n",
      "FINISHING 399\n",
      "START\n"
     ]
    },
    {
     "name": "stderr",
     "output_type": "stream",
     "text": [
      "30091697it [02:57, 87420.16it/s] "
     ]
    },
    {
     "name": "stdout",
     "output_type": "stream",
     "text": [
      "FINISHING 399\n",
      "START\n"
     ]
    },
    {
     "name": "stderr",
     "output_type": "stream",
     "text": [
      "30221649it [02:58, 185817.01it/s]"
     ]
    },
    {
     "name": "stdout",
     "output_type": "stream",
     "text": [
      "FINISHING 399\n",
      "START\n",
      "FINISHING 399\n",
      "START\n",
      "FINISHING 399\n",
      "START\n",
      "FINISHING 399\n",
      "START\n",
      "FINISHING 399\n",
      "START\n",
      "FINISHING 399\n",
      "START\n",
      "FINISHING 399\n",
      "START\n"
     ]
    },
    {
     "name": "stderr",
     "output_type": "stream",
     "text": [
      "\r",
      "30243016it [02:58, 177576.53it/s]"
     ]
    },
    {
     "name": "stdout",
     "output_type": "stream",
     "text": [
      "FINISHING 399\n",
      "START\n",
      "FINISHING 399\n",
      "START\n",
      "FINISHING 399\n",
      "START\n"
     ]
    },
    {
     "name": "stderr",
     "output_type": "stream",
     "text": [
      "30395174it [02:59, 212358.62it/s]"
     ]
    },
    {
     "name": "stdout",
     "output_type": "stream",
     "text": [
      "FINISHING 399\n",
      "START\n",
      "FINISHING 399\n",
      "START\n",
      "FINISHING 399\n",
      "START\n"
     ]
    },
    {
     "name": "stderr",
     "output_type": "stream",
     "text": [
      "30437731it [02:59, 199158.30it/s]"
     ]
    },
    {
     "name": "stdout",
     "output_type": "stream",
     "text": [
      "FINISHING 399\n",
      "START\n",
      "FINISHING 399\n",
      "START\n",
      "FINISHING 399\n",
      "START\n"
     ]
    },
    {
     "name": "stderr",
     "output_type": "stream",
     "text": [
      "30589255it [03:00, 202562.18it/s]"
     ]
    },
    {
     "name": "stdout",
     "output_type": "stream",
     "text": [
      "FINISHING 399\n",
      "START\n",
      "FINISHING 399\n",
      "START\n",
      "FINISHING 399\n",
      "START\n",
      "FINISHING 399\n",
      "START\n"
     ]
    },
    {
     "name": "stderr",
     "output_type": "stream",
     "text": [
      "\r",
      "30609912it [03:00, 184626.30it/s]"
     ]
    },
    {
     "name": "stdout",
     "output_type": "stream",
     "text": [
      "FINISHING 399\n",
      "START\n",
      "FINISHING 399\n",
      "START\n",
      "FINISHING 399\n",
      "START\n"
     ]
    },
    {
     "name": "stderr",
     "output_type": "stream",
     "text": [
      "30673882it [03:00, 129994.77it/s]"
     ]
    },
    {
     "name": "stdout",
     "output_type": "stream",
     "text": [
      "FINISHING 399\n",
      "START\n"
     ]
    },
    {
     "name": "stderr",
     "output_type": "stream",
     "text": [
      "30894661it [03:01, 216966.03it/s]"
     ]
    },
    {
     "name": "stdout",
     "output_type": "stream",
     "text": [
      "FINISHING 399\n",
      "START\n",
      "FINISHING 399\n",
      "START\n",
      "FINISHING 399\n",
      "START\n"
     ]
    },
    {
     "name": "stderr",
     "output_type": "stream",
     "text": [
      "30939031it [03:02, 218243.11it/s]"
     ]
    },
    {
     "name": "stdout",
     "output_type": "stream",
     "text": [
      "FINISHING 399\n",
      "START\n",
      "FINISHING 399\n",
      "START\n",
      "FINISHING 399\n",
      "START\n"
     ]
    },
    {
     "name": "stderr",
     "output_type": "stream",
     "text": [
      "30982237it [03:02, 206663.33it/s]"
     ]
    },
    {
     "name": "stdout",
     "output_type": "stream",
     "text": [
      "FINISHING 399\n",
      "START\n",
      "FINISHING 399\n",
      "START\n",
      "FINISHING 399\n",
      "START\n",
      "FINISHING 399\n",
      "START\n"
     ]
    },
    {
     "name": "stderr",
     "output_type": "stream",
     "text": [
      "31023168it [03:02, 194702.27it/s]"
     ]
    },
    {
     "name": "stdout",
     "output_type": "stream",
     "text": [
      "FINISHING 399\n",
      "START\n"
     ]
    },
    {
     "name": "stderr",
     "output_type": "stream",
     "text": [
      "31061036it [03:02, 141874.39it/s]"
     ]
    },
    {
     "name": "stdout",
     "output_type": "stream",
     "text": [
      "FINISHING 399\n",
      "START\n"
     ]
    },
    {
     "name": "stderr",
     "output_type": "stream",
     "text": [
      "31117069it [03:03, 167623.19it/s]"
     ]
    },
    {
     "name": "stdout",
     "output_type": "stream",
     "text": [
      "FINISHING 399\n",
      "START\n",
      "FINISHING 399\n",
      "START\n",
      "FINISHING 399\n",
      "START\n"
     ]
    },
    {
     "name": "stderr",
     "output_type": "stream",
     "text": [
      "31153958it [03:03, 175004.23it/s]"
     ]
    },
    {
     "name": "stdout",
     "output_type": "stream",
     "text": [
      "FINISHING 399\n",
      "START\n"
     ]
    },
    {
     "name": "stderr",
     "output_type": "stream",
     "text": [
      "31232116it [03:03, 189557.42it/s]"
     ]
    },
    {
     "name": "stdout",
     "output_type": "stream",
     "text": [
      "FINISHING 399\n",
      "START\n",
      "FINISHING 399\n",
      "START\n",
      "FINISHING 399\n",
      "START\n",
      "FINISHING 399\n",
      "START\n"
     ]
    },
    {
     "name": "stderr",
     "output_type": "stream",
     "text": [
      "31288344it [03:05, 77482.84it/s] "
     ]
    },
    {
     "name": "stdout",
     "output_type": "stream",
     "text": [
      "FINISHING 399\n",
      "START\n",
      "FINISHING 399\n",
      "START\n"
     ]
    },
    {
     "name": "stderr",
     "output_type": "stream",
     "text": [
      "31326298it [03:05, 110672.66it/s]"
     ]
    },
    {
     "name": "stdout",
     "output_type": "stream",
     "text": [
      "FINISHING 399\n",
      "START\n"
     ]
    },
    {
     "name": "stderr",
     "output_type": "stream",
     "text": [
      "31402799it [03:05, 162209.12it/s]"
     ]
    },
    {
     "name": "stdout",
     "output_type": "stream",
     "text": [
      "FINISHING 399\n",
      "START\n",
      "FINISHING 399\n",
      "START\n",
      "FINISHING 399\n",
      "START\n",
      "FINISHING 399\n",
      "START\n"
     ]
    },
    {
     "name": "stderr",
     "output_type": "stream",
     "text": [
      "31455622it [03:06, 155590.06it/s]"
     ]
    },
    {
     "name": "stdout",
     "output_type": "stream",
     "text": [
      "FINISHING 399\n",
      "START\n",
      "FINISHING 399\n",
      "START\n"
     ]
    },
    {
     "name": "stderr",
     "output_type": "stream",
     "text": [
      "31543894it [03:06, 172201.65it/s]"
     ]
    },
    {
     "name": "stdout",
     "output_type": "stream",
     "text": [
      "FINISHING 399\n",
      "START\n",
      "FINISHING 399\n",
      "START\n"
     ]
    },
    {
     "name": "stderr",
     "output_type": "stream",
     "text": [
      "31677848it [03:07, 191718.00it/s]"
     ]
    },
    {
     "name": "stdout",
     "output_type": "stream",
     "text": [
      "FINISHING 399\n",
      "START\n",
      "FINISHING 399\n",
      "START\n",
      "FINISHING 399\n",
      "START\n"
     ]
    },
    {
     "name": "stderr",
     "output_type": "stream",
     "text": [
      "31735650it [03:07, 190247.43it/s]"
     ]
    },
    {
     "name": "stdout",
     "output_type": "stream",
     "text": [
      "FINISHING 399\n",
      "START\n"
     ]
    },
    {
     "name": "stderr",
     "output_type": "stream",
     "text": [
      "31774836it [03:07, 192476.01it/s]"
     ]
    },
    {
     "name": "stdout",
     "output_type": "stream",
     "text": [
      "FINISHING 399\n",
      "START\n"
     ]
    },
    {
     "name": "stderr",
     "output_type": "stream",
     "text": [
      "31814005it [03:08, 193530.83it/s]"
     ]
    },
    {
     "name": "stdout",
     "output_type": "stream",
     "text": [
      "FINISHING 399\n",
      "START\n"
     ]
    },
    {
     "name": "stderr",
     "output_type": "stream",
     "text": [
      "31852252it [03:08, 188405.74it/s]"
     ]
    },
    {
     "name": "stdout",
     "output_type": "stream",
     "text": [
      "FINISHING 399\n",
      "START\n",
      "FINISHING 399\n",
      "START\n",
      "FINISHING 399\n",
      "START\n"
     ]
    },
    {
     "name": "stderr",
     "output_type": "stream",
     "text": [
      "31909908it [03:08, 189894.21it/s]"
     ]
    },
    {
     "name": "stdout",
     "output_type": "stream",
     "text": [
      "FINISHING 399\n",
      "START\n",
      "FINISHING 399\n",
      "START\n",
      "FINISHING 399\n",
      "START\n"
     ]
    },
    {
     "name": "stderr",
     "output_type": "stream",
     "text": [
      "32143583it [03:09, 195659.16it/s]"
     ]
    },
    {
     "name": "stdout",
     "output_type": "stream",
     "text": [
      "FINISHING 399\n",
      "START\n"
     ]
    },
    {
     "name": "stderr",
     "output_type": "stream",
     "text": [
      "32306057it [03:10, 198957.77it/s]"
     ]
    },
    {
     "name": "stdout",
     "output_type": "stream",
     "text": [
      "FINISHING 399\n",
      "START\n",
      "FINISHING 399\n",
      "START\n",
      "FINISHING 399\n",
      "START\n"
     ]
    },
    {
     "name": "stderr",
     "output_type": "stream",
     "text": [
      "32347568it [03:12, 56172.32it/s] "
     ]
    },
    {
     "name": "stdout",
     "output_type": "stream",
     "text": [
      "FINISHING 399\n",
      "START\n",
      "FINISHING 399\n",
      "START\n"
     ]
    },
    {
     "name": "stderr",
     "output_type": "stream",
     "text": [
      "32446892it [03:12, 137411.90it/s]"
     ]
    },
    {
     "name": "stdout",
     "output_type": "stream",
     "text": [
      "FINISHING 399\n",
      "START\n"
     ]
    },
    {
     "name": "stderr",
     "output_type": "stream",
     "text": [
      "32510863it [03:12, 180622.68it/s]"
     ]
    },
    {
     "name": "stdout",
     "output_type": "stream",
     "text": [
      "FINISHING 399\n",
      "START\n",
      "FINISHING 399\n",
      "START\n"
     ]
    },
    {
     "name": "stderr",
     "output_type": "stream",
     "text": [
      "32574334it [03:13, 152595.20it/s]"
     ]
    },
    {
     "name": "stdout",
     "output_type": "stream",
     "text": [
      "FINISHING 399\n",
      "START\n"
     ]
    },
    {
     "name": "stderr",
     "output_type": "stream",
     "text": [
      "32638383it [03:13, 186910.19it/s]"
     ]
    },
    {
     "name": "stdout",
     "output_type": "stream",
     "text": [
      "FINISHING 399\n",
      "START\n",
      "FINISHING 399\n",
      "START\n",
      "FINISHING 399\n",
      "START\n",
      "FINISHING 399\n",
      "START\n",
      "FINISHING 399\n",
      "START\n"
     ]
    },
    {
     "name": "stderr",
     "output_type": "stream",
     "text": [
      "32700536it [03:13, 199974.94it/s]"
     ]
    },
    {
     "name": "stdout",
     "output_type": "stream",
     "text": [
      "FINISHING 399\n",
      "START\n"
     ]
    },
    {
     "name": "stderr",
     "output_type": "stream",
     "text": [
      "32796408it [03:15, 59661.51it/s] "
     ]
    },
    {
     "name": "stdout",
     "output_type": "stream",
     "text": [
      "FINISHING 399\n",
      "START\n"
     ]
    },
    {
     "name": "stderr",
     "output_type": "stream",
     "text": [
      "32941773it [03:16, 181363.26it/s]"
     ]
    },
    {
     "name": "stdout",
     "output_type": "stream",
     "text": [
      "FINISHING 399\n",
      "START\n",
      "FINISHING 399\n",
      "START\n"
     ]
    },
    {
     "name": "stderr",
     "output_type": "stream",
     "text": [
      "32985598it [03:16, 199464.33it/s]"
     ]
    },
    {
     "name": "stdout",
     "output_type": "stream",
     "text": [
      "FINISHING 399\n",
      "START\n",
      "FINISHING 399\n",
      "START\n"
     ]
    },
    {
     "name": "stderr",
     "output_type": "stream",
     "text": [
      "33051001it [03:17, 200085.62it/s]"
     ]
    },
    {
     "name": "stdout",
     "output_type": "stream",
     "text": [
      "FINISHING 399\n",
      "START\n",
      "FINISHING 399\n",
      "START\n",
      "FINISHING 399\n",
      "START\n"
     ]
    },
    {
     "name": "stderr",
     "output_type": "stream",
     "text": [
      "33202114it [03:17, 200749.42it/s]"
     ]
    },
    {
     "name": "stdout",
     "output_type": "stream",
     "text": [
      "FINISHING 399\n",
      "START\n"
     ]
    },
    {
     "name": "stderr",
     "output_type": "stream",
     "text": [
      "33333231it [03:18, 214575.47it/s]"
     ]
    },
    {
     "name": "stdout",
     "output_type": "stream",
     "text": [
      "FINISHING 399\n",
      "START\n",
      "FINISHING 399\n",
      "START\n",
      "FINISHING 399\n",
      "START\n",
      "FINISHING 399\n",
      "START\n"
     ]
    },
    {
     "name": "stderr",
     "output_type": "stream",
     "text": [
      "33414907it [03:18, 194766.26it/s]"
     ]
    },
    {
     "name": "stdout",
     "output_type": "stream",
     "text": [
      "FINISHING 399\n",
      "START\n",
      "FINISHING 399\n",
      "START\n",
      "FINISHING 399\n",
      "START\n"
     ]
    },
    {
     "name": "stderr",
     "output_type": "stream",
     "text": [
      "33514135it [03:19, 197699.97it/s]"
     ]
    },
    {
     "name": "stdout",
     "output_type": "stream",
     "text": [
      "FINISHING 399\n",
      "START\n"
     ]
    },
    {
     "name": "stderr",
     "output_type": "stream",
     "text": [
      "33612705it [03:19, 192941.28it/s]"
     ]
    },
    {
     "name": "stdout",
     "output_type": "stream",
     "text": [
      "FINISHING 399\n",
      "START\n"
     ]
    },
    {
     "name": "stderr",
     "output_type": "stream",
     "text": [
      "33736256it [03:20, 207069.16it/s]"
     ]
    },
    {
     "name": "stdout",
     "output_type": "stream",
     "text": [
      "FINISHING 399\n",
      "START\n"
     ]
    },
    {
     "name": "stderr",
     "output_type": "stream",
     "text": [
      "33828463it [03:20, 224870.69it/s]"
     ]
    },
    {
     "name": "stdout",
     "output_type": "stream",
     "text": [
      "FINISHING 399\n",
      "START\n"
     ]
    },
    {
     "name": "stderr",
     "output_type": "stream",
     "text": [
      "33891519it [03:21, 193249.19it/s]"
     ]
    },
    {
     "name": "stdout",
     "output_type": "stream",
     "text": [
      "FINISHING 399\n",
      "START\n"
     ]
    },
    {
     "name": "stderr",
     "output_type": "stream",
     "text": [
      "33999486it [03:21, 213811.64it/s]"
     ]
    },
    {
     "name": "stdout",
     "output_type": "stream",
     "text": [
      "FINISHING 399\n",
      "START\n",
      "FINISHING 399\n",
      "START\n",
      "FINISHING 399\n",
      "START\n",
      "FINISHING 399\n",
      "START\n"
     ]
    },
    {
     "name": "stderr",
     "output_type": "stream",
     "text": [
      "34067741it [03:22, 223152.39it/s]"
     ]
    },
    {
     "name": "stdout",
     "output_type": "stream",
     "text": [
      "FINISHING 399\n",
      "START\n",
      "FINISHING 399\n",
      "START\n"
     ]
    },
    {
     "name": "stderr",
     "output_type": "stream",
     "text": [
      "34112144it [03:22, 220171.62it/s]"
     ]
    },
    {
     "name": "stdout",
     "output_type": "stream",
     "text": [
      "FINISHING 399\n",
      "START\n"
     ]
    },
    {
     "name": "stderr",
     "output_type": "stream",
     "text": [
      "34223618it [03:22, 221473.52it/s]"
     ]
    },
    {
     "name": "stdout",
     "output_type": "stream",
     "text": [
      "FINISHING 399\n",
      "START\n"
     ]
    },
    {
     "name": "stderr",
     "output_type": "stream",
     "text": [
      "34313072it [03:23, 217223.12it/s]"
     ]
    },
    {
     "name": "stdout",
     "output_type": "stream",
     "text": [
      "FINISHING 399\n",
      "START\n"
     ]
    },
    {
     "name": "stderr",
     "output_type": "stream",
     "text": [
      "34402970it [03:23, 222585.51it/s]"
     ]
    },
    {
     "name": "stdout",
     "output_type": "stream",
     "text": [
      "FINISHING 399\n",
      "START\n",
      "FINISHING 399\n",
      "START\n"
     ]
    },
    {
     "name": "stderr",
     "output_type": "stream",
     "text": [
      "34471392it [03:23, 226082.56it/s]"
     ]
    },
    {
     "name": "stdout",
     "output_type": "stream",
     "text": [
      "FINISHING 399\n",
      "START\n"
     ]
    },
    {
     "name": "stderr",
     "output_type": "stream",
     "text": [
      "34538585it [03:24, 220021.18it/s]"
     ]
    },
    {
     "name": "stdout",
     "output_type": "stream",
     "text": [
      "FINISHING 399\n",
      "START\n",
      "FINISHING 399\n",
      "START\n"
     ]
    },
    {
     "name": "stderr",
     "output_type": "stream",
     "text": [
      "34604275it [03:24, 216550.54it/s]"
     ]
    },
    {
     "name": "stdout",
     "output_type": "stream",
     "text": [
      "FINISHING 399\n",
      "START\n"
     ]
    },
    {
     "name": "stderr",
     "output_type": "stream",
     "text": [
      "34647246it [03:24, 176671.71it/s]"
     ]
    },
    {
     "name": "stdout",
     "output_type": "stream",
     "text": [
      "FINISHING 399\n",
      "START\n"
     ]
    },
    {
     "name": "stderr",
     "output_type": "stream",
     "text": [
      "34729861it [03:25, 194196.10it/s]"
     ]
    },
    {
     "name": "stdout",
     "output_type": "stream",
     "text": [
      "FINISHING 399\n",
      "START\n",
      "FINISHING 399\n",
      "START\n"
     ]
    },
    {
     "name": "stderr",
     "output_type": "stream",
     "text": [
      "34794582it [03:25, 206979.68it/s]"
     ]
    },
    {
     "name": "stdout",
     "output_type": "stream",
     "text": [
      "FINISHING 399\n",
      "START\n",
      "FINISHING 399\n",
      "START\n",
      "FINISHING 399\n",
      "START\n"
     ]
    },
    {
     "name": "stderr",
     "output_type": "stream",
     "text": [
      "34857967it [03:25, 193594.03it/s]"
     ]
    },
    {
     "name": "stdout",
     "output_type": "stream",
     "text": [
      "FINISHING 399\n",
      "START\n"
     ]
    },
    {
     "name": "stderr",
     "output_type": "stream",
     "text": [
      "34925247it [03:26, 212933.12it/s]"
     ]
    },
    {
     "name": "stdout",
     "output_type": "stream",
     "text": [
      "FINISHING 399\n",
      "START\n"
     ]
    },
    {
     "name": "stderr",
     "output_type": "stream",
     "text": [
      "35009128it [03:26, 153229.77it/s]"
     ]
    },
    {
     "name": "stdout",
     "output_type": "stream",
     "text": [
      "FINISHING 399\n",
      "START\n"
     ]
    },
    {
     "name": "stderr",
     "output_type": "stream",
     "text": [
      "35070470it [03:27, 183552.81it/s]"
     ]
    },
    {
     "name": "stdout",
     "output_type": "stream",
     "text": [
      "FINISHING 399\n",
      "START\n",
      "FINISHING 399\n",
      "START\n",
      "FINISHING 399\n",
      "START\n"
     ]
    },
    {
     "name": "stderr",
     "output_type": "stream",
     "text": [
      "35111542it [03:27, 193993.46it/s]"
     ]
    },
    {
     "name": "stdout",
     "output_type": "stream",
     "text": [
      "FINISHING 399\n",
      "START\n",
      "FINISHING 399\n",
      "START\n",
      "FINISHING 399\n",
      "START\n"
     ]
    },
    {
     "name": "stderr",
     "output_type": "stream",
     "text": [
      "35267615it [03:28, 218389.56it/s]"
     ]
    },
    {
     "name": "stdout",
     "output_type": "stream",
     "text": [
      "FINISHING 399\n",
      "START\n"
     ]
    },
    {
     "name": "stderr",
     "output_type": "stream",
     "text": [
      "35442653it [03:28, 219082.87it/s]"
     ]
    },
    {
     "name": "stdout",
     "output_type": "stream",
     "text": [
      "FINISHING 399\n",
      "START\n",
      "FINISHING 399\n",
      "START\n",
      "FINISHING 399\n",
      "START\n",
      "FINISHING 399\n",
      "START\n"
     ]
    },
    {
     "name": "stderr",
     "output_type": "stream",
     "text": [
      "35486537it [03:29, 215957.78it/s]"
     ]
    },
    {
     "name": "stdout",
     "output_type": "stream",
     "text": [
      "FINISHING 399\n",
      "START\n"
     ]
    },
    {
     "name": "stderr",
     "output_type": "stream",
     "text": [
      "35572708it [03:29, 214091.60it/s]"
     ]
    },
    {
     "name": "stdout",
     "output_type": "stream",
     "text": [
      "FINISHING 399\n",
      "START\n",
      "FINISHING 399\n",
      "START\n"
     ]
    },
    {
     "name": "stderr",
     "output_type": "stream",
     "text": [
      "35703360it [03:30, 210344.55it/s]"
     ]
    },
    {
     "name": "stdout",
     "output_type": "stream",
     "text": [
      "FINISHING 399\n",
      "START\n",
      "FINISHING 399\n",
      "START\n"
     ]
    },
    {
     "name": "stderr",
     "output_type": "stream",
     "text": [
      "35743575it [03:30, 176794.99it/s]"
     ]
    },
    {
     "name": "stdout",
     "output_type": "stream",
     "text": [
      "FINISHING 399\n",
      "START\n"
     ]
    },
    {
     "name": "stderr",
     "output_type": "stream",
     "text": [
      "35832777it [03:30, 208818.25it/s]"
     ]
    },
    {
     "name": "stdout",
     "output_type": "stream",
     "text": [
      "FINISHING 399\n",
      "START\n",
      "FINISHING 399\n",
      "START\n"
     ]
    },
    {
     "name": "stderr",
     "output_type": "stream",
     "text": [
      "35946361it [03:31, 221416.60it/s]"
     ]
    },
    {
     "name": "stdout",
     "output_type": "stream",
     "text": [
      "FINISHING 399\n",
      "START\n"
     ]
    },
    {
     "name": "stderr",
     "output_type": "stream",
     "text": [
      "36014125it [03:31, 223105.66it/s]"
     ]
    },
    {
     "name": "stdout",
     "output_type": "stream",
     "text": [
      "FINISHING 399\n",
      "START\n"
     ]
    },
    {
     "name": "stderr",
     "output_type": "stream",
     "text": [
      "36081865it [03:32, 223017.44it/s]"
     ]
    },
    {
     "name": "stdout",
     "output_type": "stream",
     "text": [
      "FINISHING 399\n",
      "START\n"
     ]
    },
    {
     "name": "stderr",
     "output_type": "stream",
     "text": [
      "36171540it [03:32, 214074.88it/s]"
     ]
    },
    {
     "name": "stdout",
     "output_type": "stream",
     "text": [
      "FINISHING 399\n",
      "START\n",
      "FINISHING 399\n",
      "START\n"
     ]
    },
    {
     "name": "stderr",
     "output_type": "stream",
     "text": [
      "36257594it [03:32, 214541.11it/s]"
     ]
    },
    {
     "name": "stdout",
     "output_type": "stream",
     "text": [
      "FINISHING 399\n",
      "START\n",
      "FINISHING 399\n",
      "START\n"
     ]
    },
    {
     "name": "stderr",
     "output_type": "stream",
     "text": [
      "36324512it [03:33, 211466.12it/s]"
     ]
    },
    {
     "name": "stdout",
     "output_type": "stream",
     "text": [
      "FINISHING 399\n",
      "START\n",
      "FINISHING 399\n",
      "START\n"
     ]
    },
    {
     "name": "stderr",
     "output_type": "stream",
     "text": [
      "36475805it [03:33, 214916.52it/s]"
     ]
    },
    {
     "name": "stdout",
     "output_type": "stream",
     "text": [
      "FINISHING 399\n",
      "START\n",
      "FINISHING 399\n",
      "START\n"
     ]
    },
    {
     "name": "stderr",
     "output_type": "stream",
     "text": [
      "36691643it [03:34, 205227.43it/s]"
     ]
    },
    {
     "name": "stdout",
     "output_type": "stream",
     "text": [
      "FINISHING 399\n",
      "START\n"
     ]
    },
    {
     "name": "stderr",
     "output_type": "stream",
     "text": [
      "36734185it [03:35, 207355.22it/s]"
     ]
    },
    {
     "name": "stdout",
     "output_type": "stream",
     "text": [
      "FINISHING 399\n",
      "START\n",
      "FINISHING 399\n",
      "START\n",
      "FINISHING 399\n",
      "START\n",
      "FINISHING 399\n",
      "START\n",
      "FINISHING 399\n",
      "START\n",
      "FINISHING 399\n",
      "START\n"
     ]
    },
    {
     "name": "stderr",
     "output_type": "stream",
     "text": [
      "37096648it [03:37, 176736.37it/s]"
     ]
    },
    {
     "name": "stdout",
     "output_type": "stream",
     "text": [
      "FINISHING 399\n",
      "START\n",
      "FINISHING 399\n",
      "START\n",
      "FINISHING 399\n",
      "START\n",
      "FINISHING 399\n",
      "START\n"
     ]
    },
    {
     "name": "stderr",
     "output_type": "stream",
     "text": [
      "37138366it [03:38, 189644.22it/s]"
     ]
    },
    {
     "name": "stdout",
     "output_type": "stream",
     "text": [
      "FINISHING 399\n",
      "START\n",
      "FINISHING 399\n",
      "START\n"
     ]
    },
    {
     "name": "stderr",
     "output_type": "stream",
     "text": [
      "37202554it [03:38, 128151.30it/s]"
     ]
    },
    {
     "name": "stdout",
     "output_type": "stream",
     "text": [
      "FINISHING 399\n",
      "START\n"
     ]
    },
    {
     "name": "stderr",
     "output_type": "stream",
     "text": [
      "37263183it [03:38, 168034.68it/s]"
     ]
    },
    {
     "name": "stdout",
     "output_type": "stream",
     "text": [
      "FINISHING 399\n",
      "START\n"
     ]
    },
    {
     "name": "stderr",
     "output_type": "stream",
     "text": [
      "37325313it [03:39, 190590.22it/s]"
     ]
    },
    {
     "name": "stdout",
     "output_type": "stream",
     "text": [
      "FINISHING 399\n",
      "START\n"
     ]
    },
    {
     "name": "stderr",
     "output_type": "stream",
     "text": [
      "37433984it [03:39, 214968.77it/s]"
     ]
    },
    {
     "name": "stdout",
     "output_type": "stream",
     "text": [
      "FINISHING 399\n",
      "START\n"
     ]
    },
    {
     "name": "stderr",
     "output_type": "stream",
     "text": [
      "37590603it [03:40, 221111.30it/s]"
     ]
    },
    {
     "name": "stdout",
     "output_type": "stream",
     "text": [
      "FINISHING 399\n",
      "START\n",
      "FINISHING 399\n",
      "START\n",
      "FINISHING 399\n",
      "START\n",
      "FINISHING 399\n",
      "START\n",
      "FINISHING 399\n",
      "START\n",
      "FINISHING 399\n",
      "START\n",
      "FINISHING 399\n",
      "START\n"
     ]
    },
    {
     "name": "stderr",
     "output_type": "stream",
     "text": [
      "37656514it [03:40, 214546.27it/s]"
     ]
    },
    {
     "name": "stdout",
     "output_type": "stream",
     "text": [
      "FINISHING 399\n",
      "START\n",
      "FINISHING 399\n",
      "START\n"
     ]
    },
    {
     "name": "stderr",
     "output_type": "stream",
     "text": [
      "37699770it [03:40, 213539.51it/s]"
     ]
    },
    {
     "name": "stdout",
     "output_type": "stream",
     "text": [
      "FINISHING 399\n",
      "START\n",
      "FINISHING 399\n",
      "START\n"
     ]
    },
    {
     "name": "stderr",
     "output_type": "stream",
     "text": [
      "37760116it [03:41, 190048.04it/s]"
     ]
    },
    {
     "name": "stdout",
     "output_type": "stream",
     "text": [
      "FINISHING 399\n",
      "START\n"
     ]
    },
    {
     "name": "stderr",
     "output_type": "stream",
     "text": [
      "37844494it [03:41, 170914.90it/s]"
     ]
    },
    {
     "name": "stdout",
     "output_type": "stream",
     "text": [
      "FINISHING 399\n",
      "START\n"
     ]
    },
    {
     "name": "stderr",
     "output_type": "stream",
     "text": [
      "37993896it [03:42, 156307.04it/s]"
     ]
    },
    {
     "name": "stdout",
     "output_type": "stream",
     "text": [
      "FINISHING 399\n",
      "START\n",
      "FINISHING 399\n",
      "START\n",
      "FINISHING 399\n",
      "START\n",
      "FINISHING 399\n",
      "START\n",
      "FINISHING 399\n",
      "START\n",
      "FINISHING 399\n",
      "START\n"
     ]
    },
    {
     "name": "stderr",
     "output_type": "stream",
     "text": [
      "38058414it [03:43, 190049.20it/s]"
     ]
    },
    {
     "name": "stdout",
     "output_type": "stream",
     "text": [
      "FINISHING 399\n",
      "START\n",
      "FINISHING 399\n",
      "START\n",
      "FINISHING 399\n",
      "START\n",
      "FINISHING 399\n",
      "START\n",
      "FINISHING 399\n",
      "START\n"
     ]
    },
    {
     "name": "stderr",
     "output_type": "stream",
     "text": [
      "38121894it [03:43, 203899.40it/s]"
     ]
    },
    {
     "name": "stdout",
     "output_type": "stream",
     "text": [
      "FINISHING 399\n",
      "START\n",
      "FINISHING 399\n",
      "START\n",
      "FINISHING 399\n",
      "START\n"
     ]
    },
    {
     "name": "stderr",
     "output_type": "stream",
     "text": [
      "38184907it [03:43, 204381.70it/s]"
     ]
    },
    {
     "name": "stdout",
     "output_type": "stream",
     "text": [
      "FINISHING 399\n",
      "START\n",
      "FINISHING 399\n",
      "START\n"
     ]
    },
    {
     "name": "stderr",
     "output_type": "stream",
     "text": [
      "38485701it [03:45, 209325.50it/s]"
     ]
    },
    {
     "name": "stdout",
     "output_type": "stream",
     "text": [
      "FINISHING 399\n",
      "START\n",
      "FINISHING 399\n",
      "START\n",
      "FINISHING 399\n",
      "START\n",
      "FINISHING 399\n",
      "START\n",
      "FINISHING 399\n",
      "START\n"
     ]
    },
    {
     "name": "stderr",
     "output_type": "stream",
     "text": [
      "38529716it [03:45, 215239.24it/s]"
     ]
    },
    {
     "name": "stdout",
     "output_type": "stream",
     "text": [
      "FINISHING 399\n",
      "START\n",
      "FINISHING 399\n",
      "START\n",
      "FINISHING 399\n",
      "START\n"
     ]
    },
    {
     "name": "stderr",
     "output_type": "stream",
     "text": [
      "38637553it [03:46, 206415.98it/s]"
     ]
    },
    {
     "name": "stdout",
     "output_type": "stream",
     "text": [
      "FINISHING 399\n",
      "START\n"
     ]
    },
    {
     "name": "stderr",
     "output_type": "stream",
     "text": [
      "38730190it [03:47, 140189.00it/s]"
     ]
    },
    {
     "name": "stdout",
     "output_type": "stream",
     "text": [
      "FINISHING 399\n",
      "START\n",
      "FINISHING 399\n",
      "START\n"
     ]
    },
    {
     "name": "stderr",
     "output_type": "stream",
     "text": [
      "38775801it [03:47, 116983.32it/s]"
     ]
    },
    {
     "name": "stdout",
     "output_type": "stream",
     "text": [
      "FINISHING 399\n",
      "START\n",
      "FINISHING 399\n",
      "START\n"
     ]
    },
    {
     "name": "stderr",
     "output_type": "stream",
     "text": [
      "38816026it [03:47, 152238.33it/s]"
     ]
    },
    {
     "name": "stdout",
     "output_type": "stream",
     "text": [
      "FINISHING 399\n",
      "START\n",
      "FINISHING 399\n",
      "START\n"
     ]
    },
    {
     "name": "stderr",
     "output_type": "stream",
     "text": [
      "38875511it [03:48, 114543.94it/s]"
     ]
    },
    {
     "name": "stdout",
     "output_type": "stream",
     "text": [
      "FINISHING 399\n",
      "START\n"
     ]
    },
    {
     "name": "stderr",
     "output_type": "stream",
     "text": [
      "38908806it [03:48, 126648.31it/s]"
     ]
    },
    {
     "name": "stdout",
     "output_type": "stream",
     "text": [
      "FINISHING 399\n",
      "START\n"
     ]
    },
    {
     "name": "stderr",
     "output_type": "stream",
     "text": [
      "38941072it [03:49, 129847.80it/s]"
     ]
    },
    {
     "name": "stdout",
     "output_type": "stream",
     "text": [
      "FINISHING 399\n",
      "START\n",
      "FINISHING 399\n",
      "START\n"
     ]
    },
    {
     "name": "stderr",
     "output_type": "stream",
     "text": [
      "38982099it [03:49, 163847.43it/s]"
     ]
    },
    {
     "name": "stdout",
     "output_type": "stream",
     "text": [
      "FINISHING 399\n",
      "START\n"
     ]
    },
    {
     "name": "stderr",
     "output_type": "stream",
     "text": [
      "39044839it [03:49, 188334.58it/s]"
     ]
    },
    {
     "name": "stdout",
     "output_type": "stream",
     "text": [
      "FINISHING 399\n",
      "START\n",
      "FINISHING 399\n",
      "START\n",
      "FINISHING 399\n",
      "START\n",
      "FINISHING 399\n",
      "START\n"
     ]
    },
    {
     "name": "stderr",
     "output_type": "stream",
     "text": [
      "39101486it [03:49, 167358.06it/s]"
     ]
    },
    {
     "name": "stdout",
     "output_type": "stream",
     "text": [
      "FINISHING 399\n",
      "START\n"
     ]
    },
    {
     "name": "stderr",
     "output_type": "stream",
     "text": [
      "39174785it [03:50, 170932.52it/s]"
     ]
    },
    {
     "name": "stdout",
     "output_type": "stream",
     "text": [
      "FINISHING 399\n",
      "START\n",
      "FINISHING 399\n",
      "START\n",
      "FINISHING 399\n",
      "START\n",
      "FINISHING 399\n",
      "START\n",
      "FINISHING 399\n",
      "START\n"
     ]
    },
    {
     "name": "stderr",
     "output_type": "stream",
     "text": [
      "39264518it [03:50, 154852.03it/s]"
     ]
    },
    {
     "name": "stdout",
     "output_type": "stream",
     "text": [
      "FINISHING 399\n",
      "START\n",
      "FINISHING 399\n",
      "START\n",
      "FINISHING 399\n",
      "START\n"
     ]
    },
    {
     "name": "stderr",
     "output_type": "stream",
     "text": [
      "39303362it [03:51, 171286.22it/s]"
     ]
    },
    {
     "name": "stdout",
     "output_type": "stream",
     "text": [
      "FINISHING 399\n",
      "START\n"
     ]
    },
    {
     "name": "stderr",
     "output_type": "stream",
     "text": [
      "39359867it [03:51, 169538.20it/s]"
     ]
    },
    {
     "name": "stdout",
     "output_type": "stream",
     "text": [
      "FINISHING 399\n",
      "START\n"
     ]
    },
    {
     "name": "stderr",
     "output_type": "stream",
     "text": [
      "39439243it [03:52, 140943.78it/s]"
     ]
    },
    {
     "name": "stdout",
     "output_type": "stream",
     "text": [
      "FINISHING 399\n",
      "START\n",
      "FINISHING 399\n",
      "START\n"
     ]
    },
    {
     "name": "stderr",
     "output_type": "stream",
     "text": [
      "39500697it [03:52, 178064.50it/s]"
     ]
    },
    {
     "name": "stdout",
     "output_type": "stream",
     "text": [
      "FINISHING 399\n",
      "START\n",
      "FINISHING 399\n",
      "START\n"
     ]
    },
    {
     "name": "stderr",
     "output_type": "stream",
     "text": [
      "39692940it [03:53, 192592.03it/s]"
     ]
    },
    {
     "name": "stdout",
     "output_type": "stream",
     "text": [
      "FINISHING 399\n",
      "START\n",
      "FINISHING 399\n",
      "START\n",
      "FINISHING 399\n",
      "START\n",
      "FINISHING 399\n",
      "START\n",
      "FINISHING 399\n",
      "START\n"
     ]
    },
    {
     "name": "stderr",
     "output_type": "stream",
     "text": [
      "39756493it [03:53, 204362.68it/s]"
     ]
    },
    {
     "name": "stdout",
     "output_type": "stream",
     "text": [
      "FINISHING 399\n",
      "START\n",
      "FINISHING 399\n",
      "START\n",
      "FINISHING 399\n",
      "START\n",
      "FINISHING 399\n",
      "START\n"
     ]
    },
    {
     "name": "stderr",
     "output_type": "stream",
     "text": [
      "39819419it [03:54, 206360.39it/s]"
     ]
    },
    {
     "name": "stdout",
     "output_type": "stream",
     "text": [
      "FINISHING 399\n",
      "START\n",
      "FINISHING 399\n",
      "START\n",
      "FINISHING 399\n",
      "START\n"
     ]
    },
    {
     "name": "stderr",
     "output_type": "stream",
     "text": [
      "39901948it [03:54, 179915.98it/s]"
     ]
    },
    {
     "name": "stdout",
     "output_type": "stream",
     "text": [
      "FINISHING 399\n",
      "START\n",
      "FINISHING 399\n",
      "START\n"
     ]
    },
    {
     "name": "stderr",
     "output_type": "stream",
     "text": [
      "39943663it [03:54, 194142.66it/s]"
     ]
    },
    {
     "name": "stdout",
     "output_type": "stream",
     "text": [
      "FINISHING 399\n",
      "START\n"
     ]
    },
    {
     "name": "stderr",
     "output_type": "stream",
     "text": [
      "\r",
      "39965673it [03:55, 201539.30it/s]"
     ]
    },
    {
     "name": "stdout",
     "output_type": "stream",
     "text": [
      "FINISHING 399\n",
      "START\n"
     ]
    },
    {
     "name": "stderr",
     "output_type": "stream",
     "text": [
      "40104494it [03:57, 124788.67it/s]"
     ]
    },
    {
     "name": "stdout",
     "output_type": "stream",
     "text": [
      "FINISHING 399\n",
      "START\n",
      "FINISHING 399\n",
      "START\n",
      "FINISHING 399\n",
      "START\n",
      "FINISHING 399\n",
      "START\n",
      "FINISHING 399\n",
      "START\n",
      "FINISHING 399\n",
      "START\n",
      "FINISHING 399\n",
      "START\n"
     ]
    },
    {
     "name": "stderr",
     "output_type": "stream",
     "text": [
      "40171820it [03:57, 178647.91it/s]"
     ]
    },
    {
     "name": "stdout",
     "output_type": "stream",
     "text": [
      "FINISHING 399\n",
      "START\n",
      "FINISHING 399\n",
      "START\n",
      "FINISHING 399\n",
      "START\n"
     ]
    },
    {
     "name": "stderr",
     "output_type": "stream",
     "text": [
      "40215366it [03:57, 196730.48it/s]"
     ]
    },
    {
     "name": "stdout",
     "output_type": "stream",
     "text": [
      "FINISHING 399\n",
      "START\n",
      "FINISHING 399\n",
      "START\n",
      "FINISHING 399\n",
      "START\n",
      "FINISHING 399\n",
      "START\n",
      "FINISHING 399\n",
      "START\n"
     ]
    },
    {
     "name": "stderr",
     "output_type": "stream",
     "text": [
      "40258369it [03:57, 203784.88it/s]"
     ]
    },
    {
     "name": "stdout",
     "output_type": "stream",
     "text": [
      "FINISHING 399\n",
      "START\n",
      "FINISHING 399\n",
      "START\n"
     ]
    },
    {
     "name": "stderr",
     "output_type": "stream",
     "text": [
      "40300249it [03:58, 87586.98it/s] "
     ]
    },
    {
     "name": "stdout",
     "output_type": "stream",
     "text": [
      "FINISHING 399\n",
      "START\n",
      "FINISHING 399\n",
      "START\n"
     ]
    },
    {
     "name": "stderr",
     "output_type": "stream",
     "text": [
      "40359151it [03:59, 123989.38it/s]"
     ]
    },
    {
     "name": "stdout",
     "output_type": "stream",
     "text": [
      "FINISHING 399\n",
      "START\n"
     ]
    },
    {
     "name": "stderr",
     "output_type": "stream",
     "text": [
      "40566613it [04:03, 114118.20it/s]"
     ]
    },
    {
     "name": "stdout",
     "output_type": "stream",
     "text": [
      "FINISHING 399\n",
      "START\n"
     ]
    },
    {
     "name": "stderr",
     "output_type": "stream",
     "text": [
      "40664960it [04:03, 177517.69it/s]"
     ]
    },
    {
     "name": "stdout",
     "output_type": "stream",
     "text": [
      "FINISHING 399\n",
      "START\n",
      "FINISHING 399\n",
      "START\n",
      "FINISHING 399\n",
      "START\n",
      "FINISHING 399\n",
      "START\n"
     ]
    },
    {
     "name": "stderr",
     "output_type": "stream",
     "text": [
      "40704381it [04:03, 186501.84it/s]"
     ]
    },
    {
     "name": "stdout",
     "output_type": "stream",
     "text": [
      "FINISHING 399\n",
      "START\n",
      "FINISHING 399\n",
      "START\n",
      "FINISHING 399\n",
      "START\n",
      "FINISHING 399\n",
      "START\n",
      "FINISHING 399\n",
      "START\n"
     ]
    },
    {
     "name": "stderr",
     "output_type": "stream",
     "text": [
      "40744114it [04:04, 191690.96it/s]"
     ]
    },
    {
     "name": "stdout",
     "output_type": "stream",
     "text": [
      "FINISHING 399\n",
      "START\n"
     ]
    },
    {
     "name": "stderr",
     "output_type": "stream",
     "text": [
      "40783111it [04:04, 191617.38it/s]"
     ]
    },
    {
     "name": "stdout",
     "output_type": "stream",
     "text": [
      "FINISHING 399\n",
      "START\n"
     ]
    },
    {
     "name": "stderr",
     "output_type": "stream",
     "text": [
      "40840951it [04:04, 191173.05it/s]"
     ]
    },
    {
     "name": "stdout",
     "output_type": "stream",
     "text": [
      "FINISHING 399\n",
      "START\n"
     ]
    },
    {
     "name": "stderr",
     "output_type": "stream",
     "text": [
      "40919987it [04:05, 197224.23it/s]"
     ]
    },
    {
     "name": "stdout",
     "output_type": "stream",
     "text": [
      "FINISHING 399\n",
      "START\n"
     ]
    },
    {
     "name": "stderr",
     "output_type": "stream",
     "text": [
      "41006603it [04:05, 212317.09it/s]"
     ]
    },
    {
     "name": "stdout",
     "output_type": "stream",
     "text": [
      "FINISHING 399\n",
      "START\n",
      "FINISHING 399\n",
      "START\n"
     ]
    },
    {
     "name": "stderr",
     "output_type": "stream",
     "text": [
      "41155670it [04:06, 210934.09it/s]"
     ]
    },
    {
     "name": "stdout",
     "output_type": "stream",
     "text": [
      "FINISHING 399\n",
      "START\n",
      "FINISHING 399\n",
      "START\n",
      "FINISHING 399\n",
      "START\n"
     ]
    },
    {
     "name": "stderr",
     "output_type": "stream",
     "text": [
      "41247184it [04:07, 100889.97it/s]"
     ]
    },
    {
     "name": "stdout",
     "output_type": "stream",
     "text": [
      "FINISHING 399\n",
      "START\n",
      "FINISHING 399\n",
      "START\n",
      "FINISHING 399\n",
      "START\n",
      "FINISHING 399\n",
      "START\n"
     ]
    },
    {
     "name": "stderr",
     "output_type": "stream",
     "text": [
      "41282093it [04:08, 127256.19it/s]"
     ]
    },
    {
     "name": "stdout",
     "output_type": "stream",
     "text": [
      "FINISHING 399\n",
      "START\n",
      "FINISHING 399\n",
      "START\n"
     ]
    },
    {
     "name": "stderr",
     "output_type": "stream",
     "text": [
      "41319010it [04:08, 66207.73it/s] "
     ]
    },
    {
     "name": "stdout",
     "output_type": "stream",
     "text": [
      "FINISHING 399\n",
      "START\n"
     ]
    },
    {
     "name": "stderr",
     "output_type": "stream",
     "text": [
      "41514744it [04:11, 76356.70it/s] "
     ]
    },
    {
     "name": "stdout",
     "output_type": "stream",
     "text": [
      "FINISHING 399\n",
      "START\n"
     ]
    },
    {
     "name": "stderr",
     "output_type": "stream",
     "text": [
      "41557858it [04:12, 116119.33it/s]"
     ]
    },
    {
     "name": "stdout",
     "output_type": "stream",
     "text": [
      "FINISHING 399\n",
      "START\n",
      "FINISHING 399\n",
      "START\n"
     ]
    },
    {
     "name": "stderr",
     "output_type": "stream",
     "text": [
      "41622534it [04:12, 166776.37it/s]"
     ]
    },
    {
     "name": "stdout",
     "output_type": "stream",
     "text": [
      "FINISHING 399\n",
      "START\n",
      "FINISHING 399\n",
      "START\n",
      "FINISHING 399\n",
      "START\n"
     ]
    },
    {
     "name": "stderr",
     "output_type": "stream",
     "text": [
      "41687046it [04:12, 196039.63it/s]"
     ]
    },
    {
     "name": "stdout",
     "output_type": "stream",
     "text": [
      "FINISHING 399\n",
      "START\n",
      "FINISHING 399\n",
      "START\n"
     ]
    },
    {
     "name": "stderr",
     "output_type": "stream",
     "text": [
      "41753259it [04:13, 207920.63it/s]"
     ]
    },
    {
     "name": "stdout",
     "output_type": "stream",
     "text": [
      "FINISHING 399\n",
      "START\n",
      "FINISHING 399\n",
      "START\n"
     ]
    },
    {
     "name": "stderr",
     "output_type": "stream",
     "text": [
      "41840037it [04:13, 213438.53it/s]"
     ]
    },
    {
     "name": "stdout",
     "output_type": "stream",
     "text": [
      "FINISHING 399\n",
      "START\n"
     ]
    },
    {
     "name": "stderr",
     "output_type": "stream",
     "text": [
      "41881864it [04:13, 187377.38it/s]"
     ]
    },
    {
     "name": "stdout",
     "output_type": "stream",
     "text": [
      "FINISHING 399\n",
      "START\n"
     ]
    },
    {
     "name": "stderr",
     "output_type": "stream",
     "text": [
      "41926501it [04:13, 204442.58it/s]"
     ]
    },
    {
     "name": "stdout",
     "output_type": "stream",
     "text": [
      "FINISHING 399\n",
      "START\n",
      "FINISHING 399\n",
      "START\n",
      "FINISHING 399\n",
      "START\n",
      "FINISHING 399\n",
      "START\n"
     ]
    },
    {
     "name": "stderr",
     "output_type": "stream",
     "text": [
      "41989464it [04:14, 207749.46it/s]"
     ]
    },
    {
     "name": "stdout",
     "output_type": "stream",
     "text": [
      "FINISHING 399\n",
      "START\n",
      "FINISHING 399\n",
      "START\n",
      "FINISHING 399\n",
      "START\n"
     ]
    },
    {
     "name": "stderr",
     "output_type": "stream",
     "text": [
      "42049683it [04:14, 129312.51it/s]"
     ]
    },
    {
     "name": "stdout",
     "output_type": "stream",
     "text": [
      "FINISHING 399\n",
      "START\n",
      "FINISHING 399\n",
      "START\n"
     ]
    },
    {
     "name": "stderr",
     "output_type": "stream",
     "text": [
      "42085099it [04:15, 145302.66it/s]"
     ]
    },
    {
     "name": "stdout",
     "output_type": "stream",
     "text": [
      "FINISHING 399\n",
      "START\n"
     ]
    },
    {
     "name": "stderr",
     "output_type": "stream",
     "text": [
      "42146910it [04:15, 181414.96it/s]"
     ]
    },
    {
     "name": "stdout",
     "output_type": "stream",
     "text": [
      "FINISHING 399\n",
      "START\n",
      "FINISHING 399\n",
      "START\n",
      "FINISHING 399\n",
      "START\n",
      "FINISHING 399\n",
      "START\n",
      "FINISHING 399\n",
      "START\n"
     ]
    },
    {
     "name": "stderr",
     "output_type": "stream",
     "text": [
      "42248627it [04:16, 133158.46it/s]"
     ]
    },
    {
     "name": "stdout",
     "output_type": "stream",
     "text": [
      "FINISHING 399\n",
      "START\n"
     ]
    },
    {
     "name": "stderr",
     "output_type": "stream",
     "text": [
      "42361463it [04:16, 172179.80it/s]"
     ]
    },
    {
     "name": "stdout",
     "output_type": "stream",
     "text": [
      "FINISHING 399\n",
      "START\n",
      "FINISHING 399\n",
      "START\n",
      "FINISHING 399\n",
      "START\n"
     ]
    },
    {
     "name": "stderr",
     "output_type": "stream",
     "text": [
      "42403300it [04:17, 190099.70it/s]"
     ]
    },
    {
     "name": "stdout",
     "output_type": "stream",
     "text": [
      "FINISHING 399\n",
      "START\n",
      "FINISHING 399\n",
      "START\n",
      "FINISHING 399\n",
      "START\n"
     ]
    },
    {
     "name": "stderr",
     "output_type": "stream",
     "text": [
      "42575681it [04:17, 212359.58it/s]"
     ]
    },
    {
     "name": "stdout",
     "output_type": "stream",
     "text": [
      "FINISHING 399\n",
      "START\n"
     ]
    },
    {
     "name": "stderr",
     "output_type": "stream",
     "text": [
      "42618739it [04:18, 213434.50it/s]"
     ]
    },
    {
     "name": "stdout",
     "output_type": "stream",
     "text": [
      "FINISHING 399\n",
      "START\n"
     ]
    },
    {
     "name": "stderr",
     "output_type": "stream",
     "text": [
      "42684643it [04:18, 215811.04it/s]"
     ]
    },
    {
     "name": "stdout",
     "output_type": "stream",
     "text": [
      "FINISHING 399\n",
      "START\n",
      "FINISHING 399\n",
      "START\n"
     ]
    },
    {
     "name": "stderr",
     "output_type": "stream",
     "text": [
      "42727661it [04:18, 209441.26it/s]"
     ]
    },
    {
     "name": "stdout",
     "output_type": "stream",
     "text": [
      "FINISHING 399\n",
      "START\n",
      "FINISHING 399\n",
      "START\n",
      "FINISHING 399\n",
      "START\n"
     ]
    },
    {
     "name": "stderr",
     "output_type": "stream",
     "text": [
      "42838018it [04:19, 218088.14it/s]"
     ]
    },
    {
     "name": "stdout",
     "output_type": "stream",
     "text": [
      "FINISHING 399\n",
      "START\n"
     ]
    },
    {
     "name": "stderr",
     "output_type": "stream",
     "text": [
      "43016846it [04:19, 219447.04it/s]"
     ]
    },
    {
     "name": "stdout",
     "output_type": "stream",
     "text": [
      "FINISHING 399\n",
      "START\n",
      "FINISHING 399\n",
      "START\n",
      "FINISHING 399\n",
      "START\n",
      "FINISHING 399\n",
      "START\n"
     ]
    },
    {
     "name": "stderr",
     "output_type": "stream",
     "text": [
      "43082550it [04:20, 215846.55it/s]"
     ]
    },
    {
     "name": "stdout",
     "output_type": "stream",
     "text": [
      "FINISHING 399\n",
      "START\n"
     ]
    },
    {
     "name": "stderr",
     "output_type": "stream",
     "text": [
      "43120043it [04:21, 49648.87it/s] "
     ]
    },
    {
     "name": "stdout",
     "output_type": "stream",
     "text": [
      "FINISHING 399\n",
      "START\n",
      "FINISHING 399\n",
      "START\n"
     ]
    },
    {
     "name": "stderr",
     "output_type": "stream",
     "text": [
      "\r",
      "43135535it [04:23, 30715.28it/s]"
     ]
    },
    {
     "name": "stdout",
     "output_type": "stream",
     "text": [
      "FINISHING 399\n",
      "START\n"
     ]
    },
    {
     "name": "stderr",
     "output_type": "stream",
     "text": [
      "43206095it [04:24, 58077.06it/s]"
     ]
    },
    {
     "name": "stdout",
     "output_type": "stream",
     "text": [
      "FINISHING 399\n",
      "START\n",
      "FINISHING 399\n",
      "START\n"
     ]
    },
    {
     "name": "stderr",
     "output_type": "stream",
     "text": [
      "43423645it [04:25, 200894.12it/s]"
     ]
    },
    {
     "name": "stdout",
     "output_type": "stream",
     "text": [
      "FINISHING 399\n",
      "START\n",
      "FINISHING 399\n",
      "START\n",
      "FINISHING 399\n",
      "START\n"
     ]
    },
    {
     "name": "stderr",
     "output_type": "stream",
     "text": [
      "43489030it [04:25, 211576.57it/s]"
     ]
    },
    {
     "name": "stdout",
     "output_type": "stream",
     "text": [
      "FINISHING 399\n",
      "START\n"
     ]
    },
    {
     "name": "stderr",
     "output_type": "stream",
     "text": [
      "43596461it [04:26, 203583.70it/s]"
     ]
    },
    {
     "name": "stdout",
     "output_type": "stream",
     "text": [
      "FINISHING 399\n",
      "START\n",
      "FINISHING 399\n",
      "START\n"
     ]
    },
    {
     "name": "stderr",
     "output_type": "stream",
     "text": [
      "43684984it [04:26, 215164.90it/s]"
     ]
    },
    {
     "name": "stdout",
     "output_type": "stream",
     "text": [
      "FINISHING 399\n",
      "START\n"
     ]
    },
    {
     "name": "stderr",
     "output_type": "stream",
     "text": [
      "43728820it [04:26, 217243.27it/s]"
     ]
    },
    {
     "name": "stdout",
     "output_type": "stream",
     "text": [
      "FINISHING 399\n",
      "START\n",
      "FINISHING 399\n",
      "START\n",
      "FINISHING 399\n",
      "START\n",
      "FINISHING 399\n",
      "START\n"
     ]
    },
    {
     "name": "stderr",
     "output_type": "stream",
     "text": [
      "43814615it [04:27, 208530.99it/s]"
     ]
    },
    {
     "name": "stdout",
     "output_type": "stream",
     "text": [
      "FINISHING 399\n",
      "START\n"
     ]
    },
    {
     "name": "stderr",
     "output_type": "stream",
     "text": [
      "43877467it [04:27, 206601.58it/s]"
     ]
    },
    {
     "name": "stdout",
     "output_type": "stream",
     "text": [
      "FINISHING 399\n",
      "START\n",
      "FINISHING 399\n",
      "START\n"
     ]
    },
    {
     "name": "stderr",
     "output_type": "stream",
     "text": [
      "44004464it [04:28, 192924.72it/s]"
     ]
    },
    {
     "name": "stdout",
     "output_type": "stream",
     "text": [
      "FINISHING 399\n",
      "START\n",
      "FINISHING 399\n",
      "START\n"
     ]
    },
    {
     "name": "stderr",
     "output_type": "stream",
     "text": [
      "44067032it [04:28, 203191.98it/s]"
     ]
    },
    {
     "name": "stdout",
     "output_type": "stream",
     "text": [
      "FINISHING 399\n",
      "START\n",
      "FINISHING 399\n",
      "START\n",
      "FINISHING 399\n",
      "START\n",
      "FINISHING 399\n",
      "START\n"
     ]
    },
    {
     "name": "stderr",
     "output_type": "stream",
     "text": [
      "44193341it [04:29, 209423.22it/s]"
     ]
    },
    {
     "name": "stdout",
     "output_type": "stream",
     "text": [
      "FINISHING 399\n",
      "START\n",
      "FINISHING 399\n",
      "START\n"
     ]
    },
    {
     "name": "stderr",
     "output_type": "stream",
     "text": [
      "44257954it [04:29, 213812.96it/s]"
     ]
    },
    {
     "name": "stdout",
     "output_type": "stream",
     "text": [
      "FINISHING 399\n",
      "START\n",
      "FINISHING 399\n",
      "START\n"
     ]
    },
    {
     "name": "stderr",
     "output_type": "stream",
     "text": [
      "44322365it [04:29, 212297.23it/s]"
     ]
    },
    {
     "name": "stdout",
     "output_type": "stream",
     "text": [
      "FINISHING 399\n",
      "START\n",
      "FINISHING 399\n",
      "START\n"
     ]
    },
    {
     "name": "stderr",
     "output_type": "stream",
     "text": [
      "44365123it [04:30, 212041.82it/s]"
     ]
    },
    {
     "name": "stdout",
     "output_type": "stream",
     "text": [
      "FINISHING 399\n",
      "START\n",
      "FINISHING 399\n",
      "START\n",
      "FINISHING 399\n",
      "START\n"
     ]
    },
    {
     "name": "stderr",
     "output_type": "stream",
     "text": [
      "44432391it [04:30, 218591.98it/s]"
     ]
    },
    {
     "name": "stdout",
     "output_type": "stream",
     "text": [
      "FINISHING 399\n",
      "START\n",
      "FINISHING 399\n",
      "START\n",
      "FINISHING 399\n",
      "START\n",
      "FINISHING 399\n",
      "START\n"
     ]
    },
    {
     "name": "stderr",
     "output_type": "stream",
     "text": [
      "44497491it [04:30, 213796.29it/s]"
     ]
    },
    {
     "name": "stdout",
     "output_type": "stream",
     "text": [
      "FINISHING 399\n",
      "START\n",
      "FINISHING 399\n",
      "START\n",
      "FINISHING 399\n",
      "START\n"
     ]
    },
    {
     "name": "stderr",
     "output_type": "stream",
     "text": [
      "44625186it [04:31, 209755.57it/s]"
     ]
    },
    {
     "name": "stdout",
     "output_type": "stream",
     "text": [
      "FINISHING 399\n",
      "START\n",
      "FINISHING 399\n",
      "START\n"
     ]
    },
    {
     "name": "stderr",
     "output_type": "stream",
     "text": [
      "44688483it [04:31, 207342.07it/s]"
     ]
    },
    {
     "name": "stdout",
     "output_type": "stream",
     "text": [
      "FINISHING 399\n",
      "START\n",
      "FINISHING 399\n",
      "START\n",
      "FINISHING 399\n",
      "START\n"
     ]
    },
    {
     "name": "stderr",
     "output_type": "stream",
     "text": [
      "44750657it [04:31, 206293.15it/s]"
     ]
    },
    {
     "name": "stdout",
     "output_type": "stream",
     "text": [
      "FINISHING 399\n",
      "START\n",
      "FINISHING 399\n",
      "START\n",
      "FINISHING 399\n",
      "START\n"
     ]
    },
    {
     "name": "stderr",
     "output_type": "stream",
     "text": [
      "44792370it [04:32, 206466.03it/s]"
     ]
    },
    {
     "name": "stdout",
     "output_type": "stream",
     "text": [
      "FINISHING 399\n",
      "START\n",
      "FINISHING 399\n",
      "START\n",
      "FINISHING 399\n",
      "START\n",
      "FINISHING 399\n",
      "START\n",
      "FINISHING 399\n",
      "START\n"
     ]
    },
    {
     "name": "stderr",
     "output_type": "stream",
     "text": [
      "44960088it [04:33, 186214.12it/s]"
     ]
    },
    {
     "name": "stdout",
     "output_type": "stream",
     "text": [
      "FINISHING 399\n",
      "START\n",
      "FINISHING 399\n",
      "START\n"
     ]
    },
    {
     "name": "stderr",
     "output_type": "stream",
     "text": [
      "45000974it [04:33, 192525.38it/s]"
     ]
    },
    {
     "name": "stdout",
     "output_type": "stream",
     "text": [
      "FINISHING 399\n",
      "START\n",
      "FINISHING 399\n",
      "START\n",
      "FINISHING 399\n",
      "START\n"
     ]
    },
    {
     "name": "stderr",
     "output_type": "stream",
     "text": [
      "45041338it [04:33, 173287.28it/s]"
     ]
    },
    {
     "name": "stdout",
     "output_type": "stream",
     "text": [
      "FINISHING 399\n",
      "START\n",
      "FINISHING 399\n",
      "START\n"
     ]
    },
    {
     "name": "stderr",
     "output_type": "stream",
     "text": [
      "45185423it [04:34, 116913.20it/s]"
     ]
    },
    {
     "name": "stdout",
     "output_type": "stream",
     "text": [
      "FINISHING 399\n",
      "START\n"
     ]
    },
    {
     "name": "stderr",
     "output_type": "stream",
     "text": [
      "45249265it [04:35, 165957.81it/s]"
     ]
    },
    {
     "name": "stdout",
     "output_type": "stream",
     "text": [
      "FINISHING 399\n",
      "START\n",
      "FINISHING 399\n",
      "START\n",
      "FINISHING 399\n",
      "START\n"
     ]
    },
    {
     "name": "stderr",
     "output_type": "stream",
     "text": [
      "45331635it [04:35, 194365.26it/s]"
     ]
    },
    {
     "name": "stdout",
     "output_type": "stream",
     "text": [
      "FINISHING 399\n",
      "START\n",
      "FINISHING 399\n",
      "START\n"
     ]
    },
    {
     "name": "stderr",
     "output_type": "stream",
     "text": [
      "45374684it [04:35, 184876.05it/s]"
     ]
    },
    {
     "name": "stdout",
     "output_type": "stream",
     "text": [
      "FINISHING 399\n",
      "START\n",
      "FINISHING 399\n",
      "START\n"
     ]
    },
    {
     "name": "stderr",
     "output_type": "stream",
     "text": [
      "45463743it [04:36, 213412.09it/s]"
     ]
    },
    {
     "name": "stdout",
     "output_type": "stream",
     "text": [
      "FINISHING 399\n",
      "START\n",
      "FINISHING 399\n",
      "START\n",
      "FINISHING 399\n",
      "START\n",
      "FINISHING 399\n",
      "START\n",
      "FINISHING 399\n",
      "START\n",
      "FINISHING 399\n",
      "START\n"
     ]
    },
    {
     "name": "stderr",
     "output_type": "stream",
     "text": [
      "45507106it [04:36, 208671.23it/s]"
     ]
    },
    {
     "name": "stdout",
     "output_type": "stream",
     "text": [
      "FINISHING 399\n",
      "START\n",
      "FINISHING 399\n",
      "START\n"
     ]
    },
    {
     "name": "stderr",
     "output_type": "stream",
     "text": [
      "45594777it [04:36, 204956.03it/s]"
     ]
    },
    {
     "name": "stdout",
     "output_type": "stream",
     "text": [
      "FINISHING 399\n",
      "START\n"
     ]
    },
    {
     "name": "stderr",
     "output_type": "stream",
     "text": [
      "45765791it [04:37, 206901.69it/s]"
     ]
    },
    {
     "name": "stdout",
     "output_type": "stream",
     "text": [
      "FINISHING 399\n",
      "START\n"
     ]
    },
    {
     "name": "stderr",
     "output_type": "stream",
     "text": [
      "45875922it [04:38, 217163.47it/s]"
     ]
    },
    {
     "name": "stdout",
     "output_type": "stream",
     "text": [
      "FINISHING 399\n",
      "START\n",
      "FINISHING 399\n",
      "START\n",
      "FINISHING 399\n",
      "START\n",
      "FINISHING 399\n",
      "START\n",
      "FINISHING 399\n",
      "START\n",
      "FINISHING 399\n",
      "START\n"
     ]
    },
    {
     "name": "stderr",
     "output_type": "stream",
     "text": [
      "46303910it [04:40, 209186.80it/s]"
     ]
    },
    {
     "name": "stdout",
     "output_type": "stream",
     "text": [
      "FINISHING 399\n",
      "START\n"
     ]
    },
    {
     "name": "stderr",
     "output_type": "stream",
     "text": [
      "46447894it [04:41, 173875.81it/s]"
     ]
    },
    {
     "name": "stdout",
     "output_type": "stream",
     "text": [
      "FINISHING 399\n",
      "START\n"
     ]
    },
    {
     "name": "stderr",
     "output_type": "stream",
     "text": [
      "46634946it [04:42, 210644.59it/s]"
     ]
    },
    {
     "name": "stdout",
     "output_type": "stream",
     "text": [
      "FINISHING 399\n",
      "START\n"
     ]
    },
    {
     "name": "stderr",
     "output_type": "stream",
     "text": [
      "46721164it [04:43, 211769.27it/s]"
     ]
    },
    {
     "name": "stdout",
     "output_type": "stream",
     "text": [
      "FINISHING 399\n",
      "START\n"
     ]
    },
    {
     "name": "stderr",
     "output_type": "stream",
     "text": [
      "46763542it [04:43, 148838.57it/s]"
     ]
    },
    {
     "name": "stdout",
     "output_type": "stream",
     "text": [
      "FINISHING 399\n",
      "START\n",
      "FINISHING 399\n",
      "START\n",
      "FINISHING 399\n",
      "START\n"
     ]
    },
    {
     "name": "stderr",
     "output_type": "stream",
     "text": [
      "46798480it [04:43, 120789.72it/s]"
     ]
    },
    {
     "name": "stdout",
     "output_type": "stream",
     "text": [
      "FINISHING 399\n",
      "START\n",
      "FINISHING 399\n",
      "START\n",
      "FINISHING 399\n",
      "START\n"
     ]
    },
    {
     "name": "stderr",
     "output_type": "stream",
     "text": [
      "46905751it [04:45, 106940.35it/s]"
     ]
    },
    {
     "name": "stdout",
     "output_type": "stream",
     "text": [
      "FINISHING 399\n",
      "START\n"
     ]
    },
    {
     "name": "stderr",
     "output_type": "stream",
     "text": [
      "46983884it [04:45, 141517.39it/s]"
     ]
    },
    {
     "name": "stdout",
     "output_type": "stream",
     "text": [
      "FINISHING 399\n",
      "START\n"
     ]
    },
    {
     "name": "stderr",
     "output_type": "stream",
     "text": [
      "47068146it [04:46, 191708.94it/s]"
     ]
    },
    {
     "name": "stdout",
     "output_type": "stream",
     "text": [
      "FINISHING 399\n",
      "START\n",
      "FINISHING 399\n",
      "START\n",
      "FINISHING 399\n",
      "START\n",
      "FINISHING 399\n",
      "START\n",
      "FINISHING 399\n",
      "START\n",
      "FINISHING 399\n",
      "START\n",
      "FINISHING 399\n",
      "START\n"
     ]
    },
    {
     "name": "stderr",
     "output_type": "stream",
     "text": [
      "47112166it [04:46, 206164.63it/s]"
     ]
    },
    {
     "name": "stdout",
     "output_type": "stream",
     "text": [
      "FINISHING 399\n",
      "START\n",
      "FINISHING 399\n",
      "START\n"
     ]
    },
    {
     "name": "stderr",
     "output_type": "stream",
     "text": [
      "47175709it [04:46, 205540.26it/s]"
     ]
    },
    {
     "name": "stdout",
     "output_type": "stream",
     "text": [
      "FINISHING 399\n",
      "START\n",
      "FINISHING 399\n",
      "START\n"
     ]
    },
    {
     "name": "stderr",
     "output_type": "stream",
     "text": [
      "47261916it [04:47, 213517.01it/s]"
     ]
    },
    {
     "name": "stdout",
     "output_type": "stream",
     "text": [
      "FINISHING 399\n",
      "START\n",
      "FINISHING 399\n",
      "START\n"
     ]
    },
    {
     "name": "stderr",
     "output_type": "stream",
     "text": [
      "47372605it [04:47, 217820.54it/s]"
     ]
    },
    {
     "name": "stdout",
     "output_type": "stream",
     "text": [
      "FINISHING 399\n",
      "START\n",
      "FINISHING 399\n",
      "START\n",
      "FINISHING 399\n",
      "START\n"
     ]
    },
    {
     "name": "stderr",
     "output_type": "stream",
     "text": [
      "47505065it [04:48, 219978.70it/s]"
     ]
    },
    {
     "name": "stdout",
     "output_type": "stream",
     "text": [
      "FINISHING 399\n",
      "START\n",
      "FINISHING 399\n",
      "START\n",
      "FINISHING 399\n",
      "START\n",
      "FINISHING 399\n",
      "START\n",
      "FINISHING 399\n",
      "START\n"
     ]
    },
    {
     "name": "stderr",
     "output_type": "stream",
     "text": [
      "47548861it [04:48, 217057.71it/s]"
     ]
    },
    {
     "name": "stdout",
     "output_type": "stream",
     "text": [
      "FINISHING 399\n",
      "START\n",
      "FINISHING 399\n",
      "START\n",
      "FINISHING 399\n",
      "START\n",
      "FINISHING 399\n",
      "START\n"
     ]
    },
    {
     "name": "stderr",
     "output_type": "stream",
     "text": [
      "47592086it [04:48, 210451.60it/s]"
     ]
    },
    {
     "name": "stdout",
     "output_type": "stream",
     "text": [
      "FINISHING 399\n",
      "START\n"
     ]
    },
    {
     "name": "stderr",
     "output_type": "stream",
     "text": [
      "47675681it [04:51, 52964.98it/s] "
     ]
    },
    {
     "name": "stdout",
     "output_type": "stream",
     "text": [
      "FINISHING 399\n",
      "START\n"
     ]
    },
    {
     "name": "stderr",
     "output_type": "stream",
     "text": [
      "47761865it [04:51, 125465.54it/s]"
     ]
    },
    {
     "name": "stdout",
     "output_type": "stream",
     "text": [
      "FINISHING 399\n",
      "START\n"
     ]
    },
    {
     "name": "stderr",
     "output_type": "stream",
     "text": [
      "47825639it [04:51, 151427.66it/s]"
     ]
    },
    {
     "name": "stdout",
     "output_type": "stream",
     "text": [
      "FINISHING 399\n",
      "START\n",
      "FINISHING 399\n",
      "START\n"
     ]
    },
    {
     "name": "stderr",
     "output_type": "stream",
     "text": [
      "47865247it [04:52, 171578.41it/s]"
     ]
    },
    {
     "name": "stdout",
     "output_type": "stream",
     "text": [
      "FINISHING 399\n",
      "START\n",
      "FINISHING 399\n",
      "START\n"
     ]
    },
    {
     "name": "stderr",
     "output_type": "stream",
     "text": [
      "47904611it [04:52, 175259.80it/s]"
     ]
    },
    {
     "name": "stdout",
     "output_type": "stream",
     "text": [
      "FINISHING 399\n",
      "START\n",
      "FINISHING 399\n",
      "START\n",
      "FINISHING 399\n",
      "START\n",
      "FINISHING 399\n",
      "START\n",
      "FINISHING 399\n",
      "START\n"
     ]
    },
    {
     "name": "stderr",
     "output_type": "stream",
     "text": [
      "47966099it [04:52, 194195.60it/s]"
     ]
    },
    {
     "name": "stdout",
     "output_type": "stream",
     "text": [
      "FINISHING 399\n",
      "START\n"
     ]
    },
    {
     "name": "stderr",
     "output_type": "stream",
     "text": [
      "48049339it [04:54, 95744.84it/s] "
     ]
    },
    {
     "name": "stdout",
     "output_type": "stream",
     "text": [
      "FINISHING 399\n",
      "START\n"
     ]
    },
    {
     "name": "stderr",
     "output_type": "stream",
     "text": [
      "48150135it [04:54, 120089.38it/s]"
     ]
    },
    {
     "name": "stdout",
     "output_type": "stream",
     "text": [
      "FINISHING 399\n",
      "START\n",
      "FINISHING 399\n",
      "START\n"
     ]
    },
    {
     "name": "stderr",
     "output_type": "stream",
     "text": [
      "48228297it [04:55, 164936.02it/s]"
     ]
    },
    {
     "name": "stdout",
     "output_type": "stream",
     "text": [
      "FINISHING 399\n",
      "START\n",
      "FINISHING 399\n",
      "START\n",
      "FINISHING 399\n",
      "START\n"
     ]
    },
    {
     "name": "stderr",
     "output_type": "stream",
     "text": [
      "48309563it [04:55, 190863.22it/s]"
     ]
    },
    {
     "name": "stdout",
     "output_type": "stream",
     "text": [
      "FINISHING 399\n",
      "START\n",
      "FINISHING 399\n",
      "START\n"
     ]
    },
    {
     "name": "stderr",
     "output_type": "stream",
     "text": [
      "48372683it [04:56, 133586.35it/s]"
     ]
    },
    {
     "name": "stdout",
     "output_type": "stream",
     "text": [
      "FINISHING 399\n",
      "START\n",
      "FINISHING 399\n",
      "START\n"
     ]
    },
    {
     "name": "stderr",
     "output_type": "stream",
     "text": [
      "48412028it [04:56, 159052.69it/s]"
     ]
    },
    {
     "name": "stdout",
     "output_type": "stream",
     "text": [
      "FINISHING 399\n",
      "START\n",
      "FINISHING 399\n",
      "START\n"
     ]
    },
    {
     "name": "stderr",
     "output_type": "stream",
     "text": [
      "48517336it [04:57, 200898.68it/s]"
     ]
    },
    {
     "name": "stdout",
     "output_type": "stream",
     "text": [
      "FINISHING 399\n",
      "START\n",
      "FINISHING 399\n",
      "START\n",
      "FINISHING 399\n",
      "START\n"
     ]
    },
    {
     "name": "stderr",
     "output_type": "stream",
     "text": [
      "48582837it [04:57, 148435.72it/s]"
     ]
    },
    {
     "name": "stdout",
     "output_type": "stream",
     "text": [
      "FINISHING 399\n",
      "START\n"
     ]
    },
    {
     "name": "stderr",
     "output_type": "stream",
     "text": [
      "48625363it [04:57, 174678.35it/s]"
     ]
    },
    {
     "name": "stdout",
     "output_type": "stream",
     "text": [
      "FINISHING 399\n",
      "START\n",
      "FINISHING 399\n",
      "START\n",
      "FINISHING 399\n",
      "START\n"
     ]
    },
    {
     "name": "stderr",
     "output_type": "stream",
     "text": [
      "48754296it [04:59, 103914.45it/s]"
     ]
    },
    {
     "name": "stdout",
     "output_type": "stream",
     "text": [
      "FINISHING 399\n",
      "START\n",
      "FINISHING 399\n",
      "START\n",
      "FINISHING 399\n",
      "START\n"
     ]
    },
    {
     "name": "stderr",
     "output_type": "stream",
     "text": [
      "48817652it [05:00, 159331.34it/s]"
     ]
    },
    {
     "name": "stdout",
     "output_type": "stream",
     "text": [
      "FINISHING 399\n",
      "START\n",
      "FINISHING 399\n",
      "START\n",
      "FINISHING 399\n",
      "START\n"
     ]
    },
    {
     "name": "stderr",
     "output_type": "stream",
     "text": [
      "48881290it [05:00, 191856.05it/s]"
     ]
    },
    {
     "name": "stdout",
     "output_type": "stream",
     "text": [
      "FINISHING 399\n",
      "START\n",
      "FINISHING 399\n",
      "START\n"
     ]
    },
    {
     "name": "stderr",
     "output_type": "stream",
     "text": [
      "48947595it [05:00, 208158.11it/s]"
     ]
    },
    {
     "name": "stdout",
     "output_type": "stream",
     "text": [
      "FINISHING 399\n",
      "START\n"
     ]
    },
    {
     "name": "stderr",
     "output_type": "stream",
     "text": [
      "48990915it [05:01, 109830.85it/s]"
     ]
    },
    {
     "name": "stdout",
     "output_type": "stream",
     "text": [
      "FINISHING 399\n",
      "START\n"
     ]
    },
    {
     "name": "stderr",
     "output_type": "stream",
     "text": [
      "49099421it [05:04, 87627.11it/s] "
     ]
    },
    {
     "name": "stdout",
     "output_type": "stream",
     "text": [
      "FINISHING 399\n",
      "START\n"
     ]
    },
    {
     "name": "stderr",
     "output_type": "stream",
     "text": [
      "49201197it [05:04, 174844.01it/s]"
     ]
    },
    {
     "name": "stdout",
     "output_type": "stream",
     "text": [
      "FINISHING 399\n",
      "START\n",
      "FINISHING 399\n",
      "START\n",
      "FINISHING 399\n",
      "START\n",
      "FINISHING 399\n",
      "START\n"
     ]
    },
    {
     "name": "stderr",
     "output_type": "stream",
     "text": [
      "49241826it [05:04, 188820.34it/s]"
     ]
    },
    {
     "name": "stdout",
     "output_type": "stream",
     "text": [
      "FINISHING 399\n",
      "START\n",
      "FINISHING 399\n",
      "START\n"
     ]
    },
    {
     "name": "stderr",
     "output_type": "stream",
     "text": [
      "49391395it [05:05, 209574.76it/s]"
     ]
    },
    {
     "name": "stdout",
     "output_type": "stream",
     "text": [
      "FINISHING 399\n",
      "START\n"
     ]
    },
    {
     "name": "stderr",
     "output_type": "stream",
     "text": [
      "49520368it [05:06, 213763.82it/s]"
     ]
    },
    {
     "name": "stdout",
     "output_type": "stream",
     "text": [
      "FINISHING 399\n",
      "START\n",
      "FINISHING 399\n",
      "START\n"
     ]
    },
    {
     "name": "stderr",
     "output_type": "stream",
     "text": [
      "49647746it [05:07, 111603.95it/s]"
     ]
    },
    {
     "name": "stdout",
     "output_type": "stream",
     "text": [
      "FINISHING 399\n",
      "START\n"
     ]
    },
    {
     "name": "stderr",
     "output_type": "stream",
     "text": [
      "49713083it [05:08, 164423.12it/s]"
     ]
    },
    {
     "name": "stdout",
     "output_type": "stream",
     "text": [
      "FINISHING 399\n",
      "START\n"
     ]
    },
    {
     "name": "stderr",
     "output_type": "stream",
     "text": [
      "49955329it [05:12, 134546.41it/s]"
     ]
    },
    {
     "name": "stdout",
     "output_type": "stream",
     "text": [
      "FINISHING 399\n",
      "START\n"
     ]
    },
    {
     "name": "stderr",
     "output_type": "stream",
     "text": [
      "50099468it [05:13, 201409.47it/s]"
     ]
    },
    {
     "name": "stdout",
     "output_type": "stream",
     "text": [
      "FINISHING 399\n",
      "START\n",
      "FINISHING 399\n",
      "START\n",
      "FINISHING 399\n",
      "START\n"
     ]
    },
    {
     "name": "stderr",
     "output_type": "stream",
     "text": [
      "\r",
      "50120305it [05:13, 198398.07it/s]"
     ]
    },
    {
     "name": "stdout",
     "output_type": "stream",
     "text": [
      "FINISHING 399\n",
      "START\n"
     ]
    },
    {
     "name": "stderr",
     "output_type": "stream",
     "text": [
      "50162831it [05:14, 146892.91it/s]"
     ]
    },
    {
     "name": "stdout",
     "output_type": "stream",
     "text": [
      "FINISHING 399\n",
      "START\n",
      "FINISHING 399\n",
      "START\n",
      "FINISHING 399\n",
      "START\n"
     ]
    },
    {
     "name": "stderr",
     "output_type": "stream",
     "text": [
      "50228548it [05:14, 186229.70it/s]"
     ]
    },
    {
     "name": "stdout",
     "output_type": "stream",
     "text": [
      "FINISHING 399\n",
      "START\n",
      "FINISHING 399\n",
      "START\n",
      "FINISHING 399\n",
      "START\n",
      "FINISHING 399\n",
      "START\n"
     ]
    },
    {
     "name": "stderr",
     "output_type": "stream",
     "text": [
      "50269582it [05:14, 193954.48it/s]"
     ]
    },
    {
     "name": "stdout",
     "output_type": "stream",
     "text": [
      "FINISHING 399\n",
      "START\n",
      "FINISHING 399\n",
      "START\n",
      "FINISHING 399\n",
      "START\n"
     ]
    },
    {
     "name": "stderr",
     "output_type": "stream",
     "text": [
      "50312175it [05:14, 203692.12it/s]"
     ]
    },
    {
     "name": "stdout",
     "output_type": "stream",
     "text": [
      "FINISHING 399\n",
      "START\n",
      "FINISHING 399\n",
      "START\n",
      "FINISHING 399\n",
      "START\n",
      "FINISHING 399\n",
      "START\n"
     ]
    },
    {
     "name": "stderr",
     "output_type": "stream",
     "text": [
      "50356442it [05:14, 211417.50it/s]"
     ]
    },
    {
     "name": "stdout",
     "output_type": "stream",
     "text": [
      "FINISHING 399\n",
      "START\n"
     ]
    },
    {
     "name": "stderr",
     "output_type": "stream",
     "text": [
      "50532440it [05:15, 214862.36it/s]"
     ]
    },
    {
     "name": "stdout",
     "output_type": "stream",
     "text": [
      "FINISHING 399\n",
      "START\n",
      "FINISHING 399\n",
      "START\n",
      "FINISHING 399\n",
      "START\n"
     ]
    },
    {
     "name": "stderr",
     "output_type": "stream",
     "text": [
      "50662374it [05:16, 203657.48it/s]"
     ]
    },
    {
     "name": "stdout",
     "output_type": "stream",
     "text": [
      "FINISHING 399\n",
      "START\n"
     ]
    },
    {
     "name": "stderr",
     "output_type": "stream",
     "text": [
      "50742906it [05:17, 111272.86it/s]"
     ]
    },
    {
     "name": "stdout",
     "output_type": "stream",
     "text": [
      "FINISHING 399\n",
      "START\n",
      "FINISHING 399\n",
      "START\n",
      "FINISHING 399\n",
      "START\n",
      "FINISHING 399\n",
      "START\n"
     ]
    },
    {
     "name": "stderr",
     "output_type": "stream",
     "text": [
      "50804939it [05:17, 159667.84it/s]"
     ]
    },
    {
     "name": "stdout",
     "output_type": "stream",
     "text": [
      "FINISHING 399\n",
      "START\n"
     ]
    },
    {
     "name": "stderr",
     "output_type": "stream",
     "text": [
      "50910369it [05:18, 201519.51it/s]"
     ]
    },
    {
     "name": "stdout",
     "output_type": "stream",
     "text": [
      "FINISHING 399\n",
      "START\n"
     ]
    },
    {
     "name": "stderr",
     "output_type": "stream",
     "text": [
      "51017867it [05:18, 186566.27it/s]"
     ]
    },
    {
     "name": "stdout",
     "output_type": "stream",
     "text": [
      "FINISHING 399\n",
      "START\n",
      "FINISHING 399\n",
      "START\n"
     ]
    },
    {
     "name": "stderr",
     "output_type": "stream",
     "text": [
      "51080031it [05:19, 180079.79it/s]"
     ]
    },
    {
     "name": "stdout",
     "output_type": "stream",
     "text": [
      "FINISHING 399\n",
      "START\n"
     ]
    },
    {
     "name": "stderr",
     "output_type": "stream",
     "text": [
      "51123762it [05:19, 196922.37it/s]"
     ]
    },
    {
     "name": "stdout",
     "output_type": "stream",
     "text": [
      "FINISHING 399\n",
      "START\n",
      "FINISHING 399\n",
      "START\n",
      "FINISHING 399\n",
      "START\n",
      "FINISHING 399\n",
      "START\n"
     ]
    },
    {
     "name": "stderr",
     "output_type": "stream",
     "text": [
      "51195361it [05:20, 132417.09it/s]"
     ]
    },
    {
     "name": "stdout",
     "output_type": "stream",
     "text": [
      "FINISHING 399\n",
      "START\n",
      "FINISHING 399\n",
      "START\n"
     ]
    },
    {
     "name": "stderr",
     "output_type": "stream",
     "text": [
      "51234100it [05:20, 158741.90it/s]"
     ]
    },
    {
     "name": "stdout",
     "output_type": "stream",
     "text": [
      "FINISHING 399\n",
      "START\n",
      "FINISHING 399\n",
      "START\n",
      "FINISHING 399\n",
      "START\n",
      "FINISHING 399\n",
      "START\n"
     ]
    },
    {
     "name": "stderr",
     "output_type": "stream",
     "text": [
      "51348924it [05:20, 191987.88it/s]"
     ]
    },
    {
     "name": "stdout",
     "output_type": "stream",
     "text": [
      "FINISHING 399\n",
      "START\n"
     ]
    },
    {
     "name": "stderr",
     "output_type": "stream",
     "text": [
      "51433273it [05:21, 206241.33it/s]"
     ]
    },
    {
     "name": "stdout",
     "output_type": "stream",
     "text": [
      "FINISHING 399\n",
      "START\n",
      "FINISHING 399\n",
      "START\n"
     ]
    },
    {
     "name": "stderr",
     "output_type": "stream",
     "text": [
      "51603263it [05:22, 178554.70it/s]"
     ]
    },
    {
     "name": "stdout",
     "output_type": "stream",
     "text": [
      "FINISHING 399\n",
      "START\n"
     ]
    },
    {
     "name": "stderr",
     "output_type": "stream",
     "text": [
      "51666228it [05:22, 180400.62it/s]"
     ]
    },
    {
     "name": "stdout",
     "output_type": "stream",
     "text": [
      "FINISHING 399\n",
      "START\n",
      "FINISHING 399\n",
      "START\n",
      "FINISHING 399\n",
      "START\n"
     ]
    },
    {
     "name": "stderr",
     "output_type": "stream",
     "text": [
      "51731474it [05:22, 202417.76it/s]"
     ]
    },
    {
     "name": "stdout",
     "output_type": "stream",
     "text": [
      "FINISHING 399\n",
      "START\n",
      "FINISHING 399\n",
      "START\n",
      "FINISHING 399\n",
      "START\n",
      "FINISHING 399\n",
      "START\n",
      "FINISHING 399\n",
      "START\n",
      "FINISHING 399\n",
      "START\n",
      "FINISHING 399\n",
      "START\n",
      "FINISHING 399\n",
      "START\n"
     ]
    },
    {
     "name": "stderr",
     "output_type": "stream",
     "text": [
      "51773709it [05:23, 207205.28it/s]"
     ]
    },
    {
     "name": "stdout",
     "output_type": "stream",
     "text": [
      "FINISHING 399\n",
      "START\n"
     ]
    },
    {
     "name": "stderr",
     "output_type": "stream",
     "text": [
      "51862707it [05:23, 219549.84it/s]"
     ]
    },
    {
     "name": "stdout",
     "output_type": "stream",
     "text": [
      "FINISHING 399\n",
      "START\n",
      "FINISHING 399\n",
      "START\n"
     ]
    },
    {
     "name": "stderr",
     "output_type": "stream",
     "text": [
      "51950831it [05:23, 217761.76it/s]"
     ]
    },
    {
     "name": "stdout",
     "output_type": "stream",
     "text": [
      "FINISHING 399\n",
      "START\n",
      "FINISHING 399\n",
      "START\n",
      "FINISHING 399\n",
      "START\n",
      "FINISHING 399\n",
      "START\n"
     ]
    },
    {
     "name": "stderr",
     "output_type": "stream",
     "text": [
      "52016114it [05:24, 213660.36it/s]"
     ]
    },
    {
     "name": "stdout",
     "output_type": "stream",
     "text": [
      "FINISHING 399\n",
      "START\n",
      "FINISHING 399\n",
      "START\n"
     ]
    },
    {
     "name": "stderr",
     "output_type": "stream",
     "text": [
      "52124006it [05:24, 210566.41it/s]"
     ]
    },
    {
     "name": "stdout",
     "output_type": "stream",
     "text": [
      "FINISHING 399\n",
      "START\n",
      "FINISHING 399\n",
      "START\n"
     ]
    },
    {
     "name": "stderr",
     "output_type": "stream",
     "text": [
      "52340651it [05:25, 213940.94it/s]"
     ]
    },
    {
     "name": "stdout",
     "output_type": "stream",
     "text": [
      "FINISHING 399\n",
      "START\n",
      "FINISHING 399\n",
      "START\n",
      "FINISHING 399\n",
      "START\n",
      "FINISHING 399\n",
      "START\n"
     ]
    },
    {
     "name": "stderr",
     "output_type": "stream",
     "text": [
      "52383442it [05:25, 213525.48it/s]"
     ]
    },
    {
     "name": "stdout",
     "output_type": "stream",
     "text": [
      "FINISHING 399\n",
      "START\n",
      "FINISHING 399\n",
      "START\n"
     ]
    },
    {
     "name": "stderr",
     "output_type": "stream",
     "text": [
      "52428028it [05:26, 218051.82it/s]"
     ]
    },
    {
     "name": "stdout",
     "output_type": "stream",
     "text": [
      "FINISHING 399\n",
      "START\n"
     ]
    },
    {
     "name": "stderr",
     "output_type": "stream",
     "text": [
      "52516185it [05:26, 217604.89it/s]"
     ]
    },
    {
     "name": "stdout",
     "output_type": "stream",
     "text": [
      "FINISHING 399\n",
      "START\n"
     ]
    },
    {
     "name": "stderr",
     "output_type": "stream",
     "text": [
      "52625904it [05:26, 211396.75it/s]"
     ]
    },
    {
     "name": "stdout",
     "output_type": "stream",
     "text": [
      "FINISHING 399\n",
      "START\n"
     ]
    },
    {
     "name": "stderr",
     "output_type": "stream",
     "text": [
      "52668985it [05:27, 212337.23it/s]"
     ]
    },
    {
     "name": "stdout",
     "output_type": "stream",
     "text": [
      "FINISHING 399\n",
      "START\n",
      "FINISHING 399\n",
      "START\n",
      "FINISHING 399\n",
      "START\n",
      "FINISHING 399\n",
      "START\n",
      "FINISHING 399\n",
      "START\n"
     ]
    },
    {
     "name": "stderr",
     "output_type": "stream",
     "text": [
      "52712833it [05:27, 194309.95it/s]"
     ]
    },
    {
     "name": "stdout",
     "output_type": "stream",
     "text": [
      "FINISHING 399\n",
      "START\n"
     ]
    },
    {
     "name": "stderr",
     "output_type": "stream",
     "text": [
      "52750974it [05:27, 178662.24it/s]"
     ]
    },
    {
     "name": "stdout",
     "output_type": "stream",
     "text": [
      "FINISHING 399\n",
      "START\n",
      "FINISHING 399\n",
      "START\n"
     ]
    },
    {
     "name": "stderr",
     "output_type": "stream",
     "text": [
      "52806979it [05:27, 182507.21it/s]"
     ]
    },
    {
     "name": "stdout",
     "output_type": "stream",
     "text": [
      "FINISHING 399\n",
      "START\n",
      "FINISHING 399\n",
      "START\n",
      "FINISHING 399\n",
      "START\n",
      "FINISHING 399\n",
      "START\n"
     ]
    },
    {
     "name": "stderr",
     "output_type": "stream",
     "text": [
      "52846243it [05:28, 188538.61it/s]"
     ]
    },
    {
     "name": "stdout",
     "output_type": "stream",
     "text": [
      "FINISHING 399\n",
      "START\n",
      "FINISHING 399\n",
      "START\n",
      "FINISHING 399\n",
      "START\n"
     ]
    },
    {
     "name": "stderr",
     "output_type": "stream",
     "text": [
      "52904568it [05:28, 191730.81it/s]"
     ]
    },
    {
     "name": "stdout",
     "output_type": "stream",
     "text": [
      "FINISHING 399\n",
      "START\n"
     ]
    },
    {
     "name": "stderr",
     "output_type": "stream",
     "text": [
      "52983231it [05:28, 193175.29it/s]"
     ]
    },
    {
     "name": "stdout",
     "output_type": "stream",
     "text": [
      "FINISHING 399\n",
      "START\n",
      "FINISHING 399\n",
      "START\n",
      "FINISHING 399\n",
      "START\n"
     ]
    },
    {
     "name": "stderr",
     "output_type": "stream",
     "text": [
      "53080641it [05:29, 192676.92it/s]"
     ]
    },
    {
     "name": "stdout",
     "output_type": "stream",
     "text": [
      "FINISHING 399\n",
      "START\n"
     ]
    },
    {
     "name": "stderr",
     "output_type": "stream",
     "text": [
      "53314186it [05:30, 187266.68it/s]"
     ]
    },
    {
     "name": "stdout",
     "output_type": "stream",
     "text": [
      "FINISHING 399\n",
      "START\n",
      "FINISHING 399\n",
      "START\n",
      "FINISHING 399\n",
      "START\n",
      "FINISHING 399\n",
      "START\n",
      "FINISHING 399\n",
      "START\n"
     ]
    },
    {
     "name": "stderr",
     "output_type": "stream",
     "text": [
      "53373989it [05:31, 70258.68it/s] "
     ]
    },
    {
     "name": "stdout",
     "output_type": "stream",
     "text": [
      "FINISHING 399\n",
      "START\n",
      "FINISHING 399\n",
      "START\n"
     ]
    },
    {
     "name": "stderr",
     "output_type": "stream",
     "text": [
      "53414898it [05:31, 106102.57it/s]"
     ]
    },
    {
     "name": "stdout",
     "output_type": "stream",
     "text": [
      "FINISHING 399\n",
      "START\n",
      "FINISHING 399\n",
      "START\n"
     ]
    },
    {
     "name": "stderr",
     "output_type": "stream",
     "text": [
      "53479391it [05:32, 160940.11it/s]"
     ]
    },
    {
     "name": "stdout",
     "output_type": "stream",
     "text": [
      "FINISHING 399\n",
      "START\n",
      "FINISHING 399\n",
      "START\n"
     ]
    },
    {
     "name": "stderr",
     "output_type": "stream",
     "text": [
      "53567295it [05:32, 200446.08it/s]"
     ]
    },
    {
     "name": "stdout",
     "output_type": "stream",
     "text": [
      "FINISHING 399\n",
      "START\n"
     ]
    },
    {
     "name": "stderr",
     "output_type": "stream",
     "text": [
      "53630821it [05:34, 44009.97it/s] "
     ]
    },
    {
     "name": "stdout",
     "output_type": "stream",
     "text": [
      "FINISHING 399\n",
      "START\n",
      "FINISHING 399\n",
      "START\n",
      "FINISHING 399\n",
      "START\n",
      "FINISHING 399\n",
      "START\n"
     ]
    },
    {
     "name": "stderr",
     "output_type": "stream",
     "text": [
      "53690867it [05:35, 88726.02it/s]"
     ]
    },
    {
     "name": "stdout",
     "output_type": "stream",
     "text": [
      "FINISHING 399\n",
      "START\n"
     ]
    },
    {
     "name": "stderr",
     "output_type": "stream",
     "text": [
      "53732273it [05:35, 125418.98it/s]"
     ]
    },
    {
     "name": "stdout",
     "output_type": "stream",
     "text": [
      "FINISHING 399\n",
      "START\n",
      "FINISHING 399\n",
      "START\n",
      "FINISHING 399\n",
      "START\n"
     ]
    },
    {
     "name": "stderr",
     "output_type": "stream",
     "text": [
      "53925153it [05:36, 210665.28it/s]"
     ]
    },
    {
     "name": "stdout",
     "output_type": "stream",
     "text": [
      "FINISHING 399\n",
      "START\n",
      "FINISHING 399\n",
      "START\n",
      "FINISHING 399\n",
      "START\n"
     ]
    },
    {
     "name": "stderr",
     "output_type": "stream",
     "text": [
      "53989928it [05:37, 123257.39it/s]"
     ]
    },
    {
     "name": "stdout",
     "output_type": "stream",
     "text": [
      "FINISHING 399\n",
      "START\n",
      "FINISHING 399\n",
      "START\n",
      "FINISHING 399\n",
      "START\n"
     ]
    },
    {
     "name": "stderr",
     "output_type": "stream",
     "text": [
      "54032514it [05:37, 156710.74it/s]"
     ]
    },
    {
     "name": "stdout",
     "output_type": "stream",
     "text": [
      "FINISHING 399\n",
      "START\n",
      "FINISHING 399\n",
      "START\n",
      "FINISHING 399\n",
      "START\n"
     ]
    },
    {
     "name": "stderr",
     "output_type": "stream",
     "text": [
      "54118374it [05:37, 195047.19it/s]"
     ]
    },
    {
     "name": "stdout",
     "output_type": "stream",
     "text": [
      "FINISHING 399\n",
      "START\n",
      "FINISHING 399\n",
      "START\n"
     ]
    },
    {
     "name": "stderr",
     "output_type": "stream",
     "text": [
      "54185009it [05:37, 208717.80it/s]"
     ]
    },
    {
     "name": "stdout",
     "output_type": "stream",
     "text": [
      "FINISHING 399\n",
      "START\n",
      "FINISHING 399\n",
      "START\n",
      "FINISHING 399\n",
      "START\n"
     ]
    },
    {
     "name": "stderr",
     "output_type": "stream",
     "text": [
      "54248969it [05:38, 209949.66it/s]"
     ]
    },
    {
     "name": "stdout",
     "output_type": "stream",
     "text": [
      "FINISHING 399\n",
      "START\n",
      "FINISHING 399\n",
      "START\n"
     ]
    },
    {
     "name": "stderr",
     "output_type": "stream",
     "text": [
      "54355857it [05:38, 211853.29it/s]"
     ]
    },
    {
     "name": "stdout",
     "output_type": "stream",
     "text": [
      "FINISHING 399\n",
      "START\n",
      "FINISHING 399\n",
      "START\n",
      "FINISHING 399\n",
      "START\n",
      "FINISHING 399\n",
      "START\n"
     ]
    },
    {
     "name": "stderr",
     "output_type": "stream",
     "text": [
      "54419255it [05:39, 207875.48it/s]"
     ]
    },
    {
     "name": "stdout",
     "output_type": "stream",
     "text": [
      "FINISHING 399\n",
      "START\n",
      "FINISHING 399\n",
      "START\n"
     ]
    },
    {
     "name": "stderr",
     "output_type": "stream",
     "text": [
      "54481228it [05:42, 35374.19it/s] "
     ]
    },
    {
     "name": "stdout",
     "output_type": "stream",
     "text": [
      "FINISHING 399\n",
      "START\n",
      "FINISHING 399\n",
      "START\n",
      "FINISHING 399\n",
      "START\n"
     ]
    },
    {
     "name": "stderr",
     "output_type": "stream",
     "text": [
      "54517902it [05:42, 56735.54it/s]"
     ]
    },
    {
     "name": "stdout",
     "output_type": "stream",
     "text": [
      "FINISHING 399\n",
      "START\n"
     ]
    },
    {
     "name": "stderr",
     "output_type": "stream",
     "text": [
      "54576748it [05:43, 106516.87it/s]"
     ]
    },
    {
     "name": "stdout",
     "output_type": "stream",
     "text": [
      "FINISHING 399\n",
      "START\n",
      "FINISHING 399\n",
      "START\n",
      "FINISHING 399\n",
      "START\n"
     ]
    },
    {
     "name": "stderr",
     "output_type": "stream",
     "text": [
      "54658325it [05:43, 167909.24it/s]"
     ]
    },
    {
     "name": "stdout",
     "output_type": "stream",
     "text": [
      "FINISHING 399\n",
      "START\n",
      "FINISHING 399\n",
      "START\n",
      "FINISHING 399\n",
      "START\n"
     ]
    },
    {
     "name": "stderr",
     "output_type": "stream",
     "text": [
      "54719519it [05:43, 185812.84it/s]"
     ]
    },
    {
     "name": "stdout",
     "output_type": "stream",
     "text": [
      "FINISHING 399\n",
      "START\n",
      "FINISHING 399\n",
      "START\n"
     ]
    },
    {
     "name": "stderr",
     "output_type": "stream",
     "text": [
      "54760031it [05:44, 194008.82it/s]"
     ]
    },
    {
     "name": "stdout",
     "output_type": "stream",
     "text": [
      "FINISHING 399\n",
      "START\n"
     ]
    },
    {
     "name": "stderr",
     "output_type": "stream",
     "text": [
      "54883918it [05:44, 205094.49it/s]"
     ]
    },
    {
     "name": "stdout",
     "output_type": "stream",
     "text": [
      "FINISHING 399\n",
      "START\n"
     ]
    },
    {
     "name": "stderr",
     "output_type": "stream",
     "text": [
      "\r",
      "54905033it [05:44, 206875.14it/s]"
     ]
    },
    {
     "name": "stdout",
     "output_type": "stream",
     "text": [
      "FINISHING 399\n",
      "START\n"
     ]
    },
    {
     "name": "stderr",
     "output_type": "stream",
     "text": [
      "55074507it [05:45, 197577.74it/s]"
     ]
    },
    {
     "name": "stdout",
     "output_type": "stream",
     "text": [
      "FINISHING 399\n",
      "START\n",
      "FINISHING 399\n",
      "START\n"
     ]
    },
    {
     "name": "stderr",
     "output_type": "stream",
     "text": [
      "55273726it [05:49, 99552.98it/s] "
     ]
    },
    {
     "name": "stdout",
     "output_type": "stream",
     "text": [
      "FINISHING 399\n",
      "START\n"
     ]
    },
    {
     "name": "stderr",
     "output_type": "stream",
     "text": [
      "55348689it [05:49, 152767.54it/s]"
     ]
    },
    {
     "name": "stdout",
     "output_type": "stream",
     "text": [
      "FINISHING 399\n",
      "START\n"
     ]
    },
    {
     "name": "stderr",
     "output_type": "stream",
     "text": [
      "55500205it [05:50, 176267.27it/s]"
     ]
    },
    {
     "name": "stdout",
     "output_type": "stream",
     "text": [
      "FINISHING 399\n",
      "START\n",
      "FINISHING 399\n",
      "START\n",
      "FINISHING 399\n",
      "START\n",
      "FINISHING 399\n",
      "START\n",
      "FINISHING 399\n",
      "START\n"
     ]
    },
    {
     "name": "stderr",
     "output_type": "stream",
     "text": [
      "55542655it [05:50, 194591.06it/s]"
     ]
    },
    {
     "name": "stdout",
     "output_type": "stream",
     "text": [
      "FINISHING 399\n",
      "START\n",
      "FINISHING 399\n",
      "START\n"
     ]
    },
    {
     "name": "stderr",
     "output_type": "stream",
     "text": [
      "55666191it [05:51, 175086.69it/s]"
     ]
    },
    {
     "name": "stdout",
     "output_type": "stream",
     "text": [
      "FINISHING 399\n",
      "START\n",
      "FINISHING 399\n",
      "START\n",
      "FINISHING 399\n",
      "START\n"
     ]
    },
    {
     "name": "stderr",
     "output_type": "stream",
     "text": [
      "56026567it [05:54, 177700.83it/s]"
     ]
    },
    {
     "name": "stdout",
     "output_type": "stream",
     "text": [
      "FINISHING 399\n",
      "START\n",
      "FINISHING 399\n",
      "START\n"
     ]
    },
    {
     "name": "stderr",
     "output_type": "stream",
     "text": [
      "56102563it [05:55, 186241.49it/s]"
     ]
    },
    {
     "name": "stdout",
     "output_type": "stream",
     "text": [
      "FINISHING 399\n",
      "START\n"
     ]
    },
    {
     "name": "stderr",
     "output_type": "stream",
     "text": [
      "56219240it [05:55, 195226.18it/s]"
     ]
    },
    {
     "name": "stdout",
     "output_type": "stream",
     "text": [
      "FINISHING 399\n",
      "START\n",
      "FINISHING 399\n",
      "START\n"
     ]
    },
    {
     "name": "stderr",
     "output_type": "stream",
     "text": [
      "56262830it [05:55, 206065.93it/s]"
     ]
    },
    {
     "name": "stdout",
     "output_type": "stream",
     "text": [
      "FINISHING 399\n",
      "START\n",
      "FINISHING 399\n",
      "START\n",
      "FINISHING 399\n",
      "START\n"
     ]
    },
    {
     "name": "stderr",
     "output_type": "stream",
     "text": [
      "56337476it [05:57, 90753.85it/s] "
     ]
    },
    {
     "name": "stdout",
     "output_type": "stream",
     "text": [
      "FINISHING 399\n",
      "START\n",
      "FINISHING 399\n",
      "START\n",
      "FINISHING 399\n",
      "START\n"
     ]
    },
    {
     "name": "stderr",
     "output_type": "stream",
     "text": [
      "56422504it [05:57, 164260.42it/s]"
     ]
    },
    {
     "name": "stdout",
     "output_type": "stream",
     "text": [
      "FINISHING 399\n",
      "START\n"
     ]
    },
    {
     "name": "stderr",
     "output_type": "stream",
     "text": [
      "56465007it [05:57, 184384.32it/s]"
     ]
    },
    {
     "name": "stdout",
     "output_type": "stream",
     "text": [
      "FINISHING 399\n",
      "START\n"
     ]
    },
    {
     "name": "stderr",
     "output_type": "stream",
     "text": [
      "56590947it [05:58, 155061.40it/s]"
     ]
    },
    {
     "name": "stdout",
     "output_type": "stream",
     "text": [
      "FINISHING 399\n",
      "START\n"
     ]
    },
    {
     "name": "stderr",
     "output_type": "stream",
     "text": [
      "56634106it [05:58, 181341.80it/s]"
     ]
    },
    {
     "name": "stdout",
     "output_type": "stream",
     "text": [
      "FINISHING 399\n",
      "START\n"
     ]
    },
    {
     "name": "stderr",
     "output_type": "stream",
     "text": [
      "56697380it [05:59, 198021.11it/s]"
     ]
    },
    {
     "name": "stdout",
     "output_type": "stream",
     "text": [
      "FINISHING 399\n",
      "START\n",
      "FINISHING 399\n",
      "START\n"
     ]
    },
    {
     "name": "stderr",
     "output_type": "stream",
     "text": [
      "56738933it [05:59, 120199.22it/s]"
     ]
    },
    {
     "name": "stdout",
     "output_type": "stream",
     "text": [
      "FINISHING 399\n",
      "START\n"
     ]
    },
    {
     "name": "stderr",
     "output_type": "stream",
     "text": [
      "56793835it [06:00, 123327.23it/s]"
     ]
    },
    {
     "name": "stdout",
     "output_type": "stream",
     "text": [
      "FINISHING 399\n",
      "START\n",
      "FINISHING 399\n",
      "START\n"
     ]
    },
    {
     "name": "stderr",
     "output_type": "stream",
     "text": [
      "56854045it [06:00, 164478.20it/s]"
     ]
    },
    {
     "name": "stdout",
     "output_type": "stream",
     "text": [
      "FINISHING 399\n",
      "START\n"
     ]
    },
    {
     "name": "stderr",
     "output_type": "stream",
     "text": [
      "56938783it [06:01, 200520.44it/s]"
     ]
    },
    {
     "name": "stdout",
     "output_type": "stream",
     "text": [
      "FINISHING 399\n",
      "START\n"
     ]
    },
    {
     "name": "stderr",
     "output_type": "stream",
     "text": [
      "57005089it [06:01, 210996.10it/s]"
     ]
    },
    {
     "name": "stdout",
     "output_type": "stream",
     "text": [
      "FINISHING 399\n",
      "START\n"
     ]
    },
    {
     "name": "stderr",
     "output_type": "stream",
     "text": [
      "57155088it [06:02, 165234.39it/s]"
     ]
    },
    {
     "name": "stdout",
     "output_type": "stream",
     "text": [
      "FINISHING 399\n",
      "START\n",
      "FINISHING 399\n",
      "START\n",
      "FINISHING 399\n",
      "START\n"
     ]
    },
    {
     "name": "stderr",
     "output_type": "stream",
     "text": [
      "57232241it [06:03, 96332.36it/s] "
     ]
    },
    {
     "name": "stdout",
     "output_type": "stream",
     "text": [
      "FINISHING 399\n",
      "START\n"
     ]
    },
    {
     "name": "stderr",
     "output_type": "stream",
     "text": [
      "57311984it [06:04, 156449.03it/s]"
     ]
    },
    {
     "name": "stdout",
     "output_type": "stream",
     "text": [
      "FINISHING 399\n",
      "START\n",
      "FINISHING 399\n",
      "START\n"
     ]
    },
    {
     "name": "stderr",
     "output_type": "stream",
     "text": [
      "57375797it [06:04, 182018.73it/s]"
     ]
    },
    {
     "name": "stdout",
     "output_type": "stream",
     "text": [
      "FINISHING 399\n",
      "START\n",
      "FINISHING 399\n",
      "START\n"
     ]
    },
    {
     "name": "stderr",
     "output_type": "stream",
     "text": [
      "\r",
      "57397426it [06:04, 191322.79it/s]"
     ]
    },
    {
     "name": "stdout",
     "output_type": "stream",
     "text": [
      "FINISHING 399\n",
      "START\n",
      "FINISHING 399\n",
      "START\n",
      "FINISHING 399\n",
      "START\n"
     ]
    },
    {
     "name": "stderr",
     "output_type": "stream",
     "text": [
      "57461986it [06:05, 144069.84it/s]"
     ]
    },
    {
     "name": "stdout",
     "output_type": "stream",
     "text": [
      "FINISHING 399\n",
      "START\n",
      "FINISHING 399\n",
      "START\n",
      "FINISHING 399\n",
      "START\n",
      "FINISHING 399\n",
      "START\n"
     ]
    },
    {
     "name": "stderr",
     "output_type": "stream",
     "text": [
      "57506473it [06:05, 176628.55it/s]"
     ]
    },
    {
     "name": "stdout",
     "output_type": "stream",
     "text": [
      "FINISHING 399\n",
      "START\n",
      "FINISHING 399\n",
      "START\n",
      "FINISHING 399\n",
      "START\n"
     ]
    },
    {
     "name": "stderr",
     "output_type": "stream",
     "text": [
      "57616517it [06:05, 190589.35it/s]"
     ]
    },
    {
     "name": "stdout",
     "output_type": "stream",
     "text": [
      "FINISHING 399\n",
      "START\n"
     ]
    },
    {
     "name": "stderr",
     "output_type": "stream",
     "text": [
      "57681288it [06:06, 187695.57it/s]"
     ]
    },
    {
     "name": "stdout",
     "output_type": "stream",
     "text": [
      "FINISHING 399\n",
      "START\n"
     ]
    },
    {
     "name": "stderr",
     "output_type": "stream",
     "text": [
      "57740271it [06:06, 172536.77it/s]"
     ]
    },
    {
     "name": "stdout",
     "output_type": "stream",
     "text": [
      "FINISHING 399\n",
      "START\n"
     ]
    },
    {
     "name": "stderr",
     "output_type": "stream",
     "text": [
      "57853499it [06:07, 101888.13it/s]"
     ]
    },
    {
     "name": "stdout",
     "output_type": "stream",
     "text": [
      "FINISHING 399\n",
      "START\n"
     ]
    },
    {
     "name": "stderr",
     "output_type": "stream",
     "text": [
      "57995541it [06:08, 170246.59it/s]"
     ]
    },
    {
     "name": "stdout",
     "output_type": "stream",
     "text": [
      "FINISHING 399\n",
      "START\n"
     ]
    },
    {
     "name": "stderr",
     "output_type": "stream",
     "text": [
      "58188575it [06:10, 84813.81it/s] "
     ]
    },
    {
     "name": "stdout",
     "output_type": "stream",
     "text": [
      "FINISHING 399\n",
      "START\n",
      "FINISHING 399\n",
      "START\n"
     ]
    },
    {
     "name": "stderr",
     "output_type": "stream",
     "text": [
      "58424002it [06:12, 128059.64it/s]"
     ]
    },
    {
     "name": "stdout",
     "output_type": "stream",
     "text": [
      "FINISHING 399\n",
      "START\n",
      "FINISHING 399\n",
      "START\n"
     ]
    },
    {
     "name": "stderr",
     "output_type": "stream",
     "text": [
      "58508643it [06:12, 164450.54it/s]"
     ]
    },
    {
     "name": "stdout",
     "output_type": "stream",
     "text": [
      "FINISHING 399\n",
      "START\n"
     ]
    },
    {
     "name": "stderr",
     "output_type": "stream",
     "text": [
      "58579808it [06:13, 136753.80it/s]"
     ]
    },
    {
     "name": "stdout",
     "output_type": "stream",
     "text": [
      "FINISHING 399\n",
      "START\n"
     ]
    },
    {
     "name": "stderr",
     "output_type": "stream",
     "text": [
      "58667436it [06:13, 134004.77it/s]"
     ]
    },
    {
     "name": "stdout",
     "output_type": "stream",
     "text": [
      "FINISHING 399\n",
      "START\n"
     ]
    },
    {
     "name": "stderr",
     "output_type": "stream",
     "text": [
      "58816928it [06:14, 190799.55it/s]"
     ]
    },
    {
     "name": "stdout",
     "output_type": "stream",
     "text": [
      "FINISHING 399\n",
      "START\n",
      "FINISHING 399\n",
      "START\n",
      "FINISHING 399\n",
      "START\n",
      "FINISHING 399\n",
      "START\n"
     ]
    },
    {
     "name": "stderr",
     "output_type": "stream",
     "text": [
      "\r",
      "58839188it [06:14, 200088.41it/s]"
     ]
    },
    {
     "name": "stdout",
     "output_type": "stream",
     "text": [
      "FINISHING 399\n",
      "START\n"
     ]
    },
    {
     "name": "stderr",
     "output_type": "stream",
     "text": [
      "58875480it [06:15, 131407.70it/s]"
     ]
    },
    {
     "name": "stdout",
     "output_type": "stream",
     "text": [
      "FINISHING 399\n",
      "START\n",
      "FINISHING 399\n",
      "START\n",
      "FINISHING 399\n",
      "START\n",
      "FINISHING 399\n",
      "START\n"
     ]
    },
    {
     "name": "stderr",
     "output_type": "stream",
     "text": [
      "58985313it [06:16, 121470.14it/s]"
     ]
    },
    {
     "name": "stdout",
     "output_type": "stream",
     "text": [
      "FINISHING 399\n",
      "START\n",
      "FINISHING 399\n",
      "START\n",
      "FINISHING 399\n",
      "START\n",
      "FINISHING 399\n",
      "START\n"
     ]
    },
    {
     "name": "stderr",
     "output_type": "stream",
     "text": [
      "59065691it [06:16, 143736.77it/s]"
     ]
    },
    {
     "name": "stdout",
     "output_type": "stream",
     "text": [
      "FINISHING 399\n",
      "START\n",
      "FINISHING 399\n",
      "START\n",
      "FINISHING 399\n",
      "START\n",
      "FINISHING 399\n",
      "START\n"
     ]
    },
    {
     "name": "stderr",
     "output_type": "stream",
     "text": [
      "59100812it [06:17, 156909.96it/s]"
     ]
    },
    {
     "name": "stdout",
     "output_type": "stream",
     "text": [
      "FINISHING 399\n",
      "START\n"
     ]
    },
    {
     "name": "stderr",
     "output_type": "stream",
     "text": [
      "59159066it [06:17, 180550.72it/s]"
     ]
    },
    {
     "name": "stdout",
     "output_type": "stream",
     "text": [
      "FINISHING 399\n",
      "START\n",
      "FINISHING 399\n",
      "START\n"
     ]
    },
    {
     "name": "stderr",
     "output_type": "stream",
     "text": [
      "59220287it [06:17, 197257.07it/s]"
     ]
    },
    {
     "name": "stdout",
     "output_type": "stream",
     "text": [
      "FINISHING 399\n",
      "START\n",
      "FINISHING 399\n",
      "START\n"
     ]
    },
    {
     "name": "stderr",
     "output_type": "stream",
     "text": [
      "59262282it [06:18, 121887.60it/s]"
     ]
    },
    {
     "name": "stdout",
     "output_type": "stream",
     "text": [
      "FINISHING 399\n",
      "START\n",
      "FINISHING 399\n",
      "START\n",
      "FINISHING 399\n",
      "START\n"
     ]
    },
    {
     "name": "stderr",
     "output_type": "stream",
     "text": [
      "59303743it [06:18, 154116.82it/s]"
     ]
    },
    {
     "name": "stdout",
     "output_type": "stream",
     "text": [
      "FINISHING 399\n",
      "START\n"
     ]
    },
    {
     "name": "stderr",
     "output_type": "stream",
     "text": [
      "59364190it [06:18, 164961.48it/s]"
     ]
    },
    {
     "name": "stdout",
     "output_type": "stream",
     "text": [
      "FINISHING 399\n",
      "START\n"
     ]
    },
    {
     "name": "stderr",
     "output_type": "stream",
     "text": [
      "59443333it [06:20, 97223.58it/s] "
     ]
    },
    {
     "name": "stdout",
     "output_type": "stream",
     "text": [
      "FINISHING 399\n",
      "START\n"
     ]
    },
    {
     "name": "stderr",
     "output_type": "stream",
     "text": [
      "59541177it [06:20, 122209.71it/s]"
     ]
    },
    {
     "name": "stdout",
     "output_type": "stream",
     "text": [
      "FINISHING 399\n",
      "START\n"
     ]
    },
    {
     "name": "stderr",
     "output_type": "stream",
     "text": [
      "59626504it [06:21, 181018.13it/s]"
     ]
    },
    {
     "name": "stdout",
     "output_type": "stream",
     "text": [
      "FINISHING 399\n",
      "START\n",
      "FINISHING 399\n",
      "START\n"
     ]
    },
    {
     "name": "stderr",
     "output_type": "stream",
     "text": [
      "59690559it [06:21, 200298.31it/s]"
     ]
    },
    {
     "name": "stdout",
     "output_type": "stream",
     "text": [
      "FINISHING 399\n",
      "START\n",
      "FINISHING 399\n",
      "START\n",
      "FINISHING 399\n",
      "START\n",
      "FINISHING 399\n",
      "START\n",
      "FINISHING 399\n",
      "START\n",
      "FINISHING 399\n",
      "START\n"
     ]
    },
    {
     "name": "stderr",
     "output_type": "stream",
     "text": [
      "59753600it [06:21, 199689.32it/s]"
     ]
    },
    {
     "name": "stdout",
     "output_type": "stream",
     "text": [
      "FINISHING 399\n",
      "START\n",
      "FINISHING 399\n",
      "START\n",
      "FINISHING 399\n",
      "START\n",
      "FINISHING 399\n",
      "START\n"
     ]
    },
    {
     "name": "stderr",
     "output_type": "stream",
     "text": [
      "\r",
      "59774309it [06:22, 201825.50it/s]"
     ]
    },
    {
     "name": "stdout",
     "output_type": "stream",
     "text": [
      "FINISHING 399\n",
      "START\n"
     ]
    },
    {
     "name": "stderr",
     "output_type": "stream",
     "text": [
      "59863758it [06:24, 73901.83it/s] "
     ]
    },
    {
     "name": "stdout",
     "output_type": "stream",
     "text": [
      "FINISHING 399\n",
      "START\n",
      "FINISHING 399\n",
      "START\n"
     ]
    },
    {
     "name": "stderr",
     "output_type": "stream",
     "text": [
      "59946813it [06:25, 145128.07it/s]"
     ]
    },
    {
     "name": "stdout",
     "output_type": "stream",
     "text": [
      "FINISHING 399\n",
      "START\n",
      "FINISHING 399\n",
      "START\n"
     ]
    },
    {
     "name": "stderr",
     "output_type": "stream",
     "text": [
      "60055913it [06:25, 201874.86it/s]"
     ]
    },
    {
     "name": "stdout",
     "output_type": "stream",
     "text": [
      "FINISHING 399\n",
      "START\n"
     ]
    },
    {
     "name": "stderr",
     "output_type": "stream",
     "text": [
      "60165874it [06:26, 216477.13it/s]"
     ]
    },
    {
     "name": "stdout",
     "output_type": "stream",
     "text": [
      "FINISHING 399\n",
      "START\n",
      "FINISHING 399\n",
      "START\n"
     ]
    },
    {
     "name": "stderr",
     "output_type": "stream",
     "text": [
      "60209270it [06:26, 209404.08it/s]"
     ]
    },
    {
     "name": "stdout",
     "output_type": "stream",
     "text": [
      "FINISHING 399\n",
      "START\n",
      "FINISHING 399\n",
      "START\n",
      "FINISHING 399\n",
      "START\n",
      "FINISHING 399\n",
      "START\n",
      "FINISHING 399\n",
      "START\n"
     ]
    },
    {
     "name": "stderr",
     "output_type": "stream",
     "text": [
      "60323931it [06:27, 67919.65it/s] "
     ]
    },
    {
     "name": "stdout",
     "output_type": "stream",
     "text": [
      "FINISHING 399\n",
      "START\n"
     ]
    },
    {
     "name": "stderr",
     "output_type": "stream",
     "text": [
      "60408183it [06:29, 87398.68it/s]"
     ]
    },
    {
     "name": "stdout",
     "output_type": "stream",
     "text": [
      "FINISHING 399\n",
      "START\n"
     ]
    },
    {
     "name": "stderr",
     "output_type": "stream",
     "text": [
      "60467913it [06:29, 132280.00it/s]"
     ]
    },
    {
     "name": "stdout",
     "output_type": "stream",
     "text": [
      "FINISHING 399\n",
      "START\n"
     ]
    },
    {
     "name": "stderr",
     "output_type": "stream",
     "text": [
      "60730444it [06:31, 211617.23it/s]"
     ]
    },
    {
     "name": "stdout",
     "output_type": "stream",
     "text": [
      "FINISHING 399\n",
      "START\n",
      "FINISHING 399\n",
      "START\n"
     ]
    },
    {
     "name": "stderr",
     "output_type": "stream",
     "text": [
      "\r",
      "60751740it [06:31, 211758.03it/s]"
     ]
    },
    {
     "name": "stdout",
     "output_type": "stream",
     "text": [
      "FINISHING 399\n",
      "START\n",
      "FINISHING 399\n",
      "START\n",
      "FINISHING 399\n",
      "START\n"
     ]
    },
    {
     "name": "stderr",
     "output_type": "stream",
     "text": [
      "60846617it [06:32, 98812.56it/s] "
     ]
    },
    {
     "name": "stdout",
     "output_type": "stream",
     "text": [
      "FINISHING 399\n",
      "START\n",
      "FINISHING 399\n",
      "START\n"
     ]
    },
    {
     "name": "stderr",
     "output_type": "stream",
     "text": [
      "60974297it [06:33, 188735.47it/s]"
     ]
    },
    {
     "name": "stdout",
     "output_type": "stream",
     "text": [
      "FINISHING 399\n",
      "START\n",
      "FINISHING 399\n",
      "START\n"
     ]
    },
    {
     "name": "stderr",
     "output_type": "stream",
     "text": [
      "61081665it [06:34, 175338.77it/s]"
     ]
    },
    {
     "name": "stdout",
     "output_type": "stream",
     "text": [
      "FINISHING 399\n",
      "START\n"
     ]
    },
    {
     "name": "stderr",
     "output_type": "stream",
     "text": [
      "61168225it [06:34, 206175.74it/s]"
     ]
    },
    {
     "name": "stdout",
     "output_type": "stream",
     "text": [
      "FINISHING 399\n",
      "START\n",
      "FINISHING 399\n",
      "START\n"
     ]
    },
    {
     "name": "stderr",
     "output_type": "stream",
     "text": [
      "61235317it [06:34, 216881.39it/s]"
     ]
    },
    {
     "name": "stdout",
     "output_type": "stream",
     "text": [
      "FINISHING 399\n",
      "START\n",
      "FINISHING 399\n",
      "START\n",
      "FINISHING 399\n",
      "START\n",
      "FINISHING 399\n",
      "START\n",
      "FINISHING 399\n",
      "START\n",
      "FINISHING 399\n",
      "START\n"
     ]
    },
    {
     "name": "stderr",
     "output_type": "stream",
     "text": [
      "61348081it [06:35, 223724.61it/s]"
     ]
    },
    {
     "name": "stdout",
     "output_type": "stream",
     "text": [
      "FINISHING 399\n",
      "START\n"
     ]
    },
    {
     "name": "stderr",
     "output_type": "stream",
     "text": [
      "61460662it [06:35, 223550.61it/s]"
     ]
    },
    {
     "name": "stdout",
     "output_type": "stream",
     "text": [
      "FINISHING 399\n",
      "START\n"
     ]
    },
    {
     "name": "stderr",
     "output_type": "stream",
     "text": [
      "61548026it [06:36, 207989.87it/s]"
     ]
    },
    {
     "name": "stdout",
     "output_type": "stream",
     "text": [
      "FINISHING 399\n",
      "START\n"
     ]
    },
    {
     "name": "stderr",
     "output_type": "stream",
     "text": [
      "61787466it [06:37, 211384.44it/s]"
     ]
    },
    {
     "name": "stdout",
     "output_type": "stream",
     "text": [
      "FINISHING 399\n",
      "START\n",
      "FINISHING 399\n",
      "START\n"
     ]
    },
    {
     "name": "stderr",
     "output_type": "stream",
     "text": [
      "\r",
      "61808644it [06:37, 135481.98it/s]"
     ]
    },
    {
     "name": "stdout",
     "output_type": "stream",
     "text": [
      "FINISHING 399\n",
      "START\n"
     ]
    },
    {
     "name": "stderr",
     "output_type": "stream",
     "text": [
      "61850891it [06:37, 165762.16it/s]"
     ]
    },
    {
     "name": "stdout",
     "output_type": "stream",
     "text": [
      "FINISHING 399\n",
      "START\n",
      "FINISHING 399\n",
      "START\n"
     ]
    },
    {
     "name": "stderr",
     "output_type": "stream",
     "text": [
      "61892889it [06:38, 184968.86it/s]"
     ]
    },
    {
     "name": "stdout",
     "output_type": "stream",
     "text": [
      "FINISHING 399\n",
      "START\n"
     ]
    },
    {
     "name": "stderr",
     "output_type": "stream",
     "text": [
      "61935051it [06:38, 196894.93it/s]"
     ]
    },
    {
     "name": "stdout",
     "output_type": "stream",
     "text": [
      "FINISHING 399\n",
      "START\n",
      "FINISHING 399\n",
      "START\n"
     ]
    },
    {
     "name": "stderr",
     "output_type": "stream",
     "text": [
      "61977400it [06:38, 201469.65it/s]"
     ]
    },
    {
     "name": "stdout",
     "output_type": "stream",
     "text": [
      "FINISHING 399\n",
      "START\n",
      "FINISHING 399\n",
      "START\n",
      "FINISHING 399\n",
      "START\n"
     ]
    },
    {
     "name": "stderr",
     "output_type": "stream",
     "text": [
      "62018315it [06:38, 200640.19it/s]"
     ]
    },
    {
     "name": "stdout",
     "output_type": "stream",
     "text": [
      "FINISHING 399\n",
      "START\n"
     ]
    },
    {
     "name": "stderr",
     "output_type": "stream",
     "text": [
      "62161872it [06:40, 159689.61it/s]"
     ]
    },
    {
     "name": "stdout",
     "output_type": "stream",
     "text": [
      "FINISHING 399\n",
      "START\n",
      "FINISHING 399\n",
      "START\n"
     ]
    },
    {
     "name": "stderr",
     "output_type": "stream",
     "text": [
      "62295844it [06:40, 208554.02it/s]"
     ]
    },
    {
     "name": "stdout",
     "output_type": "stream",
     "text": [
      "FINISHING 399\n",
      "START\n",
      "FINISHING 399\n",
      "START\n"
     ]
    },
    {
     "name": "stderr",
     "output_type": "stream",
     "text": [
      "62359241it [06:42, 44756.16it/s] "
     ]
    },
    {
     "name": "stdout",
     "output_type": "stream",
     "text": [
      "FINISHING 399\n",
      "START\n",
      "FINISHING 399\n",
      "START\n"
     ]
    },
    {
     "name": "stderr",
     "output_type": "stream",
     "text": [
      "62445854it [06:43, 85834.74it/s]"
     ]
    },
    {
     "name": "stdout",
     "output_type": "stream",
     "text": [
      "FINISHING 399\n",
      "START\n",
      "FINISHING 399\n",
      "START\n"
     ]
    },
    {
     "name": "stderr",
     "output_type": "stream",
     "text": [
      "62510611it [06:43, 132500.46it/s]"
     ]
    },
    {
     "name": "stdout",
     "output_type": "stream",
     "text": [
      "FINISHING 399\n",
      "START\n",
      "FINISHING 399\n",
      "START\n",
      "FINISHING 399\n",
      "START\n",
      "FINISHING 399\n",
      "START\n"
     ]
    },
    {
     "name": "stderr",
     "output_type": "stream",
     "text": [
      "62547571it [06:44, 147836.86it/s]"
     ]
    },
    {
     "name": "stdout",
     "output_type": "stream",
     "text": [
      "FINISHING 399\n",
      "START\n",
      "FINISHING 399\n",
      "START\n"
     ]
    },
    {
     "name": "stderr",
     "output_type": "stream",
     "text": [
      "62588538it [06:44, 174791.94it/s]"
     ]
    },
    {
     "name": "stdout",
     "output_type": "stream",
     "text": [
      "FINISHING 399\n",
      "START\n"
     ]
    },
    {
     "name": "stderr",
     "output_type": "stream",
     "text": [
      "62654148it [06:44, 203735.22it/s]"
     ]
    },
    {
     "name": "stdout",
     "output_type": "stream",
     "text": [
      "FINISHING 399\n",
      "START\n"
     ]
    },
    {
     "name": "stderr",
     "output_type": "stream",
     "text": [
      "62794033it [06:46, 88718.83it/s] "
     ]
    },
    {
     "name": "stdout",
     "output_type": "stream",
     "text": [
      "FINISHING 399\n",
      "START\n",
      "FINISHING 399\n",
      "START\n",
      "FINISHING 399\n",
      "START\n"
     ]
    },
    {
     "name": "stderr",
     "output_type": "stream",
     "text": [
      "62866467it [06:46, 131331.74it/s]"
     ]
    },
    {
     "name": "stdout",
     "output_type": "stream",
     "text": [
      "FINISHING 399\n",
      "START\n"
     ]
    },
    {
     "name": "stderr",
     "output_type": "stream",
     "text": [
      "62907633it [06:46, 163622.66it/s]"
     ]
    },
    {
     "name": "stdout",
     "output_type": "stream",
     "text": [
      "FINISHING 399\n",
      "START\n"
     ]
    },
    {
     "name": "stderr",
     "output_type": "stream",
     "text": [
      "62959438it [06:47, 129795.87it/s]"
     ]
    },
    {
     "name": "stdout",
     "output_type": "stream",
     "text": [
      "FINISHING 399\n",
      "START\n",
      "FINISHING 399\n",
      "START\n"
     ]
    },
    {
     "name": "stderr",
     "output_type": "stream",
     "text": [
      "62999706it [06:47, 159772.22it/s]"
     ]
    },
    {
     "name": "stdout",
     "output_type": "stream",
     "text": [
      "FINISHING 399\n",
      "START\n",
      "FINISHING 399\n",
      "START\n"
     ]
    },
    {
     "name": "stderr",
     "output_type": "stream",
     "text": [
      "63060869it [06:48, 164040.54it/s]"
     ]
    },
    {
     "name": "stdout",
     "output_type": "stream",
     "text": [
      "FINISHING 399\n",
      "START\n",
      "FINISHING 399\n",
      "START\n"
     ]
    },
    {
     "name": "stderr",
     "output_type": "stream",
     "text": [
      "63121391it [06:48, 188984.07it/s]"
     ]
    },
    {
     "name": "stdout",
     "output_type": "stream",
     "text": [
      "FINISHING 399\n",
      "START\n"
     ]
    },
    {
     "name": "stderr",
     "output_type": "stream",
     "text": [
      "63203190it [06:49, 152552.03it/s]"
     ]
    },
    {
     "name": "stdout",
     "output_type": "stream",
     "text": [
      "FINISHING 399\n",
      "START\n",
      "FINISHING 399\n",
      "START\n",
      "FINISHING 399\n",
      "START\n"
     ]
    },
    {
     "name": "stderr",
     "output_type": "stream",
     "text": [
      "63248163it [06:49, 184163.58it/s]"
     ]
    },
    {
     "name": "stdout",
     "output_type": "stream",
     "text": [
      "FINISHING 399\n",
      "START\n",
      "FINISHING 399\n",
      "START\n",
      "FINISHING 399\n",
      "START\n"
     ]
    },
    {
     "name": "stderr",
     "output_type": "stream",
     "text": [
      "63313000it [06:49, 204439.62it/s]"
     ]
    },
    {
     "name": "stdout",
     "output_type": "stream",
     "text": [
      "FINISHING 399\n",
      "START\n",
      "FINISHING 399\n",
      "START\n"
     ]
    },
    {
     "name": "stderr",
     "output_type": "stream",
     "text": [
      "63402994it [06:49, 218012.17it/s]"
     ]
    },
    {
     "name": "stdout",
     "output_type": "stream",
     "text": [
      "FINISHING 399\n",
      "START\n",
      "FINISHING 399\n",
      "START\n",
      "FINISHING 399\n",
      "START\n"
     ]
    },
    {
     "name": "stderr",
     "output_type": "stream",
     "text": [
      "63447630it [06:50, 220688.50it/s]"
     ]
    },
    {
     "name": "stdout",
     "output_type": "stream",
     "text": [
      "FINISHING 399\n",
      "START\n",
      "FINISHING 399\n",
      "START\n",
      "FINISHING 399\n",
      "START\n"
     ]
    },
    {
     "name": "stderr",
     "output_type": "stream",
     "text": [
      "63575975it [06:50, 202942.37it/s]"
     ]
    },
    {
     "name": "stdout",
     "output_type": "stream",
     "text": [
      "FINISHING 399\n",
      "START\n"
     ]
    },
    {
     "name": "stderr",
     "output_type": "stream",
     "text": [
      "63686429it [06:51, 213032.23it/s]"
     ]
    },
    {
     "name": "stdout",
     "output_type": "stream",
     "text": [
      "FINISHING 399\n",
      "START\n"
     ]
    },
    {
     "name": "stderr",
     "output_type": "stream",
     "text": [
      "63837696it [06:52, 212574.22it/s]"
     ]
    },
    {
     "name": "stdout",
     "output_type": "stream",
     "text": [
      "FINISHING 399\n",
      "START\n",
      "FINISHING 399\n",
      "START\n",
      "FINISHING 399\n",
      "START\n",
      "FINISHING 399\n",
      "START\n"
     ]
    },
    {
     "name": "stderr",
     "output_type": "stream",
     "text": [
      "64015655it [06:52, 220632.10it/s]"
     ]
    },
    {
     "name": "stdout",
     "output_type": "stream",
     "text": [
      "FINISHING 399\n",
      "START\n",
      "FINISHING 399\n",
      "START\n",
      "FINISHING 399\n",
      "START\n"
     ]
    },
    {
     "name": "stderr",
     "output_type": "stream",
     "text": [
      "64082298it [06:53, 195973.21it/s]"
     ]
    },
    {
     "name": "stdout",
     "output_type": "stream",
     "text": [
      "FINISHING 399\n",
      "START\n",
      "FINISHING 399\n",
      "START\n"
     ]
    },
    {
     "name": "stderr",
     "output_type": "stream",
     "text": [
      "64182982it [06:53, 197702.89it/s]"
     ]
    },
    {
     "name": "stdout",
     "output_type": "stream",
     "text": [
      "FINISHING 399\n",
      "START\n"
     ]
    },
    {
     "name": "stderr",
     "output_type": "stream",
     "text": [
      "64263879it [06:54, 200819.62it/s]"
     ]
    },
    {
     "name": "stdout",
     "output_type": "stream",
     "text": [
      "FINISHING 399\n",
      "START\n"
     ]
    },
    {
     "name": "stderr",
     "output_type": "stream",
     "text": [
      "64343550it [06:54, 196505.29it/s]"
     ]
    },
    {
     "name": "stdout",
     "output_type": "stream",
     "text": [
      "FINISHING 399\n",
      "START\n"
     ]
    },
    {
     "name": "stderr",
     "output_type": "stream",
     "text": [
      "64442174it [06:55, 175907.38it/s]"
     ]
    },
    {
     "name": "stdout",
     "output_type": "stream",
     "text": [
      "FINISHING 399\n",
      "START\n",
      "FINISHING 399\n",
      "START\n"
     ]
    },
    {
     "name": "stderr",
     "output_type": "stream",
     "text": [
      "64528909it [06:55, 200995.84it/s]"
     ]
    },
    {
     "name": "stdout",
     "output_type": "stream",
     "text": [
      "FINISHING 399\n",
      "START\n",
      "FINISHING 399\n",
      "START\n",
      "FINISHING 399\n",
      "START\n"
     ]
    },
    {
     "name": "stderr",
     "output_type": "stream",
     "text": [
      "\r",
      "64549206it [06:55, 157538.01it/s]"
     ]
    },
    {
     "name": "stdout",
     "output_type": "stream",
     "text": [
      "FINISHING 399\n",
      "START\n",
      "FINISHING 399\n",
      "START\n"
     ]
    },
    {
     "name": "stderr",
     "output_type": "stream",
     "text": [
      "64612991it [06:55, 190066.80it/s]"
     ]
    },
    {
     "name": "stdout",
     "output_type": "stream",
     "text": [
      "FINISHING 399\n",
      "START\n",
      "FINISHING 399\n",
      "START\n"
     ]
    },
    {
     "name": "stderr",
     "output_type": "stream",
     "text": [
      "64674881it [06:56, 198744.69it/s]"
     ]
    },
    {
     "name": "stdout",
     "output_type": "stream",
     "text": [
      "FINISHING 399\n",
      "START\n",
      "FINISHING 399\n",
      "START\n"
     ]
    },
    {
     "name": "stderr",
     "output_type": "stream",
     "text": [
      "64736631it [06:56, 174860.76it/s]"
     ]
    },
    {
     "name": "stdout",
     "output_type": "stream",
     "text": [
      "FINISHING 399\n",
      "START\n"
     ]
    },
    {
     "name": "stderr",
     "output_type": "stream",
     "text": [
      "64771163it [06:57, 78396.69it/s] "
     ]
    },
    {
     "name": "stdout",
     "output_type": "stream",
     "text": [
      "FINISHING 399\n",
      "START\n"
     ]
    },
    {
     "name": "stderr",
     "output_type": "stream",
     "text": [
      "64856257it [06:57, 153799.70it/s]"
     ]
    },
    {
     "name": "stdout",
     "output_type": "stream",
     "text": [
      "FINISHING 399\n",
      "START\n"
     ]
    },
    {
     "name": "stderr",
     "output_type": "stream",
     "text": [
      "65018141it [06:58, 200583.48it/s]"
     ]
    },
    {
     "name": "stdout",
     "output_type": "stream",
     "text": [
      "FINISHING 399\n",
      "START\n",
      "FINISHING 399\n",
      "START\n"
     ]
    },
    {
     "name": "stderr",
     "output_type": "stream",
     "text": [
      "65061096it [06:59, 207610.04it/s]"
     ]
    },
    {
     "name": "stdout",
     "output_type": "stream",
     "text": [
      "FINISHING 399\n",
      "START\n",
      "FINISHING 399\n",
      "START\n"
     ]
    },
    {
     "name": "stderr",
     "output_type": "stream",
     "text": [
      "65103797it [06:59, 210209.98it/s]"
     ]
    },
    {
     "name": "stdout",
     "output_type": "stream",
     "text": [
      "FINISHING 399\n",
      "START\n",
      "FINISHING 399\n",
      "START\n",
      "FINISHING 399\n",
      "START\n"
     ]
    },
    {
     "name": "stderr",
     "output_type": "stream",
     "text": [
      "65169886it [06:59, 197083.24it/s]"
     ]
    },
    {
     "name": "stdout",
     "output_type": "stream",
     "text": [
      "FINISHING 399\n",
      "START\n",
      "FINISHING 399\n",
      "START\n"
     ]
    },
    {
     "name": "stderr",
     "output_type": "stream",
     "text": [
      "65210317it [06:59, 196726.72it/s]"
     ]
    },
    {
     "name": "stdout",
     "output_type": "stream",
     "text": [
      "FINISHING 399\n",
      "START\n",
      "FINISHING 399\n",
      "START\n",
      "FINISHING 399\n",
      "START\n"
     ]
    },
    {
     "name": "stderr",
     "output_type": "stream",
     "text": [
      "65315651it [07:00, 210663.85it/s]"
     ]
    },
    {
     "name": "stdout",
     "output_type": "stream",
     "text": [
      "FINISHING 399\n",
      "START\n",
      "FINISHING 399\n",
      "START\n",
      "FINISHING 399\n",
      "START\n",
      "FINISHING 399\n",
      "START\n",
      "FINISHING 399\n",
      "START\n",
      "FINISHING 399\n",
      "START\n"
     ]
    },
    {
     "name": "stderr",
     "output_type": "stream",
     "text": [
      "65358209it [07:00, 181348.10it/s]"
     ]
    },
    {
     "name": "stdout",
     "output_type": "stream",
     "text": [
      "FINISHING 399\n",
      "START\n"
     ]
    },
    {
     "name": "stderr",
     "output_type": "stream",
     "text": [
      "65420800it [07:00, 178296.37it/s]"
     ]
    },
    {
     "name": "stdout",
     "output_type": "stream",
     "text": [
      "FINISHING 399\n",
      "START\n",
      "FINISHING 399\n",
      "START\n",
      "FINISHING 399\n",
      "START\n"
     ]
    },
    {
     "name": "stderr",
     "output_type": "stream",
     "text": [
      "65461700it [07:01, 179637.62it/s]"
     ]
    },
    {
     "name": "stdout",
     "output_type": "stream",
     "text": [
      "FINISHING 399\n",
      "START\n",
      "FINISHING 399\n",
      "START\n",
      "FINISHING 399\n",
      "START\n",
      "FINISHING 399\n",
      "START\n"
     ]
    },
    {
     "name": "stderr",
     "output_type": "stream",
     "text": [
      "65522312it [07:01, 192408.78it/s]"
     ]
    },
    {
     "name": "stdout",
     "output_type": "stream",
     "text": [
      "FINISHING 399\n",
      "START\n",
      "FINISHING 399\n",
      "START\n",
      "FINISHING 399\n",
      "START\n",
      "FINISHING 399\n",
      "START\n",
      "FINISHING 399\n",
      "START\n",
      "FINISHING 399\n",
      "START\n"
     ]
    },
    {
     "name": "stderr",
     "output_type": "stream",
     "text": [
      "65566391it [07:01, 206573.76it/s]"
     ]
    },
    {
     "name": "stdout",
     "output_type": "stream",
     "text": [
      "FINISHING 399\n",
      "START\n",
      "FINISHING 399\n",
      "START\n",
      "FINISHING 399\n",
      "START\n"
     ]
    },
    {
     "name": "stderr",
     "output_type": "stream",
     "text": [
      "65609747it [07:01, 211317.99it/s]"
     ]
    },
    {
     "name": "stdout",
     "output_type": "stream",
     "text": [
      "FINISHING 399\n",
      "START\n",
      "FINISHING 399\n",
      "START\n",
      "FINISHING 399\n",
      "START\n"
     ]
    },
    {
     "name": "stderr",
     "output_type": "stream",
     "text": [
      "65720099it [07:02, 217380.32it/s]"
     ]
    },
    {
     "name": "stdout",
     "output_type": "stream",
     "text": [
      "FINISHING 399\n",
      "START\n",
      "FINISHING 399\n",
      "START\n"
     ]
    },
    {
     "name": "stderr",
     "output_type": "stream",
     "text": [
      "65807804it [07:02, 212519.48it/s]"
     ]
    },
    {
     "name": "stdout",
     "output_type": "stream",
     "text": [
      "FINISHING 399\n",
      "START\n",
      "FINISHING 399\n",
      "START\n",
      "FINISHING 399\n",
      "START\n"
     ]
    },
    {
     "name": "stderr",
     "output_type": "stream",
     "text": [
      "65934904it [07:03, 204570.87it/s]"
     ]
    },
    {
     "name": "stdout",
     "output_type": "stream",
     "text": [
      "FINISHING 399\n",
      "START\n",
      "FINISHING 399\n",
      "START\n"
     ]
    },
    {
     "name": "stderr",
     "output_type": "stream",
     "text": [
      "66019279it [07:03, 209017.13it/s]"
     ]
    },
    {
     "name": "stdout",
     "output_type": "stream",
     "text": [
      "FINISHING 399\n",
      "START\n",
      "FINISHING 399\n",
      "START\n",
      "FINISHING 399\n",
      "START\n"
     ]
    },
    {
     "name": "stderr",
     "output_type": "stream",
     "text": [
      "66061089it [07:03, 204044.31it/s]"
     ]
    },
    {
     "name": "stdout",
     "output_type": "stream",
     "text": [
      "FINISHING 399\n",
      "START\n",
      "FINISHING 399\n",
      "START\n"
     ]
    },
    {
     "name": "stderr",
     "output_type": "stream",
     "text": [
      "66104289it [07:04, 210193.13it/s]"
     ]
    },
    {
     "name": "stdout",
     "output_type": "stream",
     "text": [
      "FINISHING 399\n",
      "START\n"
     ]
    },
    {
     "name": "stderr",
     "output_type": "stream",
     "text": [
      "66169388it [07:04, 207889.43it/s]"
     ]
    },
    {
     "name": "stdout",
     "output_type": "stream",
     "text": [
      "FINISHING 399\n",
      "START\n"
     ]
    },
    {
     "name": "stderr",
     "output_type": "stream",
     "text": [
      "66210846it [07:04, 203090.71it/s]"
     ]
    },
    {
     "name": "stdout",
     "output_type": "stream",
     "text": [
      "FINISHING 399\n",
      "START\n",
      "FINISHING 399\n",
      "START\n"
     ]
    },
    {
     "name": "stderr",
     "output_type": "stream",
     "text": [
      "66273273it [07:05, 205208.74it/s]"
     ]
    },
    {
     "name": "stdout",
     "output_type": "stream",
     "text": [
      "FINISHING 399\n",
      "START\n",
      "FINISHING 399\n",
      "START\n",
      "FINISHING 399\n",
      "START\n",
      "FINISHING 399\n",
      "START\n"
     ]
    },
    {
     "name": "stderr",
     "output_type": "stream",
     "text": [
      "66333701it [07:05, 115461.13it/s]"
     ]
    },
    {
     "name": "stdout",
     "output_type": "stream",
     "text": [
      "FINISHING 399\n",
      "START\n"
     ]
    },
    {
     "name": "stderr",
     "output_type": "stream",
     "text": [
      "66394151it [07:06, 160620.77it/s]"
     ]
    },
    {
     "name": "stdout",
     "output_type": "stream",
     "text": [
      "FINISHING 399\n",
      "START\n"
     ]
    },
    {
     "name": "stderr",
     "output_type": "stream",
     "text": [
      "66481252it [07:06, 202290.50it/s]"
     ]
    },
    {
     "name": "stdout",
     "output_type": "stream",
     "text": [
      "FINISHING 399\n",
      "START\n",
      "FINISHING 399\n",
      "START\n"
     ]
    },
    {
     "name": "stderr",
     "output_type": "stream",
     "text": [
      "66713221it [07:07, 204834.60it/s]"
     ]
    },
    {
     "name": "stdout",
     "output_type": "stream",
     "text": [
      "FINISHING 399\n",
      "START\n",
      "FINISHING 399\n",
      "START\n",
      "FINISHING 399\n",
      "START\n",
      "FINISHING 399\n",
      "START\n"
     ]
    },
    {
     "name": "stderr",
     "output_type": "stream",
     "text": [
      "66780546it [07:08, 217636.81it/s]"
     ]
    },
    {
     "name": "stdout",
     "output_type": "stream",
     "text": [
      "FINISHING 399\n",
      "START\n",
      "FINISHING 399\n",
      "START\n"
     ]
    },
    {
     "name": "stderr",
     "output_type": "stream",
     "text": [
      "66868381it [07:08, 211648.04it/s]"
     ]
    },
    {
     "name": "stdout",
     "output_type": "stream",
     "text": [
      "FINISHING 399\n",
      "START\n"
     ]
    },
    {
     "name": "stderr",
     "output_type": "stream",
     "text": [
      "66935201it [07:08, 218894.76it/s]"
     ]
    },
    {
     "name": "stdout",
     "output_type": "stream",
     "text": [
      "FINISHING 399\n",
      "START\n"
     ]
    },
    {
     "name": "stderr",
     "output_type": "stream",
     "text": [
      "67047342it [07:09, 221292.68it/s]"
     ]
    },
    {
     "name": "stdout",
     "output_type": "stream",
     "text": [
      "FINISHING 399\n",
      "START\n"
     ]
    },
    {
     "name": "stderr",
     "output_type": "stream",
     "text": [
      "67091688it [07:09, 221201.82it/s]"
     ]
    },
    {
     "name": "stdout",
     "output_type": "stream",
     "text": [
      "FINISHING 399\n",
      "START\n",
      "FINISHING 399\n",
      "START\n",
      "FINISHING 399\n",
      "START\n"
     ]
    },
    {
     "name": "stderr",
     "output_type": "stream",
     "text": [
      "67204222it [07:09, 225024.79it/s]"
     ]
    },
    {
     "name": "stdout",
     "output_type": "stream",
     "text": [
      "FINISHING 399\n",
      "START\n"
     ]
    },
    {
     "name": "stderr",
     "output_type": "stream",
     "text": [
      "67294342it [07:10, 221965.96it/s]"
     ]
    },
    {
     "name": "stdout",
     "output_type": "stream",
     "text": [
      "FINISHING 399\n",
      "START\n"
     ]
    },
    {
     "name": "stderr",
     "output_type": "stream",
     "text": [
      "67382333it [07:10, 203877.22it/s]"
     ]
    },
    {
     "name": "stdout",
     "output_type": "stream",
     "text": [
      "FINISHING 399\n",
      "START\n"
     ]
    },
    {
     "name": "stderr",
     "output_type": "stream",
     "text": [
      "67491360it [07:11, 213277.44it/s]"
     ]
    },
    {
     "name": "stdout",
     "output_type": "stream",
     "text": [
      "FINISHING 399\n",
      "START\n",
      "FINISHING 399\n",
      "START\n",
      "FINISHING 399\n",
      "START\n",
      "FINISHING 399\n",
      "START\n",
      "FINISHING 399\n",
      "START\n"
     ]
    },
    {
     "name": "stderr",
     "output_type": "stream",
     "text": [
      "67558440it [07:11, 220684.68it/s]"
     ]
    },
    {
     "name": "stdout",
     "output_type": "stream",
     "text": [
      "FINISHING 399\n",
      "START\n"
     ]
    },
    {
     "name": "stderr",
     "output_type": "stream",
     "text": [
      "67600657it [07:11, 195184.41it/s]"
     ]
    },
    {
     "name": "stdout",
     "output_type": "stream",
     "text": [
      "FINISHING 399\n",
      "START\n"
     ]
    },
    {
     "name": "stderr",
     "output_type": "stream",
     "text": [
      "67658690it [07:12, 188522.82it/s]"
     ]
    },
    {
     "name": "stdout",
     "output_type": "stream",
     "text": [
      "FINISHING 399\n",
      "START\n"
     ]
    },
    {
     "name": "stderr",
     "output_type": "stream",
     "text": [
      "67716338it [07:12, 191079.58it/s]"
     ]
    },
    {
     "name": "stdout",
     "output_type": "stream",
     "text": [
      "FINISHING 399\n",
      "START\n"
     ]
    },
    {
     "name": "stderr",
     "output_type": "stream",
     "text": [
      "67777129it [07:12, 199104.89it/s]"
     ]
    },
    {
     "name": "stdout",
     "output_type": "stream",
     "text": [
      "FINISHING 399\n",
      "START\n",
      "FINISHING 399\n",
      "START\n"
     ]
    },
    {
     "name": "stderr",
     "output_type": "stream",
     "text": [
      "67820005it [07:12, 199507.84it/s]"
     ]
    },
    {
     "name": "stdout",
     "output_type": "stream",
     "text": [
      "FINISHING 399\n",
      "START\n",
      "FINISHING 399\n",
      "START\n",
      "FINISHING 399\n",
      "START\n",
      "FINISHING 399\n",
      "START\n",
      "FINISHING 399\n",
      "START\n",
      "FINISHING 399\n",
      "START\n"
     ]
    },
    {
     "name": "stderr",
     "output_type": "stream",
     "text": [
      "67896921it [07:13, 172037.36it/s]"
     ]
    },
    {
     "name": "stdout",
     "output_type": "stream",
     "text": [
      "FINISHING 399\n",
      "START\n"
     ]
    },
    {
     "name": "stderr",
     "output_type": "stream",
     "text": [
      "67975774it [07:13, 194481.99it/s]"
     ]
    },
    {
     "name": "stdout",
     "output_type": "stream",
     "text": [
      "FINISHING 399\n",
      "START\n",
      "FINISHING 399\n",
      "START\n"
     ]
    },
    {
     "name": "stderr",
     "output_type": "stream",
     "text": [
      "68019465it [07:14, 206210.12it/s]"
     ]
    },
    {
     "name": "stdout",
     "output_type": "stream",
     "text": [
      "FINISHING 399\n",
      "START\n",
      "FINISHING 399\n",
      "START\n",
      "FINISHING 399\n",
      "START\n",
      "FINISHING 399\n",
      "START\n",
      "FINISHING 399\n",
      "START\n"
     ]
    },
    {
     "name": "stderr",
     "output_type": "stream",
     "text": [
      "68086614it [07:14, 218159.67it/s]"
     ]
    },
    {
     "name": "stdout",
     "output_type": "stream",
     "text": [
      "FINISHING 399\n",
      "START\n",
      "FINISHING 399\n",
      "START\n"
     ]
    },
    {
     "name": "stderr",
     "output_type": "stream",
     "text": [
      "68198835it [07:14, 223592.14it/s]"
     ]
    },
    {
     "name": "stdout",
     "output_type": "stream",
     "text": [
      "FINISHING 399\n",
      "START\n"
     ]
    },
    {
     "name": "stderr",
     "output_type": "stream",
     "text": [
      "68289249it [07:15, 221790.34it/s]"
     ]
    },
    {
     "name": "stdout",
     "output_type": "stream",
     "text": [
      "FINISHING 399\n",
      "START\n",
      "FINISHING 399\n",
      "START\n"
     ]
    },
    {
     "name": "stderr",
     "output_type": "stream",
     "text": [
      "68334281it [07:15, 220206.31it/s]"
     ]
    },
    {
     "name": "stdout",
     "output_type": "stream",
     "text": [
      "FINISHING 399\n",
      "START\n",
      "FINISHING 399\n",
      "START\n"
     ]
    },
    {
     "name": "stderr",
     "output_type": "stream",
     "text": [
      "68468880it [07:16, 221681.25it/s]"
     ]
    },
    {
     "name": "stdout",
     "output_type": "stream",
     "text": [
      "FINISHING 399\n",
      "START\n",
      "FINISHING 399\n",
      "START\n",
      "FINISHING 399\n",
      "START\n",
      "FINISHING 399\n",
      "START\n",
      "FINISHING 399\n",
      "START\n",
      "FINISHING 399\n",
      "START\n"
     ]
    },
    {
     "name": "stderr",
     "output_type": "stream",
     "text": [
      "68513492it [07:16, 220825.07it/s]"
     ]
    },
    {
     "name": "stdout",
     "output_type": "stream",
     "text": [
      "FINISHING 399\n",
      "START\n",
      "FINISHING 399\n",
      "START\n"
     ]
    },
    {
     "name": "stderr",
     "output_type": "stream",
     "text": [
      "68580848it [07:16, 222177.37it/s]"
     ]
    },
    {
     "name": "stdout",
     "output_type": "stream",
     "text": [
      "FINISHING 399\n",
      "START\n",
      "FINISHING 399\n",
      "START\n",
      "FINISHING 399\n",
      "START\n",
      "FINISHING 399\n",
      "START\n"
     ]
    },
    {
     "name": "stderr",
     "output_type": "stream",
     "text": [
      "68690287it [07:17, 214471.96it/s]"
     ]
    },
    {
     "name": "stdout",
     "output_type": "stream",
     "text": [
      "FINISHING 399\n",
      "START\n",
      "FINISHING 399\n",
      "START\n",
      "FINISHING 399\n",
      "START\n",
      "FINISHING 399\n",
      "START\n"
     ]
    },
    {
     "name": "stderr",
     "output_type": "stream",
     "text": [
      "68733358it [07:17, 212610.64it/s]"
     ]
    },
    {
     "name": "stdout",
     "output_type": "stream",
     "text": [
      "FINISHING 399\n",
      "START\n"
     ]
    },
    {
     "name": "stderr",
     "output_type": "stream",
     "text": [
      "68817061it [07:17, 166277.80it/s]"
     ]
    },
    {
     "name": "stdout",
     "output_type": "stream",
     "text": [
      "FINISHING 399\n",
      "START\n",
      "FINISHING 399\n",
      "START\n"
     ]
    },
    {
     "name": "stderr",
     "output_type": "stream",
     "text": [
      "68881035it [07:18, 193361.85it/s]"
     ]
    },
    {
     "name": "stdout",
     "output_type": "stream",
     "text": [
      "FINISHING 399\n",
      "START\n"
     ]
    },
    {
     "name": "stderr",
     "output_type": "stream",
     "text": [
      "69081209it [07:19, 219965.00it/s]"
     ]
    },
    {
     "name": "stdout",
     "output_type": "stream",
     "text": [
      "FINISHING 399\n",
      "START\n",
      "FINISHING 399\n",
      "START\n",
      "FINISHING 399\n",
      "START\n",
      "FINISHING 399\n",
      "START\n"
     ]
    },
    {
     "name": "stderr",
     "output_type": "stream",
     "text": [
      "69147929it [07:19, 221096.28it/s]"
     ]
    },
    {
     "name": "stdout",
     "output_type": "stream",
     "text": [
      "FINISHING 399\n",
      "START\n"
     ]
    },
    {
     "name": "stderr",
     "output_type": "stream",
     "text": [
      "69236444it [07:19, 216941.97it/s]"
     ]
    },
    {
     "name": "stdout",
     "output_type": "stream",
     "text": [
      "FINISHING 399\n",
      "START\n",
      "FINISHING 399\n",
      "START\n"
     ]
    },
    {
     "name": "stderr",
     "output_type": "stream",
     "text": [
      "69303399it [07:20, 220711.99it/s]"
     ]
    },
    {
     "name": "stdout",
     "output_type": "stream",
     "text": [
      "FINISHING 399\n",
      "START\n",
      "FINISHING 399\n",
      "START\n"
     ]
    },
    {
     "name": "stderr",
     "output_type": "stream",
     "text": [
      "69393809it [07:20, 223425.63it/s]"
     ]
    },
    {
     "name": "stdout",
     "output_type": "stream",
     "text": [
      "FINISHING 399\n",
      "START\n",
      "FINISHING 399\n",
      "START\n",
      "FINISHING 399\n",
      "START\n",
      "FINISHING 399\n",
      "START\n"
     ]
    },
    {
     "name": "stderr",
     "output_type": "stream",
     "text": [
      "69571907it [07:21, 219568.71it/s]"
     ]
    },
    {
     "name": "stdout",
     "output_type": "stream",
     "text": [
      "FINISHING 399\n",
      "START\n",
      "FINISHING 399\n",
      "START\n"
     ]
    },
    {
     "name": "stderr",
     "output_type": "stream",
     "text": [
      "69638608it [07:21, 220709.06it/s]"
     ]
    },
    {
     "name": "stdout",
     "output_type": "stream",
     "text": [
      "FINISHING 399\n",
      "START\n",
      "FINISHING 399\n",
      "START\n",
      "FINISHING 399\n",
      "START\n",
      "FINISHING 399\n",
      "START\n",
      "FINISHING 399\n",
      "START\n"
     ]
    },
    {
     "name": "stderr",
     "output_type": "stream",
     "text": [
      "69703251it [07:21, 205307.49it/s]"
     ]
    },
    {
     "name": "stdout",
     "output_type": "stream",
     "text": [
      "FINISHING 399\n",
      "START\n",
      "FINISHING 399\n",
      "START\n"
     ]
    },
    {
     "name": "stderr",
     "output_type": "stream",
     "text": [
      "69790402it [07:22, 216326.63it/s]"
     ]
    },
    {
     "name": "stdout",
     "output_type": "stream",
     "text": [
      "FINISHING 399\n",
      "START\n"
     ]
    },
    {
     "name": "stderr",
     "output_type": "stream",
     "text": [
      "69850774it [07:22, 155451.61it/s]"
     ]
    },
    {
     "name": "stdout",
     "output_type": "stream",
     "text": [
      "FINISHING 399\n",
      "START\n",
      "FINISHING 399\n",
      "START\n",
      "FINISHING 399\n",
      "START\n",
      "FINISHING 399\n",
      "START\n",
      "FINISHING 399\n",
      "START\n",
      "FINISHING 399\n",
      "START\n",
      "FINISHING 399\n",
      "START\n"
     ]
    },
    {
     "name": "stderr",
     "output_type": "stream",
     "text": [
      "69893821it [07:23, 182261.85it/s]"
     ]
    },
    {
     "name": "stdout",
     "output_type": "stream",
     "text": [
      "FINISHING 399\n",
      "START\n"
     ]
    },
    {
     "name": "stderr",
     "output_type": "stream",
     "text": [
      "69932262it [07:23, 131562.93it/s]"
     ]
    },
    {
     "name": "stdout",
     "output_type": "stream",
     "text": [
      "FINISHING 399\n",
      "START\n",
      "FINISHING 399\n",
      "START\n"
     ]
    },
    {
     "name": "stderr",
     "output_type": "stream",
     "text": [
      "70023742it [07:24, 163299.05it/s]"
     ]
    },
    {
     "name": "stdout",
     "output_type": "stream",
     "text": [
      "FINISHING 399\n",
      "START\n",
      "FINISHING 399\n",
      "START\n"
     ]
    },
    {
     "name": "stderr",
     "output_type": "stream",
     "text": [
      "70089899it [07:24, 197354.37it/s]"
     ]
    },
    {
     "name": "stdout",
     "output_type": "stream",
     "text": [
      "FINISHING 399\n",
      "START\n"
     ]
    },
    {
     "name": "stderr",
     "output_type": "stream",
     "text": [
      "70154734it [07:25, 160420.47it/s]"
     ]
    },
    {
     "name": "stdout",
     "output_type": "stream",
     "text": [
      "FINISHING 399\n",
      "START\n",
      "FINISHING 399\n",
      "START\n",
      "FINISHING 399\n",
      "START\n",
      "FINISHING 399\n",
      "START\n",
      "FINISHING 399\n",
      "START\n"
     ]
    },
    {
     "name": "stderr",
     "output_type": "stream",
     "text": [
      "70306051it [07:25, 185194.68it/s]"
     ]
    },
    {
     "name": "stdout",
     "output_type": "stream",
     "text": [
      "FINISHING 399\n",
      "START\n"
     ]
    },
    {
     "name": "stderr",
     "output_type": "stream",
     "text": [
      "70349090it [07:26, 145283.51it/s]"
     ]
    },
    {
     "name": "stdout",
     "output_type": "stream",
     "text": [
      "FINISHING 399\n",
      "START\n",
      "FINISHING 399\n",
      "START\n",
      "FINISHING 399\n",
      "START\n",
      "FINISHING 399\n",
      "START\n",
      "FINISHING 399\n",
      "START\n",
      "FINISHING 399\n",
      "START\n"
     ]
    },
    {
     "name": "stderr",
     "output_type": "stream",
     "text": [
      "70414152it [07:26, 184695.12it/s]"
     ]
    },
    {
     "name": "stdout",
     "output_type": "stream",
     "text": [
      "FINISHING 399\n",
      "START\n",
      "FINISHING 399\n",
      "START\n"
     ]
    },
    {
     "name": "stderr",
     "output_type": "stream",
     "text": [
      "70456948it [07:26, 198132.78it/s]"
     ]
    },
    {
     "name": "stdout",
     "output_type": "stream",
     "text": [
      "FINISHING 399\n",
      "START\n"
     ]
    },
    {
     "name": "stderr",
     "output_type": "stream",
     "text": [
      "70521842it [07:27, 210987.26it/s]"
     ]
    },
    {
     "name": "stdout",
     "output_type": "stream",
     "text": [
      "FINISHING 399\n",
      "START\n",
      "FINISHING 399\n",
      "START\n"
     ]
    },
    {
     "name": "stderr",
     "output_type": "stream",
     "text": [
      "70633038it [07:27, 220292.27it/s]"
     ]
    },
    {
     "name": "stdout",
     "output_type": "stream",
     "text": [
      "FINISHING 399\n",
      "START\n",
      "FINISHING 399\n",
      "START\n",
      "FINISHING 399\n",
      "START\n",
      "FINISHING 399\n",
      "START\n",
      "FINISHING 399\n",
      "START\n"
     ]
    },
    {
     "name": "stderr",
     "output_type": "stream",
     "text": [
      "70677814it [07:27, 221488.47it/s]"
     ]
    },
    {
     "name": "stdout",
     "output_type": "stream",
     "text": [
      "FINISHING 399\n",
      "START\n",
      "FINISHING 399\n",
      "START\n"
     ]
    },
    {
     "name": "stderr",
     "output_type": "stream",
     "text": [
      "70721666it [07:29, 45491.92it/s] "
     ]
    },
    {
     "name": "stdout",
     "output_type": "stream",
     "text": [
      "FINISHING 399\n",
      "START\n",
      "FINISHING 399\n",
      "START\n"
     ]
    },
    {
     "name": "stderr",
     "output_type": "stream",
     "text": [
      "70799493it [07:30, 99523.08it/s]"
     ]
    },
    {
     "name": "stdout",
     "output_type": "stream",
     "text": [
      "FINISHING 399\n",
      "START\n",
      "FINISHING 399\n",
      "START\n"
     ]
    },
    {
     "name": "stderr",
     "output_type": "stream",
     "text": [
      "70979330it [07:31, 187243.01it/s]"
     ]
    },
    {
     "name": "stdout",
     "output_type": "stream",
     "text": [
      "FINISHING 399\n",
      "START\n"
     ]
    },
    {
     "name": "stderr",
     "output_type": "stream",
     "text": [
      "71037375it [07:31, 190103.45it/s]"
     ]
    },
    {
     "name": "stdout",
     "output_type": "stream",
     "text": [
      "FINISHING 399\n",
      "START\n",
      "FINISHING 399\n",
      "START\n",
      "FINISHING 399\n",
      "START\n",
      "FINISHING 399\n",
      "START\n",
      "FINISHING 399\n",
      "START\n"
     ]
    },
    {
     "name": "stderr",
     "output_type": "stream",
     "text": [
      "71077522it [07:31, 185295.83it/s]"
     ]
    },
    {
     "name": "stdout",
     "output_type": "stream",
     "text": [
      "FINISHING 399\n",
      "START\n",
      "FINISHING 399\n",
      "START\n"
     ]
    },
    {
     "name": "stderr",
     "output_type": "stream",
     "text": [
      "71133901it [07:32, 179841.21it/s]"
     ]
    },
    {
     "name": "stdout",
     "output_type": "stream",
     "text": [
      "FINISHING 399\n",
      "START\n",
      "FINISHING 399\n",
      "START\n"
     ]
    },
    {
     "name": "stderr",
     "output_type": "stream",
     "text": [
      "71189775it [07:32, 172284.67it/s]"
     ]
    },
    {
     "name": "stdout",
     "output_type": "stream",
     "text": [
      "FINISHING 399\n",
      "START\n"
     ]
    },
    {
     "name": "stderr",
     "output_type": "stream",
     "text": [
      "71290726it [07:32, 197370.13it/s]"
     ]
    },
    {
     "name": "stdout",
     "output_type": "stream",
     "text": [
      "FINISHING 399\n",
      "START\n",
      "FINISHING 399\n",
      "START\n",
      "FINISHING 399\n",
      "START\n"
     ]
    },
    {
     "name": "stderr",
     "output_type": "stream",
     "text": [
      "71388011it [07:33, 190338.29it/s]"
     ]
    },
    {
     "name": "stdout",
     "output_type": "stream",
     "text": [
      "FINISHING 399\n",
      "START\n",
      "FINISHING 399\n",
      "START\n"
     ]
    },
    {
     "name": "stderr",
     "output_type": "stream",
     "text": [
      "71482144it [07:33, 178503.42it/s]"
     ]
    },
    {
     "name": "stdout",
     "output_type": "stream",
     "text": [
      "FINISHING 399\n",
      "START\n",
      "FINISHING 399\n",
      "START\n"
     ]
    },
    {
     "name": "stderr",
     "output_type": "stream",
     "text": [
      "71518189it [07:34, 175749.55it/s]"
     ]
    },
    {
     "name": "stdout",
     "output_type": "stream",
     "text": [
      "FINISHING 399\n",
      "START\n",
      "FINISHING 399\n",
      "START\n",
      "FINISHING 399\n",
      "START\n"
     ]
    },
    {
     "name": "stderr",
     "output_type": "stream",
     "text": [
      "71631781it [07:35, 80898.57it/s] "
     ]
    },
    {
     "name": "stdout",
     "output_type": "stream",
     "text": [
      "FINISHING 399\n",
      "START\n",
      "FINISHING 399\n",
      "START\n"
     ]
    },
    {
     "name": "stderr",
     "output_type": "stream",
     "text": [
      "71674218it [07:35, 120287.38it/s]"
     ]
    },
    {
     "name": "stdout",
     "output_type": "stream",
     "text": [
      "FINISHING 399\n",
      "START\n",
      "FINISHING 399\n",
      "START\n"
     ]
    },
    {
     "name": "stderr",
     "output_type": "stream",
     "text": [
      "71734899it [07:36, 163790.28it/s]"
     ]
    },
    {
     "name": "stdout",
     "output_type": "stream",
     "text": [
      "FINISHING 399\n",
      "START\n",
      "FINISHING 399\n",
      "START\n",
      "FINISHING 399\n",
      "START\n",
      "FINISHING 399\n",
      "START\n"
     ]
    },
    {
     "name": "stderr",
     "output_type": "stream",
     "text": [
      "71969030it [07:38, 145888.51it/s]"
     ]
    },
    {
     "name": "stdout",
     "output_type": "stream",
     "text": [
      "FINISHING 399\n",
      "START\n",
      "FINISHING 399\n",
      "START\n",
      "FINISHING 399\n",
      "START\n",
      "FINISHING 399\n",
      "START\n"
     ]
    },
    {
     "name": "stderr",
     "output_type": "stream",
     "text": [
      "72024459it [07:38, 150474.02it/s]"
     ]
    },
    {
     "name": "stdout",
     "output_type": "stream",
     "text": [
      "FINISHING 399\n",
      "START\n",
      "FINISHING 399\n",
      "START\n",
      "FINISHING 399\n",
      "START\n",
      "FINISHING 399\n",
      "START\n"
     ]
    },
    {
     "name": "stderr",
     "output_type": "stream",
     "text": [
      "72101592it [07:40, 42162.93it/s] "
     ]
    },
    {
     "name": "stdout",
     "output_type": "stream",
     "text": [
      "FINISHING 399\n",
      "START\n"
     ]
    },
    {
     "name": "stderr",
     "output_type": "stream",
     "text": [
      "72192879it [07:41, 111135.35it/s]"
     ]
    },
    {
     "name": "stdout",
     "output_type": "stream",
     "text": [
      "FINISHING 399\n",
      "START\n",
      "FINISHING 399\n",
      "START\n"
     ]
    },
    {
     "name": "stderr",
     "output_type": "stream",
     "text": [
      "72231361it [07:41, 141785.71it/s]"
     ]
    },
    {
     "name": "stdout",
     "output_type": "stream",
     "text": [
      "FINISHING 399\n",
      "START\n"
     ]
    },
    {
     "name": "stderr",
     "output_type": "stream",
     "text": [
      "72287746it [07:41, 162583.13it/s]"
     ]
    },
    {
     "name": "stdout",
     "output_type": "stream",
     "text": [
      "FINISHING 399\n",
      "START\n"
     ]
    },
    {
     "name": "stderr",
     "output_type": "stream",
     "text": [
      "72348442it [07:42, 158899.63it/s]"
     ]
    },
    {
     "name": "stdout",
     "output_type": "stream",
     "text": [
      "FINISHING 399\n",
      "START\n"
     ]
    },
    {
     "name": "stderr",
     "output_type": "stream",
     "text": [
      "\r",
      "72366196it [07:42, 147466.62it/s]"
     ]
    },
    {
     "name": "stdout",
     "output_type": "stream",
     "text": [
      "FINISHING 399\n",
      "START\n",
      "FINISHING 399\n",
      "START\n"
     ]
    },
    {
     "name": "stderr",
     "output_type": "stream",
     "text": [
      "72464029it [07:43, 98965.00it/s] "
     ]
    },
    {
     "name": "stdout",
     "output_type": "stream",
     "text": [
      "FINISHING 399\n",
      "START\n",
      "FINISHING 399\n",
      "START\n"
     ]
    },
    {
     "name": "stderr",
     "output_type": "stream",
     "text": [
      "72508011it [07:44, 132894.32it/s]"
     ]
    },
    {
     "name": "stdout",
     "output_type": "stream",
     "text": [
      "FINISHING 399\n",
      "START\n",
      "FINISHING 399\n",
      "START\n",
      "FINISHING 399\n",
      "START\n",
      "FINISHING 399\n",
      "START\n"
     ]
    },
    {
     "name": "stderr",
     "output_type": "stream",
     "text": [
      "72552323it [07:44, 168276.60it/s]"
     ]
    },
    {
     "name": "stdout",
     "output_type": "stream",
     "text": [
      "FINISHING 399\n",
      "START\n",
      "FINISHING 399\n",
      "START\n",
      "FINISHING 399\n",
      "START\n",
      "FINISHING 399\n",
      "START\n"
     ]
    },
    {
     "name": "stderr",
     "output_type": "stream",
     "text": [
      "72664382it [07:44, 213385.78it/s]"
     ]
    },
    {
     "name": "stdout",
     "output_type": "stream",
     "text": [
      "FINISHING 399\n",
      "START\n"
     ]
    },
    {
     "name": "stderr",
     "output_type": "stream",
     "text": [
      "72710164it [07:44, 220822.45it/s]"
     ]
    },
    {
     "name": "stdout",
     "output_type": "stream",
     "text": [
      "FINISHING 399\n",
      "START\n"
     ]
    },
    {
     "name": "stderr",
     "output_type": "stream",
     "text": [
      "72870385it [07:45, 226457.45it/s]"
     ]
    },
    {
     "name": "stdout",
     "output_type": "stream",
     "text": [
      "FINISHING 399\n",
      "START\n"
     ]
    },
    {
     "name": "stderr",
     "output_type": "stream",
     "text": [
      "72982108it [07:46, 183688.61it/s]"
     ]
    },
    {
     "name": "stdout",
     "output_type": "stream",
     "text": [
      "FINISHING 399\n",
      "START\n",
      "FINISHING 399\n",
      "START\n",
      "FINISHING 399\n",
      "START\n",
      "FINISHING 399\n",
      "START\n",
      "FINISHING 399\n",
      "START\n",
      "FINISHING 399\n",
      "START\n",
      "FINISHING 399\n",
      "START\n"
     ]
    },
    {
     "name": "stderr",
     "output_type": "stream",
     "text": [
      "73024699it [07:46, 175300.16it/s]"
     ]
    },
    {
     "name": "stdout",
     "output_type": "stream",
     "text": [
      "FINISHING 399\n",
      "START\n",
      "FINISHING 399\n",
      "START\n",
      "FINISHING 399\n",
      "START\n"
     ]
    },
    {
     "name": "stderr",
     "output_type": "stream",
     "text": [
      "73064835it [07:46, 186656.25it/s]"
     ]
    },
    {
     "name": "stdout",
     "output_type": "stream",
     "text": [
      "FINISHING 399\n",
      "START\n",
      "FINISHING 399\n",
      "START\n"
     ]
    },
    {
     "name": "stderr",
     "output_type": "stream",
     "text": [
      "\r",
      "73084056it [07:48, 33177.62it/s] "
     ]
    },
    {
     "name": "stdout",
     "output_type": "stream",
     "text": [
      "FINISHING 399\n",
      "START\n"
     ]
    },
    {
     "name": "stderr",
     "output_type": "stream",
     "text": [
      "73127103it [07:51, 18851.91it/s]"
     ]
    },
    {
     "name": "stdout",
     "output_type": "stream",
     "text": [
      "FINISHING 399\n",
      "START\n"
     ]
    },
    {
     "name": "stderr",
     "output_type": "stream",
     "text": [
      "73200993it [07:55, 12694.20it/s]"
     ]
    },
    {
     "name": "stdout",
     "output_type": "stream",
     "text": [
      "FINISHING 399\n",
      "START\n"
     ]
    },
    {
     "name": "stderr",
     "output_type": "stream",
     "text": [
      "73312465it [07:58, 67135.30it/s]"
     ]
    },
    {
     "name": "stdout",
     "output_type": "stream",
     "text": [
      "FINISHING 399\n",
      "START\n",
      "FINISHING 399\n",
      "START\n"
     ]
    },
    {
     "name": "stderr",
     "output_type": "stream",
     "text": [
      "73476932it [07:59, 183673.98it/s]"
     ]
    },
    {
     "name": "stdout",
     "output_type": "stream",
     "text": [
      "FINISHING 399\n",
      "START\n",
      "FINISHING 399\n",
      "START\n"
     ]
    },
    {
     "name": "stderr",
     "output_type": "stream",
     "text": [
      "73598228it [08:00, 197226.12it/s]"
     ]
    },
    {
     "name": "stdout",
     "output_type": "stream",
     "text": [
      "FINISHING 399\n",
      "START\n",
      "FINISHING 399\n",
      "START\n",
      "FINISHING 399\n",
      "START\n"
     ]
    },
    {
     "name": "stderr",
     "output_type": "stream",
     "text": [
      "73641202it [08:00, 207240.84it/s]"
     ]
    },
    {
     "name": "stdout",
     "output_type": "stream",
     "text": [
      "FINISHING 399\n",
      "START\n",
      "FINISHING 399\n",
      "START\n"
     ]
    },
    {
     "name": "stderr",
     "output_type": "stream",
     "text": [
      "73706305it [08:00, 214207.24it/s]"
     ]
    },
    {
     "name": "stdout",
     "output_type": "stream",
     "text": [
      "FINISHING 399\n",
      "START\n"
     ]
    },
    {
     "name": "stderr",
     "output_type": "stream",
     "text": [
      "73795997it [08:01, 219177.66it/s]"
     ]
    },
    {
     "name": "stdout",
     "output_type": "stream",
     "text": [
      "FINISHING 399\n",
      "START\n",
      "FINISHING 399\n",
      "START\n"
     ]
    },
    {
     "name": "stderr",
     "output_type": "stream",
     "text": [
      "73840717it [08:01, 221735.38it/s]"
     ]
    },
    {
     "name": "stdout",
     "output_type": "stream",
     "text": [
      "FINISHING 399\n",
      "START\n",
      "FINISHING 399\n",
      "START\n"
     ]
    },
    {
     "name": "stderr",
     "output_type": "stream",
     "text": [
      "73907739it [08:01, 217003.74it/s]"
     ]
    },
    {
     "name": "stdout",
     "output_type": "stream",
     "text": [
      "FINISHING 399\n",
      "START\n",
      "FINISHING 399\n",
      "START\n",
      "FINISHING 399\n",
      "START\n",
      "FINISHING 399\n",
      "START\n"
     ]
    },
    {
     "name": "stderr",
     "output_type": "stream",
     "text": [
      "74088444it [08:02, 225060.94it/s]"
     ]
    },
    {
     "name": "stdout",
     "output_type": "stream",
     "text": [
      "FINISHING 399\n",
      "START\n",
      "FINISHING 399\n",
      "START\n",
      "FINISHING 399\n",
      "START\n"
     ]
    },
    {
     "name": "stderr",
     "output_type": "stream",
     "text": [
      "74156467it [08:02, 224834.46it/s]"
     ]
    },
    {
     "name": "stdout",
     "output_type": "stream",
     "text": [
      "FINISHING 399\n",
      "START\n",
      "FINISHING 399\n",
      "START\n"
     ]
    },
    {
     "name": "stderr",
     "output_type": "stream",
     "text": [
      "74268468it [08:03, 220361.11it/s]"
     ]
    },
    {
     "name": "stdout",
     "output_type": "stream",
     "text": [
      "FINISHING 399\n",
      "START\n",
      "FINISHING 399\n",
      "START\n"
     ]
    },
    {
     "name": "stderr",
     "output_type": "stream",
     "text": [
      "74312334it [08:03, 97943.84it/s] "
     ]
    },
    {
     "name": "stdout",
     "output_type": "stream",
     "text": [
      "FINISHING 399\n",
      "START\n"
     ]
    },
    {
     "name": "stderr",
     "output_type": "stream",
     "text": [
      "74355538it [08:04, 134876.81it/s]"
     ]
    },
    {
     "name": "stdout",
     "output_type": "stream",
     "text": [
      "FINISHING 399\n",
      "START\n"
     ]
    },
    {
     "name": "stderr",
     "output_type": "stream",
     "text": [
      "74399949it [08:04, 168904.60it/s]"
     ]
    },
    {
     "name": "stdout",
     "output_type": "stream",
     "text": [
      "FINISHING 399\n",
      "START\n",
      "FINISHING 399\n",
      "START\n"
     ]
    },
    {
     "name": "stderr",
     "output_type": "stream",
     "text": [
      "74577679it [08:05, 219779.17it/s]"
     ]
    },
    {
     "name": "stdout",
     "output_type": "stream",
     "text": [
      "FINISHING 399\n",
      "START\n"
     ]
    },
    {
     "name": "stderr",
     "output_type": "stream",
     "text": [
      "74645361it [08:05, 221352.24it/s]"
     ]
    },
    {
     "name": "stdout",
     "output_type": "stream",
     "text": [
      "FINISHING 399\n",
      "START\n",
      "FINISHING 399\n",
      "START\n",
      "FINISHING 399\n",
      "START\n"
     ]
    },
    {
     "name": "stderr",
     "output_type": "stream",
     "text": [
      "74910406it [08:07, 179117.30it/s]"
     ]
    },
    {
     "name": "stdout",
     "output_type": "stream",
     "text": [
      "FINISHING 399\n",
      "START\n",
      "FINISHING 399\n",
      "START\n"
     ]
    },
    {
     "name": "stderr",
     "output_type": "stream",
     "text": [
      "74973786it [08:08, 186557.41it/s]"
     ]
    },
    {
     "name": "stdout",
     "output_type": "stream",
     "text": [
      "FINISHING 399\n",
      "START\n",
      "FINISHING 399\n",
      "START\n",
      "FINISHING 399\n",
      "START\n"
     ]
    },
    {
     "name": "stderr",
     "output_type": "stream",
     "text": [
      "75083152it [08:08, 191887.36it/s]"
     ]
    },
    {
     "name": "stdout",
     "output_type": "stream",
     "text": [
      "FINISHING 399\n",
      "START\n"
     ]
    },
    {
     "name": "stderr",
     "output_type": "stream",
     "text": [
      "75145673it [08:08, 199063.41it/s]"
     ]
    },
    {
     "name": "stdout",
     "output_type": "stream",
     "text": [
      "FINISHING 399\n",
      "START\n",
      "FINISHING 399\n",
      "START\n",
      "FINISHING 399\n",
      "START\n",
      "FINISHING 399\n",
      "START\n",
      "FINISHING 399\n",
      "START\n",
      "FINISHING 399\n",
      "START\n",
      "FINISHING 399\n",
      "START\n"
     ]
    },
    {
     "name": "stderr",
     "output_type": "stream",
     "text": [
      "75186757it [08:09, 189850.43it/s]"
     ]
    },
    {
     "name": "stdout",
     "output_type": "stream",
     "text": [
      "FINISHING 399\n",
      "START\n",
      "FINISHING 399\n",
      "START\n",
      "FINISHING 399\n",
      "START\n"
     ]
    },
    {
     "name": "stderr",
     "output_type": "stream",
     "text": [
      "75246623it [08:09, 193710.62it/s]"
     ]
    },
    {
     "name": "stdout",
     "output_type": "stream",
     "text": [
      "FINISHING 399\n",
      "START\n",
      "FINISHING 399\n",
      "START\n"
     ]
    },
    {
     "name": "stderr",
     "output_type": "stream",
     "text": [
      "75286028it [08:09, 195165.95it/s]"
     ]
    },
    {
     "name": "stdout",
     "output_type": "stream",
     "text": [
      "FINISHING 399\n",
      "START\n"
     ]
    },
    {
     "name": "stderr",
     "output_type": "stream",
     "text": [
      "75413132it [08:10, 210062.32it/s]"
     ]
    },
    {
     "name": "stdout",
     "output_type": "stream",
     "text": [
      "FINISHING 399\n",
      "START\n",
      "FINISHING 399\n",
      "START\n",
      "FINISHING 399\n",
      "START\n"
     ]
    },
    {
     "name": "stderr",
     "output_type": "stream",
     "text": [
      "75477456it [08:10, 210968.63it/s]"
     ]
    },
    {
     "name": "stdout",
     "output_type": "stream",
     "text": [
      "FINISHING 399\n",
      "START\n",
      "FINISHING 399\n",
      "START\n",
      "FINISHING 399\n",
      "START\n"
     ]
    },
    {
     "name": "stderr",
     "output_type": "stream",
     "text": [
      "75520321it [08:10, 210454.06it/s]"
     ]
    },
    {
     "name": "stdout",
     "output_type": "stream",
     "text": [
      "FINISHING 399\n",
      "START\n",
      "FINISHING 399\n",
      "START\n",
      "FINISHING 399\n",
      "START\n"
     ]
    },
    {
     "name": "stderr",
     "output_type": "stream",
     "text": [
      "75562067it [08:11, 169254.65it/s]"
     ]
    },
    {
     "name": "stdout",
     "output_type": "stream",
     "text": [
      "FINISHING 399\n",
      "START\n",
      "FINISHING 399\n",
      "START\n",
      "FINISHING 399\n",
      "START\n",
      "FINISHING 399\n",
      "START\n",
      "FINISHING 399\n",
      "START\n"
     ]
    },
    {
     "name": "stderr",
     "output_type": "stream",
     "text": [
      "\r",
      "75580658it [08:11, 170359.88it/s]"
     ]
    },
    {
     "name": "stdout",
     "output_type": "stream",
     "text": [
      "FINISHING 399\n",
      "START\n"
     ]
    },
    {
     "name": "stderr",
     "output_type": "stream",
     "text": [
      "75632132it [08:12, 73667.13it/s] "
     ]
    },
    {
     "name": "stdout",
     "output_type": "stream",
     "text": [
      "FINISHING 399\n",
      "START\n"
     ]
    },
    {
     "name": "stderr",
     "output_type": "stream",
     "text": [
      "75695533it [08:12, 133277.65it/s]"
     ]
    },
    {
     "name": "stdout",
     "output_type": "stream",
     "text": [
      "FINISHING 399\n",
      "START\n",
      "FINISHING 399\n",
      "START\n"
     ]
    },
    {
     "name": "stderr",
     "output_type": "stream",
     "text": [
      "75756992it [08:12, 174055.75it/s]"
     ]
    },
    {
     "name": "stdout",
     "output_type": "stream",
     "text": [
      "FINISHING 399\n",
      "START\n",
      "FINISHING 399\n",
      "START\n"
     ]
    },
    {
     "name": "stderr",
     "output_type": "stream",
     "text": [
      "75881858it [08:14, 152182.20it/s]"
     ]
    },
    {
     "name": "stdout",
     "output_type": "stream",
     "text": [
      "FINISHING 399\n",
      "START\n"
     ]
    },
    {
     "name": "stderr",
     "output_type": "stream",
     "text": [
      "75974126it [08:14, 144293.62it/s]"
     ]
    },
    {
     "name": "stdout",
     "output_type": "stream",
     "text": [
      "FINISHING 399\n",
      "START\n"
     ]
    },
    {
     "name": "stderr",
     "output_type": "stream",
     "text": [
      "76056203it [08:15, 180197.00it/s]"
     ]
    },
    {
     "name": "stdout",
     "output_type": "stream",
     "text": [
      "FINISHING 399\n",
      "START\n",
      "FINISHING 399\n",
      "START\n",
      "FINISHING 399\n",
      "START\n",
      "FINISHING 399\n",
      "START\n",
      "FINISHING 399\n",
      "START\n"
     ]
    },
    {
     "name": "stderr",
     "output_type": "stream",
     "text": [
      "76096962it [08:15, 169799.92it/s]"
     ]
    },
    {
     "name": "stdout",
     "output_type": "stream",
     "text": [
      "FINISHING 399\n",
      "START\n",
      "FINISHING 399\n",
      "START\n",
      "FINISHING 399\n",
      "START\n"
     ]
    },
    {
     "name": "stderr",
     "output_type": "stream",
     "text": [
      "76182738it [08:15, 202436.26it/s]"
     ]
    },
    {
     "name": "stdout",
     "output_type": "stream",
     "text": [
      "FINISHING 399\n",
      "START\n"
     ]
    },
    {
     "name": "stderr",
     "output_type": "stream",
     "text": [
      "76268452it [08:16, 211584.37it/s]"
     ]
    },
    {
     "name": "stdout",
     "output_type": "stream",
     "text": [
      "FINISHING 399\n",
      "START\n",
      "FINISHING 399\n",
      "START\n",
      "FINISHING 399\n",
      "START\n"
     ]
    },
    {
     "name": "stderr",
     "output_type": "stream",
     "text": [
      "76499846it [08:17, 191262.06it/s]"
     ]
    },
    {
     "name": "stdout",
     "output_type": "stream",
     "text": [
      "FINISHING 399\n",
      "START\n",
      "FINISHING 399\n",
      "START\n",
      "FINISHING 399\n",
      "START\n",
      "FINISHING 399\n",
      "START\n"
     ]
    },
    {
     "name": "stderr",
     "output_type": "stream",
     "text": [
      "76537418it [08:18, 68908.31it/s] "
     ]
    },
    {
     "name": "stdout",
     "output_type": "stream",
     "text": [
      "FINISHING 399\n",
      "START\n",
      "FINISHING 399\n",
      "START\n",
      "FINISHING 399\n",
      "START\n"
     ]
    },
    {
     "name": "stderr",
     "output_type": "stream",
     "text": [
      "76597067it [08:18, 120365.76it/s]"
     ]
    },
    {
     "name": "stdout",
     "output_type": "stream",
     "text": [
      "FINISHING 399\n",
      "START\n",
      "FINISHING 399\n",
      "START\n"
     ]
    },
    {
     "name": "stderr",
     "output_type": "stream",
     "text": [
      "76657064it [08:19, 162173.89it/s]"
     ]
    },
    {
     "name": "stdout",
     "output_type": "stream",
     "text": [
      "FINISHING 399\n",
      "START\n",
      "FINISHING 399\n",
      "START\n"
     ]
    },
    {
     "name": "stderr",
     "output_type": "stream",
     "text": [
      "77063799it [08:21, 173544.64it/s]"
     ]
    },
    {
     "name": "stdout",
     "output_type": "stream",
     "text": [
      "FINISHING 399\n",
      "START\n",
      "FINISHING 399\n",
      "START\n",
      "FINISHING 399\n",
      "START\n",
      "FINISHING 399\n",
      "START\n",
      "FINISHING 399\n",
      "START\n",
      "FINISHING 399\n",
      "START\n",
      "FINISHING 399\n",
      "START\n"
     ]
    },
    {
     "name": "stderr",
     "output_type": "stream",
     "text": [
      "77119969it [08:21, 182476.05it/s]"
     ]
    },
    {
     "name": "stdout",
     "output_type": "stream",
     "text": [
      "FINISHING 399\n",
      "START\n",
      "FINISHING 399\n",
      "START\n"
     ]
    },
    {
     "name": "stderr",
     "output_type": "stream",
     "text": [
      "77197852it [08:22, 182296.21it/s]"
     ]
    },
    {
     "name": "stdout",
     "output_type": "stream",
     "text": [
      "FINISHING 399\n",
      "START\n",
      "FINISHING 399\n",
      "START\n"
     ]
    },
    {
     "name": "stderr",
     "output_type": "stream",
     "text": [
      "77288581it [08:22, 142860.59it/s]"
     ]
    },
    {
     "name": "stdout",
     "output_type": "stream",
     "text": [
      "FINISHING 399\n",
      "START\n"
     ]
    },
    {
     "name": "stderr",
     "output_type": "stream",
     "text": [
      "77436849it [08:23, 143278.75it/s]"
     ]
    },
    {
     "name": "stdout",
     "output_type": "stream",
     "text": [
      "FINISHING 399\n",
      "START\n",
      "FINISHING 399\n",
      "START\n",
      "FINISHING 399\n",
      "START\n"
     ]
    },
    {
     "name": "stderr",
     "output_type": "stream",
     "text": [
      "77496820it [08:24, 172781.83it/s]"
     ]
    },
    {
     "name": "stdout",
     "output_type": "stream",
     "text": [
      "FINISHING 399\n",
      "START\n",
      "FINISHING 399\n",
      "START\n",
      "FINISHING 399\n",
      "START\n",
      "FINISHING 399\n",
      "START\n",
      "FINISHING 399\n",
      "START\n"
     ]
    },
    {
     "name": "stderr",
     "output_type": "stream",
     "text": [
      "77560672it [08:24, 198639.75it/s]"
     ]
    },
    {
     "name": "stdout",
     "output_type": "stream",
     "text": [
      "FINISHING 399\n",
      "START\n",
      "FINISHING 399\n",
      "START\n",
      "FINISHING 399\n",
      "START\n"
     ]
    },
    {
     "name": "stderr",
     "output_type": "stream",
     "text": [
      "77692889it [08:25, 217667.29it/s]"
     ]
    },
    {
     "name": "stdout",
     "output_type": "stream",
     "text": [
      "FINISHING 399\n",
      "START\n"
     ]
    },
    {
     "name": "stderr",
     "output_type": "stream",
     "text": [
      "77869329it [08:31, 16063.84it/s] "
     ]
    },
    {
     "name": "stdout",
     "output_type": "stream",
     "text": [
      "FINISHING 399\n",
      "START\n",
      "FINISHING 399\n",
      "START\n"
     ]
    },
    {
     "name": "stderr",
     "output_type": "stream",
     "text": [
      "\r",
      "77879314it [08:32, 19565.40it/s]"
     ]
    },
    {
     "name": "stdout",
     "output_type": "stream",
     "text": [
      "FINISHING 399\n",
      "START\n"
     ]
    },
    {
     "name": "stderr",
     "output_type": "stream",
     "text": [
      "77933289it [08:32, 56910.78it/s]"
     ]
    },
    {
     "name": "stdout",
     "output_type": "stream",
     "text": [
      "FINISHING 399\n",
      "START\n",
      "FINISHING 399\n",
      "START\n"
     ]
    },
    {
     "name": "stderr",
     "output_type": "stream",
     "text": [
      "77995193it [08:33, 122233.59it/s]"
     ]
    },
    {
     "name": "stdout",
     "output_type": "stream",
     "text": [
      "FINISHING 399\n",
      "START\n",
      "FINISHING 399\n",
      "START\n",
      "FINISHING 399\n",
      "START\n",
      "FINISHING 399\n",
      "START\n",
      "FINISHING 399\n",
      "START\n"
     ]
    },
    {
     "name": "stderr",
     "output_type": "stream",
     "text": [
      "78062205it [08:33, 179367.69it/s]"
     ]
    },
    {
     "name": "stdout",
     "output_type": "stream",
     "text": [
      "FINISHING 399\n",
      "START\n"
     ]
    },
    {
     "name": "stderr",
     "output_type": "stream",
     "text": [
      "78240607it [08:34, 219284.44it/s]"
     ]
    },
    {
     "name": "stdout",
     "output_type": "stream",
     "text": [
      "FINISHING 399\n",
      "START\n",
      "FINISHING 399\n",
      "START\n"
     ]
    },
    {
     "name": "stderr",
     "output_type": "stream",
     "text": [
      "78307251it [08:34, 220676.77it/s]"
     ]
    },
    {
     "name": "stdout",
     "output_type": "stream",
     "text": [
      "FINISHING 399\n",
      "START\n",
      "FINISHING 399\n",
      "START\n",
      "FINISHING 399\n",
      "START\n",
      "FINISHING 399\n",
      "START\n"
     ]
    },
    {
     "name": "stderr",
     "output_type": "stream",
     "text": [
      "78351566it [08:34, 219305.53it/s]"
     ]
    },
    {
     "name": "stdout",
     "output_type": "stream",
     "text": [
      "FINISHING 399\n",
      "START\n"
     ]
    },
    {
     "name": "stderr",
     "output_type": "stream",
     "text": [
      "78548044it [08:35, 213857.96it/s]"
     ]
    },
    {
     "name": "stdout",
     "output_type": "stream",
     "text": [
      "FINISHING 399\n",
      "START\n",
      "FINISHING 399\n",
      "START\n",
      "FINISHING 399\n",
      "START\n"
     ]
    },
    {
     "name": "stderr",
     "output_type": "stream",
     "text": [
      "78591895it [08:35, 216070.62it/s]"
     ]
    },
    {
     "name": "stdout",
     "output_type": "stream",
     "text": [
      "FINISHING 399\n",
      "START\n"
     ]
    },
    {
     "name": "stderr",
     "output_type": "stream",
     "text": [
      "78635139it [08:36, 198164.61it/s]"
     ]
    },
    {
     "name": "stdout",
     "output_type": "stream",
     "text": [
      "FINISHING 399\n",
      "START\n"
     ]
    },
    {
     "name": "stderr",
     "output_type": "stream",
     "text": [
      "78743343it [08:36, 212010.65it/s]"
     ]
    },
    {
     "name": "stdout",
     "output_type": "stream",
     "text": [
      "FINISHING 399\n",
      "START\n"
     ]
    },
    {
     "name": "stderr",
     "output_type": "stream",
     "text": [
      "78939445it [08:37, 217086.78it/s]"
     ]
    },
    {
     "name": "stdout",
     "output_type": "stream",
     "text": [
      "FINISHING 399\n",
      "START\n",
      "FINISHING 399\n",
      "START\n",
      "FINISHING 399\n",
      "START\n"
     ]
    },
    {
     "name": "stderr",
     "output_type": "stream",
     "text": [
      "79004418it [08:37, 215349.60it/s]"
     ]
    },
    {
     "name": "stdout",
     "output_type": "stream",
     "text": [
      "FINISHING 399\n",
      "START\n",
      "FINISHING 399\n",
      "START\n"
     ]
    },
    {
     "name": "stderr",
     "output_type": "stream",
     "text": [
      "79047347it [08:37, 213454.26it/s]"
     ]
    },
    {
     "name": "stdout",
     "output_type": "stream",
     "text": [
      "FINISHING 399\n",
      "START\n"
     ]
    },
    {
     "name": "stderr",
     "output_type": "stream",
     "text": [
      "79195701it [08:38, 185743.45it/s]"
     ]
    },
    {
     "name": "stdout",
     "output_type": "stream",
     "text": [
      "FINISHING 399\n",
      "START\n",
      "FINISHING 399\n",
      "START\n",
      "FINISHING 399\n",
      "START\n"
     ]
    },
    {
     "name": "stderr",
     "output_type": "stream",
     "text": [
      "79237897it [08:38, 198038.45it/s]"
     ]
    },
    {
     "name": "stdout",
     "output_type": "stream",
     "text": [
      "FINISHING 399\n",
      "START\n"
     ]
    },
    {
     "name": "stderr",
     "output_type": "stream",
     "text": [
      "79322936it [08:39, 209970.16it/s]"
     ]
    },
    {
     "name": "stdout",
     "output_type": "stream",
     "text": [
      "FINISHING 399\n",
      "START\n",
      "FINISHING 399\n",
      "START\n"
     ]
    },
    {
     "name": "stderr",
     "output_type": "stream",
     "text": [
      "79433939it [08:39, 221410.14it/s]"
     ]
    },
    {
     "name": "stdout",
     "output_type": "stream",
     "text": [
      "FINISHING 399\n",
      "START\n"
     ]
    },
    {
     "name": "stderr",
     "output_type": "stream",
     "text": [
      "79522422it [08:40, 215000.59it/s]"
     ]
    },
    {
     "name": "stdout",
     "output_type": "stream",
     "text": [
      "FINISHING 399\n",
      "START\n",
      "FINISHING 399\n",
      "START\n"
     ]
    },
    {
     "name": "stderr",
     "output_type": "stream",
     "text": [
      "79605811it [08:41, 145474.50it/s]"
     ]
    },
    {
     "name": "stdout",
     "output_type": "stream",
     "text": [
      "FINISHING 399\n",
      "START\n",
      "FINISHING 399\n",
      "START\n"
     ]
    },
    {
     "name": "stderr",
     "output_type": "stream",
     "text": [
      "\r",
      "79624913it [08:41, 155053.17it/s]"
     ]
    },
    {
     "name": "stdout",
     "output_type": "stream",
     "text": [
      "FINISHING 399\n",
      "START\n"
     ]
    },
    {
     "name": "stderr",
     "output_type": "stream",
     "text": [
      "79663728it [08:41, 134025.09it/s]"
     ]
    },
    {
     "name": "stdout",
     "output_type": "stream",
     "text": [
      "FINISHING 399\n",
      "START\n",
      "FINISHING 399\n",
      "START\n"
     ]
    },
    {
     "name": "stderr",
     "output_type": "stream",
     "text": [
      "79718491it [08:41, 146583.43it/s]"
     ]
    },
    {
     "name": "stdout",
     "output_type": "stream",
     "text": [
      "FINISHING 399\n",
      "START\n"
     ]
    },
    {
     "name": "stderr",
     "output_type": "stream",
     "text": [
      "79794592it [08:42, 182097.17it/s]"
     ]
    },
    {
     "name": "stdout",
     "output_type": "stream",
     "text": [
      "FINISHING 399\n",
      "START\n"
     ]
    },
    {
     "name": "stderr",
     "output_type": "stream",
     "text": [
      "79882598it [08:42, 209742.31it/s]"
     ]
    },
    {
     "name": "stdout",
     "output_type": "stream",
     "text": [
      "FINISHING 399\n",
      "START\n"
     ]
    },
    {
     "name": "stderr",
     "output_type": "stream",
     "text": [
      "79949164it [08:42, 217340.64it/s]"
     ]
    },
    {
     "name": "stdout",
     "output_type": "stream",
     "text": [
      "FINISHING 399\n",
      "START\n"
     ]
    },
    {
     "name": "stderr",
     "output_type": "stream",
     "text": [
      "79992850it [08:43, 215710.47it/s]"
     ]
    },
    {
     "name": "stdout",
     "output_type": "stream",
     "text": [
      "FINISHING 399\n",
      "START\n",
      "FINISHING 399\n",
      "START\n",
      "FINISHING 399\n",
      "START\n"
     ]
    },
    {
     "name": "stderr",
     "output_type": "stream",
     "text": [
      "80100038it [08:44, 119025.80it/s]"
     ]
    },
    {
     "name": "stdout",
     "output_type": "stream",
     "text": [
      "FINISHING 399\n",
      "START\n",
      "FINISHING 399\n",
      "START\n"
     ]
    },
    {
     "name": "stderr",
     "output_type": "stream",
     "text": [
      "80165397it [08:44, 169556.07it/s]"
     ]
    },
    {
     "name": "stdout",
     "output_type": "stream",
     "text": [
      "FINISHING 399\n",
      "START\n",
      "FINISHING 399\n",
      "START\n",
      "FINISHING 399\n",
      "START\n",
      "FINISHING 399\n",
      "START\n",
      "FINISHING 399\n",
      "START\n"
     ]
    },
    {
     "name": "stderr",
     "output_type": "stream",
     "text": [
      "80229787it [08:44, 190349.55it/s]"
     ]
    },
    {
     "name": "stdout",
     "output_type": "stream",
     "text": [
      "FINISHING 399\n",
      "START\n",
      "FINISHING 399\n",
      "START\n"
     ]
    },
    {
     "name": "stderr",
     "output_type": "stream",
     "text": [
      "80270880it [08:45, 194067.49it/s]"
     ]
    },
    {
     "name": "stdout",
     "output_type": "stream",
     "text": [
      "FINISHING 399\n",
      "START\n",
      "FINISHING 399\n",
      "START\n",
      "FINISHING 399\n",
      "START\n"
     ]
    },
    {
     "name": "stderr",
     "output_type": "stream",
     "text": [
      "80388018it [08:45, 191772.16it/s]"
     ]
    },
    {
     "name": "stdout",
     "output_type": "stream",
     "text": [
      "FINISHING 399\n",
      "START\n",
      "FINISHING 399\n",
      "START\n"
     ]
    },
    {
     "name": "stderr",
     "output_type": "stream",
     "text": [
      "80468800it [08:46, 200388.56it/s]"
     ]
    },
    {
     "name": "stdout",
     "output_type": "stream",
     "text": [
      "FINISHING 399\n",
      "START\n"
     ]
    },
    {
     "name": "stderr",
     "output_type": "stream",
     "text": [
      "80564980it [08:46, 172838.84it/s]"
     ]
    },
    {
     "name": "stdout",
     "output_type": "stream",
     "text": [
      "FINISHING 399\n",
      "START\n",
      "FINISHING 399\n",
      "START\n"
     ]
    },
    {
     "name": "stderr",
     "output_type": "stream",
     "text": [
      "80624928it [08:47, 111623.02it/s]"
     ]
    },
    {
     "name": "stdout",
     "output_type": "stream",
     "text": [
      "FINISHING 399\n",
      "START\n",
      "FINISHING 399\n",
      "START\n"
     ]
    },
    {
     "name": "stderr",
     "output_type": "stream",
     "text": [
      "80666695it [08:47, 147166.96it/s]"
     ]
    },
    {
     "name": "stdout",
     "output_type": "stream",
     "text": [
      "FINISHING 399\n",
      "START\n",
      "FINISHING 399\n",
      "START\n"
     ]
    },
    {
     "name": "stderr",
     "output_type": "stream",
     "text": [
      "80798988it [08:48, 209204.38it/s]"
     ]
    },
    {
     "name": "stdout",
     "output_type": "stream",
     "text": [
      "FINISHING 399\n",
      "START\n",
      "FINISHING 399\n",
      "START\n"
     ]
    },
    {
     "name": "stderr",
     "output_type": "stream",
     "text": [
      "80865617it [08:48, 215293.20it/s]"
     ]
    },
    {
     "name": "stdout",
     "output_type": "stream",
     "text": [
      "FINISHING 399\n",
      "START\n",
      "FINISHING 399\n",
      "START\n",
      "FINISHING 399\n",
      "START\n"
     ]
    },
    {
     "name": "stderr",
     "output_type": "stream",
     "text": [
      "81000950it [08:49, 220815.39it/s]"
     ]
    },
    {
     "name": "stdout",
     "output_type": "stream",
     "text": [
      "FINISHING 399\n",
      "START\n"
     ]
    },
    {
     "name": "stderr",
     "output_type": "stream",
     "text": [
      "81112388it [08:51, 64523.76it/s] "
     ]
    },
    {
     "name": "stdout",
     "output_type": "stream",
     "text": [
      "FINISHING 399\n",
      "START\n",
      "FINISHING 399\n",
      "START\n",
      "FINISHING 399\n",
      "START\n",
      "FINISHING 399\n",
      "START\n"
     ]
    },
    {
     "name": "stderr",
     "output_type": "stream",
     "text": [
      "81176081it [08:51, 125628.32it/s]"
     ]
    },
    {
     "name": "stdout",
     "output_type": "stream",
     "text": [
      "FINISHING 399\n",
      "START\n"
     ]
    },
    {
     "name": "stderr",
     "output_type": "stream",
     "text": [
      "81242984it [08:51, 180140.63it/s]"
     ]
    },
    {
     "name": "stdout",
     "output_type": "stream",
     "text": [
      "FINISHING 399\n",
      "START\n"
     ]
    },
    {
     "name": "stderr",
     "output_type": "stream",
     "text": [
      "81310054it [08:52, 207352.68it/s]"
     ]
    },
    {
     "name": "stdout",
     "output_type": "stream",
     "text": [
      "FINISHING 399\n",
      "START\n"
     ]
    },
    {
     "name": "stderr",
     "output_type": "stream",
     "text": [
      "81401417it [08:52, 221172.82it/s]"
     ]
    },
    {
     "name": "stdout",
     "output_type": "stream",
     "text": [
      "FINISHING 399\n",
      "START\n",
      "FINISHING 399\n",
      "START\n",
      "FINISHING 399\n",
      "START\n",
      "FINISHING 399\n",
      "START\n",
      "FINISHING 399\n",
      "START\n"
     ]
    },
    {
     "name": "stderr",
     "output_type": "stream",
     "text": [
      "81446031it [08:52, 218208.17it/s]"
     ]
    },
    {
     "name": "stdout",
     "output_type": "stream",
     "text": [
      "FINISHING 399\n",
      "START\n",
      "FINISHING 399\n",
      "START\n",
      "FINISHING 399\n",
      "START\n",
      "FINISHING 399\n",
      "START\n",
      "FINISHING 399\n",
      "START\n",
      "FINISHING 399\n",
      "START\n",
      "FINISHING 399\n",
      "START\n"
     ]
    },
    {
     "name": "stderr",
     "output_type": "stream",
     "text": [
      "81536310it [08:53, 223960.26it/s]"
     ]
    },
    {
     "name": "stdout",
     "output_type": "stream",
     "text": [
      "FINISHING 399\n",
      "START\n"
     ]
    },
    {
     "name": "stderr",
     "output_type": "stream",
     "text": [
      "81581304it [08:53, 223280.95it/s]"
     ]
    },
    {
     "name": "stdout",
     "output_type": "stream",
     "text": [
      "FINISHING 399\n",
      "START\n",
      "FINISHING 399\n",
      "START\n",
      "FINISHING 399\n",
      "START\n"
     ]
    },
    {
     "name": "stderr",
     "output_type": "stream",
     "text": [
      "81690963it [08:53, 213594.06it/s]"
     ]
    },
    {
     "name": "stdout",
     "output_type": "stream",
     "text": [
      "FINISHING 399\n",
      "START\n",
      "FINISHING 399\n",
      "START\n",
      "FINISHING 399\n",
      "START\n",
      "FINISHING 399\n",
      "START\n"
     ]
    },
    {
     "name": "stderr",
     "output_type": "stream",
     "text": [
      "81776551it [08:54, 212299.52it/s]"
     ]
    },
    {
     "name": "stdout",
     "output_type": "stream",
     "text": [
      "FINISHING 399\n",
      "START\n"
     ]
    },
    {
     "name": "stderr",
     "output_type": "stream",
     "text": [
      "81818838it [08:54, 209536.65it/s]"
     ]
    },
    {
     "name": "stdout",
     "output_type": "stream",
     "text": [
      "FINISHING 399\n",
      "START\n",
      "FINISHING 399\n",
      "START\n",
      "FINISHING 399\n",
      "START\n",
      "FINISHING 399\n",
      "START\n",
      "FINISHING 399\n",
      "START\n"
     ]
    },
    {
     "name": "stderr",
     "output_type": "stream",
     "text": [
      "82032103it [08:55, 210483.56it/s]"
     ]
    },
    {
     "name": "stdout",
     "output_type": "stream",
     "text": [
      "FINISHING 399\n",
      "START\n",
      "FINISHING 399\n",
      "START\n"
     ]
    },
    {
     "name": "stderr",
     "output_type": "stream",
     "text": [
      "82076271it [08:55, 215877.81it/s]"
     ]
    },
    {
     "name": "stdout",
     "output_type": "stream",
     "text": [
      "FINISHING 399\n",
      "START\n"
     ]
    },
    {
     "name": "stderr",
     "output_type": "stream",
     "text": [
      "82161691it [08:56, 201006.28it/s]"
     ]
    },
    {
     "name": "stdout",
     "output_type": "stream",
     "text": [
      "FINISHING 399\n",
      "START\n"
     ]
    },
    {
     "name": "stderr",
     "output_type": "stream",
     "text": [
      "82226468it [08:56, 210554.72it/s]"
     ]
    },
    {
     "name": "stdout",
     "output_type": "stream",
     "text": [
      "FINISHING 399\n",
      "START\n",
      "FINISHING 399\n",
      "START\n",
      "FINISHING 399\n",
      "START\n",
      "FINISHING 399\n",
      "START\n",
      "FINISHING 399\n",
      "START\n"
     ]
    },
    {
     "name": "stderr",
     "output_type": "stream",
     "text": [
      "82269106it [08:56, 210135.16it/s]"
     ]
    },
    {
     "name": "stdout",
     "output_type": "stream",
     "text": [
      "FINISHING 399\n",
      "START\n",
      "FINISHING 399\n",
      "START\n"
     ]
    },
    {
     "name": "stderr",
     "output_type": "stream",
     "text": [
      "82354603it [08:57, 212799.61it/s]"
     ]
    },
    {
     "name": "stdout",
     "output_type": "stream",
     "text": [
      "FINISHING 399\n",
      "START\n",
      "FINISHING 399\n",
      "START\n"
     ]
    },
    {
     "name": "stderr",
     "output_type": "stream",
     "text": [
      "82419221it [08:57, 213650.71it/s]"
     ]
    },
    {
     "name": "stdout",
     "output_type": "stream",
     "text": [
      "FINISHING 399\n",
      "START\n"
     ]
    },
    {
     "name": "stderr",
     "output_type": "stream",
     "text": [
      "82636623it [08:58, 215349.03it/s]"
     ]
    },
    {
     "name": "stdout",
     "output_type": "stream",
     "text": [
      "FINISHING 399\n",
      "START\n"
     ]
    },
    {
     "name": "stderr",
     "output_type": "stream",
     "text": [
      "82748916it [08:58, 222268.53it/s]"
     ]
    },
    {
     "name": "stdout",
     "output_type": "stream",
     "text": [
      "FINISHING 399\n",
      "START\n",
      "FINISHING 399\n",
      "START\n",
      "FINISHING 399\n",
      "START\n",
      "FINISHING 399\n",
      "START\n",
      "FINISHING 399\n",
      "START\n"
     ]
    },
    {
     "name": "stderr",
     "output_type": "stream",
     "text": [
      "82836602it [08:59, 215003.42it/s]"
     ]
    },
    {
     "name": "stdout",
     "output_type": "stream",
     "text": [
      "FINISHING 399\n",
      "START\n"
     ]
    },
    {
     "name": "stderr",
     "output_type": "stream",
     "text": [
      "82880413it [08:59, 215885.81it/s]"
     ]
    },
    {
     "name": "stdout",
     "output_type": "stream",
     "text": [
      "FINISHING 399\n",
      "START\n",
      "FINISHING 399\n",
      "START\n"
     ]
    },
    {
     "name": "stderr",
     "output_type": "stream",
     "text": [
      "82966417it [08:59, 192832.08it/s]"
     ]
    },
    {
     "name": "stdout",
     "output_type": "stream",
     "text": [
      "FINISHING 399\n",
      "START\n",
      "FINISHING 399\n",
      "START\n",
      "FINISHING 399\n",
      "START\n",
      "FINISHING 399\n",
      "START\n"
     ]
    },
    {
     "name": "stderr",
     "output_type": "stream",
     "text": [
      "83010944it [09:00, 207322.44it/s]"
     ]
    },
    {
     "name": "stdout",
     "output_type": "stream",
     "text": [
      "FINISHING 399\n",
      "START\n",
      "FINISHING 399\n",
      "START\n"
     ]
    },
    {
     "name": "stderr",
     "output_type": "stream",
     "text": [
      "83099292it [09:01, 129146.67it/s]"
     ]
    },
    {
     "name": "stdout",
     "output_type": "stream",
     "text": [
      "FINISHING 399\n",
      "START\n",
      "FINISHING 399\n",
      "START\n",
      "FINISHING 399\n",
      "START\n"
     ]
    },
    {
     "name": "stderr",
     "output_type": "stream",
     "text": [
      "83188323it [09:01, 137773.27it/s]"
     ]
    },
    {
     "name": "stdout",
     "output_type": "stream",
     "text": [
      "FINISHING 399\n",
      "START\n"
     ]
    },
    {
     "name": "stderr",
     "output_type": "stream",
     "text": [
      "83238497it [09:03, 49067.32it/s] "
     ]
    },
    {
     "name": "stdout",
     "output_type": "stream",
     "text": [
      "FINISHING 399\n",
      "START\n"
     ]
    },
    {
     "name": "stderr",
     "output_type": "stream",
     "text": [
      "83286903it [09:04, 62638.94it/s]"
     ]
    },
    {
     "name": "stdout",
     "output_type": "stream",
     "text": [
      "FINISHING 399\n",
      "START\n"
     ]
    },
    {
     "name": "stderr",
     "output_type": "stream",
     "text": [
      "83462645it [09:06, 168234.77it/s]"
     ]
    },
    {
     "name": "stdout",
     "output_type": "stream",
     "text": [
      "FINISHING 399\n",
      "START\n",
      "FINISHING 399\n",
      "START\n",
      "FINISHING 399\n",
      "START\n",
      "FINISHING 399\n",
      "START\n",
      "FINISHING 399\n",
      "START\n",
      "FINISHING 399\n",
      "START\n"
     ]
    },
    {
     "name": "stderr",
     "output_type": "stream",
     "text": [
      "83524733it [09:06, 192298.40it/s]"
     ]
    },
    {
     "name": "stdout",
     "output_type": "stream",
     "text": [
      "FINISHING 399\n",
      "START\n"
     ]
    },
    {
     "name": "stderr",
     "output_type": "stream",
     "text": [
      "83587694it [09:06, 188394.78it/s]"
     ]
    },
    {
     "name": "stdout",
     "output_type": "stream",
     "text": [
      "FINISHING 399\n",
      "START\n",
      "FINISHING 399\n",
      "START\n",
      "FINISHING 399\n",
      "START\n"
     ]
    },
    {
     "name": "stderr",
     "output_type": "stream",
     "text": [
      "83689538it [09:07, 194781.42it/s]"
     ]
    },
    {
     "name": "stdout",
     "output_type": "stream",
     "text": [
      "FINISHING 399\n",
      "START\n",
      "FINISHING 399\n",
      "START\n"
     ]
    },
    {
     "name": "stderr",
     "output_type": "stream",
     "text": [
      "83760409it [09:07, 145889.66it/s]"
     ]
    },
    {
     "name": "stdout",
     "output_type": "stream",
     "text": [
      "FINISHING 399\n",
      "START\n",
      "FINISHING 399\n",
      "START\n",
      "FINISHING 399\n",
      "START\n"
     ]
    },
    {
     "name": "stderr",
     "output_type": "stream",
     "text": [
      "83810353it [09:09, 64252.05it/s] "
     ]
    },
    {
     "name": "stdout",
     "output_type": "stream",
     "text": [
      "FINISHING 399\n",
      "START\n",
      "FINISHING 399\n",
      "START\n",
      "FINISHING 399\n",
      "START\n"
     ]
    },
    {
     "name": "stderr",
     "output_type": "stream",
     "text": [
      "83847154it [09:09, 87040.12it/s]"
     ]
    },
    {
     "name": "stdout",
     "output_type": "stream",
     "text": [
      "FINISHING 399\n",
      "START\n",
      "FINISHING 399\n",
      "START\n",
      "FINISHING 399\n",
      "START\n"
     ]
    },
    {
     "name": "stderr",
     "output_type": "stream",
     "text": [
      "83889611it [09:09, 129886.03it/s]"
     ]
    },
    {
     "name": "stdout",
     "output_type": "stream",
     "text": [
      "FINISHING 399\n",
      "START\n",
      "FINISHING 399\n",
      "START\n"
     ]
    },
    {
     "name": "stderr",
     "output_type": "stream",
     "text": [
      "83995765it [09:10, 192446.12it/s]"
     ]
    },
    {
     "name": "stdout",
     "output_type": "stream",
     "text": [
      "FINISHING 399\n",
      "START\n",
      "FINISHING 399\n",
      "START\n",
      "FINISHING 399\n",
      "START\n",
      "FINISHING 399\n",
      "START\n",
      "FINISHING 399\n",
      "START\n"
     ]
    },
    {
     "name": "stderr",
     "output_type": "stream",
     "text": [
      "84036197it [09:10, 176475.03it/s]"
     ]
    },
    {
     "name": "stdout",
     "output_type": "stream",
     "text": [
      "FINISHING 399\n",
      "START\n",
      "FINISHING 399\n",
      "START\n",
      "FINISHING 399\n",
      "START\n"
     ]
    },
    {
     "name": "stderr",
     "output_type": "stream",
     "text": [
      "84119367it [09:10, 187515.83it/s]"
     ]
    },
    {
     "name": "stdout",
     "output_type": "stream",
     "text": [
      "FINISHING 399\n",
      "START\n",
      "FINISHING 399\n",
      "START\n"
     ]
    },
    {
     "name": "stderr",
     "output_type": "stream",
     "text": [
      "\r",
      "84139224it [09:10, 190572.49it/s]"
     ]
    },
    {
     "name": "stdout",
     "output_type": "stream",
     "text": [
      "FINISHING 399\n",
      "START\n"
     ]
    },
    {
     "name": "stderr",
     "output_type": "stream",
     "text": [
      "84216632it [09:12, 103641.62it/s]"
     ]
    },
    {
     "name": "stdout",
     "output_type": "stream",
     "text": [
      "FINISHING 399\n",
      "START\n"
     ]
    },
    {
     "name": "stderr",
     "output_type": "stream",
     "text": [
      "84279517it [09:12, 164546.07it/s]"
     ]
    },
    {
     "name": "stdout",
     "output_type": "stream",
     "text": [
      "FINISHING 399\n",
      "START\n"
     ]
    },
    {
     "name": "stderr",
     "output_type": "stream",
     "text": [
      "84345256it [09:12, 199190.70it/s]"
     ]
    },
    {
     "name": "stdout",
     "output_type": "stream",
     "text": [
      "FINISHING 399\n",
      "START\n",
      "FINISHING 399\n",
      "START\n",
      "FINISHING 399\n",
      "START\n",
      "FINISHING 399\n",
      "START\n",
      "FINISHING 399\n",
      "START\n",
      "FINISHING 399\n",
      "START\n",
      "FINISHING 399\n",
      "START\n"
     ]
    },
    {
     "name": "stderr",
     "output_type": "stream",
     "text": [
      "84388485it [09:12, 208029.46it/s]"
     ]
    },
    {
     "name": "stdout",
     "output_type": "stream",
     "text": [
      "FINISHING 399\n",
      "START\n",
      "FINISHING 399\n",
      "START\n",
      "FINISHING 399\n",
      "START\n",
      "FINISHING 399\n",
      "START\n"
     ]
    },
    {
     "name": "stderr",
     "output_type": "stream",
     "text": [
      "84703529it [09:15, 178207.24it/s]"
     ]
    },
    {
     "name": "stdout",
     "output_type": "stream",
     "text": [
      "FINISHING 399\n",
      "START\n"
     ]
    },
    {
     "name": "stderr",
     "output_type": "stream",
     "text": [
      "84875587it [09:16, 196350.48it/s]"
     ]
    },
    {
     "name": "stdout",
     "output_type": "stream",
     "text": [
      "FINISHING 399\n",
      "START\n"
     ]
    },
    {
     "name": "stderr",
     "output_type": "stream",
     "text": [
      "84986930it [09:17, 217931.23it/s]"
     ]
    },
    {
     "name": "stdout",
     "output_type": "stream",
     "text": [
      "FINISHING 399\n",
      "START\n",
      "FINISHING 399\n",
      "START\n",
      "FINISHING 399\n",
      "START\n",
      "FINISHING 399\n",
      "START\n",
      "FINISHING 399\n",
      "START\n",
      "FINISHING 399\n",
      "START\n"
     ]
    },
    {
     "name": "stderr",
     "output_type": "stream",
     "text": [
      "85030814it [09:17, 216647.24it/s]"
     ]
    },
    {
     "name": "stdout",
     "output_type": "stream",
     "text": [
      "FINISHING 399\n",
      "START\n",
      "FINISHING 399\n",
      "START\n",
      "FINISHING 399\n",
      "START\n"
     ]
    },
    {
     "name": "stderr",
     "output_type": "stream",
     "text": [
      "85096276it [09:17, 216983.79it/s]"
     ]
    },
    {
     "name": "stdout",
     "output_type": "stream",
     "text": [
      "FINISHING 399\n",
      "START\n"
     ]
    },
    {
     "name": "stderr",
     "output_type": "stream",
     "text": [
      "85139711it [09:17, 214559.78it/s]"
     ]
    },
    {
     "name": "stdout",
     "output_type": "stream",
     "text": [
      "FINISHING 399\n",
      "START\n"
     ]
    },
    {
     "name": "stderr",
     "output_type": "stream",
     "text": [
      "85227053it [09:18, 217344.14it/s]"
     ]
    },
    {
     "name": "stdout",
     "output_type": "stream",
     "text": [
      "FINISHING 399\n",
      "START\n"
     ]
    },
    {
     "name": "stderr",
     "output_type": "stream",
     "text": [
      "85270411it [09:18, 213662.52it/s]"
     ]
    },
    {
     "name": "stdout",
     "output_type": "stream",
     "text": [
      "FINISHING 399\n",
      "START\n"
     ]
    },
    {
     "name": "stderr",
     "output_type": "stream",
     "text": [
      "85374653it [09:20, 70105.54it/s] "
     ]
    },
    {
     "name": "stdout",
     "output_type": "stream",
     "text": [
      "FINISHING 399\n",
      "START\n"
     ]
    },
    {
     "name": "stderr",
     "output_type": "stream",
     "text": [
      "85485691it [09:21, 164534.04it/s]"
     ]
    },
    {
     "name": "stdout",
     "output_type": "stream",
     "text": [
      "FINISHING 399\n",
      "START\n"
     ]
    },
    {
     "name": "stderr",
     "output_type": "stream",
     "text": [
      "85551096it [09:21, 196107.72it/s]"
     ]
    },
    {
     "name": "stdout",
     "output_type": "stream",
     "text": [
      "FINISHING 399\n",
      "START\n"
     ]
    },
    {
     "name": "stderr",
     "output_type": "stream",
     "text": [
      "85681470it [09:22, 207710.69it/s]"
     ]
    },
    {
     "name": "stdout",
     "output_type": "stream",
     "text": [
      "FINISHING 399\n",
      "START\n",
      "FINISHING 399\n",
      "START\n",
      "FINISHING 399\n",
      "START\n",
      "FINISHING 399\n",
      "START\n",
      "FINISHING 399\n",
      "START\n",
      "FINISHING 399\n",
      "START\n",
      "FINISHING 399\n",
      "START\n"
     ]
    },
    {
     "name": "stderr",
     "output_type": "stream",
     "text": [
      "85748657it [09:22, 216730.86it/s]"
     ]
    },
    {
     "name": "stdout",
     "output_type": "stream",
     "text": [
      "FINISHING 399\n",
      "START\n",
      "FINISHING 399\n",
      "START\n"
     ]
    },
    {
     "name": "stderr",
     "output_type": "stream",
     "text": [
      "85792600it [09:22, 217370.18it/s]"
     ]
    },
    {
     "name": "stdout",
     "output_type": "stream",
     "text": [
      "FINISHING 399\n",
      "START\n"
     ]
    },
    {
     "name": "stderr",
     "output_type": "stream",
     "text": [
      "85858639it [09:22, 217657.54it/s]"
     ]
    },
    {
     "name": "stdout",
     "output_type": "stream",
     "text": [
      "FINISHING 399\n",
      "START\n"
     ]
    },
    {
     "name": "stderr",
     "output_type": "stream",
     "text": [
      "85902557it [09:23, 218714.27it/s]"
     ]
    },
    {
     "name": "stdout",
     "output_type": "stream",
     "text": [
      "FINISHING 399\n",
      "START\n"
     ]
    },
    {
     "name": "stderr",
     "output_type": "stream",
     "text": [
      "86035043it [09:23, 218715.54it/s]"
     ]
    },
    {
     "name": "stdout",
     "output_type": "stream",
     "text": [
      "FINISHING 399\n",
      "START\n",
      "FINISHING 399\n",
      "START\n"
     ]
    },
    {
     "name": "stderr",
     "output_type": "stream",
     "text": [
      "86145901it [09:24, 216750.81it/s]"
     ]
    },
    {
     "name": "stdout",
     "output_type": "stream",
     "text": [
      "FINISHING 399\n",
      "START\n",
      "FINISHING 399\n",
      "START\n"
     ]
    },
    {
     "name": "stderr",
     "output_type": "stream",
     "text": [
      "86232002it [09:24, 212428.38it/s]"
     ]
    },
    {
     "name": "stdout",
     "output_type": "stream",
     "text": [
      "FINISHING 399\n",
      "START\n"
     ]
    },
    {
     "name": "stderr",
     "output_type": "stream",
     "text": [
      "86365377it [09:25, 219703.67it/s]"
     ]
    },
    {
     "name": "stdout",
     "output_type": "stream",
     "text": [
      "FINISHING 399\n",
      "START\n",
      "FINISHING 399\n",
      "START\n"
     ]
    },
    {
     "name": "stderr",
     "output_type": "stream",
     "text": [
      "86478721it [09:25, 223541.12it/s]"
     ]
    },
    {
     "name": "stdout",
     "output_type": "stream",
     "text": [
      "FINISHING 399\n",
      "START\n"
     ]
    },
    {
     "name": "stderr",
     "output_type": "stream",
     "text": [
      "86568397it [09:26, 222104.26it/s]"
     ]
    },
    {
     "name": "stdout",
     "output_type": "stream",
     "text": [
      "FINISHING 399\n",
      "START\n",
      "FINISHING 399\n",
      "START\n"
     ]
    },
    {
     "name": "stderr",
     "output_type": "stream",
     "text": [
      "86633318it [09:26, 198431.23it/s]"
     ]
    },
    {
     "name": "stdout",
     "output_type": "stream",
     "text": [
      "FINISHING 399\n",
      "START\n",
      "FINISHING 399\n",
      "START\n",
      "FINISHING 399\n",
      "START\n"
     ]
    },
    {
     "name": "stderr",
     "output_type": "stream",
     "text": [
      "86759884it [09:27, 212554.88it/s]"
     ]
    },
    {
     "name": "stdout",
     "output_type": "stream",
     "text": [
      "FINISHING 399\n",
      "START\n",
      "FINISHING 399\n",
      "START\n",
      "FINISHING 399\n",
      "START\n",
      "FINISHING 399\n",
      "START\n"
     ]
    },
    {
     "name": "stderr",
     "output_type": "stream",
     "text": [
      "86827255it [09:27, 219823.15it/s]"
     ]
    },
    {
     "name": "stdout",
     "output_type": "stream",
     "text": [
      "FINISHING 399\n",
      "START\n",
      "FINISHING 399\n",
      "START\n"
     ]
    },
    {
     "name": "stderr",
     "output_type": "stream",
     "text": [
      "86940593it [09:27, 221769.82it/s]"
     ]
    },
    {
     "name": "stdout",
     "output_type": "stream",
     "text": [
      "FINISHING 399\n",
      "START\n",
      "FINISHING 399\n",
      "START\n"
     ]
    },
    {
     "name": "stderr",
     "output_type": "stream",
     "text": [
      "87006930it [09:28, 217844.38it/s]"
     ]
    },
    {
     "name": "stdout",
     "output_type": "stream",
     "text": [
      "FINISHING 399\n",
      "START\n",
      "FINISHING 399\n",
      "START\n"
     ]
    },
    {
     "name": "stderr",
     "output_type": "stream",
     "text": [
      "87072050it [09:28, 214992.21it/s]"
     ]
    },
    {
     "name": "stdout",
     "output_type": "stream",
     "text": [
      "FINISHING 399\n",
      "START\n",
      "FINISHING 399\n",
      "START\n",
      "FINISHING 399\n",
      "START\n"
     ]
    },
    {
     "name": "stderr",
     "output_type": "stream",
     "text": [
      "87180832it [09:29, 178628.36it/s]"
     ]
    },
    {
     "name": "stdout",
     "output_type": "stream",
     "text": [
      "FINISHING 399\n",
      "START\n",
      "FINISHING 399\n",
      "START\n"
     ]
    },
    {
     "name": "stderr",
     "output_type": "stream",
     "text": [
      "87245782it [09:29, 201687.08it/s]"
     ]
    },
    {
     "name": "stdout",
     "output_type": "stream",
     "text": [
      "FINISHING 399\n",
      "START\n",
      "FINISHING 399\n",
      "START\n"
     ]
    },
    {
     "name": "stderr",
     "output_type": "stream",
     "text": [
      "87289902it [09:29, 209959.53it/s]"
     ]
    },
    {
     "name": "stdout",
     "output_type": "stream",
     "text": [
      "FINISHING 399\n",
      "START\n"
     ]
    },
    {
     "name": "stderr",
     "output_type": "stream",
     "text": [
      "87579404it [09:30, 219705.75it/s]"
     ]
    },
    {
     "name": "stdout",
     "output_type": "stream",
     "text": [
      "FINISHING 399\n",
      "START\n",
      "FINISHING 399\n",
      "START\n",
      "FINISHING 399\n",
      "START\n",
      "FINISHING 399\n",
      "START\n"
     ]
    },
    {
     "name": "stderr",
     "output_type": "stream",
     "text": [
      "87645786it [09:31, 216885.46it/s]"
     ]
    },
    {
     "name": "stdout",
     "output_type": "stream",
     "text": [
      "FINISHING 399\n",
      "START\n"
     ]
    },
    {
     "name": "stderr",
     "output_type": "stream",
     "text": [
      "87734077it [09:31, 220213.86it/s]"
     ]
    },
    {
     "name": "stdout",
     "output_type": "stream",
     "text": [
      "FINISHING 399\n",
      "START\n"
     ]
    },
    {
     "name": "stderr",
     "output_type": "stream",
     "text": [
      "87864810it [09:32, 203525.61it/s]"
     ]
    },
    {
     "name": "stdout",
     "output_type": "stream",
     "text": [
      "FINISHING 399\n",
      "START\n",
      "FINISHING 399\n",
      "START\n",
      "FINISHING 399\n",
      "START\n"
     ]
    },
    {
     "name": "stderr",
     "output_type": "stream",
     "text": [
      "87929044it [09:32, 201503.46it/s]"
     ]
    },
    {
     "name": "stdout",
     "output_type": "stream",
     "text": [
      "FINISHING 399\n",
      "START\n"
     ]
    },
    {
     "name": "stderr",
     "output_type": "stream",
     "text": [
      "87993835it [09:32, 185595.41it/s]"
     ]
    },
    {
     "name": "stdout",
     "output_type": "stream",
     "text": [
      "FINISHING 399\n",
      "START\n",
      "FINISHING 399\n",
      "START\n",
      "FINISHING 399\n",
      "START\n",
      "FINISHING 399\n",
      "START\n",
      "FINISHING 399\n",
      "START\n"
     ]
    },
    {
     "name": "stderr",
     "output_type": "stream",
     "text": [
      "88080257it [09:33, 192685.61it/s]"
     ]
    },
    {
     "name": "stdout",
     "output_type": "stream",
     "text": [
      "FINISHING 399\n",
      "START\n"
     ]
    },
    {
     "name": "stderr",
     "output_type": "stream",
     "text": [
      "88181939it [09:33, 199423.47it/s]"
     ]
    },
    {
     "name": "stdout",
     "output_type": "stream",
     "text": [
      "FINISHING 399\n",
      "START\n"
     ]
    },
    {
     "name": "stderr",
     "output_type": "stream",
     "text": [
      "88331707it [09:34, 217085.57it/s]"
     ]
    },
    {
     "name": "stdout",
     "output_type": "stream",
     "text": [
      "FINISHING 399\n",
      "START\n",
      "FINISHING 399\n",
      "START\n",
      "FINISHING 399\n",
      "START\n"
     ]
    },
    {
     "name": "stderr",
     "output_type": "stream",
     "text": [
      "88464324it [09:35, 219619.79it/s]"
     ]
    },
    {
     "name": "stdout",
     "output_type": "stream",
     "text": [
      "FINISHING 399\n",
      "START\n",
      "FINISHING 399\n",
      "START\n",
      "FINISHING 399\n",
      "START\n"
     ]
    },
    {
     "name": "stderr",
     "output_type": "stream",
     "text": [
      "88596958it [09:35, 220317.98it/s]"
     ]
    },
    {
     "name": "stdout",
     "output_type": "stream",
     "text": [
      "FINISHING 399\n",
      "START\n"
     ]
    },
    {
     "name": "stderr",
     "output_type": "stream",
     "text": [
      "\r",
      "88606847it [09:35, 153856.34it/s]"
     ]
    },
    {
     "name": "stdout",
     "output_type": "stream",
     "text": [
      "Done.\n"
     ]
    },
    {
     "name": "stderr",
     "output_type": "stream",
     "text": [
      "\n"
     ]
    }
   ],
   "source": [
    "with open(input_filename, 'r') as input_file:\n",
    "    prev_line = None\n",
    "    for line in tqdm(input_file):\n",
    "        first_val, second_val, rest = line.split(',', 2)\n",
    "        if first_val != prev_second_val:\n",
    "            if prev_line is not None:\n",
    "                remaining_prev_vals = prev_line.strip().split(',')[1:]\n",
    "                print(f'FINISHING {len(remaining_prev_vals)}')\n",
    "                #for remaining_prev_val in remaining_prev_vals:\n",
    "                    #print(remaining_prev_val + '\\n')\n",
    "            print('START')\n",
    "#             output_file.write('START' + '\\n')\n",
    "        prev_second_val = second_val\n",
    "        prev_line = line\n",
    "#         output_file.write(first_val + '\\n')\n",
    "\n",
    "print('Done.')"
   ]
  }
 ],
 "metadata": {
  "kernelspec": {
   "display_name": "Python 3 (ipykernel)",
   "language": "python",
   "name": "python3"
  },
  "language_info": {
   "codemirror_mode": {
    "name": "ipython",
    "version": 3
   },
   "file_extension": ".py",
   "mimetype": "text/x-python",
   "name": "python",
   "nbconvert_exporter": "python",
   "pygments_lexer": "ipython3",
   "version": "3.9.15"
  }
 },
 "nbformat": 4,
 "nbformat_minor": 5
}
