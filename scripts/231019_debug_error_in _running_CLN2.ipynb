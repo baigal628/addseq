{
 "cells": [
  {
   "cell_type": "code",
   "execution_count": 47,
   "id": "bb82d1fc",
   "metadata": {},
   "outputs": [],
   "source": [
    "import pysam"
   ]
  },
  {
   "cell_type": "code",
   "execution_count": 1,
   "id": "c674fa91",
   "metadata": {},
   "outputs": [
    {
     "name": "stdout",
     "output_type": "stream",
     "text": [
      "Device type:  cpu\n"
     ]
    }
   ],
   "source": [
    "import sys\n",
    "sys.path.insert(0, '/private/groups/brookslab/gabai/tools/seqUtils/src/')\n",
    "import time\n",
    "import numpy as np\n",
    "from seqUtil import *\n",
    "from bamUtil import *\n",
    "from nanoUtil import *\n",
    "from nntUtil import *\n",
    "from modPredict import *\n",
    "import matplotlib.pyplot as plt\n",
    "import seaborn as sns"
   ]
  },
  {
   "cell_type": "code",
   "execution_count": 27,
   "id": "9a693194",
   "metadata": {},
   "outputs": [],
   "source": [
    "def assign_scores(strand, refSeq, modPositions, sigList, siglenList, sigLenList_init,\n",
    "                  weights, model, device, tune = False, method = 'median', kmerWindow=80, signalWindow=400):\n",
    "    \n",
    "    # Position of As, relative to the reference\n",
    "    modScores = {i:[] for i in modPositions}\n",
    "    \n",
    "    for pos in range(len(refSeq)):\n",
    "        if pos % 500 ==0:\n",
    "            print('Predicting at position:', pos)\n",
    "        \n",
    "        # 1. Fetch sequences with kmer window size, this step is optional\n",
    "        # seq = refSeq[pos:pos+kmerWindow]\n",
    "        # 2. Fetch signals with signal window size \n",
    "        pos_sigLenList_start = int(sigLenList_init)+pos\n",
    "        print(pos_sigLenList_start)\n",
    "        pos_sigLenList_end = pos_sigLenList_start+1\n",
    "        if pos_sigLenList_start<0: \n",
    "            start=0\n",
    "        else:\n",
    "            start = int(siglenList[pos_sigLenList_start])\n",
    "        if len(sigList)-start< 400:\n",
    "            print('Reached the end of the signal.')\n",
    "            break\n",
    "        end = int(siglenList[pos_sigLenList_end])\n",
    "        # If no signals aligned to this position. E.g. chrII 429016 is missed is eventalign output.\n",
    "        if start == end:\n",
    "            # print('No signal captured at position: ', pos)\n",
    "            continue\n",
    "        signals = [float(s) for s in sigList[start:end+signalWindow]]\n",
    "        # 3. Get predicted probability score from machine learning model\n",
    "        prob = nntPredict(signals,device = device, model = model, weights_path = weights)\n",
    "        if len(signals) == 400:\n",
    "            print(start, end)\n",
    "            break\n",
    "        # 4. Assign predicted scores to each modPosition\n",
    "        # modifiable positions [1,3,4,5,7,10,15,16,21,40]\n",
    "        # kmer position is 2: [2:2+22]\n",
    "        # modbase_left = 0\n",
    "        # modbase_right = 9\n",
    "        # modifiable position within kmer window [3,4,5,7,10,15,16,21]\n",
    "        modbase_left = bisect.bisect_left(modPositions, pos)\n",
    "        modbase_right = bisect.bisect_right(modPositions, pos+kmerWindow)\n",
    "        modbase_count = modbase_right - modbase_left\n",
    "        \n",
    "        for p in range(modbase_left, modbase_right):\n",
    "            modPosition = modPositions[p]\n",
    "            # 4.1 Tune signals based on position of A and A content:\n",
    "            if tune:\n",
    "                strand = strand\n",
    "                prob = model_scores(prob, modPosition, pos, modbase_count, strand)\n",
    "            modScores[modPosition].append(prob)\n",
    "    \n",
    "    scores = []\n",
    "    for mod in modScores:\n",
    "        score = aggregate_scors(modScores[mod], method = method)\n",
    "        scores .append(score)\n",
    "    return scores"
   ]
  },
  {
   "cell_type": "code",
   "execution_count": 45,
   "id": "0c2eb576",
   "metadata": {},
   "outputs": [],
   "source": [
    "# chrXVI:66000-67550\n",
    "chrom = 'chrXVI'\n",
    "pStart = 66000\n",
    "pEnd = 67550\n",
    "modbase = 'A'"
   ]
  },
  {
   "cell_type": "code",
   "execution_count": 18,
   "id": "17fcde2a",
   "metadata": {},
   "outputs": [],
   "source": [
    "genome = '/private/groups/brookslab/gabai/projects/Add-seq/data/ref/sacCer3.fa'\n",
    "chrom_bam = '/private/groups/brookslab/gabai/projects/Add-seq/data/chrom/mapping/all_read.bam'\n",
    "pos_bam = '/private/groups/brookslab/gabai/projects/Add-seq/data/ctrl/mapping/unique.500.pass.sorted.bam'\n",
    "neg_bam = '/private/groups/brookslab/gabai/projects/Add-seq/data/ctrl/mapping/unique.0.pass.sorted.bam'\n",
    "chrom_evt = '/private/groups/brookslab/gabai/projects/Add-seq/data/chrom/eventalign/all_read.eventalign.txt'\n",
    "pos_evt = '/private/groups/brookslab/gabai/projects/Add-seq/data/ctrl/eventalign/unique.500.eventalign.tsv'\n",
    "neg_evt = '/private/groups/brookslab/gabai/projects/Add-seq/data/ctrl/eventalign/unique.0.eventalign.tsv'\n",
    "sigAlign_output = '/private/groups/brookslab/gabai/projects/Add-seq/data/chrom/modPredict/231019_CLN2_chrom_meanScore_medianPos_chrXVI:66000-67550siganlAlign.tsv'"
   ]
  },
  {
   "cell_type": "code",
   "execution_count": 55,
   "id": "7e9e8382",
   "metadata": {},
   "outputs": [],
   "source": [
    "alignment = getAlignedReads(sam = chrom_bam, region = 'chrXVI:66000-67550', genome=genome, \n",
    "                            print_name=False, print_quer = False, print_align=False)\n",
    "refSeq = alignment['ref']\n",
    "modPositions = basePos(refSeq, base = modbase)\n",
    "method = 'median'\n",
    "\n",
    "models = {\n",
    "    'resnet1D':resnet1D\n",
    "}\n",
    "mymodel = models['resnet1D']\n",
    "myweights =  '/private/groups/brookslab/gabai/tools/seqUtils/src/nanopore_classification/best_models/addseq_resnet1d.pt'"
   ]
  },
  {
   "cell_type": "code",
   "execution_count": 22,
   "id": "cb40e536",
   "metadata": {},
   "outputs": [],
   "source": [
    "modScore_outF = open('../data/chrom/modPredict/test_298e1adf-29ad-49fb-a560-30dc63c83e2f_modScore.tsv', 'w')"
   ]
  },
  {
   "cell_type": "code",
   "execution_count": 29,
   "id": "7207570c",
   "metadata": {},
   "outputs": [
    {
     "name": "stdout",
     "output_type": "stream",
     "text": [
      "Start processing  298e1adf-29ad-49fb-a560-30dc63c83e2f\n",
      "20247\n",
      "Predicting at position: 0\n",
      "20247\n"
     ]
    },
    {
     "ename": "IndexError",
     "evalue": "list index out of range",
     "output_type": "error",
     "traceback": [
      "\u001b[0;31m---------------------------------------------------------------------------\u001b[0m",
      "\u001b[0;31mIndexError\u001b[0m                                Traceback (most recent call last)",
      "Cell \u001b[0;32mIn[29], line 9\u001b[0m\n\u001b[1;32m      7\u001b[0m sigLenList_init \u001b[38;5;241m=\u001b[39m pStart\u001b[38;5;241m-\u001b[39meventStart\u001b[38;5;241m-\u001b[39m\u001b[38;5;241m1\u001b[39m\n\u001b[1;32m      8\u001b[0m \u001b[38;5;28mprint\u001b[39m(sigLenList_init)\n\u001b[0;32m----> 9\u001b[0m scores \u001b[38;5;241m=\u001b[39m \u001b[43massign_scores\u001b[49m\u001b[43m(\u001b[49m\u001b[43mstrand\u001b[49m\u001b[38;5;241;43m=\u001b[39;49m\u001b[43mstrand\u001b[49m\u001b[43m,\u001b[49m\u001b[43m \u001b[49m\n\u001b[1;32m     10\u001b[0m \u001b[43m                       \u001b[49m\u001b[43mrefSeq\u001b[49m\u001b[43m \u001b[49m\u001b[38;5;241;43m=\u001b[39;49m\u001b[43m \u001b[49m\u001b[43mrefSeq\u001b[49m\u001b[43m,\u001b[49m\u001b[43m \u001b[49m\n\u001b[1;32m     11\u001b[0m \u001b[43m                       \u001b[49m\u001b[43mmodPositions\u001b[49m\u001b[38;5;241;43m=\u001b[39;49m\u001b[43mmodPositions\u001b[49m\u001b[43m,\u001b[49m\n\u001b[1;32m     12\u001b[0m \u001b[43m                       \u001b[49m\u001b[43msigList\u001b[49m\u001b[38;5;241;43m=\u001b[39;49m\u001b[43msigList\u001b[49m\u001b[43m,\u001b[49m\u001b[43m \u001b[49m\n\u001b[1;32m     13\u001b[0m \u001b[43m                       \u001b[49m\u001b[43msiglenList\u001b[49m\u001b[38;5;241;43m=\u001b[39;49m\u001b[43msiglenList\u001b[49m\u001b[43m,\u001b[49m\u001b[43m \u001b[49m\n\u001b[1;32m     14\u001b[0m \u001b[43m                       \u001b[49m\u001b[43msigLenList_init\u001b[49m\u001b[38;5;241;43m=\u001b[39;49m\u001b[43msigLenList_init\u001b[49m\u001b[43m,\u001b[49m\u001b[43m \u001b[49m\n\u001b[1;32m     15\u001b[0m \u001b[43m                       \u001b[49m\u001b[43mmodel\u001b[49m\u001b[38;5;241;43m=\u001b[39;49m\u001b[43m \u001b[49m\u001b[43mmymodel\u001b[49m\u001b[43m,\u001b[49m\u001b[43m \u001b[49m\u001b[43mweights\u001b[49m\u001b[43m \u001b[49m\u001b[38;5;241;43m=\u001b[39;49m\u001b[43m \u001b[49m\u001b[43mmyweights\u001b[49m\u001b[43m,\u001b[49m\u001b[43m \u001b[49m\n\u001b[1;32m     16\u001b[0m \u001b[43m                       \u001b[49m\u001b[43mdevice\u001b[49m\u001b[43m \u001b[49m\u001b[38;5;241;43m=\u001b[39;49m\u001b[43m \u001b[49m\u001b[43mdevice\u001b[49m\u001b[43m,\u001b[49m\u001b[43m \u001b[49m\u001b[43mtune\u001b[49m\u001b[38;5;241;43m=\u001b[39;49m\u001b[38;5;28;43;01mFalse\u001b[39;49;00m\u001b[43m,\u001b[49m\u001b[43m \u001b[49m\u001b[43mmethod\u001b[49m\u001b[43m \u001b[49m\u001b[38;5;241;43m=\u001b[39;49m\u001b[43m \u001b[49m\u001b[43mmethod\u001b[49m\u001b[43m)\u001b[49m\n\u001b[1;32m     18\u001b[0m probs \u001b[38;5;241m=\u001b[39m \u001b[38;5;124m'\u001b[39m\u001b[38;5;124m,\u001b[39m\u001b[38;5;124m'\u001b[39m\u001b[38;5;241m.\u001b[39mjoin(\u001b[38;5;28mstr\u001b[39m(i) \u001b[38;5;28;01mfor\u001b[39;00m i \u001b[38;5;129;01min\u001b[39;00m scores)\n\u001b[1;32m     19\u001b[0m out \u001b[38;5;241m=\u001b[39m \u001b[38;5;124m'\u001b[39m\u001b[38;5;132;01m{readID}\u001b[39;00m\u001b[38;5;130;01m\\t\u001b[39;00m\u001b[38;5;132;01m{chrom}\u001b[39;00m\u001b[38;5;130;01m\\t\u001b[39;00m\u001b[38;5;132;01m{pStart}\u001b[39;00m\u001b[38;5;130;01m\\t\u001b[39;00m\u001b[38;5;132;01m{pEnd}\u001b[39;00m\u001b[38;5;130;01m\\t\u001b[39;00m\u001b[38;5;132;01m{probs}\u001b[39;00m\u001b[38;5;130;01m\\n\u001b[39;00m\u001b[38;5;124m'\u001b[39m\u001b[38;5;241m.\u001b[39mformat(readID\u001b[38;5;241m=\u001b[39mreadID, chrom \u001b[38;5;241m=\u001b[39m chrom, pStart\u001b[38;5;241m=\u001b[39mpStart, pEnd\u001b[38;5;241m=\u001b[39mpEnd, probs\u001b[38;5;241m=\u001b[39mprobs)\n",
      "Cell \u001b[0;32mIn[27], line 20\u001b[0m, in \u001b[0;36massign_scores\u001b[0;34m(strand, refSeq, modPositions, sigList, siglenList, sigLenList_init, weights, model, device, tune, method, kmerWindow, signalWindow)\u001b[0m\n\u001b[1;32m     18\u001b[0m     start\u001b[38;5;241m=\u001b[39m\u001b[38;5;241m0\u001b[39m\n\u001b[1;32m     19\u001b[0m \u001b[38;5;28;01melse\u001b[39;00m:\n\u001b[0;32m---> 20\u001b[0m     start \u001b[38;5;241m=\u001b[39m \u001b[38;5;28mint\u001b[39m(\u001b[43msiglenList\u001b[49m\u001b[43m[\u001b[49m\u001b[43mpos_sigLenList_start\u001b[49m\u001b[43m]\u001b[49m)\n\u001b[1;32m     21\u001b[0m \u001b[38;5;28;01mif\u001b[39;00m \u001b[38;5;28mlen\u001b[39m(sigList)\u001b[38;5;241m-\u001b[39mstart\u001b[38;5;241m<\u001b[39m \u001b[38;5;241m400\u001b[39m:\n\u001b[1;32m     22\u001b[0m     \u001b[38;5;28mprint\u001b[39m(\u001b[38;5;124m'\u001b[39m\u001b[38;5;124mReached the end of the signal.\u001b[39m\u001b[38;5;124m'\u001b[39m)\n",
      "\u001b[0;31mIndexError\u001b[0m: list index out of range"
     ]
    }
   ],
   "source": [
    "for readID, eventStart, sigList, siglenList in parseSigAlign(sigAlign=sigAlign_output):\n",
    "    if readID != '298e1adf-29ad-49fb-a560-30dc63c83e2f':\n",
    "        continue\n",
    "    start_time = time.time()\n",
    "    print('Start processing ', readID)\n",
    "    strand = alignment[readID][1]\n",
    "    sigLenList_init = pStart-eventStart-1\n",
    "    print(sigLenList_init)\n",
    "    scores = assign_scores(strand=strand, \n",
    "                           refSeq = refSeq, \n",
    "                           modPositions=modPositions,\n",
    "                           sigList=sigList, \n",
    "                           siglenList=siglenList, \n",
    "                           sigLenList_init=sigLenList_init, \n",
    "                           model= mymodel, weights = myweights, \n",
    "                           device = device, tune=False, method = method)\n",
    "    \n",
    "    probs = ','.join(str(i) for i in scores)\n",
    "    out = '{readID}\\t{chrom}\\t{pStart}\\t{pEnd}\\t{probs}\\n'.format(readID=readID, chrom = chrom, pStart=pStart, pEnd=pEnd, probs=probs)\n",
    "    modScore_outF.write(out)\n",
    "\n",
    "    end_time = time.time()\n",
    "    print('Processed read ', readID, ' in ', end_time - start_time, 's')\n",
    "    print('Output signalAlign file saved in:\\n', modScore_output)\n",
    "modScore_outF.close()\n",
    "total_time = time.time() - initial_time\n",
    "print('Finished all analysis in ', total_time, 's.')"
   ]
  },
  {
   "cell_type": "code",
   "execution_count": 31,
   "id": "3ba470ed",
   "metadata": {},
   "outputs": [
    {
     "data": {
      "text/plain": [
       "10737"
      ]
     },
     "execution_count": 31,
     "metadata": {},
     "output_type": "execute_result"
    }
   ],
   "source": [
    "len(siglenList)"
   ]
  }
 ],
 "metadata": {
  "kernelspec": {
   "display_name": "Python 3 (ipykernel)",
   "language": "python",
   "name": "python3"
  },
  "language_info": {
   "codemirror_mode": {
    "name": "ipython",
    "version": 3
   },
   "file_extension": ".py",
   "mimetype": "text/x-python",
   "name": "python",
   "nbconvert_exporter": "python",
   "pygments_lexer": "ipython3",
   "version": "3.9.15"
  }
 },
 "nbformat": 4,
 "nbformat_minor": 5
}
