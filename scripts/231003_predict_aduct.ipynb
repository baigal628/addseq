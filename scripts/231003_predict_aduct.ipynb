{
 "cells": [
  {
   "cell_type": "code",
   "execution_count": 1,
   "id": "628e5a77",
   "metadata": {},
   "outputs": [],
   "source": [
    "import sys\n",
    "sys.path.insert(0, '/private/groups/brookslab/gabai/tools/seqUtils/src/')\n",
    "import time\n",
    "from seqUtil import *\n",
    "from bamUtil import *\n",
    "from nanoUtil import *\n",
    "from nntUtil import *\n",
    "from modPredict import *\n",
    "import matplotlib.pyplot as plt\n",
    "import seaborn as sns\n",
    "sns.set(style=\"whitegrid\")"
   ]
  },
  {
   "cell_type": "code",
   "execution_count": 12,
   "id": "18790e7d",
   "metadata": {},
   "outputs": [],
   "source": [
    "pos_bam = '/private/groups/brookslab/gabai/projects/Add-seq/data/ctrl/mapping/unique.500.pass.sorted.bam'\n",
    "neg_bam = '/private/groups/brookslab/gabai/projects/Add-seq/data/ctrl/mapping/unique.0.pass.sorted.bam'\n",
    "ref = '/private/groups/brookslab/gabai/projects/Add-seq/data/ref/sacCer3.fa'\n",
    "pos_evt = '/private/groups/brookslab/gabai/projects/Add-seq/data/ctrl/eventalign/unique.500.eventalign.tsv'\n",
    "neg_evt = '/private/groups/brookslab/gabai/projects/Add-seq/data/ctrl/eventalign/unique.0.eventalign.tsv'\n",
    "positions = randomPosition(n=2, genome = ref, windowSize=80)"
   ]
  },
  {
   "cell_type": "code",
   "execution_count": 13,
   "id": "8b3cb48c",
   "metadata": {},
   "outputs": [],
   "source": [
    "PHO5_pos_sigAlign= '/private/groups/brookslab/gabai/projects/Add-seq/data/ctrl/eventalign/PHO5_pos_chrII:429000-435000siganlAlign.tsv'\n",
    "PHO5_neg_sigAlign= '/private/groups/brookslab/gabai/projects/Add-seq/data/ctrl/eventalign/PHO5_neg_chrII:429000-435000siganlAlign.tsv'"
   ]
  },
  {
   "cell_type": "code",
   "execution_count": 28,
   "id": "9e321c38",
   "metadata": {},
   "outputs": [],
   "source": [
    "def modelScores(refSeq, sigList, siglenList, sigStart,\n",
    "                device, model, weights_path, outfile = '', \n",
    "                kmerWindow = 80, sigWindow = 400, modbase = ''):\n",
    "    \n",
    "    '''\n",
    "    position on reference genome aligns to sigLenList[sigStart] on signalList.\n",
    "    012345678\n",
    "    accGTCGAa \n",
    "    sigList = [00,01,02,03,04,05,..]\n",
    "    sigLenList = [12,32,51,71,96,26,136]\n",
    "    GTCGA (idx = 3)-> sigList[51:70+400] -> (sigLenList[idx-1], sigLenLists[idx]-1 + 400)\n",
    "    TCGAA (idx = 4)-> sigList[71:95+400] -> (sigLenList[idx-1], sigLenList[idx]-1 + 400)\n",
    "    '''\n",
    "\n",
    "    outFh = open(outfile, 'w')\n",
    "    \n",
    "    for pos in range(len(refSeq)):\n",
    "        seq = refSeq[pos:pos+kmerWindow]\n",
    "        \n",
    "        # Fetch list of signals that are aligned to seq\n",
    "        pStart_sigLenList = sigStart+pos-1\n",
    "        if pStart_sigLenList<0: \n",
    "            start=0\n",
    "        else:\n",
    "            start = int(siglenList[pStart_sigLenList])\n",
    "        end = int(siglenList[sigStart+pos])-1+400\n",
    "        signals = [float(s) for s in sigList[start:end]]\n",
    "        \n",
    "        freq = baseCount(seq=seq, base = modbase)/len(seq)\n",
    "        base_pos = basePos(seq, base = modbase)\n",
    "        modBasePos = ','.join([str(b) for b in base_pos])\n",
    "        \n",
    "        prob = nntPredict(signals,device = device, model = model, weights_path = weights_path)\n",
    "        if pos%500 == 0:\n",
    "            print('prob:', prob)\n",
    "            print('Predicitng modification at position: ', pos)\n",
    "        out = '{seq}\\t{prob}\\t{freq}\\t{base_pos}\\n'.format(seq = seq, prob = prob, freq = freq, base_pos = modBasePos)\n",
    "        outFh.write(out)\n",
    "    print('Writing output to outfile')\n",
    "    outFh.close()"
   ]
  },
  {
   "cell_type": "code",
   "execution_count": 4,
   "id": "a4485eda",
   "metadata": {},
   "outputs": [],
   "source": [
    "def tune_siganl(sigList, min_val=50, max_val=130):\n",
    "    new_sigList = [max(min_val, min(max_val, float(signal))) for signal in sigList]\n",
    "    return new_sigList"
   ]
  },
  {
   "cell_type": "code",
   "execution_count": 33,
   "id": "566618d8",
   "metadata": {},
   "outputs": [],
   "source": [
    "sigAlignF = PHO5_pos_sigAlign\n",
    "pStart = 429000\n",
    "pEnd = 435000\n",
    "prefix = '231005_PHO5_pos'"
   ]
  },
  {
   "cell_type": "code",
   "execution_count": 8,
   "id": "c4f32338",
   "metadata": {},
   "outputs": [],
   "source": [
    "alignment = getAlignedReads(sam = pos_bam, region = 'chrII:429000-435000', genome=ref, print_name=False)"
   ]
  },
  {
   "cell_type": "code",
   "execution_count": 6,
   "id": "495610bc",
   "metadata": {},
   "outputs": [],
   "source": [
    "rstrand = {r:s[1] for r, s in alignment.items()}"
   ]
  },
  {
   "cell_type": "code",
   "execution_count": 21,
   "id": "0ef3f098",
   "metadata": {},
   "outputs": [],
   "source": [
    "ADDSEQ_FN = '/private/groups/brookslab/gabai/tools/seqUtils/src/nanopore_classification/best_models/addseq_resnet1d.pt'\n",
    "outPath = '/private/groups/brookslab/gabai/projects/Add-seq/data/ctrl/eventalign/'\n",
    "myregion = 'chrII:429000-435000'\n",
    "myweights = '/private/groups/brookslab/gabai/tools/seqUtils/src/nanopore_classification/best_models/addseq_resnet1d.pt'"
   ]
  },
  {
   "cell_type": "code",
   "execution_count": null,
   "id": "135c8668",
   "metadata": {},
   "outputs": [
    {
     "name": "stdout",
     "output_type": "stream",
     "text": [
      "Making modification predictions on read:  a5ec334f-09d4-428c-9bbb-326aed5f8279\n",
      "prob: 0.4395545721054077\n",
      "Predicitng modification at position:  0\n",
      "prob: 0.4895962178707123\n",
      "Predicitng modification at position:  500\n",
      "prob: 0.37250691652297974\n",
      "Predicitng modification at position:  1000\n",
      "prob: 0.3945353329181671\n",
      "Predicitng modification at position:  1500\n",
      "prob: 0.47208234667778015\n",
      "Predicitng modification at position:  2000\n",
      "prob: 0.4961753785610199\n",
      "Predicitng modification at position:  2500\n",
      "prob: 0.4657871276140213\n",
      "Predicitng modification at position:  3000\n",
      "prob: 0.43315139412879944\n",
      "Predicitng modification at position:  3500\n",
      "prob: 0.461865097284317\n",
      "Predicitng modification at position:  4000\n",
      "prob: 0.4752632975578308\n",
      "Predicitng modification at position:  4500\n"
     ]
    }
   ],
   "source": [
    "for readID, sigList, siglenList, sigStart in parseSigAlign(sigAlign=sigAlignF, pStart=pStart, pEnd=pEnd):\n",
    "    print('Making modification predictions on read: ', readID)\n",
    "    sigList = tune_siganl(sigList)\n",
    "    mbase = 'A'\n",
    "    if rstrand[readID] == -1:\n",
    "        mbase = ntDict['T']\n",
    "    output_file = outPath + prefix + '_' + readID + '_' + myregion + 'modelScores.tsv'\n",
    "    modelScores(refSeq = alignment['ref'], sigList = sigList, siglenList = siglenList, sigStart=sigStart, outfile=output_file,\n",
    "                device = 'cpu', model = resnet1D, weights_path = myweights, modbase = mbase)"
   ]
  }
 ],
 "metadata": {
  "kernelspec": {
   "display_name": "Python 3 (ipykernel)",
   "language": "python",
   "name": "python3"
  },
  "language_info": {
   "codemirror_mode": {
    "name": "ipython",
    "version": 3
   },
   "file_extension": ".py",
   "mimetype": "text/x-python",
   "name": "python",
   "nbconvert_exporter": "python",
   "pygments_lexer": "ipython3",
   "version": "3.9.15"
  }
 },
 "nbformat": 4,
 "nbformat_minor": 5
}
