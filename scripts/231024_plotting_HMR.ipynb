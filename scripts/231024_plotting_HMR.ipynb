{
 "cells": [
  {
   "cell_type": "code",
   "execution_count": 1,
   "id": "b366334f",
   "metadata": {},
   "outputs": [],
   "source": [
    "import sys\n",
    "sys.path.insert(0, '/private/groups/brookslab/gabai/tools/seqUtils/src/')\n",
    "import time\n",
    "from plotUtil import *\n",
    "import numpy as np\n",
    "import matplotlib.pyplot as plt\n",
    "import matplotlib.patches as mplpatches"
   ]
  },
  {
   "cell_type": "code",
   "execution_count": 2,
   "id": "95b7dd01",
   "metadata": {},
   "outputs": [],
   "source": [
    "from sklearn.cluster import KMeans\n",
    "from sklearn.impute import SimpleImputer"
   ]
  },
  {
   "cell_type": "code",
   "execution_count": 3,
   "id": "187f3498",
   "metadata": {},
   "outputs": [],
   "source": [
    "gtfFile = '/private/groups/brookslab/gabai/projects/Add-seq/data/ref/Saccharomyces_cerevisiae.R64-1-1.109.gtf'\n",
    "chrom_HMR= '/private/groups/brookslab/gabai/projects/Add-seq/data/chrom/modPredict/231023_HMR_chrom_meanScore_medianPos_chrIII:290000-299000modScores.tsv'\n",
    "neg_HMR= '/private/groups/brookslab/gabai/projects/Add-seq/data/ctrl/modPredict/231023_HMR_neg_meanScore_medianPos_chrIII:290000-299000modScores.tsv'\n",
    "pos_HMR= '/private/groups/brookslab/gabai/projects/Add-seq/data/ctrl/modPredict/231023_HMR_pos_meanScore_medianPos_chrIII:290000-299000modScores.tsv'"
   ]
  },
  {
   "cell_type": "code",
   "execution_count": 4,
   "id": "3afd3c12",
   "metadata": {},
   "outputs": [],
   "source": [
    "chrom_CLN2= '/private/groups/brookslab/gabai/projects/Add-seq/data/chrom/modPredict/231019_CLN2_chrom_meanScore_medianPos_chrXVI:66000-67550modScores.tsv'\n",
    "neg_CLN2= '/private/groups/brookslab/gabai/projects/Add-seq/data/ctrl/modPredict/231019_CLN2_neg_meanScore_medianPos_chrXVI:66000-67550modScores.tsv'\n",
    "pos_CLN2= '/private/groups/brookslab/gabai/projects/Add-seq/data/ctrl/modPredict/231019_CLN2_pos_meanScore_medianPos_chrXVI:66000-67550modScores.tsv'"
   ]
  },
  {
   "cell_type": "code",
   "execution_count": 5,
   "id": "72aeb4f2",
   "metadata": {},
   "outputs": [],
   "source": [
    "chromPlot = 'chrIII'\n",
    "pStart = 290000\n",
    "pEnd = 299000"
   ]
  },
  {
   "cell_type": "code",
   "execution_count": 12,
   "id": "875bb3f0",
   "metadata": {},
   "outputs": [
    {
     "name": "stdout",
     "output_type": "stream",
     "text": [
      "plotting gene annotations...\n",
      "Reading modScore files...\n",
      "clustering reads...\n",
      "Imputing missing values...\n",
      "plotting modification track on + strand...\n",
      "clustering reads...\n",
      "Imputing missing values...\n",
      "plotting modification track on - strand...\n",
      "finished plotting file:  /private/groups/brookslab/gabai/projects/Add-seq/data/chrom/modPredict/231023_HMR_chrom_meanScore_medianPos_chrIII:290000-299000modScores.tsv\n",
      "Reading modScore files...\n",
      "clustering reads...\n",
      "Imputing missing values...\n",
      "plotting modification track on - strand...\n",
      "clustering reads...\n",
      "Imputing missing values...\n",
      "plotting modification track on + strand...\n",
      "finished plotting file:  /private/groups/brookslab/gabai/projects/Add-seq/data/ctrl/modPredict/231023_HMR_neg_meanScore_medianPos_chrIII:290000-299000modScores.tsv\n",
      "Reading modScore files...\n",
      "clustering reads...\n",
      "Imputing missing values...\n",
      "plotting modification track on - strand...\n",
      "finished plotting file:  /private/groups/brookslab/gabai/projects/Add-seq/data/ctrl/modPredict/231023_HMR_pos_meanScore_medianPos_chrIII:290000-299000modScores.tsv\n"
     ]
    },
    {
     "data": {
      "image/png": "[encoded data removed]",
      "text/plain": [
       "<Figure size 500x650 with 4 Axes>"
      ]
     },
     "metadata": {},
     "output_type": "display_data"
    }
   ],
   "source": [
    "figureWidth=5\n",
    "figureHeight=6.5\n",
    "panelWidth=4\n",
    "panelHeight=1.5\n",
    "\n",
    "plt.figure(figsize=(figureWidth,figureHeight))\n",
    "panel0 = plt.axes([0.5/figureWidth, 5.0/figureHeight, panelWidth/figureWidth, panelHeight/1.5/figureHeight])\n",
    "panel1 = plt.axes([0.5/figureWidth, 3.4/figureHeight, panelWidth/figureWidth, panelHeight/figureHeight])\n",
    "panel2 = plt.axes([0.5/figureWidth, 1.8/figureHeight, panelWidth/figureWidth, panelHeight/figureHeight])\n",
    "panel3 = plt.axes([0.5/figureWidth, 0.2/figureHeight, panelWidth/figureWidth, panelHeight/figureHeight])\n",
    "\n",
    "plotGtfTrack(plot=panel0, gtfFile=gtfFile, chromPlot=chromPlot, startPlot=pStart, endPlot=pEnd,\n",
    "            features = ['CDS', 'start_codon'], adjust_features = [0, 10])\n",
    "\n",
    "plotModTrack(plot=panel1, startPlot=pStart, endPlot=pEnd, threashold = 0.5,\n",
    "             modScores=chrom_HMR, label_strand = True,\n",
    "             cluster = True, n_clusters = 2, \n",
    "             outpath = '/private/groups/brookslab/gabai/projects/Add-seq/results/',\n",
    "             prefix = '231024_chrom_HMR', annot = 'chrom')\n",
    "\n",
    "plotModTrack(plot=panel2, startPlot=pStart, endPlot=pEnd, threashold = 0.5,\n",
    "             modScores=neg_HMR, \n",
    "             cluster = True, n_clusters = 2,\n",
    "             outpath = '/private/groups/brookslab/gabai/projects/Add-seq/results/',\n",
    "             prefix = '231024_neg_HMR', annot = 'neg')\n",
    "\n",
    "plotModTrack(plot=panel3, startPlot=pStart, endPlot=pEnd, threashold = 0.5,\n",
    "             modScores=pos_HMR,\n",
    "             outpath = '/private/groups/brookslab/gabai/projects/Add-seq/results/',\n",
    "             cluster = True, n_clusters = 1, prefix = '231024_pos_HMR', annot = 'pos')\n",
    "panel3.set_ylim(-1, 5)\n",
    "outFile = '/private/groups/brookslab/gabai/projects/Add-seq/results/figures/231024_HMR_meanScore_medianPos_chrIII:290000-299000modScores.png'\n",
    "plt.savefig(outFile, dpi = 1000)"
   ]
  }
 ],
 "metadata": {
  "kernelspec": {
   "display_name": "Python 3 (ipykernel)",
   "language": "python",
   "name": "python3"
  },
  "language_info": {
   "codemirror_mode": {
    "name": "ipython",
    "version": 3
   },
   "file_extension": ".py",
   "mimetype": "text/x-python",
   "name": "python",
   "nbconvert_exporter": "python",
   "pygments_lexer": "ipython3",
   "version": "3.9.15"
  }
 },
 "nbformat": 4,
 "nbformat_minor": 5
}
