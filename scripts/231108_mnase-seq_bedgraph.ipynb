{
 "cells": [
  {
   "cell_type": "code",
   "execution_count": 78,
   "id": "ad9dbc53-c162-4680-b69e-e8ee3ef46861",
   "metadata": {},
   "outputs": [],
   "source": [
    "import matplotlib.pyplot as plt\n",
    "import matplotlib.patches as mplpatches\n",
    "import numpy as np"
   ]
  },
  {
   "cell_type": "code",
   "execution_count": 138,
   "id": "2db7aeb9-f341-42ab-bc44-ec89d93ae6d0",
   "metadata": {},
   "outputs": [],
   "source": [
    "bedGraphHeader = {'track type':'bedGraph', \n",
    "              'name':'AUA1_0.65', \n",
    "              'description':'addseq',\n",
    "              'visibility':'', \n",
    "              'color':'r', \n",
    "              'altColor':'r', \n",
    "              'priority':'', \n",
    "              'autoScale':'off', \n",
    "              'alwaysZero':'off', \n",
    "              'gridDefault':'off', \n",
    "              'maxHeightPixels':'default', \n",
    "              'graphType':'bar',\n",
    "              'viewLimits':'upper',\n",
    "              'yLineMark':'',\n",
    "              'yLineOnOff':'on',\n",
    "              'windowingFunction':'mean',\n",
    "              'smoothingWindow':'on'\n",
    "             }"
   ]
  },
  {
   "cell_type": "code",
   "execution_count": 1,
   "id": "bda43c91-3210-4460-834d-afcb35eb11d0",
   "metadata": {},
   "outputs": [],
   "source": [
    "bdg = '../data/ref/chrXVI_sacCer3.bedgraph'"
   ]
  },
  {
   "cell_type": "code",
   "execution_count": 79,
   "id": "33412a3d-d4be-4d40-b998-7327a15796f5",
   "metadata": {},
   "outputs": [],
   "source": [
    "nuc_regions = {\n",
    "    'PHO5': 'chrII:429000-435000',\n",
    "    'CLN2': 'chrXVI:66000-67550',\n",
    "    'HMR': 'chrIII:290000-299000',\n",
    "    'AUA1': 'chrVI:114000-116000',\n",
    "    'EMW1': 'chrXIV:45000-50000',\n",
    "    'NRG2': 'chrII:370000-379000',\n",
    "    'RDN37': 'chrXII:450300-459300'}"
   ]
  },
  {
   "cell_type": "code",
   "execution_count": 165,
   "id": "1b195689-86c4-4c91-a02c-174d4907540a",
   "metadata": {},
   "outputs": [],
   "source": [
    "def exportBdgFromPredict(predictedScores, scaling_factor = 1):\n",
    "    binScores = []\n",
    "    binCounts = []\n",
    "    with open(predictedScores, 'r') as predScoresFh:\n",
    "        for line in predScoresFh:\n",
    "            line = line.strip().split('\\t')\n",
    "            binScores.append(line[1].split(','))\n",
    "            binCounts.append(line[2].split(','))\n",
    "    \n",
    "    binScores = np.array(binScores, dtype = int)\n",
    "    binCounts = np.array(binCounts, dtype = int)\n",
    "    normScores = np.sum(binScores, axis = 0)*scaling_factor/np.sum(binCounts, axis = 0)\n",
    "    \n",
    "    return normScores"
   ]
  },
  {
   "cell_type": "code",
   "execution_count": 166,
   "id": "04f6aa60-eb8e-46a7-9a32-b700ee91628a",
   "metadata": {},
   "outputs": [],
   "source": [
    "def writeBedGraph(header, scores, binSize, region, outfile, print_result = False):\n",
    "    \n",
    "    \n",
    "    reg = region.split(':')\n",
    "    chrom, pStart, pEnd = reg[0], int(reg[1].split('-')[0]), int(reg[1].split('-')[1])\n",
    "    bins = np.arange(pStart, pEnd, binSize) \n",
    "    \n",
    "    outFh = open(outfile, 'w')\n",
    "    \n",
    "    for k,v in bedGraphHeader.items():\n",
    "        if v:\n",
    "            line = k + '=' + v + ' '\n",
    "            outFh.write(line)\n",
    "    outFh.write('\\n')\n",
    "    i = 0\n",
    "    for chrStart in bins:\n",
    "        chrEnd = chrStart + binSize\n",
    "        score = \"%.3f\" % (scores[i])\n",
    "        line = '{chr}\\t{start}\\t{end}\\t{score}\\n'.format(chr = chrom, start = chrStart,  end = chrEnd, score = score)\n",
    "        if print_result:\n",
    "            print(line)\n",
    "        outFh.write(line)\n",
    "        i+=1\n",
    "    outFh.close()"
   ]
  },
  {
   "cell_type": "code",
   "execution_count": 168,
   "id": "27078601-7fd5-4b12-b7cb-9c636abc9409",
   "metadata": {},
   "outputs": [
    {
     "name": "stdout",
     "output_type": "stream",
     "text": [
      "chrVI\t114000\t114075\t0.128\n",
      "\n",
      "chrVI\t114075\t114150\t0.021\n",
      "\n",
      "chrVI\t114150\t114225\t0.191\n",
      "\n",
      "chrVI\t114225\t114300\t0.130\n",
      "\n",
      "chrVI\t114300\t114375\t0.261\n",
      "\n",
      "chrVI\t114375\t114450\t0.239\n",
      "\n",
      "chrVI\t114450\t114525\t0.065\n",
      "\n",
      "chrVI\t114525\t114600\t0.043\n",
      "\n",
      "chrVI\t114600\t114675\t0.087\n",
      "\n",
      "chrVI\t114675\t114750\t0.065\n",
      "\n",
      "chrVI\t114750\t114825\t0.217\n",
      "\n",
      "chrVI\t114825\t114900\t0.022\n",
      "\n",
      "chrVI\t114900\t114975\t0.109\n",
      "\n",
      "chrVI\t114975\t115050\t0.087\n",
      "\n",
      "chrVI\t115050\t115125\t0.065\n",
      "\n",
      "chrVI\t115125\t115200\t0.000\n",
      "\n",
      "chrVI\t115200\t115275\t0.065\n",
      "\n",
      "chrVI\t115275\t115350\t0.022\n",
      "\n",
      "chrVI\t115350\t115425\t0.043\n",
      "\n",
      "chrVI\t115425\t115500\t0.065\n",
      "\n",
      "chrVI\t115500\t115575\t0.065\n",
      "\n",
      "chrVI\t115575\t115650\t0.022\n",
      "\n",
      "chrVI\t115650\t115725\t0.022\n",
      "\n",
      "chrVI\t115725\t115800\t0.000\n",
      "\n",
      "chrVI\t115800\t115875\t0.196\n",
      "\n",
      "chrVI\t115875\t115950\t0.087\n",
      "\n",
      "chrVI\t115950\t116025\t0.022\n",
      "\n"
     ]
    }
   ],
   "source": [
    "normScores = exportBdgFromPredict(predictedScores = '../data/chrom/modPredict/231108_AUA1_chrom_0.65_predictedScores.tsv')\n",
    "bedGraphHeader['name'] = 'AUA1_0.65_scale1'\n",
    "writeBedGraph(bedGraphHeader, normScores, 75, region = nuc_regions['AUA1'],print_result=False,\n",
    "              outfile = '../data/chrom/modPredict/231108_AUA1_chrom_0.65_predictedScores.bedgraph')"
   ]
  },
  {
   "cell_type": "code",
   "execution_count": 170,
   "id": "aa419455-fa48-44ed-b4e6-175309833a66",
   "metadata": {},
   "outputs": [
    {
     "name": "stdout",
     "output_type": "stream",
     "text": [
      "chrVI\t114000\t114075\t0.596\n",
      "\n",
      "chrVI\t114075\t114150\t0.787\n",
      "\n",
      "chrVI\t114150\t114225\t0.362\n",
      "\n",
      "chrVI\t114225\t114300\t0.630\n",
      "\n",
      "chrVI\t114300\t114375\t0.370\n",
      "\n",
      "chrVI\t114375\t114450\t0.587\n",
      "\n",
      "chrVI\t114450\t114525\t0.739\n",
      "\n",
      "chrVI\t114525\t114600\t0.609\n",
      "\n",
      "chrVI\t114600\t114675\t0.674\n",
      "\n",
      "chrVI\t114675\t114750\t0.717\n",
      "\n",
      "chrVI\t114750\t114825\t0.478\n",
      "\n",
      "chrVI\t114825\t114900\t0.783\n",
      "\n",
      "chrVI\t114900\t114975\t0.717\n",
      "\n",
      "chrVI\t114975\t115050\t0.478\n",
      "\n",
      "chrVI\t115050\t115125\t0.652\n",
      "\n",
      "chrVI\t115125\t115200\t0.826\n",
      "\n",
      "chrVI\t115200\t115275\t0.739\n",
      "\n",
      "chrVI\t115275\t115350\t0.674\n",
      "\n",
      "chrVI\t115350\t115425\t0.543\n",
      "\n",
      "chrVI\t115425\t115500\t0.717\n",
      "\n",
      "chrVI\t115500\t115575\t0.674\n",
      "\n",
      "chrVI\t115575\t115650\t0.870\n",
      "\n",
      "chrVI\t115650\t115725\t0.826\n",
      "\n",
      "chrVI\t115725\t115800\t0.783\n",
      "\n",
      "chrVI\t115800\t115875\t0.522\n",
      "\n",
      "chrVI\t115875\t115950\t0.609\n",
      "\n",
      "chrVI\t115950\t116025\t0.652\n",
      "\n"
     ]
    }
   ],
   "source": [
    "normScores = exportBdgFromPredict('../data/chrom/modPredict/231108_AUA1_chrom_less_than_0.5_predictedScores.tsv')\n",
    "bedGraphHeader['name'] = 'AUA1_0.5'\n",
    "writeBedGraph(bedGraphHeader, normScores, 75, region = nuc_regions['AUA1'], print_result=True,\n",
    "              outfile = '../data/chrom/modPredict/231108_AUA1_chrom_less_than_0.5_predictedScores.bedgraph')"
   ]
  },
  {
   "cell_type": "code",
   "execution_count": 171,
   "id": "f70bdb96-1678-4bc4-a7c0-4fa0c9aea5de",
   "metadata": {},
   "outputs": [
    {
     "name": "stdout",
     "output_type": "stream",
     "text": [
      "chrXVI\t66000\t66075\t0.026\n",
      "\n",
      "chrXVI\t66075\t66150\t0.053\n",
      "\n",
      "chrXVI\t66150\t66225\t0.237\n",
      "\n",
      "chrXVI\t66225\t66300\t0.053\n",
      "\n",
      "chrXVI\t66300\t66375\t0.026\n",
      "\n",
      "chrXVI\t66375\t66450\t0.079\n",
      "\n",
      "chrXVI\t66450\t66525\t0.105\n",
      "\n",
      "chrXVI\t66525\t66600\t0.079\n",
      "\n",
      "chrXVI\t66600\t66675\t0.105\n",
      "\n",
      "chrXVI\t66675\t66750\t0.105\n",
      "\n",
      "chrXVI\t66750\t66825\t0.289\n",
      "\n",
      "chrXVI\t66825\t66900\t0.289\n",
      "\n",
      "chrXVI\t66900\t66975\t0.053\n",
      "\n",
      "chrXVI\t66975\t67050\t0.053\n",
      "\n",
      "chrXVI\t67050\t67125\t0.132\n",
      "\n",
      "chrXVI\t67125\t67200\t0.105\n",
      "\n",
      "chrXVI\t67200\t67275\t0.026\n",
      "\n",
      "chrXVI\t67275\t67350\t0.211\n",
      "\n",
      "chrXVI\t67350\t67425\t0.105\n",
      "\n",
      "chrXVI\t67425\t67500\t0.105\n",
      "\n",
      "chrXVI\t67500\t67575\t0.184\n",
      "\n"
     ]
    }
   ],
   "source": [
    "normScores = exportBdgFromPredict('../data/chrom/modPredict/231107_CLN2_chrom_0.60_predictedScores.tsv')\n",
    "bedGraphHeader['name'] = 'CLN2_0.6'\n",
    "writeBedGraph(bedGraphHeader, normScores, 75, region = nuc_regions['CLN2'], print_result=True,\n",
    "              outfile = '../data/chrom/modPredict/231108_CLN2_chrom_0.6_ndr.bedgraph')"
   ]
  },
  {
   "cell_type": "code",
   "execution_count": null,
   "id": "3f3aabc7-5a3e-4218-b628-b3b8359a3a42",
   "metadata": {},
   "outputs": [],
   "source": [
    "def callPeaks(bedgraph, outfile, binSize = 75)\n",
    "    \n",
    "    postoscore = {}\n",
    "    for line in open( '../data/chrom/modPredict/231108_AUA1_chrom_less_than_0.5_predictedScores.bedgraph', 'r'):\n",
    "        if 'track' in line:\n",
    "            continue\n",
    "        line = line.rstrip().split('\\t')\n",
    "        postoscore[int(line[1])] = float(line[3])\n",
    "\n",
    "    chrend = max(postoscore.keys()) + binSize\n",
    "    for i in range(0, chrend, 10):\n",
    "        windowscore = 0\n",
    "        for j in range(i, i+50, 10):\n",
    "            if j in postoscore: windowscore += postoscore[j]\n",
    "        if windowscore > 5:\n",
    "            out.write('chrX\\t' + str(i) + '\\t' + str(i+50) + '\\n')\n",
    "    out.close()"
   ]
  },
  {
   "cell_type": "code",
   "execution_count": 14,
   "id": "6520eeba-8f8f-4b7d-8e2d-2dd8cacd5988",
   "metadata": {},
   "outputs": [],
   "source": [
    "kmerSize = 75\n",
    "with open(bdg) as bdgFh:\n",
    "    bins = np.arange(pStart, pEnd, kmerSize)\n",
    "    binScores = {bin:0 for bin in bins}\n",
    "    binCounts = {bin:0 for bin in bins}\n",
    "    for line in bdgFh:\n",
    "        line = line.strip().split('\\t')\n",
    "        start = int(line[2])\n",
    "        if start < pStart:\n",
    "            continue\n",
    "        elif start > pEnd:\n",
    "            break\n",
    "        else:\n",
    "            score = float(line[3])/1000\n",
    "        idx = np.searchsorted(bins, start, side='right')\n",
    "        binScores[bins[idx-1]] +=score\n",
    "        binCounts[bins[idx-1]] +=1"
   ]
  },
  {
   "cell_type": "code",
   "execution_count": 121,
   "id": "e1b77357-1b3c-402c-b40b-6ca4be5b465c",
   "metadata": {},
   "outputs": [
    {
     "ename": "TypeError",
     "evalue": "writeBedGraph() got an unexpected keyword argument 'binScores'",
     "output_type": "error",
     "traceback": [
      "\u001b[0;31m---------------------------------------------------------------------------\u001b[0m",
      "\u001b[0;31mTypeError\u001b[0m                                 Traceback (most recent call last)",
      "Cell \u001b[0;32mIn[121], line 1\u001b[0m\n\u001b[0;32m----> 1\u001b[0m \u001b[43mwriteBedGraph\u001b[49m\u001b[43m(\u001b[49m\u001b[43mbedGraphHeader\u001b[49m\u001b[43m \u001b[49m\u001b[38;5;241;43m=\u001b[39;49m\u001b[43m \u001b[49m\u001b[43mbedGraphHeader\u001b[49m\u001b[43m,\u001b[49m\u001b[43m \u001b[49m\u001b[43mbinScores\u001b[49m\u001b[43m  \u001b[49m\u001b[38;5;241;43m=\u001b[39;49m\u001b[43m \u001b[49m\u001b[43mbinScores\u001b[49m\u001b[43m,\u001b[49m\u001b[43m \u001b[49m\u001b[43mbinCounts\u001b[49m\u001b[43m \u001b[49m\u001b[38;5;241;43m=\u001b[39;49m\u001b[43m \u001b[49m\u001b[43mbinCounts\u001b[49m\u001b[43m,\u001b[49m\u001b[43m \u001b[49m\u001b[43mnormalize\u001b[49m\u001b[43m \u001b[49m\u001b[38;5;241;43m=\u001b[39;49m\u001b[43m \u001b[49m\u001b[38;5;28;43;01mTrue\u001b[39;49;00m\u001b[43m,\u001b[49m\n\u001b[1;32m      2\u001b[0m \u001b[43m              \u001b[49m\u001b[43mbinSize\u001b[49m\u001b[43m \u001b[49m\u001b[38;5;241;43m=\u001b[39;49m\u001b[38;5;241;43m75\u001b[39;49m\u001b[43m,\u001b[49m\u001b[43m \u001b[49m\u001b[43mchrom\u001b[49m\u001b[43m \u001b[49m\u001b[38;5;241;43m=\u001b[39;49m\u001b[43m \u001b[49m\u001b[43mchrom\u001b[49m\u001b[43m,\u001b[49m\u001b[43m \u001b[49m\u001b[43moutfile\u001b[49m\u001b[43m \u001b[49m\u001b[38;5;241;43m=\u001b[39;49m\u001b[43m \u001b[49m\u001b[38;5;124;43m'\u001b[39;49m\u001b[38;5;124;43m../data/chrom/modPredict/231108_AUA1_chrom_0.65_predictedScores.bedgraph\u001b[39;49m\u001b[38;5;124;43m'\u001b[39;49m\u001b[43m)\u001b[49m\n",
      "\u001b[0;31mTypeError\u001b[0m: writeBedGraph() got an unexpected keyword argument 'binScores'"
     ]
    }
   ],
   "source": [
    "writeBedGraph(bedGraphHeader = bedGraphHeader, binScores  = binScores, binCounts = binCounts, normalize = True,\n",
    "              binSize =75, chrom = chrom, )"
   ]
  },
  {
   "cell_type": "code",
   "execution_count": 21,
   "id": "299b32a5-c740-48e8-aab8-6846b3b7300d",
   "metadata": {},
   "outputs": [],
   "source": [
    "def writeBedGraph(bedGraphHeader, binScores, binCounts, binSize, chrom, outfile, normalize = True):\n",
    "    outFh = open(outfile, 'w')\n",
    "    for k,v in bedGraphHeader.items():\n",
    "        if v:\n",
    "            line = k + '=' + v + ' '\n",
    "            outFh.write(line)\n",
    "    outFh.write('\\n')\n",
    "    for chrStart in binScores.keys():\n",
    "        chrEnd = chrStart + binSize\n",
    "        if normalize:\n",
    "            score = \"%.3f\" % (binScores[chrStart]/binCounts[chrStart])\n",
    "        else:\n",
    "            score = \"%.3f\" % (binScores[chrStart])\n",
    "        line = '{chr}\\t{start}\\t{end}\\t{score}\\n'.format(chr = chrom, start = chrStart,  end = chrEnd, score = score)\n",
    "        print(line)\n",
    "        outFh.write(line)\n",
    "    outFh.close()\n",
    "\n",
    "bedGraphHeader = {'track type':'bedGraph', \n",
    "                  'name':'ground_trueth', \n",
    "                  'description':'addseq',\n",
    "                  'visibility':'', \n",
    "                  'color':'r', \n",
    "                  'altColor':'r', \n",
    "                  'priority':'', \n",
    "                  'autoScale':'off', \n",
    "                  'alwaysZero':'off', \n",
    "                  'gridDefault':'off', \n",
    "                  'maxHeightPixels':'default', \n",
    "                  'graphType':'bar',\n",
    "                  'viewLimits':'upper',\n",
    "                  'yLineMark':'',\n",
    "                  'yLineOnOff':'on',\n",
    "                  'windowingFunction':'mean',\n",
    "                  'smoothingWindow':'on'\n",
    "                 }"
   ]
  },
  {
   "cell_type": "code",
   "execution_count": 64,
   "id": "b9c259bd-5dcd-41aa-95ec-226c6d82873b",
   "metadata": {},
   "outputs": [],
   "source": [
    "gt_bdg = '../data/chrom/modPredict/231106_CLN2_groundtruth_normalized.bedgraph'"
   ]
  },
  {
   "cell_type": "code",
   "execution_count": 65,
   "id": "40627250-0179-4a9a-9ed2-b90d853934e3",
   "metadata": {},
   "outputs": [],
   "source": [
    "chrom_bdg = '../data/chrom/modPredict/231106_CLN2_binLevelPrediction.bedgraph'"
   ]
  },
  {
   "cell_type": "code",
   "execution_count": 70,
   "id": "248f9ba6-e3c8-4e01-99c5-f46d6117f1bf",
   "metadata": {
    "scrolled": true
   },
   "outputs": [],
   "source": [
    "gt = []\n",
    "chrom = []\n",
    "with open(gt_bdg) as gt_bdgFh:\n",
    "    header = gt_bdgFh.readlines(1)\n",
    "    for line in gt_bdgFh:\n",
    "        line = line.strip().split('\\t')\n",
    "        gt.append(float(line[3]))\n",
    "\n",
    "with open(chrom_bdg) as bdgFh:\n",
    "    header = bdgFh.readlines(1)\n",
    "    for line in bdgFh:\n",
    "        line = line.strip().split('\\t')\n",
    "        chrom.append(float(line[3]))"
   ]
  },
  {
   "cell_type": "code",
   "execution_count": 74,
   "id": "7d3ca72f-a83b-4b01-b194-faf02bf1e044",
   "metadata": {},
   "outputs": [
    {
     "data": {
      "text/plain": [
       "<matplotlib.collections.PathCollection at 0x7f8a1ec19a00>"
      ]
     },
     "execution_count": 74,
     "metadata": {},
     "output_type": "execute_result"
    },
    {
     "data": {
      "image/png": "[encoded data removed]",
      "text/plain": [
       "<Figure size 640x480 with 1 Axes>"
      ]
     },
     "metadata": {},
     "output_type": "display_data"
    }
   ],
   "source": [
    "plt.scatter(x = chrom, y = gt)"
   ]
  },
  {
   "cell_type": "code",
   "execution_count": 73,
   "id": "35fcf27b-d98e-4f2c-9f16-d79c74bed6a6",
   "metadata": {},
   "outputs": [
    {
     "data": {
      "text/plain": [
       "PearsonRResult(statistic=0.04180975316140634, pvalue=0.8571978175928101)"
      ]
     },
     "execution_count": 73,
     "metadata": {},
     "output_type": "execute_result"
    }
   ],
   "source": [
    "from scipy.stats import pearsonr\n",
    "\n",
    "pearsonr(gt, chrom)"
   ]
  }
 ],
 "metadata": {
  "kernelspec": {
   "display_name": "Python 3 (ipykernel)",
   "language": "python",
   "name": "python3"
  },
  "language_info": {
   "codemirror_mode": {
    "name": "ipython",
    "version": 3
   },
   "file_extension": ".py",
   "mimetype": "text/x-python",
   "name": "python",
   "nbconvert_exporter": "python",
   "pygments_lexer": "ipython3",
   "version": "3.9.18"
  }
 },
 "nbformat": 4,
 "nbformat_minor": 5
}
