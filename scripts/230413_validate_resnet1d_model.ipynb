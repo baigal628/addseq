{
 "cells": [
  {
   "cell_type": "code",
   "execution_count": 3,
   "id": "1aa63c9c",
   "metadata": {},
   "outputs": [],
   "source": [
    "import matplotlib.pyplot as plt\n",
    "%matplotlib inline\n",
    "import numpy as np\n",
    "import torch\n",
    "from torch.utils.data import DataLoader\n",
    "from torchsummary import summary\n",
    "from tqdm import tqdm\n",
    "from nanopore_dataset import create_sample_map\n",
    "from nanopore_dataset import create_splits\n",
    "from nanopore_dataset import load_csv\n",
    "from nanopore_dataset import NanoporeDataset\n",
    "\n",
    "from resnet1d import ResNet1D\n",
    "import seaborn as sns"
   ]
  },
  {
   "cell_type": "code",
   "execution_count": 4,
   "id": "6fd7ea11",
   "metadata": {},
   "outputs": [],
   "source": [
    "device = \"cuda\" if torch.cuda.is_available() else \"mps\" if torch.backends.mps.is_available() else \"cpu\""
   ]
  },
  {
   "cell_type": "code",
   "execution_count": 5,
   "id": "913d85a3",
   "metadata": {
    "scrolled": true
   },
   "outputs": [
    {
     "name": "stdout",
     "output_type": "stream",
     "text": [
      "----------------------------------------------------------------\n",
      "        Layer (type)               Output Shape         Param #\n",
      "================================================================\n",
      "            Conv1d-1             [-1, 128, 400]             512\n",
      "   MyConv1dPadSame-2             [-1, 128, 400]               0\n",
      "       BatchNorm1d-3             [-1, 128, 400]             256\n",
      "              ReLU-4             [-1, 128, 400]               0\n",
      "            Conv1d-5             [-1, 128, 400]          49,280\n",
      "   MyConv1dPadSame-6             [-1, 128, 400]               0\n",
      "       BatchNorm1d-7             [-1, 128, 400]             256\n",
      "              ReLU-8             [-1, 128, 400]               0\n",
      "            Conv1d-9             [-1, 128, 400]          49,280\n",
      "  MyConv1dPadSame-10             [-1, 128, 400]               0\n",
      "       BasicBlock-11             [-1, 128, 400]               0\n",
      "      BatchNorm1d-12             [-1, 128, 400]             256\n",
      "             ReLU-13             [-1, 128, 400]               0\n",
      "           Conv1d-14             [-1, 128, 200]          49,280\n",
      "  MyConv1dPadSame-15             [-1, 128, 200]               0\n",
      "      BatchNorm1d-16             [-1, 128, 200]             256\n",
      "             ReLU-17             [-1, 128, 200]               0\n",
      "           Conv1d-18             [-1, 128, 200]          49,280\n",
      "  MyConv1dPadSame-19             [-1, 128, 200]               0\n",
      "        MaxPool1d-20             [-1, 128, 200]               0\n",
      "MyMaxPool1dPadSame-21             [-1, 128, 200]               0\n",
      "       BasicBlock-22             [-1, 128, 200]               0\n",
      "      BatchNorm1d-23             [-1, 128, 200]             256\n",
      "             ReLU-24             [-1, 128, 200]               0\n",
      "           Conv1d-25             [-1, 128, 200]          49,280\n",
      "  MyConv1dPadSame-26             [-1, 128, 200]               0\n",
      "      BatchNorm1d-27             [-1, 128, 200]             256\n",
      "             ReLU-28             [-1, 128, 200]               0\n",
      "           Conv1d-29             [-1, 128, 200]          49,280\n",
      "  MyConv1dPadSame-30             [-1, 128, 200]               0\n",
      "       BasicBlock-31             [-1, 128, 200]               0\n",
      "      BatchNorm1d-32             [-1, 128, 200]             256\n",
      "             ReLU-33             [-1, 128, 200]               0\n",
      "           Conv1d-34             [-1, 128, 100]          49,280\n",
      "  MyConv1dPadSame-35             [-1, 128, 100]               0\n",
      "      BatchNorm1d-36             [-1, 128, 100]             256\n",
      "             ReLU-37             [-1, 128, 100]               0\n",
      "           Conv1d-38             [-1, 128, 100]          49,280\n",
      "  MyConv1dPadSame-39             [-1, 128, 100]               0\n",
      "        MaxPool1d-40             [-1, 128, 100]               0\n",
      "MyMaxPool1dPadSame-41             [-1, 128, 100]               0\n",
      "       BasicBlock-42             [-1, 128, 100]               0\n",
      "      BatchNorm1d-43             [-1, 128, 100]             256\n",
      "             ReLU-44             [-1, 128, 100]               0\n",
      "           Conv1d-45             [-1, 256, 100]          98,560\n",
      "  MyConv1dPadSame-46             [-1, 256, 100]               0\n",
      "      BatchNorm1d-47             [-1, 256, 100]             512\n",
      "             ReLU-48             [-1, 256, 100]               0\n",
      "           Conv1d-49             [-1, 256, 100]         196,864\n",
      "  MyConv1dPadSame-50             [-1, 256, 100]               0\n",
      "       BasicBlock-51             [-1, 256, 100]               0\n",
      "      BatchNorm1d-52             [-1, 256, 100]             512\n",
      "             ReLU-53             [-1, 256, 100]               0\n",
      "           Conv1d-54              [-1, 256, 50]         196,864\n",
      "  MyConv1dPadSame-55              [-1, 256, 50]               0\n",
      "      BatchNorm1d-56              [-1, 256, 50]             512\n",
      "             ReLU-57              [-1, 256, 50]               0\n",
      "           Conv1d-58              [-1, 256, 50]         196,864\n",
      "  MyConv1dPadSame-59              [-1, 256, 50]               0\n",
      "        MaxPool1d-60              [-1, 256, 50]               0\n",
      "MyMaxPool1dPadSame-61              [-1, 256, 50]               0\n",
      "       BasicBlock-62              [-1, 256, 50]               0\n",
      "      BatchNorm1d-63              [-1, 256, 50]             512\n",
      "             ReLU-64              [-1, 256, 50]               0\n",
      "           Conv1d-65              [-1, 256, 50]         196,864\n",
      "  MyConv1dPadSame-66              [-1, 256, 50]               0\n",
      "      BatchNorm1d-67              [-1, 256, 50]             512\n",
      "             ReLU-68              [-1, 256, 50]               0\n",
      "           Conv1d-69              [-1, 256, 50]         196,864\n",
      "  MyConv1dPadSame-70              [-1, 256, 50]               0\n",
      "       BasicBlock-71              [-1, 256, 50]               0\n",
      "      BatchNorm1d-72              [-1, 256, 50]             512\n",
      "             ReLU-73              [-1, 256, 50]               0\n",
      "           Conv1d-74              [-1, 256, 25]         196,864\n",
      "  MyConv1dPadSame-75              [-1, 256, 25]               0\n",
      "      BatchNorm1d-76              [-1, 256, 25]             512\n",
      "             ReLU-77              [-1, 256, 25]               0\n",
      "           Conv1d-78              [-1, 256, 25]         196,864\n",
      "  MyConv1dPadSame-79              [-1, 256, 25]               0\n",
      "        MaxPool1d-80              [-1, 256, 25]               0\n",
      "MyMaxPool1dPadSame-81              [-1, 256, 25]               0\n",
      "       BasicBlock-82              [-1, 256, 25]               0\n",
      "      BatchNorm1d-83              [-1, 256, 25]             512\n",
      "             ReLU-84              [-1, 256, 25]               0\n",
      "           Linear-85                    [-1, 1]             257\n",
      "================================================================\n",
      "Total params: 1,878,017\n",
      "Trainable params: 1,878,017\n",
      "Non-trainable params: 0\n",
      "----------------------------------------------------------------\n",
      "Input size (MB): 0.00\n",
      "Forward/backward pass size (MB): 14.31\n",
      "Params size (MB): 7.16\n",
      "Estimated Total Size (MB): 21.47\n",
      "----------------------------------------------------------------\n"
     ]
    }
   ],
   "source": [
    "model = ResNet1D(\n",
    "            in_channels=1,\n",
    "            base_filters=128,\n",
    "            kernel_size=3,\n",
    "            stride=2,\n",
    "            groups=1,\n",
    "            n_block=8,\n",
    "            n_classes=2,\n",
    "            downsample_gap=2,\n",
    "            increasefilter_gap=4,\n",
    "            use_do=False)\n",
    "\n",
    "summary(model, (1, 400), device= device)"
   ]
  },
  {
   "cell_type": "code",
   "execution_count": 6,
   "id": "1f01cc61",
   "metadata": {},
   "outputs": [
    {
     "data": {
      "text/plain": [
       "ResNet1D(\n",
       "  (first_block_conv): MyConv1dPadSame(\n",
       "    (conv): Conv1d(1, 128, kernel_size=(3,), stride=(1,))\n",
       "  )\n",
       "  (first_block_bn): BatchNorm1d(128, eps=1e-05, momentum=0.1, affine=True, track_running_stats=True)\n",
       "  (first_block_relu): ReLU()\n",
       "  (basicblock_list): ModuleList(\n",
       "    (0): BasicBlock(\n",
       "      (bn1): BatchNorm1d(128, eps=1e-05, momentum=0.1, affine=True, track_running_stats=True)\n",
       "      (relu1): ReLU()\n",
       "      (do1): Dropout(p=0.5, inplace=False)\n",
       "      (conv1): MyConv1dPadSame(\n",
       "        (conv): Conv1d(128, 128, kernel_size=(3,), stride=(1,))\n",
       "      )\n",
       "      (bn2): BatchNorm1d(128, eps=1e-05, momentum=0.1, affine=True, track_running_stats=True)\n",
       "      (relu2): ReLU()\n",
       "      (do2): Dropout(p=0.5, inplace=False)\n",
       "      (conv2): MyConv1dPadSame(\n",
       "        (conv): Conv1d(128, 128, kernel_size=(3,), stride=(1,))\n",
       "      )\n",
       "      (max_pool): MyMaxPool1dPadSame(\n",
       "        (max_pool): MaxPool1d(kernel_size=1, stride=1, padding=0, dilation=1, ceil_mode=False)\n",
       "      )\n",
       "    )\n",
       "    (1): BasicBlock(\n",
       "      (bn1): BatchNorm1d(128, eps=1e-05, momentum=0.1, affine=True, track_running_stats=True)\n",
       "      (relu1): ReLU()\n",
       "      (do1): Dropout(p=0.5, inplace=False)\n",
       "      (conv1): MyConv1dPadSame(\n",
       "        (conv): Conv1d(128, 128, kernel_size=(3,), stride=(2,))\n",
       "      )\n",
       "      (bn2): BatchNorm1d(128, eps=1e-05, momentum=0.1, affine=True, track_running_stats=True)\n",
       "      (relu2): ReLU()\n",
       "      (do2): Dropout(p=0.5, inplace=False)\n",
       "      (conv2): MyConv1dPadSame(\n",
       "        (conv): Conv1d(128, 128, kernel_size=(3,), stride=(1,))\n",
       "      )\n",
       "      (max_pool): MyMaxPool1dPadSame(\n",
       "        (max_pool): MaxPool1d(kernel_size=2, stride=2, padding=0, dilation=1, ceil_mode=False)\n",
       "      )\n",
       "    )\n",
       "    (2): BasicBlock(\n",
       "      (bn1): BatchNorm1d(128, eps=1e-05, momentum=0.1, affine=True, track_running_stats=True)\n",
       "      (relu1): ReLU()\n",
       "      (do1): Dropout(p=0.5, inplace=False)\n",
       "      (conv1): MyConv1dPadSame(\n",
       "        (conv): Conv1d(128, 128, kernel_size=(3,), stride=(1,))\n",
       "      )\n",
       "      (bn2): BatchNorm1d(128, eps=1e-05, momentum=0.1, affine=True, track_running_stats=True)\n",
       "      (relu2): ReLU()\n",
       "      (do2): Dropout(p=0.5, inplace=False)\n",
       "      (conv2): MyConv1dPadSame(\n",
       "        (conv): Conv1d(128, 128, kernel_size=(3,), stride=(1,))\n",
       "      )\n",
       "      (max_pool): MyMaxPool1dPadSame(\n",
       "        (max_pool): MaxPool1d(kernel_size=1, stride=1, padding=0, dilation=1, ceil_mode=False)\n",
       "      )\n",
       "    )\n",
       "    (3): BasicBlock(\n",
       "      (bn1): BatchNorm1d(128, eps=1e-05, momentum=0.1, affine=True, track_running_stats=True)\n",
       "      (relu1): ReLU()\n",
       "      (do1): Dropout(p=0.5, inplace=False)\n",
       "      (conv1): MyConv1dPadSame(\n",
       "        (conv): Conv1d(128, 128, kernel_size=(3,), stride=(2,))\n",
       "      )\n",
       "      (bn2): BatchNorm1d(128, eps=1e-05, momentum=0.1, affine=True, track_running_stats=True)\n",
       "      (relu2): ReLU()\n",
       "      (do2): Dropout(p=0.5, inplace=False)\n",
       "      (conv2): MyConv1dPadSame(\n",
       "        (conv): Conv1d(128, 128, kernel_size=(3,), stride=(1,))\n",
       "      )\n",
       "      (max_pool): MyMaxPool1dPadSame(\n",
       "        (max_pool): MaxPool1d(kernel_size=2, stride=2, padding=0, dilation=1, ceil_mode=False)\n",
       "      )\n",
       "    )\n",
       "    (4): BasicBlock(\n",
       "      (bn1): BatchNorm1d(128, eps=1e-05, momentum=0.1, affine=True, track_running_stats=True)\n",
       "      (relu1): ReLU()\n",
       "      (do1): Dropout(p=0.5, inplace=False)\n",
       "      (conv1): MyConv1dPadSame(\n",
       "        (conv): Conv1d(128, 256, kernel_size=(3,), stride=(1,))\n",
       "      )\n",
       "      (bn2): BatchNorm1d(256, eps=1e-05, momentum=0.1, affine=True, track_running_stats=True)\n",
       "      (relu2): ReLU()\n",
       "      (do2): Dropout(p=0.5, inplace=False)\n",
       "      (conv2): MyConv1dPadSame(\n",
       "        (conv): Conv1d(256, 256, kernel_size=(3,), stride=(1,))\n",
       "      )\n",
       "      (max_pool): MyMaxPool1dPadSame(\n",
       "        (max_pool): MaxPool1d(kernel_size=1, stride=1, padding=0, dilation=1, ceil_mode=False)\n",
       "      )\n",
       "    )\n",
       "    (5): BasicBlock(\n",
       "      (bn1): BatchNorm1d(256, eps=1e-05, momentum=0.1, affine=True, track_running_stats=True)\n",
       "      (relu1): ReLU()\n",
       "      (do1): Dropout(p=0.5, inplace=False)\n",
       "      (conv1): MyConv1dPadSame(\n",
       "        (conv): Conv1d(256, 256, kernel_size=(3,), stride=(2,))\n",
       "      )\n",
       "      (bn2): BatchNorm1d(256, eps=1e-05, momentum=0.1, affine=True, track_running_stats=True)\n",
       "      (relu2): ReLU()\n",
       "      (do2): Dropout(p=0.5, inplace=False)\n",
       "      (conv2): MyConv1dPadSame(\n",
       "        (conv): Conv1d(256, 256, kernel_size=(3,), stride=(1,))\n",
       "      )\n",
       "      (max_pool): MyMaxPool1dPadSame(\n",
       "        (max_pool): MaxPool1d(kernel_size=2, stride=2, padding=0, dilation=1, ceil_mode=False)\n",
       "      )\n",
       "    )\n",
       "    (6): BasicBlock(\n",
       "      (bn1): BatchNorm1d(256, eps=1e-05, momentum=0.1, affine=True, track_running_stats=True)\n",
       "      (relu1): ReLU()\n",
       "      (do1): Dropout(p=0.5, inplace=False)\n",
       "      (conv1): MyConv1dPadSame(\n",
       "        (conv): Conv1d(256, 256, kernel_size=(3,), stride=(1,))\n",
       "      )\n",
       "      (bn2): BatchNorm1d(256, eps=1e-05, momentum=0.1, affine=True, track_running_stats=True)\n",
       "      (relu2): ReLU()\n",
       "      (do2): Dropout(p=0.5, inplace=False)\n",
       "      (conv2): MyConv1dPadSame(\n",
       "        (conv): Conv1d(256, 256, kernel_size=(3,), stride=(1,))\n",
       "      )\n",
       "      (max_pool): MyMaxPool1dPadSame(\n",
       "        (max_pool): MaxPool1d(kernel_size=1, stride=1, padding=0, dilation=1, ceil_mode=False)\n",
       "      )\n",
       "    )\n",
       "    (7): BasicBlock(\n",
       "      (bn1): BatchNorm1d(256, eps=1e-05, momentum=0.1, affine=True, track_running_stats=True)\n",
       "      (relu1): ReLU()\n",
       "      (do1): Dropout(p=0.5, inplace=False)\n",
       "      (conv1): MyConv1dPadSame(\n",
       "        (conv): Conv1d(256, 256, kernel_size=(3,), stride=(2,))\n",
       "      )\n",
       "      (bn2): BatchNorm1d(256, eps=1e-05, momentum=0.1, affine=True, track_running_stats=True)\n",
       "      (relu2): ReLU()\n",
       "      (do2): Dropout(p=0.5, inplace=False)\n",
       "      (conv2): MyConv1dPadSame(\n",
       "        (conv): Conv1d(256, 256, kernel_size=(3,), stride=(1,))\n",
       "      )\n",
       "      (max_pool): MyMaxPool1dPadSame(\n",
       "        (max_pool): MaxPool1d(kernel_size=2, stride=2, padding=0, dilation=1, ceil_mode=False)\n",
       "      )\n",
       "    )\n",
       "  )\n",
       "  (final_bn): BatchNorm1d(256, eps=1e-05, momentum=0.1, affine=True, track_running_stats=True)\n",
       "  (final_relu): ReLU(inplace=True)\n",
       "  (dense): Linear(in_features=256, out_features=1, bias=True)\n",
       ")"
      ]
     },
     "execution_count": 6,
     "metadata": {},
     "output_type": "execute_result"
    }
   ],
   "source": [
    "MESMLR_FN = './nanopore_classification/best_models/mesmlr_resnet1d.pt'\n",
    "ADDSEQ_FN = './nanopore_classification/best_models/addseq_resnet1d.pt'\n",
    "\n",
    "weights_path = ADDSEQ_FN\n",
    "model.load_state_dict(torch.load(weights_path, map_location=torch.device(device)))\n",
    "model.to(device)\n",
    "model.eval()"
   ]
  },
  {
   "cell_type": "code",
   "execution_count": 9,
   "id": "13e37766",
   "metadata": {},
   "outputs": [],
   "source": [
    "neg_fn = '../data/data/addseq/reprocessed-unique.0.eventalign.signal.csv'\n",
    "pos_fn = '../data/data/addseq/reprocessed-unique.500.eventalign.signal.csv'"
   ]
  },
  {
   "cell_type": "code",
   "execution_count": 10,
   "id": "6469c427",
   "metadata": {},
   "outputs": [
    {
     "name": "stdout",
     "output_type": "stream",
     "text": [
      "Preparing unmodified...\n",
      "Loading csv...\n"
     ]
    },
    {
     "name": "stderr",
     "output_type": "stream",
     "text": [
      "87090426it [01:33, 927210.77it/s]\n"
     ]
    },
    {
     "name": "stdout",
     "output_type": "stream",
     "text": [
      "Creating sample map...\n"
     ]
    },
    {
     "name": "stderr",
     "output_type": "stream",
     "text": [
      "100%|█████████████████████████████████████████████████████████████████████████████████████████| 1318/1318 [01:31<00:00, 14.46it/s]\n"
     ]
    },
    {
     "name": "stdout",
     "output_type": "stream",
     "text": [
      "Creating splits...\n"
     ]
    },
    {
     "name": "stderr",
     "output_type": "stream",
     "text": [
      "100%|████████████████████████████████████████████████████████████████████████████████████| 1318/1318 [00:00<00:00, 1154572.40it/s]\n",
      "100%|████████████████████████████████████████████████████████████████████████████| 86107601/86107601 [00:32<00:00, 2609525.03it/s]\n"
     ]
    },
    {
     "name": "stdout",
     "output_type": "stream",
     "text": [
      "Prepared.\n",
      "Preparing modified...\n",
      "Loading csv...\n"
     ]
    },
    {
     "name": "stderr",
     "output_type": "stream",
     "text": [
      "89565238it [01:43, 862064.86it/s]\n"
     ]
    },
    {
     "name": "stdout",
     "output_type": "stream",
     "text": [
      "Creating sample map...\n"
     ]
    },
    {
     "name": "stderr",
     "output_type": "stream",
     "text": [
      "100%|█████████████████████████████████████████████████████████████████████████████████████████| 2390/2390 [01:44<00:00, 22.95it/s]\n"
     ]
    },
    {
     "name": "stdout",
     "output_type": "stream",
     "text": [
      "Creating splits...\n"
     ]
    },
    {
     "name": "stderr",
     "output_type": "stream",
     "text": [
      "100%|████████████████████████████████████████████████████████████████████████████████████| 2390/2390 [00:00<00:00, 1222486.17it/s]\n",
      "100%|████████████████████████████████████████████████████████████████████████████| 88556920/88556920 [00:32<00:00, 2747031.21it/s]"
     ]
    },
    {
     "name": "stdout",
     "output_type": "stream",
     "text": [
      "Prepared.\n"
     ]
    },
    {
     "name": "stderr",
     "output_type": "stream",
     "text": [
      "\n"
     ]
    }
   ],
   "source": [
    "min_val = 50 # Used to clip outliers\n",
    "max_val = 130 # Used to clip outliers\n",
    "\n",
    "seq_len = 400\n",
    "\n",
    "print(\"Preparing unmodified...\")\n",
    "print(\"Loading csv...\")\n",
    "unmodified_sequences = load_csv(neg_fn,\n",
    "                                min_val=min_val,\n",
    "                                max_val=max_val,\n",
    "                                max_sequences=None)\n",
    "print(\"Creating sample map...\")\n",
    "unmodified_sample_map = create_sample_map(unmodified_sequences,\n",
    "                                          seq_len=seq_len)\n",
    "\n",
    "print(\"Creating splits...\")\n",
    "unmodified_train, unmodified_val, unmodified_test = create_splits(\n",
    "        unmodified_sequences, unmodified_sample_map, seq_len=seq_len, shuffle=False)\n",
    "print(\"Prepared.\")\n",
    "\n",
    "print(\"Preparing modified...\")\n",
    "print(\"Loading csv...\")\n",
    "modified_sequences = load_csv(pos_fn,\n",
    "                              min_val=min_val,\n",
    "                              max_val=max_val,\n",
    "                              max_sequences=None)\n",
    "print(\"Creating sample map...\")\n",
    "modified_sample_map = create_sample_map(modified_sequences,\n",
    "                                        seq_len=seq_len)\n",
    "print(\"Creating splits...\")\n",
    "modified_train, modified_val, modified_test = create_splits(\n",
    "        modified_sequences, modified_sample_map, seq_len=seq_len, shuffle=False)\n",
    "print(\"Prepared.\")"
   ]
  },
  {
   "cell_type": "code",
   "execution_count": 66,
   "id": "d0c15a65",
   "metadata": {},
   "outputs": [],
   "source": [
    "batch_size = 5000\n",
    "val_dataset = NanoporeDataset(unmodified_sequences,\n",
    "                              unmodified_val,\n",
    "                              modified_sequences,\n",
    "                              modified_val,\n",
    "                              device=device,\n",
    "                              synthetic=False,\n",
    "                              seq_len=seq_len)\n",
    "\n",
    "val_dataloader = DataLoader(val_dataset,\n",
    "                            batch_size=batch_size,\n",
    "                            shuffle=False)"
   ]
  },
  {
   "cell_type": "code",
   "execution_count": null,
   "id": "fcdcd826",
   "metadata": {},
   "outputs": [
    {
     "name": "stderr",
     "output_type": "stream",
     "text": [
      "  8%|██████▌                                                                              | 530/6841 [1:47:24<21:57:02, 12.52s/it]"
     ]
    }
   ],
   "source": [
    "with torch.no_grad():\n",
    "    seq_preds = {}\n",
    "    dataloader_idx = 0\n",
    "    for samples, labels in tqdm(val_dataloader):\n",
    "        samples.to(device)\n",
    "        pred = model(samples).sigmoid()\n",
    "        for i in range(len(pred)):\n",
    "            seq_idx = val_dataset.get_seq_idx(dataloader_idx)\n",
    "            dataloader_idx += 1\n",
    "            seq_label = labels[i].item()\n",
    "            prediction = pred[i].item()\n",
    "            seq_id = (seq_label, seq_idx)\n",
    "            if seq_id not in seq_preds:\n",
    "                seq_preds[seq_id] = []\n",
    "            seq_preds[seq_id].append(pred[i].item())\n",
    "            if seq_label == 1.0:\n",
    "                pos_read.append(prediction)\n",
    "            else:\n",
    "                neg_read.append(prediction)"
   ]
  },
  {
   "cell_type": "code",
   "execution_count": 89,
   "id": "60ac73e7",
   "metadata": {},
   "outputs": [],
   "source": [
    "pos_read = []\n",
    "neg_read = []"
   ]
  },
  {
   "cell_type": "code",
   "execution_count": 90,
   "id": "8e3623d8",
   "metadata": {},
   "outputs": [],
   "source": [
    "for i in seq_preds.values():\n",
    "    for pred in i:\n",
    "        neg_read.append(pred)"
   ]
  },
  {
   "cell_type": "code",
   "execution_count": 91,
   "id": "a698a717",
   "metadata": {},
   "outputs": [
    {
     "data": {
      "text/plain": [
       "9075000"
      ]
     },
     "execution_count": 91,
     "metadata": {},
     "output_type": "execute_result"
    }
   ],
   "source": [
    "len(neg_read)"
   ]
  },
  {
   "cell_type": "code",
   "execution_count": 93,
   "id": "526d6719",
   "metadata": {},
   "outputs": [
    {
     "data": {
      "image/png": "[encoded data removed]",
      "text/plain": [
       "<Figure size 640x480 with 1 Axes>"
      ]
     },
     "metadata": {},
     "output_type": "display_data"
    }
   ],
   "source": [
    "sns.kdeplot(np.array(neg_read), label= 'neg')\n",
    "sns.kdeplot(np.array(pos_read), label= 'pos')\n",
    "plt.legend()\n",
    "plt.savefig('../results/figures/addseq_full_predicted_prob_distribution.pdf')"
   ]
  }
 ],
 "metadata": {
  "kernelspec": {
   "display_name": "Python 3 (ipykernel)",
   "language": "python",
   "name": "python3"
  },
  "language_info": {
   "codemirror_mode": {
    "name": "ipython",
    "version": 3
   },
   "file_extension": ".py",
   "mimetype": "text/x-python",
   "name": "python",
   "nbconvert_exporter": "python",
   "pygments_lexer": "ipython3",
   "version": "3.9.15"
  }
 },
 "nbformat": 4,
 "nbformat_minor": 5
}
