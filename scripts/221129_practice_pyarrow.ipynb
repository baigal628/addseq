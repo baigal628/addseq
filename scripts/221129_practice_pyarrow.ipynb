{
 "cells": [
  {
   "cell_type": "code",
   "execution_count": 2,
   "id": "709a1f2c",
   "metadata": {},
   "outputs": [],
   "source": [
    "import argparse\n",
    "from pyarrow import feather, Table"
   ]
  },
  {
   "cell_type": "code",
   "execution_count": 3,
   "id": "e5a849b5",
   "metadata": {},
   "outputs": [],
   "source": [
    "test_file = '../data/read_scores.arrow'"
   ]
  },
  {
   "cell_type": "code",
   "execution_count": 5,
   "id": "85a2474c",
   "metadata": {},
   "outputs": [],
   "source": [
    "table = feather.read_table(test_file)\n",
    "fdict = table.to_pydict()"
   ]
  },
  {
   "cell_type": "code",
   "execution_count": 19,
   "id": "8968de91",
   "metadata": {},
   "outputs": [
    {
     "data": {
      "text/plain": [
       "25"
      ]
     },
     "execution_count": 19,
     "metadata": {},
     "output_type": "execute_result"
    }
   ],
   "source": [
    "len(fdict['scored'][0]['scores'])"
   ]
  },
  {
   "cell_type": "code",
   "execution_count": null,
   "id": "daa14577",
   "metadata": {},
   "outputs": [],
   "source": []
  }
 ],
 "metadata": {
  "kernelspec": {
   "display_name": "Python 3 (ipykernel)",
   "language": "python",
   "name": "python3"
  },
  "language_info": {
   "codemirror_mode": {
    "name": "ipython",
    "version": 3
   },
   "file_extension": ".py",
   "mimetype": "text/x-python",
   "name": "python",
   "nbconvert_exporter": "python",
   "pygments_lexer": "ipython3",
   "version": "3.9.15"
  }
 },
 "nbformat": 4,
 "nbformat_minor": 5
}
