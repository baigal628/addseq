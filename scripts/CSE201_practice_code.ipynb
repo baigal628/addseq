{
 "cells": [
  {
   "cell_type": "code",
   "execution_count": 155,
   "id": "fb52535f-6cde-4208-b6a4-9fbfbc6703dd",
   "metadata": {},
   "outputs": [
    {
     "name": "stdout",
     "output_type": "stream",
     "text": [
      "Number of inversions are 3\n"
     ]
    }
   ],
   "source": [
    "import numpy as np\n",
    "\n",
    "def countInversion(A, p, r):\n",
    "    c = 0\n",
    "    if p<r:\n",
    "        q = int((p+r)/2)\n",
    "        c += countInversion(A,p,q)\n",
    "        c += countInversion(A,q+1,r)\n",
    "        c += mergeCountInversion(A,p,q,r)\n",
    "    return c\n",
    "\n",
    "\n",
    "def mergeCountInversion(A,p,q, r):\n",
    "    c = 0\n",
    "    n1 = q-p+1\n",
    "    n2 = r-q\n",
    "    L = np.zeros(n1, dtype = int)\n",
    "    R = np.zeros(n2, dtype = int)\n",
    "    for i in range(n1):\n",
    "        L[i] = A[p+i]\n",
    "    for j in range(n2):\n",
    "        R[j] = A[q+j+1]\n",
    "    i, j, k = 0, 0, p\n",
    "    \n",
    "    while i < len(L) and j < len(R):\n",
    "        if L[i] <= R[j]:\n",
    "            A[k] = L[i]\n",
    "            i+=1\n",
    "        else:\n",
    "            A[k] = R[j]\n",
    "            j+=1\n",
    "            c += (q-i+-p+1)\n",
    "        k+=1    \n",
    "    while i < len(L):\n",
    "        A[k] = L[i]\n",
    "        i += 1\n",
    "        k += 1\n",
    "\n",
    "    while j < len(R):\n",
    "        A[k] = R[j]\n",
    "        j += 1\n",
    "        k += 1\n",
    "    return c\n",
    "\n",
    "arr = [13,5,17,8]\n",
    "count = countInversion(arr, p=0, r = len(arr)-1)\n",
    "print(\"Number of inversions are\", count)"
   ]
  },
  {
   "cell_type": "code",
   "execution_count": 156,
   "id": "cd619f92-a9b1-4c35-960b-90fa0654645f",
   "metadata": {},
   "outputs": [
    {
     "data": {
      "text/plain": [
       "[]"
      ]
     },
     "execution_count": 156,
     "metadata": {},
     "output_type": "execute_result"
    }
   ],
   "source": [
    "[1,3,4][1:1]"
   ]
  }
 ],
 "metadata": {
  "kernelspec": {
   "display_name": "Python 3 (ipykernel)",
   "language": "python",
   "name": "python3"
  },
  "language_info": {
   "codemirror_mode": {
    "name": "ipython",
    "version": 3
   },
   "file_extension": ".py",
   "mimetype": "text/x-python",
   "name": "python",
   "nbconvert_exporter": "python",
   "pygments_lexer": "ipython3",
   "version": "3.9.18"
  }
 },
 "nbformat": 4,
 "nbformat_minor": 5
}
